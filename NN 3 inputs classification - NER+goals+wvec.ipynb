{
 "cells": [
  {
   "cell_type": "markdown",
   "metadata": {},
   "source": [
    "### модель классификации интентов на основе сущностей, целей и фраз "
   ]
  },
  {
   "cell_type": "markdown",
   "metadata": {},
   "source": [
    "Данильченко Вадим"
   ]
  },
  {
   "cell_type": "code",
   "execution_count": 4,
   "metadata": {},
   "outputs": [],
   "source": [
    "import pandas as pd\n",
    "from tqdm import trange, tqdm\n",
    "from sklearn.model_selection import train_test_split\n",
    "from keras.utils import to_categorical\n",
    "from keras.preprocessing.sequence import pad_sequences\n",
    "from keras.models import Sequential\n",
    "from keras.layers import TimeDistributed, Embedding, LSTM, Bidirectional, Dropout, Dense"
   ]
  },
  {
   "cell_type": "code",
   "execution_count": 217,
   "metadata": {},
   "outputs": [
    {
     "data": {
      "text/html": [
       "<div>\n",
       "<style scoped>\n",
       "    .dataframe tbody tr th:only-of-type {\n",
       "        vertical-align: middle;\n",
       "    }\n",
       "\n",
       "    .dataframe tbody tr th {\n",
       "        vertical-align: top;\n",
       "    }\n",
       "\n",
       "    .dataframe thead th {\n",
       "        text-align: right;\n",
       "    }\n",
       "</style>\n",
       "<table border=\"1\" class=\"dataframe\">\n",
       "  <thead>\n",
       "    <tr style=\"text-align: right;\">\n",
       "      <th></th>\n",
       "      <th>intent_id</th>\n",
       "      <th>goal</th>\n",
       "      <th>message</th>\n",
       "      <th>group</th>\n",
       "      <th>target_entities</th>\n",
       "      <th>new_entities</th>\n",
       "      <th>error</th>\n",
       "      <th>bad</th>\n",
       "    </tr>\n",
       "  </thead>\n",
       "  <tbody>\n",
       "    <tr>\n",
       "      <th>0</th>\n",
       "      <td>gi074</td>\n",
       "      <td>11</td>\n",
       "      <td>не знаю , как сменить данные паспорта . новые ...</td>\n",
       "      <td>Изменение персональных данных</td>\n",
       "      <td>O O B-QUESTION B-ACT B-DAT I-DAT B-FEAT_VAL B-...</td>\n",
       "      <td>NaN</td>\n",
       "      <td>NaN</td>\n",
       "      <td>NaN</td>\n",
       "    </tr>\n",
       "    <tr>\n",
       "      <th>1</th>\n",
       "      <td>gi081</td>\n",
       "      <td>44</td>\n",
       "      <td>есть ли среди партнеров по карте свобода компа...</td>\n",
       "      <td>Информация по продукту</td>\n",
       "      <td>O O O B-ROLE O B-PRODUCT I-PRODUCT O B-STATE_A...</td>\n",
       "      <td>NaN</td>\n",
       "      <td>NaN</td>\n",
       "      <td>NaN</td>\n",
       "    </tr>\n",
       "    <tr>\n",
       "      <th>2</th>\n",
       "      <td>gi144</td>\n",
       "      <td>7</td>\n",
       "      <td>сумму для полного досрочного погашения № 22770...</td>\n",
       "      <td>ПДП/ЧДП</td>\n",
       "      <td>B-FEAT O B-FEAT_VAL I-FEAT_VAL B-SITUATION B-R...</td>\n",
       "      <td>NaN</td>\n",
       "      <td>NaN</td>\n",
       "      <td>NaN</td>\n",
       "    </tr>\n",
       "    <tr>\n",
       "      <th>3</th>\n",
       "      <td>gi169</td>\n",
       "      <td>34;16;6</td>\n",
       "      <td>почему я не могу оплатить кредит ? что значит ...</td>\n",
       "      <td>Проблема с оплатой/счетом/поступлением платежа</td>\n",
       "      <td>B-QUESTION O O O B-ACT B-PRODUCT B-QUESTION O ...</td>\n",
       "      <td>NaN</td>\n",
       "      <td>NaN</td>\n",
       "      <td>NaN</td>\n",
       "    </tr>\n",
       "    <tr>\n",
       "      <th>4</th>\n",
       "      <td>gi377</td>\n",
       "      <td>27;7</td>\n",
       "      <td>куда я могу написать заявление претензию , жал...</td>\n",
       "      <td>Пообщаться с оператором</td>\n",
       "      <td>B-QUESTION O O O B-DOC B-FEEDBACK I-FEEDBACK O...</td>\n",
       "      <td>NaN</td>\n",
       "      <td>NaN</td>\n",
       "      <td>NaN</td>\n",
       "    </tr>\n",
       "  </tbody>\n",
       "</table>\n",
       "</div>"
      ],
      "text/plain": [
       "  intent_id     goal                                            message  \\\n",
       "0     gi074       11  не знаю , как сменить данные паспорта . новые ...   \n",
       "1     gi081       44  есть ли среди партнеров по карте свобода компа...   \n",
       "2     gi144        7  сумму для полного досрочного погашения № 22770...   \n",
       "3     gi169  34;16;6  почему я не могу оплатить кредит ? что значит ...   \n",
       "4     gi377     27;7  куда я могу написать заявление претензию , жал...   \n",
       "\n",
       "                                            group  \\\n",
       "0                   Изменение персональных данных   \n",
       "1                          Информация по продукту   \n",
       "2                                         ПДП/ЧДП   \n",
       "3  Проблема с оплатой/счетом/поступлением платежа   \n",
       "4                         Пообщаться с оператором   \n",
       "\n",
       "                                     target_entities  new_entities  error  bad  \n",
       "0  O O B-QUESTION B-ACT B-DAT I-DAT B-FEAT_VAL B-...           NaN    NaN  NaN  \n",
       "1  O O O B-ROLE O B-PRODUCT I-PRODUCT O B-STATE_A...           NaN    NaN  NaN  \n",
       "2  B-FEAT O B-FEAT_VAL I-FEAT_VAL B-SITUATION B-R...           NaN    NaN  NaN  \n",
       "3  B-QUESTION O O O B-ACT B-PRODUCT B-QUESTION O ...           NaN    NaN  NaN  \n",
       "4  B-QUESTION O O O B-DOC B-FEEDBACK I-FEEDBACK O...           NaN    NaN  NaN  "
      ]
     },
     "execution_count": 217,
     "metadata": {},
     "output_type": "execute_result"
    }
   ],
   "source": [
    "data = pd.read_excel('goal_ent_train.xlsx')\n",
    "data.head()"
   ]
  },
  {
   "cell_type": "code",
   "execution_count": 6,
   "metadata": {},
   "outputs": [
    {
     "data": {
      "text/html": [
       "<div>\n",
       "<style scoped>\n",
       "    .dataframe tbody tr th:only-of-type {\n",
       "        vertical-align: middle;\n",
       "    }\n",
       "\n",
       "    .dataframe tbody tr th {\n",
       "        vertical-align: top;\n",
       "    }\n",
       "\n",
       "    .dataframe thead th {\n",
       "        text-align: right;\n",
       "    }\n",
       "</style>\n",
       "<table border=\"1\" class=\"dataframe\">\n",
       "  <thead>\n",
       "    <tr style=\"text-align: right;\">\n",
       "      <th></th>\n",
       "      <th>номер</th>\n",
       "      <th>цель</th>\n",
       "    </tr>\n",
       "  </thead>\n",
       "  <tbody>\n",
       "    <tr>\n",
       "      <th>0</th>\n",
       "      <td>0</td>\n",
       "      <td>заблокировать</td>\n",
       "    </tr>\n",
       "    <tr>\n",
       "      <th>1</th>\n",
       "      <td>1</td>\n",
       "      <td>разблокировать</td>\n",
       "    </tr>\n",
       "    <tr>\n",
       "      <th>2</th>\n",
       "      <td>2</td>\n",
       "      <td>пополнить</td>\n",
       "    </tr>\n",
       "    <tr>\n",
       "      <th>3</th>\n",
       "      <td>3</td>\n",
       "      <td>аннулировать, отказаться</td>\n",
       "    </tr>\n",
       "    <tr>\n",
       "      <th>4</th>\n",
       "      <td>4</td>\n",
       "      <td>как избежать чего-либо</td>\n",
       "    </tr>\n",
       "  </tbody>\n",
       "</table>\n",
       "</div>"
      ],
      "text/plain": [
       "   номер                      цель\n",
       "0      0             заблокировать\n",
       "1      1            разблокировать\n",
       "2      2                 пополнить\n",
       "3      3  аннулировать, отказаться\n",
       "4      4    как избежать чего-либо"
      ]
     },
     "execution_count": 6,
     "metadata": {},
     "output_type": "execute_result"
    }
   ],
   "source": [
    "targets = pd.read_excel('цели.xlsx')\n",
    "targets.head()"
   ]
  },
  {
   "cell_type": "code",
   "execution_count": 7,
   "metadata": {},
   "outputs": [
    {
     "name": "stderr",
     "output_type": "stream",
     "text": [
      "100%|██████████████████████████████████████████████████████████████████████| 113324/113324 [00:01<00:00, 112878.33it/s]\n"
     ]
    },
    {
     "data": {
      "text/plain": [
       "['вышеуказанныи', 'петербурга', '501']"
      ]
     },
     "execution_count": 7,
     "metadata": {},
     "output_type": "execute_result"
    }
   ],
   "source": [
    "words = []\n",
    "for i in trange(data.shape[0]):\n",
    "    for j in data.loc[i, 'message'].split(' '):\n",
    "        words.append(j)\n",
    "words = list(set(words))\n",
    "words[:3]"
   ]
  },
  {
   "cell_type": "code",
   "execution_count": 8,
   "metadata": {},
   "outputs": [
    {
     "name": "stderr",
     "output_type": "stream",
     "text": [
      "19484it [00:00, 1354669.95it/s]\n"
     ]
    }
   ],
   "source": [
    "# создадим словари для слов предложения\n",
    "word2id = {}\n",
    "for k,v in tqdm(enumerate(words)):\n",
    "    if v not in word2id:\n",
    "        word2id[v] = k+2\n",
    "    \n",
    "# word2id = {v:k+2 for k,v in enumerate(words)}\n",
    "word2id['unk'] = 1\n",
    "\n",
    "id2word = {v:k for k,v in word2id.items()}"
   ]
  },
  {
   "cell_type": "code",
   "execution_count": 9,
   "metadata": {},
   "outputs": [
    {
     "name": "stderr",
     "output_type": "stream",
     "text": [
      "100%|██████████████████████████████████████████████████████████████████████| 113324/113324 [00:00<00:00, 451595.27it/s]\n",
      "100%|██████████████████████████████████████████████████████████████████████| 113324/113324 [00:01<00:00, 104275.12it/s]\n"
     ]
    },
    {
     "data": {
      "text/plain": [
       "[[1674,\n",
       "  12971,\n",
       "  12061,\n",
       "  3413,\n",
       "  13778,\n",
       "  14809,\n",
       "  1628,\n",
       "  1666,\n",
       "  8367,\n",
       "  14809,\n",
       "  5272,\n",
       "  19337,\n",
       "  11611],\n",
       " [13349,\n",
       "  13793,\n",
       "  1802,\n",
       "  2652,\n",
       "  14859,\n",
       "  9714,\n",
       "  17766,\n",
       "  6284,\n",
       "  12061,\n",
       "  8261,\n",
       "  12061,\n",
       "  16668,\n",
       "  7667,\n",
       "  10010,\n",
       "  7565,\n",
       "  3828,\n",
       "  15235]]"
      ]
     },
     "execution_count": 9,
     "metadata": {},
     "output_type": "execute_result"
    }
   ],
   "source": [
    "# преобразуем предложения в последовательность индексов слов\n",
    "X = [[] for _ in trange(data.shape[0])]\n",
    "for i in trange(data.shape[0]):\n",
    "    sentence = data.loc[i, 'message'].split(' ')\n",
    "    for word in sentence:\n",
    "        X[i].append(word2id[word])\n",
    "# X = [word2id[word] for word in [sentence.split(' ') for sentence in final_file_entities['text']]]\n",
    "X[:2]"
   ]
  },
  {
   "cell_type": "code",
   "execution_count": 10,
   "metadata": {},
   "outputs": [
    {
     "data": {
      "text/plain": [
       "96"
      ]
     },
     "execution_count": 10,
     "metadata": {},
     "output_type": "execute_result"
    }
   ],
   "source": [
    "# посчитаем максимальную длину текста\n",
    "max_len = 0\n",
    "for i in X:\n",
    "    if len(i)>max_len:\n",
    "        max_len = len(i)\n",
    "max_len"
   ]
  },
  {
   "cell_type": "code",
   "execution_count": 11,
   "metadata": {},
   "outputs": [
    {
     "data": {
      "text/plain": [
       "array([[ 1674, 12971, 12061,  3413, 13778, 14809,  1628,  1666,  8367,\n",
       "        14809,  5272, 19337, 11611,     0,     0,     0,     0,     0,\n",
       "            0,     0,     0,     0,     0,     0,     0,     0,     0,\n",
       "            0,     0,     0,     0,     0,     0,     0,     0,     0,\n",
       "            0,     0,     0,     0,     0,     0,     0,     0,     0,\n",
       "            0,     0,     0,     0,     0,     0,     0,     0,     0,\n",
       "            0,     0,     0,     0,     0,     0,     0,     0,     0,\n",
       "            0,     0,     0,     0,     0,     0,     0,     0,     0,\n",
       "            0,     0,     0,     0,     0,     0,     0,     0,     0,\n",
       "            0,     0,     0,     0,     0,     0,     0,     0,     0,\n",
       "            0,     0,     0,     0,     0,     0],\n",
       "       [13349, 13793,  1802,  2652, 14859,  9714, 17766,  6284, 12061,\n",
       "         8261, 12061, 16668,  7667, 10010,  7565,  3828, 15235,     0,\n",
       "            0,     0,     0,     0,     0,     0,     0,     0,     0,\n",
       "            0,     0,     0,     0,     0,     0,     0,     0,     0,\n",
       "            0,     0,     0,     0,     0,     0,     0,     0,     0,\n",
       "            0,     0,     0,     0,     0,     0,     0,     0,     0,\n",
       "            0,     0,     0,     0,     0,     0,     0,     0,     0,\n",
       "            0,     0,     0,     0,     0,     0,     0,     0,     0,\n",
       "            0,     0,     0,     0,     0,     0,     0,     0,     0,\n",
       "            0,     0,     0,     0,     0,     0,     0,     0,     0,\n",
       "            0,     0,     0,     0,     0,     0]])"
      ]
     },
     "execution_count": 11,
     "metadata": {},
     "output_type": "execute_result"
    }
   ],
   "source": [
    "# добавим нули до макисмального размера последовательности\n",
    "from keras.preprocessing.sequence import pad_sequences\n",
    "X = pad_sequences(maxlen=max_len, sequences=X, padding='post', value=0)\n",
    "X[:2]"
   ]
  },
  {
   "cell_type": "code",
   "execution_count": 12,
   "metadata": {},
   "outputs": [
    {
     "name": "stderr",
     "output_type": "stream",
     "text": [
      "100%|██████████████████████████████████████████████████████████████████████| 113324/113324 [00:00<00:00, 125838.47it/s]\n"
     ]
    },
    {
     "data": {
      "text/plain": [
       "['I-PRODUCT', 'B-SUM', 'B-SERVICE']"
      ]
     },
     "execution_count": 12,
     "metadata": {},
     "output_type": "execute_result"
    }
   ],
   "source": [
    "labels = []\n",
    "for i in trange(data.shape[0]):\n",
    "    for j in data.loc[i, 'target_entities'].split(' '):\n",
    "        labels.append(j)\n",
    "labels = list(set(labels))\n",
    "labels[:3]"
   ]
  },
  {
   "cell_type": "code",
   "execution_count": 13,
   "metadata": {},
   "outputs": [
    {
     "name": "stderr",
     "output_type": "stream",
     "text": [
      "75it [00:00, 151091.64it/s]\n"
     ]
    }
   ],
   "source": [
    "# создадим словари для тэгов сущностей\n",
    "tag2id = {'O':0}\n",
    "for k,v in tqdm(enumerate(labels)):\n",
    "    if v not in tag2id:\n",
    "        tag2id[v] = k+1\n",
    "    \n",
    "id2tag = {v:k for k,v in tag2id.items()}"
   ]
  },
  {
   "cell_type": "code",
   "execution_count": 14,
   "metadata": {},
   "outputs": [
    {
     "name": "stderr",
     "output_type": "stream",
     "text": [
      "100%|██████████████████████████████████████████████████████████████████████| 113324/113324 [00:00<00:00, 117586.06it/s]\n"
     ]
    },
    {
     "data": {
      "text/plain": [
       "[[0, 0, 60, 39, 37, 40, 11, 37, 6, 57],\n",
       " [0, 0, 0, 42, 0, 32, 1, 0, 22, 11, 0, 0, 0, 29]]"
      ]
     },
     "execution_count": 14,
     "metadata": {},
     "output_type": "execute_result"
    }
   ],
   "source": [
    "y = [[] for _ in range(data.shape[0])]\n",
    "for i in trange(data.shape[0]):\n",
    "    sentence = data.loc[i, 'target_entities'].split(' ')\n",
    "    for word in sentence:\n",
    "        y[i].append(tag2id[word])\n",
    "\n",
    "# y = [[tag2idx[w[2]] for w in s] for s in sentences]\n",
    "y[:2]"
   ]
  },
  {
   "cell_type": "code",
   "execution_count": 15,
   "metadata": {},
   "outputs": [
    {
     "data": {
      "text/plain": [
       "array([[ 0,  0, 60, 39, 37, 40, 11, 37,  6, 57,  0,  0,  0,  0,  0,  0,\n",
       "         0,  0,  0,  0,  0,  0,  0,  0,  0,  0,  0,  0,  0,  0,  0,  0,\n",
       "         0,  0,  0,  0,  0,  0,  0,  0,  0,  0,  0,  0,  0,  0,  0,  0,\n",
       "         0,  0,  0,  0,  0,  0,  0,  0,  0,  0,  0,  0,  0,  0,  0,  0,\n",
       "         0,  0,  0,  0,  0,  0,  0,  0,  0,  0,  0,  0,  0,  0,  0,  0,\n",
       "         0,  0,  0,  0,  0,  0,  0,  0,  0,  0,  0,  0,  0,  0,  0,  0],\n",
       "       [ 0,  0,  0, 42,  0, 32,  1,  0, 22, 11,  0,  0,  0, 29,  0,  0,\n",
       "         0,  0,  0,  0,  0,  0,  0,  0,  0,  0,  0,  0,  0,  0,  0,  0,\n",
       "         0,  0,  0,  0,  0,  0,  0,  0,  0,  0,  0,  0,  0,  0,  0,  0,\n",
       "         0,  0,  0,  0,  0,  0,  0,  0,  0,  0,  0,  0,  0,  0,  0,  0,\n",
       "         0,  0,  0,  0,  0,  0,  0,  0,  0,  0,  0,  0,  0,  0,  0,  0,\n",
       "         0,  0,  0,  0,  0,  0,  0,  0,  0,  0,  0,  0,  0,  0,  0,  0]])"
      ]
     },
     "execution_count": 15,
     "metadata": {},
     "output_type": "execute_result"
    }
   ],
   "source": [
    "# запишем в целевую переменную индексы тэгов каждого предложения\n",
    "\n",
    "y = pad_sequences(maxlen=max_len, sequences=y, padding=\"post\", value=tag2id[\"O\"])\n",
    "y[:2]"
   ]
  },
  {
   "cell_type": "code",
   "execution_count": 16,
   "metadata": {},
   "outputs": [
    {
     "name": "stderr",
     "output_type": "stream",
     "text": [
      "100%|███████████████████████████████████████████████████████████████████████| 113324/113324 [00:03<00:00, 35321.48it/s]\n"
     ]
    },
    {
     "data": {
      "text/plain": [
       "array([[[1., 0., 0., ..., 0., 0., 0.],\n",
       "        [1., 0., 0., ..., 0., 0., 0.],\n",
       "        [0., 0., 0., ..., 0., 0., 0.],\n",
       "        ...,\n",
       "        [1., 0., 0., ..., 0., 0., 0.],\n",
       "        [1., 0., 0., ..., 0., 0., 0.],\n",
       "        [1., 0., 0., ..., 0., 0., 0.]],\n",
       "\n",
       "       [[1., 0., 0., ..., 0., 0., 0.],\n",
       "        [1., 0., 0., ..., 0., 0., 0.],\n",
       "        [1., 0., 0., ..., 0., 0., 0.],\n",
       "        ...,\n",
       "        [1., 0., 0., ..., 0., 0., 0.],\n",
       "        [1., 0., 0., ..., 0., 0., 0.],\n",
       "        [1., 0., 0., ..., 0., 0., 0.]]], dtype=float32)"
      ]
     },
     "execution_count": 16,
     "metadata": {},
     "output_type": "execute_result"
    }
   ],
   "source": [
    "# преобразуем y в категориальный вид\n",
    "# y_train_cat = [to_categorical(i, num_classes=max(tag2id.values())) for i in y_train]\n",
    "y_cat= []\n",
    "for i in tqdm(y):\n",
    "    try:\n",
    "        y_cat.append(to_categorical(i, num_classes=max(tag2id.values())))\n",
    "    except:\n",
    "        y_cat.append(to_categorical(np.zeros((len(y[0])), dtype='int'), num_classes=max(tag2id.values())))\n",
    "        \n",
    "y_cat = np.asarray(y_cat)\n",
    "y_cat[:2]"
   ]
  },
  {
   "cell_type": "code",
   "execution_count": 17,
   "metadata": {},
   "outputs": [],
   "source": [
    "# разделим данные на тренировочную и валидационную выборки\n",
    "x_train, x_test, y_train, y_test = train_test_split(X, y_cat, test_size=0.1, random_state=777)"
   ]
  },
  {
   "cell_type": "code",
   "execution_count": 18,
   "metadata": {},
   "outputs": [
    {
     "data": {
      "text/plain": [
       "96"
      ]
     },
     "execution_count": 18,
     "metadata": {},
     "output_type": "execute_result"
    }
   ],
   "source": [
    "max_len"
   ]
  },
  {
   "cell_type": "code",
   "execution_count": 19,
   "metadata": {},
   "outputs": [
    {
     "data": {
      "text/plain": [
       "75"
      ]
     },
     "execution_count": 19,
     "metadata": {},
     "output_type": "execute_result"
    }
   ],
   "source": [
    "len(tag2id)"
   ]
  },
  {
   "cell_type": "code",
   "execution_count": 20,
   "metadata": {},
   "outputs": [
    {
     "data": {
      "text/plain": [
       "75"
      ]
     },
     "execution_count": 20,
     "metadata": {},
     "output_type": "execute_result"
    }
   ],
   "source": [
    "max(tag2id.values())"
   ]
  },
  {
   "cell_type": "code",
   "execution_count": 21,
   "metadata": {},
   "outputs": [],
   "source": [
    "from keras.models import Model\n",
    "from keras.layers import Input"
   ]
  },
  {
   "cell_type": "code",
   "execution_count": 22,
   "metadata": {},
   "outputs": [
    {
     "name": "stdout",
     "output_type": "stream",
     "text": [
      "Model: \"model\"\n",
      "_________________________________________________________________\n",
      "Layer (type)                 Output Shape              Param #   \n",
      "=================================================================\n",
      "input_1 (InputLayer)         [(None, 96)]              0         \n",
      "_________________________________________________________________\n",
      "embedding (Embedding)        (None, 96, 100)           1948600   \n",
      "_________________________________________________________________\n",
      "bidirectional (Bidirectional (None, 96, 200)           160800    \n",
      "_________________________________________________________________\n",
      "dropout (Dropout)            (None, 96, 200)           0         \n",
      "_________________________________________________________________\n",
      "time_distributed (TimeDistri (None, 96, 75)            15075     \n",
      "=================================================================\n",
      "Total params: 2,124,475\n",
      "Trainable params: 2,124,475\n",
      "Non-trainable params: 0\n",
      "_________________________________________________________________\n"
     ]
    }
   ],
   "source": [
    "inp = Input(shape=(max_len))\n",
    "emb = Embedding(input_dim=len(word2id)+1, output_dim=100, input_length=max_len, name='embedding')(inp)\n",
    "x = Bidirectional(LSTM(100, return_sequences=True, recurrent_dropout=0.1, name='bi_lstm'))(emb)\n",
    "x = Dropout(0.1)(x)\n",
    "out = TimeDistributed(Dense(max(tag2id.values()), activation='softmax', name='dense'))(x)\n",
    "\n",
    "model = Model(inp,out)\n",
    "model.summary()"
   ]
  },
  {
   "cell_type": "code",
   "execution_count": 25,
   "metadata": {},
   "outputs": [],
   "source": [
    "from keras.optimizers import Adam"
   ]
  },
  {
   "cell_type": "code",
   "execution_count": 28,
   "metadata": {},
   "outputs": [],
   "source": [
    "model.compile(optimizer=Adam(learning_rate=0.001)\n",
    "              ,loss='categorical_crossentropy'\n",
    "              ,metrics=['accuracy']\n",
    "             )"
   ]
  },
  {
   "cell_type": "code",
   "execution_count": 29,
   "metadata": {
    "scrolled": true
   },
   "outputs": [
    {
     "name": "stdout",
     "output_type": "stream",
     "text": [
      "Epoch 1/2\n",
      "399/399 [==============================] - 453s 1s/step - loss: 0.1679 - accuracy: 0.9717 - val_loss: 0.1040 - val_accuracy: 0.9776\n",
      "Epoch 2/2\n",
      "399/399 [==============================] - 300s 753ms/step - loss: 0.0825 - accuracy: 0.9818 - val_loss: 0.0644 - val_accuracy: 0.9862\n"
     ]
    }
   ],
   "source": [
    "history = model.fit(x_train, \n",
    "                    y_train, \n",
    "                    batch_size=256, \n",
    "                    epochs=2, \n",
    "                    validation_data=(x_test,y_test),\n",
    "#                     validation_split=0.1, \n",
    "                    verbose=1)"
   ]
  },
  {
   "cell_type": "code",
   "execution_count": 30,
   "metadata": {},
   "outputs": [
    {
     "data": {
      "image/png": "[encoded data removed]",
      "text/plain": [
       "<Figure size 432x288 with 2 Axes>"
      ]
     },
     "metadata": {
      "needs_background": "light"
     },
     "output_type": "display_data"
    }
   ],
   "source": [
    "import matplotlib.pyplot as plt\n",
    "# посмотрим на историю обучения\n",
    "\n",
    "fig, ax1 = plt.subplots()\n",
    "\n",
    "t = np.arange(0, len(history.history['accuracy']), 1)\n",
    "\n",
    "ln1 = ax1.plot(t, history.history['loss'], color='r', label='loss')\n",
    "ln2 = ax1.plot(t, history.history['val_loss'], color='r', marker='o', label='val_loss')\n",
    "ax1.set_xlabel('epochs')\n",
    "ax1.set_ylabel('loss')\n",
    "# ax1.legend(loc=0)\n",
    "ax2 = ax1.twinx()  # instantiate a second axes that shares the same x-axis\n",
    "\n",
    "\n",
    "ln3 = ax2.plot(t, history.history['accuracy'], color='b', label='accuracy')\n",
    "ln4 = ax2.plot(t, history.history['val_accuracy'], color='b', marker='o', label='val_accuracy')\n",
    "ax2.set_ylabel('accuracy')  # we already handled the x-label with ax1\n",
    "# ax2.legend(loc=0)\n",
    "\n",
    "lns = ln1+ln2+ln3+ln4\n",
    "labs = [l.get_label() for l in lns]\n",
    "ax1.legend(lns, labs, loc=0)\n",
    "\n",
    "fig.tight_layout()  # otherwise the right y-label is slightly clipped\n",
    "# plt.legend(loc='lower right')\n",
    "plt.show()"
   ]
  },
  {
   "cell_type": "code",
   "execution_count": 31,
   "metadata": {},
   "outputs": [],
   "source": [
    "model.save('NER_predict.h5')"
   ]
  },
  {
   "cell_type": "markdown",
   "metadata": {},
   "source": [
    "предикт"
   ]
  },
  {
   "cell_type": "code",
   "execution_count": 55,
   "metadata": {},
   "outputs": [
    {
     "data": {
      "text/plain": [
       "array([[19403,  9904, 11389, 14859,   377, 15235,     0,     0,     0,\n",
       "            0,     0,     0,     0,     0,     0,     0,     0,     0,\n",
       "            0,     0,     0,     0,     0,     0,     0,     0,     0,\n",
       "            0,     0,     0,     0,     0,     0,     0,     0,     0,\n",
       "            0,     0,     0,     0,     0,     0,     0,     0,     0,\n",
       "            0,     0,     0,     0,     0,     0,     0,     0,     0,\n",
       "            0,     0,     0,     0,     0,     0,     0,     0,     0,\n",
       "            0,     0,     0,     0,     0,     0,     0,     0,     0,\n",
       "            0,     0,     0,     0,     0,     0,     0,     0,     0,\n",
       "            0,     0,     0,     0,     0,     0,     0,     0,     0,\n",
       "            0,     0,     0,     0,     0,     0]])"
      ]
     },
     "execution_count": 55,
     "metadata": {},
     "output_type": "execute_result"
    }
   ],
   "source": [
    "# функция векторизации\n",
    "def vectorize(text):\n",
    "    text = text.split(' ')\n",
    "    sentence = []\n",
    "    for word in text:\n",
    "        sentence.append(word2id[word])\n",
    "        \n",
    "    return pad_sequences(sequences=[sentence], maxlen=max_len, padding='post', value=0)\n",
    "\n",
    "vectorize('lamoda является партнером по рассрочка ?')"
   ]
  },
  {
   "cell_type": "code",
   "execution_count": 69,
   "metadata": {},
   "outputs": [
    {
     "data": {
      "text/plain": [
       "(1, 96, 75)"
      ]
     },
     "execution_count": 69,
     "metadata": {},
     "output_type": "execute_result"
    }
   ],
   "source": [
    "model.predict(vectorize('lamoda является партнером по рассрочка ?')).shape"
   ]
  },
  {
   "cell_type": "code",
   "execution_count": 74,
   "metadata": {},
   "outputs": [
    {
     "data": {
      "text/plain": [
       "array([[ 0,  0,  0,  0, 32,  0,  0,  0,  0,  0,  0,  0,  0,  0,  0,  0,\n",
       "         0,  0,  0,  0,  0,  0,  0,  0,  0,  0,  0,  0,  0,  0,  0,  0,\n",
       "         0,  0,  0,  0,  0,  0,  0,  0,  0,  0,  0,  0,  0,  0,  0,  0,\n",
       "         0,  0,  0,  0,  0,  0,  0,  0,  0,  0,  0,  0,  0,  0,  0,  0,\n",
       "         0,  0,  0,  0,  0,  0,  0,  0,  0,  0,  0,  0,  0,  0,  0,  0,\n",
       "         0,  0,  0,  0,  0,  0,  0,  0,  0,  0,  0,  0,  0,  0,  0,  0]],\n",
       "      dtype=int64)"
      ]
     },
     "execution_count": 74,
     "metadata": {},
     "output_type": "execute_result"
    }
   ],
   "source": [
    "np.argmax(model.predict(vectorize('lamoda является партнером по рассрочка ?')), axis=2)"
   ]
  },
  {
   "cell_type": "code",
   "execution_count": 78,
   "metadata": {
    "scrolled": true
   },
   "outputs": [
    {
     "name": "stdout",
     "output_type": "stream",
     "text": [
      "0 O\n",
      "0 O\n",
      "0 O\n",
      "0 O\n",
      "32 B-PRODUCT\n",
      "0 O\n",
      "0 O\n",
      "0 O\n",
      "0 O\n",
      "0 O\n",
      "0 O\n",
      "0 O\n",
      "0 O\n",
      "0 O\n",
      "0 O\n",
      "0 O\n",
      "0 O\n",
      "0 O\n",
      "0 O\n",
      "0 O\n",
      "0 O\n",
      "0 O\n",
      "0 O\n",
      "0 O\n",
      "0 O\n",
      "0 O\n",
      "0 O\n",
      "0 O\n",
      "0 O\n",
      "0 O\n",
      "0 O\n",
      "0 O\n",
      "0 O\n",
      "0 O\n",
      "0 O\n",
      "0 O\n",
      "0 O\n",
      "0 O\n",
      "0 O\n",
      "0 O\n",
      "0 O\n",
      "0 O\n",
      "0 O\n",
      "0 O\n",
      "0 O\n",
      "0 O\n",
      "0 O\n",
      "0 O\n",
      "0 O\n",
      "0 O\n",
      "0 O\n",
      "0 O\n",
      "0 O\n",
      "0 O\n",
      "0 O\n",
      "0 O\n",
      "0 O\n",
      "0 O\n",
      "0 O\n",
      "0 O\n",
      "0 O\n",
      "0 O\n",
      "0 O\n",
      "0 O\n",
      "0 O\n",
      "0 O\n",
      "0 O\n",
      "0 O\n",
      "0 O\n",
      "0 O\n",
      "0 O\n",
      "0 O\n",
      "0 O\n",
      "0 O\n",
      "0 O\n",
      "0 O\n",
      "0 O\n",
      "0 O\n",
      "0 O\n",
      "0 O\n",
      "0 O\n",
      "0 O\n",
      "0 O\n",
      "0 O\n",
      "0 O\n",
      "0 O\n",
      "0 O\n",
      "0 O\n",
      "0 O\n",
      "0 O\n",
      "0 O\n",
      "0 O\n",
      "0 O\n",
      "0 O\n",
      "0 O\n",
      "0 O\n"
     ]
    }
   ],
   "source": [
    "for i in np.argmax(model.predict(vectorize('lamoda является партнером по рассрочка ?')), axis=2)[0]:\n",
    "    print(i, id2tag[i])"
   ]
  },
  {
   "cell_type": "markdown",
   "metadata": {},
   "source": [
    "далее подаем предикт в id на вход совместной с целями сетке"
   ]
  },
  {
   "cell_type": "code",
   "execution_count": null,
   "metadata": {},
   "outputs": [],
   "source": []
  },
  {
   "cell_type": "code",
   "execution_count": null,
   "metadata": {},
   "outputs": [],
   "source": []
  },
  {
   "cell_type": "code",
   "execution_count": null,
   "metadata": {},
   "outputs": [],
   "source": []
  },
  {
   "cell_type": "markdown",
   "metadata": {},
   "source": [
    "### модель классификации интентов "
   ]
  },
  {
   "cell_type": "code",
   "execution_count": 122,
   "metadata": {},
   "outputs": [
    {
     "data": {
      "text/plain": [
       "['lamoda', 'являться', 'партнёр', 'рассрочка']"
      ]
     },
     "execution_count": 122,
     "metadata": {},
     "output_type": "execute_result"
    }
   ],
   "source": [
    "import pymorphy2, joblib, re\n",
    "from keras.preprocessing.text import text_to_word_sequence\n",
    "\n",
    "\n",
    "morph = pymorphy2.MorphAnalyzer()\n",
    "\n",
    "# nltk.download(\"stopwords\")\n",
    "\n",
    "# подгрузим стоп-слова\n",
    "try:\n",
    "    russian_stopwords = stopwords.words(\"russian\")\n",
    "except:\n",
    "    russian_stopwords=joblib.load('russian_stopwords.pkl')\n",
    "\n",
    "\n",
    "stop_words=['нахер', 'третье', 'кола', 'жаль','который', 'кпникула' , 'мегодень', 'каедомлентить', 'точнуб', 'закасить',\\\n",
    "           'лайна', 'вслехать', 'нат', 'кроме', 'срочно', 'ередить', 'блчдь', 'могуля', 'пиздец', 'копа', 'бэкома', 'ирек',\\\n",
    "           'каклть', 'хрень', 'нахер', 'таки', 'никто', 'муха', 'сраный', 'туда', 'слушай', 'долдно', 'каков', 'как', 'какой',\\\n",
    "           'блядь', 'горелый', 'можито', 'пора', 'недолжный', 'это', 'ваш' , 'nan', 'косасия' ,'пидар', 'пидра', 'понос' ,\\\n",
    "            'отъестись', 'нибыть', 'вообще', 'видимо', 'позвать', 'назад', 'иметь', 'ввиду', 'добрый']\n",
    "\n",
    "add2stop_words=['подскажите', 'подсказать', 'пожалуйста', 'необходимо', 'здравствуйте', 'скажите', 'пожалуйста',\n",
    "                'хочу', 'почему', 'привет']\n",
    "\n",
    "russian_stopwords=russian_stopwords + stop_words + add2stop_words\n",
    "\n",
    "# исключим из словаря некоторые слова\n",
    "excl_from_dict=['как', 'какой', 'иметь', 'который', 'какая', 'нет', 'было', 'быть', 'ничего',\n",
    "                'где', 'куда', 'зачем', 'не', 'можно']\n",
    "\n",
    "russian_stopwords=list(set([i for i in russian_stopwords if i not in excl_from_dict]))\n",
    "\n",
    "# список приветственных словосочетаний, которые исключим из предложения\n",
    "del_from_sentence=['добрый день', 'добрый вечер', 'просьба подсказать', 'доброго времени', 'доброй ночи', 'доброе время суток', \\\n",
    "                   'день добрый', 'доброго времени', 'доброго дня', 'вечер добрый', 'утро доброе', 'подскажите пожалуйста']\n",
    "\n",
    "# скорректируем опечатки\n",
    "errors=joblib.load('errors2correct_dict.pkl')\n",
    "\n",
    "def preprocess_text(text):\n",
    "    text = str(text).lower().strip()\n",
    "    text = text.replace(\"ё\", \"е\")\n",
    "    text = re.sub('((www\\.[^\\s]+)|(https?://[^\\s]+))', 'URL', text)\n",
    "    text = re.sub('@[^\\s]+', 'USER', text)\n",
    "    text = re.sub('[^a-zA-Zа-яА-Я0-9?!]+', ' ', text) \n",
    "#     text = re.sub(' +', ' ', text)\n",
    "    text = re.sub(r'[^\\w\\s\\d?!]+', ' ',text)\n",
    "    obj = re.match(r'[\\d+\\W+?!]{,}', text)\n",
    "    text = text[0 if obj is None else len(obj.group(0)):]    \n",
    "    text = re.sub(r'[\\s+]&&[^?!]', ' ', text)\n",
    "    text = re.sub('([a-zа-яёе0-9?!])\\1{2,}', r'\\1\\1', text)  # aaaaa -> aa\n",
    "    text = re.sub(r'([^a-zа-яёе0-9?!])\\1{1,}', r'\\1', text)  # )))) -> )\n",
    "#     text = re.sub(r'([^0-9]|^)([%s]+)([^0-9]|$)' % string.punctuation, r'\\1 \\2 \\3', text)\n",
    "#     try:\n",
    "#         text=[text.replace(phrase, ' ') for phrase in del_from_sentence if phrase in text][0].strip()\n",
    "#     except:\n",
    "#         text=text\n",
    "    \n",
    "#     if len(text)==1:\n",
    "#         tokens = text.strip()\n",
    "#     else:\n",
    "#         tokens = text.split()\n",
    "        \n",
    "#     tokens = [morph.parse(token.strip())[0].normal_form for token in tokens if len(token.strip())>0\\\n",
    "#              and token.strip() not in russian_stopwords]\n",
    "    tokens = text_to_word_sequence(text)\n",
    "    tokens_result=[]\n",
    "    for token in tokens:\n",
    "        if len(token.strip())>0 and token.strip() not in russian_stopwords:\n",
    "            token=morph.parse(token.strip())[0].normal_form\n",
    "            if token in errors.keys():\n",
    "                tokens_result.append(errors[token])\n",
    "            else:\n",
    "                tokens_result.append(token)\n",
    "            \n",
    "#               and token.strip() not in punctuation]\n",
    "    \n",
    "    return tokens_result\n",
    "\n",
    "preprocess_text('lamoda является партнером по рассрочка ?')"
   ]
  },
  {
   "cell_type": "code",
   "execution_count": 123,
   "metadata": {},
   "outputs": [
    {
     "name": "stderr",
     "output_type": "stream",
     "text": [
      "100%|████████████████████████████████████████████████████████████████████████| 113324/113324 [01:22<00:00, 1380.76it/s]\n"
     ]
    },
    {
     "data": {
      "text/plain": [
       "[['не',\n",
       "  'знать',\n",
       "  'как',\n",
       "  'сменить',\n",
       "  'дать',\n",
       "  'паспорт',\n",
       "  'новый',\n",
       "  'дать',\n",
       "  '0319',\n",
       "  '436622'],\n",
       " ['среди',\n",
       "  'партнёр',\n",
       "  'карта',\n",
       "  'свобода',\n",
       "  'компания',\n",
       "  'устанавливать',\n",
       "  'пластиковый',\n",
       "  'окно',\n",
       "  'нижний',\n",
       "  'новгород']]"
      ]
     },
     "execution_count": 123,
     "metadata": {},
     "output_type": "execute_result"
    }
   ],
   "source": [
    "sentences = []\n",
    "for i in trange(data.shape[0]):\n",
    "    sentences.append(preprocess_text(data['message'].iloc[i]))\n",
    "sentences[:2]"
   ]
  },
  {
   "cell_type": "code",
   "execution_count": 127,
   "metadata": {},
   "outputs": [],
   "source": [
    "from keras.preprocessing.text import Tokenizer"
   ]
  },
  {
   "cell_type": "code",
   "execution_count": null,
   "metadata": {},
   "outputs": [],
   "source": [
    "tokenizer = Tokenizer()"
   ]
  },
  {
   "cell_type": "code",
   "execution_count": 128,
   "metadata": {},
   "outputs": [
    {
     "data": {
      "text/plain": [
       "[('unknown', 1), ('карта', 2)]"
      ]
     },
     "execution_count": 128,
     "metadata": {},
     "output_type": "execute_result"
    }
   ],
   "source": [
    "maxlen = 500 \n",
    "\n",
    "tokenizer = Tokenizer(num_words=maxlen, filters='!\"#$%&()*+,-–—./:;<=>?@[\\\\]^_`{|}~\\t\\n\\xa0', lower=True, split=' ', oov_token='unknown', char_level=False)\n",
    "tokenizer.fit_on_texts(sentences)         \n",
    "items = list(tokenizer.word_index.items())\n",
    "items[:2]"
   ]
  },
  {
   "cell_type": "code",
   "execution_count": 129,
   "metadata": {},
   "outputs": [
    {
     "data": {
      "text/plain": [
       "[[4, 344, 5, 242, 116, 291, 19, 116, 1, 1], [1, 101, 2, 27, 1, 1, 1, 1, 1, 1]]"
      ]
     },
     "execution_count": 129,
     "metadata": {},
     "output_type": "execute_result"
    }
   ],
   "source": [
    "sequences = tokenizer.texts_to_sequences(sentences)\n",
    "sequences[:2]"
   ]
  },
  {
   "cell_type": "code",
   "execution_count": 130,
   "metadata": {},
   "outputs": [
    {
     "name": "stdout",
     "output_type": "stream",
     "text": [
      "(113324, 500)\n",
      "[0. 1. 0. 0. 1. 1. 0. 0. 0. 0. 0. 0. 0. 0. 0. 0. 0. 0. 0. 1. 0. 0. 0. 0.\n",
      " 0. 0. 0. 0. 0. 0. 0. 0. 0. 0. 0. 0. 0. 0. 0. 0. 0. 0. 0. 0. 0. 0. 0. 0.\n",
      " 0. 0. 0. 0. 0. 0. 0. 0. 0. 0. 0. 0. 0. 0. 0. 0. 0. 0. 0. 0. 0. 0. 0. 0.\n",
      " 0. 0. 0. 0. 0. 0. 0. 0. 0. 0. 0. 0. 0. 0. 0. 0. 0. 0. 0. 0. 0. 0. 0. 0.\n",
      " 0. 0. 0. 0.]\n"
     ]
    }
   ],
   "source": [
    "# преобразуем в one hot encoding формат\n",
    "xTrainRez01 = tokenizer.sequences_to_matrix(sequences) \n",
    "print(xTrainRez01.shape)                                      \n",
    "print(xTrainRez01[0][0:100])"
   ]
  },
  {
   "cell_type": "code",
   "execution_count": 134,
   "metadata": {},
   "outputs": [
    {
     "name": "stdout",
     "output_type": "stream",
     "text": [
      "384\n"
     ]
    },
    {
     "data": {
      "text/plain": [
       "['gi074', 'gi081']"
      ]
     },
     "execution_count": 134,
     "metadata": {},
     "output_type": "execute_result"
    }
   ],
   "source": [
    "classes = data['intent_id'].unique().tolist()\n",
    "print(len(classes))\n",
    "classes[:2]"
   ]
  },
  {
   "cell_type": "code",
   "execution_count": 135,
   "metadata": {},
   "outputs": [
    {
     "data": {
      "text/plain": [
       "0     70\n",
       "1     77\n",
       "2    136\n",
       "3    159\n",
       "4    347\n",
       "5    347\n",
       "6    313\n",
       "7    330\n",
       "8    137\n",
       "9    157\n",
       "Name: target, dtype: int16"
      ]
     },
     "execution_count": 135,
     "metadata": {},
     "output_type": "execute_result"
    }
   ],
   "source": [
    "data['target'] = data['intent_id'].astype('category').cat.codes\n",
    "data['target'][:10]"
   ]
  },
  {
   "cell_type": "code",
   "execution_count": 136,
   "metadata": {},
   "outputs": [
    {
     "data": {
      "text/plain": [
       "[70,\n",
       " 77,\n",
       " 136,\n",
       " 159,\n",
       " 347,\n",
       " 347,\n",
       " 313,\n",
       " 330,\n",
       " 137,\n",
       " 157,\n",
       " 157,\n",
       " 223,\n",
       " 317,\n",
       " 369,\n",
       " 317,\n",
       " 72,\n",
       " 301,\n",
       " 210,\n",
       " 334,\n",
       " 237]"
      ]
     },
     "execution_count": 136,
     "metadata": {},
     "output_type": "execute_result"
    }
   ],
   "source": [
    "y = data['target'].tolist()\n",
    "y[:20]"
   ]
  },
  {
   "cell_type": "code",
   "execution_count": 137,
   "metadata": {},
   "outputs": [
    {
     "data": {
      "text/plain": [
       "(113324, 384)"
      ]
     },
     "execution_count": 137,
     "metadata": {},
     "output_type": "execute_result"
    }
   ],
   "source": [
    "y_cat = to_categorical(y)\n",
    "np.asarray(y_cat).shape"
   ]
  },
  {
   "cell_type": "code",
   "execution_count": 138,
   "metadata": {},
   "outputs": [],
   "source": [
    "x_train, x_test, y_train, y_test = train_test_split(np.asarray(xTrainRez01), np.asarray(y_cat), test_size=0.1, random_state=777, shuffle= True)"
   ]
  },
  {
   "cell_type": "code",
   "execution_count": 140,
   "metadata": {},
   "outputs": [],
   "source": [
    "from keras.layers import BatchNormalization"
   ]
  },
  {
   "cell_type": "code",
   "execution_count": 146,
   "metadata": {},
   "outputs": [
    {
     "name": "stdout",
     "output_type": "stream",
     "text": [
      "Epoch 1/10\n",
      "399/399 [==============================] - 8s 19ms/step - loss: 0.4022 - accuracy: 0.8833 - val_loss: 0.4224 - val_accuracy: 0.8823\n",
      "Epoch 2/10\n",
      "399/399 [==============================] - 8s 19ms/step - loss: 0.3928 - accuracy: 0.8856 - val_loss: 0.4217 - val_accuracy: 0.8810\n",
      "Epoch 3/10\n",
      "399/399 [==============================] - 8s 19ms/step - loss: 0.3888 - accuracy: 0.8867 - val_loss: 0.4196 - val_accuracy: 0.8848\n",
      "Epoch 4/10\n",
      "399/399 [==============================] - 8s 19ms/step - loss: 0.3814 - accuracy: 0.8885 - val_loss: 0.4156 - val_accuracy: 0.8847\n",
      "Epoch 5/10\n",
      "399/399 [==============================] - 8s 19ms/step - loss: 0.3724 - accuracy: 0.8902 - val_loss: 0.4179 - val_accuracy: 0.8831\n",
      "Epoch 6/10\n",
      "399/399 [==============================] - 8s 19ms/step - loss: 0.3679 - accuracy: 0.8921 - val_loss: 0.4113 - val_accuracy: 0.8833\n",
      "Epoch 7/10\n",
      "399/399 [==============================] - 8s 19ms/step - loss: 0.3623 - accuracy: 0.8930 - val_loss: 0.4120 - val_accuracy: 0.8837\n",
      "Epoch 8/10\n",
      "399/399 [==============================] - 8s 19ms/step - loss: 0.3561 - accuracy: 0.8944 - val_loss: 0.4047 - val_accuracy: 0.8865\n",
      "Epoch 9/10\n",
      "399/399 [==============================] - 8s 19ms/step - loss: 0.3527 - accuracy: 0.8957 - val_loss: 0.4065 - val_accuracy: 0.8859\n",
      "Epoch 10/10\n",
      "399/399 [==============================] - 8s 19ms/step - loss: 0.3479 - accuracy: 0.8968 - val_loss: 0.4009 - val_accuracy: 0.8879\n"
     ]
    }
   ],
   "source": [
    "inp = Input(shape=(500, ))\n",
    "# x = BatchNormalization()(inp)\n",
    "x = Dense(800, activation='relu')(inp)\n",
    "x = Dropout(0.3)(x)\n",
    "x = Dense(600, activation='relu')(x)\n",
    "x = Dropout(0.3)(x)\n",
    "x = Dense(400, activation='relu')(x)\n",
    "output = Dense(len(classes), activation='softmax')(x)\n",
    "model = Model(inp, output)\n",
    "\n",
    "model.compile(optimizer=Adam(lr=1e-4), \n",
    "                  loss='categorical_crossentropy', \n",
    "                  metrics=['accuracy'])\n",
    "\n",
    "history = model.fit(x_train, \n",
    "                    y_train, \n",
    "                    batch_size=256,\n",
    "                    epochs=10, \n",
    "                    validation_data=(x_test, y_test),\n",
    "                    verbose=1, shuffle=True)"
   ]
  },
  {
   "cell_type": "code",
   "execution_count": 149,
   "metadata": {},
   "outputs": [
    {
     "data": {
      "image/png": "[encoded data removed]",
      "text/plain": [
       "<Figure size 432x288 with 2 Axes>"
      ]
     },
     "metadata": {
      "needs_background": "light"
     },
     "output_type": "display_data"
    }
   ],
   "source": [
    "import matplotlib.pyplot as plt\n",
    "# посмотрим на историю обучения\n",
    "\n",
    "fig, ax1 = plt.subplots()\n",
    "\n",
    "t = np.arange(0, len(history.history['accuracy']), 1)\n",
    "\n",
    "ln1 = ax1.plot(t, history.history['loss'], color='r', label='loss')\n",
    "ln2 = ax1.plot(t, history.history['val_loss'], color='r', marker='o', label='val_loss')\n",
    "ax1.set_xlabel('epochs')\n",
    "ax1.set_ylabel('loss')\n",
    "# ax1.legend(loc=0)\n",
    "ax2 = ax1.twinx()  # instantiate a second axes that shares the same x-axis\n",
    "\n",
    "\n",
    "ln3 = ax2.plot(t, history.history['accuracy'], color='b', label='accuracy')\n",
    "ln4 = ax2.plot(t, history.history['val_accuracy'], color='b', marker='o', label='val_accuracy')\n",
    "ax2.set_ylabel('accuracy')  # we already handled the x-label with ax1\n",
    "# ax2.legend(loc=0)\n",
    "\n",
    "lns = ln1+ln2+ln3+ln4\n",
    "labs = [l.get_label() for l in lns]\n",
    "ax1.legend(lns, labs, loc=0)\n",
    "\n",
    "fig.tight_layout()  # otherwise the right y-label is slightly clipped\n",
    "# plt.legend(loc='lower right')\n",
    "plt.show()"
   ]
  },
  {
   "cell_type": "code",
   "execution_count": 151,
   "metadata": {},
   "outputs": [],
   "source": [
    "from sklearn.metrics import f1_score"
   ]
  },
  {
   "cell_type": "code",
   "execution_count": 152,
   "metadata": {},
   "outputs": [
    {
     "data": {
      "text/plain": [
       "0.9142900003529703"
      ]
     },
     "execution_count": 152,
     "metadata": {},
     "output_type": "execute_result"
    }
   ],
   "source": [
    "f1_score(y, np.argmax(model.predict(np.asarray(xTrainRez01)), axis=1), average='micro')"
   ]
  },
  {
   "cell_type": "code",
   "execution_count": 153,
   "metadata": {},
   "outputs": [],
   "source": [
    "model.save('model_intent.h5')"
   ]
  },
  {
   "cell_type": "code",
   "execution_count": null,
   "metadata": {},
   "outputs": [],
   "source": []
  },
  {
   "cell_type": "markdown",
   "metadata": {},
   "source": [
    "### модель по определению целей"
   ]
  },
  {
   "cell_type": "markdown",
   "metadata": {},
   "source": [
    "План\n",
    "\n",
    "1. препроцессинг фраз с нормализацией\n",
    "2. векторизация word2vec\n",
    "3. pad_sequences\n",
    "4. модель\n",
    "5. оценка качества \n",
    "6. predict"
   ]
  },
  {
   "cell_type": "code",
   "execution_count": 124,
   "metadata": {},
   "outputs": [],
   "source": [
    "from gensim.models import Word2Vec"
   ]
  },
  {
   "cell_type": "code",
   "execution_count": 126,
   "metadata": {},
   "outputs": [],
   "source": [
    "wvec = Word2Vec(sentences, workers=-1, min_count=1, window=6, size=200)"
   ]
  },
  {
   "cell_type": "code",
   "execution_count": 155,
   "metadata": {},
   "outputs": [
    {
     "data": {
      "text/plain": [
       "10363"
      ]
     },
     "execution_count": 155,
     "metadata": {},
     "output_type": "execute_result"
    }
   ],
   "source": []
  },
  {
   "cell_type": "code",
   "execution_count": 290,
   "metadata": {},
   "outputs": [],
   "source": [
    "word2id_wvec = {i:k+2 for k,i in enumerate(wvec.wv.vocab.keys())}\n",
    "word2id_wvec['UNK'] = 1\n",
    "id2word_wvec = {k:i for i,k in word2id_wvec.items()}"
   ]
  },
  {
   "cell_type": "code",
   "execution_count": 293,
   "metadata": {},
   "outputs": [
    {
     "data": {
      "text/plain": [
       "10364"
      ]
     },
     "execution_count": 293,
     "metadata": {},
     "output_type": "execute_result"
    }
   ],
   "source": [
    "len(word2id_wvec)"
   ]
  },
  {
   "cell_type": "code",
   "execution_count": 294,
   "metadata": {},
   "outputs": [
    {
     "data": {
      "text/plain": [
       "(10365, 200)"
      ]
     },
     "execution_count": 294,
     "metadata": {},
     "output_type": "execute_result"
    }
   ],
   "source": [
    "embed_matrix = np.zeros((len(word2id_wvec)+1, wvec.wv.vector_size))\n",
    "embed_matrix.shape"
   ]
  },
  {
   "cell_type": "code",
   "execution_count": 346,
   "metadata": {},
   "outputs": [],
   "source": [
    "for i in id2word_wvec.keys():\n",
    "    if i == 0:\n",
    "        embed_matrix[i] = np.zeros(wvec.wv.vector_size)\n",
    "    elif i==1:\n",
    "        embed_matrix[i] = [0.0001]*wvec.wv.vector_size\n",
    "    else:\n",
    "        embed_matrix[i] = wvec.wv.__getitem__(id2word_wvec[i])\n",
    "#     if id2word_wvec[i] in wvec:\n",
    "#         embed_matrix[i] = wvec.wv.__getitem__(id2word_wvec[i])\n",
    "#     else:\n",
    "#         embed_matrix[i] = np.zeros(wvec.wv.vector_size)\n",
    "      "
   ]
  },
  {
   "cell_type": "code",
   "execution_count": 347,
   "metadata": {},
   "outputs": [
    {
     "name": "stderr",
     "output_type": "stream",
     "text": [
      "100%|██████████████████████████████████████████████████████████████████████| 113324/113324 [00:00<00:00, 677969.08it/s]\n"
     ]
    },
    {
     "data": {
      "text/plain": [
       "[[2, 3, 4, 5, 6, 7, 8, 6, 9, 10], [11, 12, 13, 14, 15, 16, 17, 18, 19, 20]]"
      ]
     },
     "execution_count": 347,
     "metadata": {},
     "output_type": "execute_result"
    }
   ],
   "source": [
    "sequences_wvec = [[] for _ in range(len(sentences))]\n",
    "for i in trange(len(sentences)):\n",
    "    for word in sentences[i]:\n",
    "        sequences_wvec[i].append(word2id_wvec[word])\n",
    "sequences_wvec[:2]"
   ]
  },
  {
   "cell_type": "code",
   "execution_count": 348,
   "metadata": {},
   "outputs": [
    {
     "name": "stderr",
     "output_type": "stream",
     "text": [
      "100%|█████████████████████████████████████████████████████████████████████| 113324/113324 [00:00<00:00, 1936174.32it/s]\n"
     ]
    },
    {
     "data": {
      "text/plain": [
       "60"
      ]
     },
     "execution_count": 348,
     "metadata": {},
     "output_type": "execute_result"
    }
   ],
   "source": [
    "max_len_wvec = 0\n",
    "for i in trange(len(sequences_wvec)):\n",
    "    tmp_max = len(sequences_wvec[i])\n",
    "    if tmp_max>max_len_wvec:\n",
    "        max_len_wvec=tmp_max\n",
    "        \n",
    "max_len_wvec"
   ]
  },
  {
   "cell_type": "code",
   "execution_count": 349,
   "metadata": {},
   "outputs": [
    {
     "data": {
      "text/plain": [
       "[array([[ 2,  3,  4,  5,  6,  7,  8,  6,  9, 10,  0,  0,  0,  0,  0,  0,\n",
       "          0,  0,  0,  0,  0,  0,  0,  0,  0,  0,  0,  0,  0,  0,  0,  0,\n",
       "          0,  0,  0,  0,  0,  0,  0,  0,  0,  0,  0,  0,  0,  0,  0,  0,\n",
       "          0,  0,  0,  0,  0,  0,  0,  0,  0,  0,  0,  0]]),\n",
       " array([[11, 12, 13, 14, 15, 16, 17, 18, 19, 20,  0,  0,  0,  0,  0,  0,\n",
       "          0,  0,  0,  0,  0,  0,  0,  0,  0,  0,  0,  0,  0,  0,  0,  0,\n",
       "          0,  0,  0,  0,  0,  0,  0,  0,  0,  0,  0,  0,  0,  0,  0,  0,\n",
       "          0,  0,  0,  0,  0,  0,  0,  0,  0,  0,  0,  0]])]"
      ]
     },
     "execution_count": 349,
     "metadata": {},
     "output_type": "execute_result"
    }
   ],
   "source": [
    "sequences_wvec_pad = [pad_sequences([seq], maxlen=max_len_wvec, padding='post', value=0) for seq in sequences_wvec]\n",
    "sequences_wvec_pad[:2]"
   ]
  },
  {
   "cell_type": "code",
   "execution_count": 350,
   "metadata": {},
   "outputs": [
    {
     "data": {
      "text/plain": [
       "array([[ 0.00000000e+00,  0.00000000e+00,  0.00000000e+00, ...,\n",
       "         0.00000000e+00,  0.00000000e+00,  0.00000000e+00],\n",
       "       [ 1.00000000e-04,  1.00000000e-04,  1.00000000e-04, ...,\n",
       "         1.00000000e-04,  1.00000000e-04,  1.00000000e-04],\n",
       "       [ 3.78858007e-04, -5.39299392e-04, -1.35365839e-03, ...,\n",
       "        -6.53699331e-04, -2.75202590e-04,  9.37185541e-04],\n",
       "       ...,\n",
       "       [ 5.94565819e-04, -2.14231294e-03,  2.26941635e-03, ...,\n",
       "        -2.15624645e-03,  1.92471233e-03,  1.13999587e-03],\n",
       "       [-1.16165240e-04,  3.31216492e-04, -2.24306528e-03, ...,\n",
       "         1.58834469e-03,  1.71516137e-03, -2.46966584e-03],\n",
       "       [-2.14764848e-03,  2.26402446e-03,  1.16921205e-03, ...,\n",
       "        -2.44116201e-03, -5.58515370e-04, -1.21127414e-05]])"
      ]
     },
     "execution_count": 350,
     "metadata": {},
     "output_type": "execute_result"
    }
   ],
   "source": [
    "embed_matrix"
   ]
  },
  {
   "cell_type": "code",
   "execution_count": 351,
   "metadata": {},
   "outputs": [
    {
     "data": {
      "text/plain": [
       "104"
      ]
     },
     "execution_count": 351,
     "metadata": {},
     "output_type": "execute_result"
    }
   ],
   "source": [
    "# таргет\n",
    "targets_len = max(targets['номер'].tolist())\n",
    "targets_len"
   ]
  },
  {
   "cell_type": "code",
   "execution_count": 352,
   "metadata": {},
   "outputs": [
    {
     "name": "stderr",
     "output_type": "stream",
     "text": [
      "100%|███████████████████████████████████████████████████████████████████████| 113324/113324 [00:01<00:00, 60744.01it/s]\n"
     ]
    },
    {
     "data": {
      "text/plain": [
       "array([[0., 0., 0., 0., 0., 0., 0., 0., 0., 0., 0., 1., 0., 0., 0., 0.,\n",
       "        0., 0., 0., 0., 0., 0., 0., 0., 0., 0., 0., 0., 0., 0., 0., 0.,\n",
       "        0., 0., 0., 0., 0., 0., 0., 0., 0., 0., 0., 0., 0., 0., 0., 0.,\n",
       "        0., 0., 0., 0., 0., 0., 0., 0., 0., 0., 0., 0., 0., 0., 0., 0.,\n",
       "        0., 0., 0., 0., 0., 0., 0., 0., 0., 0., 0., 0., 0., 0., 0., 0.,\n",
       "        0., 0., 0., 0., 0., 0., 0., 0., 0., 0., 0., 0., 0., 0., 0., 0.,\n",
       "        0., 0., 0., 0., 0., 0., 0., 0., 0., 0.],\n",
       "       [0., 0., 0., 0., 0., 0., 0., 0., 0., 0., 0., 0., 0., 0., 0., 0.,\n",
       "        0., 0., 0., 0., 0., 0., 0., 0., 0., 0., 0., 0., 0., 0., 0., 0.,\n",
       "        0., 0., 0., 0., 0., 0., 0., 0., 0., 0., 0., 0., 1., 0., 0., 0.,\n",
       "        0., 0., 0., 0., 0., 0., 0., 0., 0., 0., 0., 0., 0., 0., 0., 0.,\n",
       "        0., 0., 0., 0., 0., 0., 0., 0., 0., 0., 0., 0., 0., 0., 0., 0.,\n",
       "        0., 0., 0., 0., 0., 0., 0., 0., 0., 0., 0., 0., 0., 0., 0., 0.,\n",
       "        0., 0., 0., 0., 0., 0., 0., 0., 0., 0.]])"
      ]
     },
     "execution_count": 352,
     "metadata": {},
     "output_type": "execute_result"
    }
   ],
   "source": [
    "y_wvec = [np.zeros(targets_len+2) for _ in range(len(sentences))]\n",
    "for i in trange(len(sentences)):\n",
    "    tmp_sent = re.sub(r'[^\\d;]','', data['goal'].iloc[i]).split(';') if isinstance(data['goal'].iloc[i], str) else [data['goal'].iloc[i]]\n",
    "    for j in tmp_sent:\n",
    "        if j:\n",
    "            y_wvec[i][int(j)] = 1\n",
    "            \n",
    "y_wvec = np.asarray(y_wvec)\n",
    "print(y_wvec[:2])\n",
    "\n",
    "sequences_wvec_pad = [i[0] for i in sequences_wvec_pad]"
   ]
  },
  {
   "cell_type": "code",
   "execution_count": 354,
   "metadata": {},
   "outputs": [],
   "source": [
    "x_train_w, x_test_w, y_train_w, y_test_w = train_test_split(np.asarray(sequences_wvec_pad), y_wvec, test_size=0.1, random_state=777)"
   ]
  },
  {
   "cell_type": "code",
   "execution_count": 355,
   "metadata": {},
   "outputs": [
    {
     "data": {
      "text/plain": [
       "array([[ 125,  150,  108,  373,  448,  307,    0,    0,    0,    0,    0,\n",
       "           0,    0,    0,    0,    0,    0,    0,    0,    0,    0,    0,\n",
       "           0,    0,    0,    0,    0,    0,    0,    0,    0,    0,    0,\n",
       "           0,    0,    0,    0,    0,    0,    0,    0,    0,    0,    0,\n",
       "           0,    0,    0,    0,    0,    0,    0,    0,    0,    0,    0,\n",
       "           0,    0,    0,    0,    0],\n",
       "       [2633,    0,    0,    0,    0,    0,    0,    0,    0,    0,    0,\n",
       "           0,    0,    0,    0,    0,    0,    0,    0,    0,    0,    0,\n",
       "           0,    0,    0,    0,    0,    0,    0,    0,    0,    0,    0,\n",
       "           0,    0,    0,    0,    0,    0,    0,    0,    0,    0,    0,\n",
       "           0,    0,    0,    0,    0,    0,    0,    0,    0,    0,    0,\n",
       "           0,    0,    0,    0,    0]])"
      ]
     },
     "execution_count": 355,
     "metadata": {},
     "output_type": "execute_result"
    }
   ],
   "source": [
    "x_train_w[:2]"
   ]
  },
  {
   "cell_type": "code",
   "execution_count": 356,
   "metadata": {},
   "outputs": [
    {
     "data": {
      "text/plain": [
       "array([[0., 0., 0., 0., 0., 0., 0., 0., 1., 0., 0., 0., 0., 0., 0., 0.,\n",
       "        0., 0., 0., 0., 0., 0., 0., 0., 0., 0., 0., 0., 0., 0., 0., 0.,\n",
       "        0., 0., 0., 0., 0., 0., 0., 0., 0., 0., 0., 0., 0., 0., 0., 0.,\n",
       "        0., 0., 0., 0., 0., 0., 0., 0., 0., 0., 0., 0., 0., 0., 0., 0.,\n",
       "        0., 0., 0., 0., 0., 0., 0., 0., 0., 0., 0., 0., 0., 0., 0., 0.,\n",
       "        0., 0., 0., 0., 0., 0., 0., 0., 0., 0., 0., 0., 0., 0., 0., 0.,\n",
       "        0., 0., 0., 0., 0., 0., 0., 0., 0., 0.],\n",
       "       [0., 0., 0., 0., 0., 0., 0., 0., 0., 0., 0., 0., 0., 0., 0., 0.,\n",
       "        0., 0., 0., 0., 0., 0., 0., 0., 0., 0., 0., 0., 0., 0., 0., 0.,\n",
       "        0., 0., 0., 0., 0., 0., 0., 0., 0., 0., 0., 0., 0., 0., 0., 0.,\n",
       "        0., 0., 0., 0., 0., 0., 0., 0., 0., 0., 0., 0., 0., 0., 0., 0.,\n",
       "        0., 0., 0., 0., 0., 0., 0., 0., 0., 0., 0., 0., 0., 0., 0., 0.,\n",
       "        0., 0., 0., 0., 0., 0., 0., 1., 0., 0., 0., 0., 0., 0., 0., 0.,\n",
       "        0., 0., 0., 0., 0., 0., 0., 0., 0., 0.]])"
      ]
     },
     "execution_count": 356,
     "metadata": {},
     "output_type": "execute_result"
    }
   ],
   "source": [
    "y_train_w[:2]"
   ]
  },
  {
   "cell_type": "code",
   "execution_count": 371,
   "metadata": {},
   "outputs": [],
   "source": [
    "from keras.layers import Flatten\n",
    "from tensorflow.keras import backend as K"
   ]
  },
  {
   "cell_type": "code",
   "execution_count": 372,
   "metadata": {},
   "outputs": [],
   "source": [
    "max_len_wvec"
   ]
  },
  {
   "cell_type": "code",
   "execution_count": 395,
   "metadata": {},
   "outputs": [
    {
     "name": "stdout",
     "output_type": "stream",
     "text": [
      "Model: \"model_47\"\n",
      "_________________________________________________________________\n",
      "Layer (type)                 Output Shape              Param #   \n",
      "=================================================================\n",
      "input_65 (InputLayer)        [(None, 60)]              0         \n",
      "_________________________________________________________________\n",
      "embedding_38 (Embedding)     (None, 60, 200)           2073000   \n",
      "_________________________________________________________________\n",
      "lstm_1 (LSTM)                (None, 60, 200)           320800    \n",
      "_________________________________________________________________\n",
      "lstm_2 (LSTM)                (None, 60, 150)           210600    \n",
      "_________________________________________________________________\n",
      "dense_1 (Dense)              (None, 60, 400)           60400     \n",
      "_________________________________________________________________\n",
      "dropout_60 (Dropout)         (None, 60, 400)           0         \n",
      "_________________________________________________________________\n",
      "dense_2 (Dense)              (None, 60, 100)           40100     \n",
      "_________________________________________________________________\n",
      "flatten_30 (Flatten)         (None, 6000)              0         \n",
      "_________________________________________________________________\n",
      "dense_3 (Dense)              (None, 4096)              24580096  \n",
      "_________________________________________________________________\n",
      "dropout_61 (Dropout)         (None, 4096)              0         \n",
      "_________________________________________________________________\n",
      "dense_4 (Dense)              (None, 2048)              8390656   \n",
      "_________________________________________________________________\n",
      "dense_5 (Dense)              (None, 512)               1049088   \n",
      "_________________________________________________________________\n",
      "dense_output (Dense)         (None, 106)               54378     \n",
      "=================================================================\n",
      "Total params: 36,779,118\n",
      "Trainable params: 36,779,118\n",
      "Non-trainable params: 0\n",
      "_________________________________________________________________\n"
     ]
    }
   ],
   "source": [
    "inp = Input(shape=(max_len_wvec,))\n",
    "\n",
    "embedding_layer = Embedding(len(word2id_wvec)+1, \n",
    "                            output_dim = wvec.wv.vector_size,\n",
    "                            input_length=max_len_wvec,\n",
    "                            trainable=True,\n",
    "                            weights=[embed_matrix]\n",
    "                           )(inp)\n",
    "\n",
    "x = LSTM(200, return_sequences=True, name='lstm_1')(embedding_layer)\n",
    "x = LSTM(150, return_sequences=True, name='lstm_2')(x)\n",
    "x = Dense(400, name='dense_1')(x)\n",
    "x = Dropout(0.3)(x)\n",
    "x = Dense(100,  name='dense_2')(x)\n",
    "x = Flatten()(x)\n",
    "x = Dense(4096,  name='dense_3')(x)\n",
    "x = Dropout(0.2)(x)\n",
    "x = Dense(2048,  name='dense_4')(x)\n",
    "x = Dense(512,  name='dense_5')(x)\n",
    "output = Dense(targets_len+2, activation='softmax', name='dense_output')(x)\n",
    "model = Model(inp, output)\n",
    "model.compile(loss=ovsr_binary_crossentropy,\n",
    "             optimizer=Adam(learning_rate=0.001),\n",
    "             metrics=['accuracy'])\n",
    "\n",
    "model.summary()"
   ]
  },
  {
   "cell_type": "code",
   "execution_count": 396,
   "metadata": {
    "scrolled": false
   },
   "outputs": [
    {
     "name": "stdout",
     "output_type": "stream",
     "text": [
      "Epoch 1/10\n",
      "200/200 [==============================] - 405s 2s/step - loss: 0.0338 - accuracy: 0.4416 - val_loss: 0.0195 - val_accuracy: 0.6689\n",
      "Epoch 2/10\n",
      "200/200 [==============================] - 416s 2s/step - loss: 0.0165 - accuracy: 0.7305 - val_loss: 0.0154 - val_accuracy: 0.7549\n",
      "Epoch 3/10\n",
      "200/200 [==============================] - 430s 2s/step - loss: 0.0134 - accuracy: 0.7745 - val_loss: 0.0140 - val_accuracy: 0.7637\n",
      "Epoch 4/10\n",
      "200/200 [==============================] - 429s 2s/step - loss: 0.0120 - accuracy: 0.7926 - val_loss: 0.0139 - val_accuracy: 0.7645\n",
      "Epoch 5/10\n",
      "200/200 [==============================] - 429s 2s/step - loss: 0.0111 - accuracy: 0.8053 - val_loss: 0.0128 - val_accuracy: 0.7806\n",
      "Epoch 6/10\n",
      "200/200 [==============================] - 434s 2s/step - loss: 0.0104 - accuracy: 0.8127 - val_loss: 0.0128 - val_accuracy: 0.7818\n",
      "Epoch 7/10\n",
      "200/200 [==============================] - 438s 2s/step - loss: 0.0100 - accuracy: 0.8188 - val_loss: 0.0124 - val_accuracy: 0.7917\n",
      "Epoch 8/10\n",
      "200/200 [==============================] - 442s 2s/step - loss: 0.0096 - accuracy: 0.8233 - val_loss: 0.0123 - val_accuracy: 0.7878\n",
      "Epoch 9/10\n",
      "200/200 [==============================] - 434s 2s/step - loss: 0.0094 - accuracy: 0.8247 - val_loss: 0.0121 - val_accuracy: 0.7926\n",
      "Epoch 10/10\n",
      "200/200 [==============================] - 438s 2s/step - loss: 0.0091 - accuracy: 0.8291 - val_loss: 0.0121 - val_accuracy: 0.7926\n"
     ]
    },
    {
     "data": {
      "text/plain": [
       "<tensorflow.python.keras.callbacks.History at 0x1f2d1de2348>"
      ]
     },
     "execution_count": 396,
     "metadata": {},
     "output_type": "execute_result"
    }
   ],
   "source": [
    "model.fit(x_train_w, \n",
    "          y_train_w,\n",
    "          epochs=10,\n",
    "          batch_size=512,\n",
    "          validation_data=(x_test_w, y_test_w),\n",
    "#           validation_split=0.1,\n",
    "          verbose=1,\n",
    "          shuffle=True\n",
    "        )"
   ]
  },
  {
   "cell_type": "code",
   "execution_count": 397,
   "metadata": {},
   "outputs": [],
   "source": [
    "model.save('model_goals.h5')"
   ]
  },
  {
   "cell_type": "code",
   "execution_count": 398,
   "metadata": {},
   "outputs": [
    {
     "data": {
      "image/png": "[encoded data removed]",
      "text/plain": [
       "<Figure size 432x288 with 2 Axes>"
      ]
     },
     "metadata": {
      "needs_background": "light"
     },
     "output_type": "display_data"
    }
   ],
   "source": [
    "import matplotlib.pyplot as plt\n",
    "# посмотрим на историю обучения\n",
    "history = model.history\n",
    "\n",
    "fig, ax1 = plt.subplots()\n",
    "\n",
    "t = np.arange(0, len(history.history['accuracy']), 1)\n",
    "\n",
    "ln1 = ax1.plot(t, history.history['loss'], color='r', label='loss')\n",
    "ln2 = ax1.plot(t, history.history['val_loss'], color='r', marker='o', label='val_loss')\n",
    "ax1.set_xlabel('epochs')\n",
    "ax1.set_ylabel('loss')\n",
    "# ax1.legend(loc=0)\n",
    "ax2 = ax1.twinx()  # instantiate a second axes that shares the same x-axis\n",
    "\n",
    "\n",
    "ln3 = ax2.plot(t, history.history['accuracy'], color='b', label='accuracy')\n",
    "ln4 = ax2.plot(t, history.history['val_accuracy'], color='b', marker='o', label='val_accuracy')\n",
    "ax2.set_ylabel('accuracy')  # we already handled the x-label with ax1\n",
    "# ax2.legend(loc=0)\n",
    "\n",
    "lns = ln1+ln2+ln3+ln4\n",
    "labs = [l.get_label() for l in lns]\n",
    "ax1.legend(lns, labs, loc=0)\n",
    "\n",
    "fig.tight_layout()  # otherwise the right y-label is slightly clipped\n",
    "# plt.legend(loc='lower right')\n",
    "plt.show()"
   ]
  },
  {
   "cell_type": "code",
   "execution_count": 399,
   "metadata": {},
   "outputs": [
    {
     "data": {
      "text/plain": [
       "0.7926409600282361"
      ]
     },
     "execution_count": 399,
     "metadata": {},
     "output_type": "execute_result"
    }
   ],
   "source": [
    "y_pred = model.predict(x_test_w)\n",
    "f1_score(np.argmax(y_test_w, axis=1), np.argmax(y_pred, axis=1), average='micro')"
   ]
  },
  {
   "cell_type": "code",
   "execution_count": null,
   "metadata": {},
   "outputs": [],
   "source": [
    "sentence = 'lamoda является партнером банка'\n",
    "sentence_pad = pad_sequences([sentence], maxlen=max_len_wvec, padding='post', value=0)\n",
    "    for word in sentences[i]:\n",
    "        sequences_wvec[i].append(word2id_wvec[word])"
   ]
  },
  {
   "cell_type": "markdown",
   "metadata": {},
   "source": [
    " "
   ]
  },
  {
   "cell_type": "markdown",
   "metadata": {},
   "source": [
    " "
   ]
  },
  {
   "cell_type": "markdown",
   "metadata": {},
   "source": [
    " "
   ]
  },
  {
   "cell_type": "markdown",
   "metadata": {},
   "source": [
    "### объединим 3 модели\n",
    "\n",
    "1. на вход будут предикт модели сущностей, предикт модели целей и вектор фразы\n"
   ]
  },
  {
   "cell_type": "markdown",
   "metadata": {},
   "source": [
    "подготовим данные для обучения на основе сущностей, предикт будет выступать как вектор входящих данных для модели интентов"
   ]
  },
  {
   "cell_type": "code",
   "execution_count": 385,
   "metadata": {},
   "outputs": [],
   "source": [
    "from keras.models import load_model"
   ]
  },
  {
   "cell_type": "code",
   "execution_count": 388,
   "metadata": {},
   "outputs": [],
   "source": [
    "model_ner = load_model('NER_predict.h5')"
   ]
  },
  {
   "cell_type": "code",
   "execution_count": 389,
   "metadata": {},
   "outputs": [
    {
     "data": {
      "text/plain": [
       "array([[19403,  9904, 11389, 14859,   377, 15235,     0,     0,     0,\n",
       "            0,     0,     0,     0,     0,     0,     0,     0,     0,\n",
       "            0,     0,     0,     0,     0,     0,     0,     0,     0,\n",
       "            0,     0,     0,     0,     0,     0,     0,     0,     0,\n",
       "            0,     0,     0,     0,     0,     0,     0,     0,     0,\n",
       "            0,     0,     0,     0,     0,     0,     0,     0,     0,\n",
       "            0,     0,     0,     0,     0,     0,     0,     0,     0,\n",
       "            0,     0,     0,     0,     0,     0,     0,     0,     0,\n",
       "            0,     0,     0,     0,     0,     0,     0,     0,     0,\n",
       "            0,     0,     0,     0,     0,     0,     0,     0,     0,\n",
       "            0,     0,     0,     0,     0,     0]])"
      ]
     },
     "execution_count": 389,
     "metadata": {},
     "output_type": "execute_result"
    }
   ],
   "source": [
    "# функция векторизации\n",
    "def vectorize(text):\n",
    "    text = text.split(' ')\n",
    "    sentence = []\n",
    "    for word in text:\n",
    "        if word not in word2id:\n",
    "            word = 'UNK'\n",
    "        sentence.append(word2id[word])\n",
    "        \n",
    "    return pad_sequences(sequences=[sentence], maxlen=max_len, padding='post', value=0)\n",
    "\n",
    "vectorize('lamoda является партнером по рассрочка ?')"
   ]
  },
  {
   "cell_type": "code",
   "execution_count": 402,
   "metadata": {},
   "outputs": [
    {
     "data": {
      "text/plain": [
       "array([[ 0,  0,  0,  0, 32,  0,  0,  0,  0,  0,  0,  0,  0,  0,  0,  0,\n",
       "         0,  0,  0,  0,  0,  0,  0,  0,  0,  0,  0,  0,  0,  0,  0,  0,\n",
       "         0,  0,  0,  0,  0,  0,  0,  0,  0,  0,  0,  0,  0,  0,  0,  0,\n",
       "         0,  0,  0,  0,  0,  0,  0,  0,  0,  0,  0,  0,  0,  0,  0,  0,\n",
       "         0,  0,  0,  0,  0,  0,  0,  0,  0,  0,  0,  0,  0,  0,  0,  0,\n",
       "         0,  0,  0,  0,  0,  0,  0,  0,  0,  0,  0,  0,  0,  0,  0,  0]],\n",
       "      dtype=int64)"
      ]
     },
     "execution_count": 402,
     "metadata": {},
     "output_type": "execute_result"
    }
   ],
   "source": [
    "np.argmax(model_ner.predict(vectorize('lamoda является партнером по рассрочка ?')), axis=2)"
   ]
  },
  {
   "cell_type": "code",
   "execution_count": 400,
   "metadata": {},
   "outputs": [
    {
     "data": {
      "text/plain": [
       "array([[ 1674, 12971, 12061, ...,     0,     0,     0],\n",
       "       [13349, 13793,  1802, ...,     0,     0,     0],\n",
       "       [12272,  2609, 11283, ...,     0,     0,     0],\n",
       "       ...,\n",
       "       [ 1674,  3224,     0, ...,     0,     0,     0],\n",
       "       [ 1819, 17980, 15364, ...,     0,     0,     0],\n",
       "       [ 2891, 19088,  7830, ...,     0,     0,     0]])"
      ]
     },
     "execution_count": 400,
     "metadata": {},
     "output_type": "execute_result"
    }
   ],
   "source": [
    "X"
   ]
  },
  {
   "cell_type": "code",
   "execution_count": 403,
   "metadata": {},
   "outputs": [
    {
     "data": {
      "text/plain": [
       "array([[ 0,  0, 60, 60, 39, 37, 37,  0,  3, 37,  0,  0,  0,  0,  0,  0,\n",
       "         0,  0,  0,  0,  0,  0,  0,  0,  0,  0,  0,  0,  0,  0,  0,  0,\n",
       "         0,  0,  0,  0,  0,  0,  0,  0,  0,  0,  0,  0,  0,  0,  0,  0,\n",
       "         0,  0,  0,  0,  0,  0,  0,  0,  0,  0,  0,  0,  0,  0,  0,  0,\n",
       "         0,  0,  0,  0,  0,  0,  0,  0,  0,  0,  0,  0,  0,  0,  0,  0,\n",
       "         0,  0,  0,  0,  0,  0,  0,  0,  0,  0,  0,  0,  0,  0,  0,  0],\n",
       "       [ 0,  0,  0,  0,  0, 32,  1,  0,  0,  0,  0,  0,  0,  0,  0,  0,\n",
       "         0,  0,  0,  0,  0,  0,  0,  0,  0,  0,  0,  0,  0,  0,  0,  0,\n",
       "         0,  0,  0,  0,  0,  0,  0,  0,  0,  0,  0,  0,  0,  0,  0,  0,\n",
       "         0,  0,  0,  0,  0,  0,  0,  0,  0,  0,  0,  0,  0,  0,  0,  0,\n",
       "         0,  0,  0,  0,  0,  0,  0,  0,  0,  0,  0,  0,  0,  0,  0,  0,\n",
       "         0,  0,  0,  0,  0,  0,  0,  0,  0,  0,  0,  0,  0,  0,  0,  0]],\n",
       "      dtype=int64)"
      ]
     },
     "execution_count": 403,
     "metadata": {},
     "output_type": "execute_result"
    }
   ],
   "source": [
    "# np.argmax(model.predict(vectorize('lamoda является партнером по рассрочка ?')), axis=2)\n",
    "y_pred_ner = np.argmax(model_ner.predict(X), axis=2)\n",
    "y_pred_ner[:2]"
   ]
  },
  {
   "cell_type": "markdown",
   "metadata": {},
   "source": [
    " "
   ]
  },
  {
   "cell_type": "markdown",
   "metadata": {},
   "source": [
    " "
   ]
  },
  {
   "cell_type": "markdown",
   "metadata": {},
   "source": [
    " "
   ]
  },
  {
   "cell_type": "markdown",
   "metadata": {},
   "source": [
    "2. подготовим предсказание целей - вектор вероятностей предсказания целей будет использоваться как второй вход в сеть предсказания интентов"
   ]
  },
  {
   "cell_type": "code",
   "execution_count": 405,
   "metadata": {},
   "outputs": [],
   "source": [
    "model_goal = load_model('model_goals.h5', custom_objects={'ovsr_binary_crossentropy': ovsr_binary_crossentropy})"
   ]
  },
  {
   "cell_type": "code",
   "execution_count": 412,
   "metadata": {},
   "outputs": [
    {
     "data": {
      "text/plain": [
       "array([[3.32941461e-08, 2.06779816e-07, 3.16762709e-07, 2.36141977e-06,\n",
       "        2.67533384e-10, 3.31818732e-08, 4.11954807e-06, 1.66103541e-06,\n",
       "        6.25863152e-07, 1.54756416e-10, 9.63056026e-16, 9.99401093e-01,\n",
       "        3.27830530e-05, 3.65107802e-08, 1.81049566e-12, 3.39566611e-07,\n",
       "        1.11713678e-04, 1.58903174e-06, 6.01641696e-05, 4.88628393e-06,\n",
       "        3.03009784e-07, 1.01034414e-09, 2.24591844e-07, 1.77202697e-08,\n",
       "        3.00430486e-07, 3.60992931e-06, 1.98028420e-08, 8.49692372e-10,\n",
       "        1.45392476e-09, 6.99105271e-08, 2.61866006e-07, 7.87964902e-11,\n",
       "        1.13170024e-07, 4.13894412e-07, 2.52909189e-07, 1.99399136e-10,\n",
       "        1.23954247e-04, 9.54295398e-09, 3.22877391e-10, 5.43455542e-07,\n",
       "        6.95670355e-13, 1.69595012e-07, 1.98794177e-14, 4.56085490e-06,\n",
       "        9.76299879e-13, 2.44321882e-07, 1.76947884e-04, 9.05102115e-06,\n",
       "        4.36155823e-08, 3.41091688e-09, 1.54095483e-06, 5.41973354e-14,\n",
       "        8.02899535e-07, 5.19562633e-08, 2.83536461e-09, 2.36050068e-10,\n",
       "        1.19515585e-06, 3.70380082e-09, 5.35827382e-08, 2.73026018e-10,\n",
       "        2.01089515e-05, 2.09714184e-08, 1.47643486e-09, 4.80232104e-11,\n",
       "        1.49704110e-10, 2.39564479e-09, 3.23016793e-05, 2.91734636e-08,\n",
       "        5.89388149e-10, 2.86500157e-10, 1.28601380e-10, 5.06142128e-10,\n",
       "        1.07560098e-15, 1.65358144e-10, 1.78737320e-12, 1.07531614e-11,\n",
       "        2.10820787e-07, 2.61299316e-12, 2.34459396e-10, 7.42868322e-10,\n",
       "        2.09268350e-07, 8.84532875e-15, 1.85779517e-11, 5.70185943e-09,\n",
       "        7.41274934e-13, 2.96293035e-09, 1.74312604e-13, 1.93394129e-13,\n",
       "        1.68052345e-12, 3.34605260e-10, 2.34364828e-12, 1.09917053e-09,\n",
       "        1.32369471e-13, 6.35280728e-13, 7.02932226e-11, 3.63484992e-10,\n",
       "        1.76455428e-14, 2.92547213e-07, 4.38576211e-14, 6.29888419e-10,\n",
       "        1.60951135e-12, 2.33470396e-11, 1.10758658e-09, 4.16092121e-07,\n",
       "        5.61348114e-13, 1.44253320e-09],\n",
       "       [3.14409128e-19, 9.71158341e-15, 7.90400297e-12, 2.92630507e-18,\n",
       "        1.07706960e-18, 2.52401350e-07, 2.75754072e-12, 2.25188757e-09,\n",
       "        1.80097582e-13, 1.02549258e-08, 3.68917640e-03, 3.21324563e-24,\n",
       "        3.18839712e-17, 5.55454366e-20, 1.12814025e-09, 2.06463297e-12,\n",
       "        3.19725054e-14, 1.23849493e-17, 1.40926606e-19, 4.74590870e-20,\n",
       "        2.63592913e-13, 2.06037062e-10, 1.97181681e-11, 1.02871614e-10,\n",
       "        8.14210172e-18, 4.76510627e-18, 2.43431128e-15, 7.33293480e-20,\n",
       "        3.77493725e-09, 4.00855642e-16, 1.43419890e-13, 1.17764791e-11,\n",
       "        6.17603754e-19, 8.43819875e-11, 1.29051197e-12, 2.79865703e-13,\n",
       "        4.47771025e-14, 3.00073271e-18, 5.89200043e-12, 1.54592286e-08,\n",
       "        4.35268976e-09, 2.60899594e-15, 9.58194163e-15, 1.15887321e-18,\n",
       "        9.96310532e-01, 2.61222044e-09, 2.03312905e-11, 4.94786272e-18,\n",
       "        1.79888173e-24, 1.75398243e-13, 3.09849821e-21, 3.69980739e-08,\n",
       "        1.02887403e-12, 3.42509424e-11, 2.46499687e-09, 1.08352539e-14,\n",
       "        5.18552088e-15, 1.11757218e-11, 2.49641468e-16, 3.79416117e-12,\n",
       "        3.00264365e-19, 6.65978892e-15, 6.94285643e-16, 2.96841510e-11,\n",
       "        7.44388224e-16, 4.92325104e-12, 6.05393922e-22, 3.08705160e-15,\n",
       "        1.52756453e-17, 4.90636828e-12, 1.48313572e-13, 3.88786303e-17,\n",
       "        1.61494082e-14, 2.32731195e-10, 4.01544744e-14, 5.32442202e-19,\n",
       "        1.78368849e-20, 5.89621342e-13, 9.33269107e-17, 3.69143080e-17,\n",
       "        2.14595120e-14, 1.45725476e-08, 2.26360980e-20, 3.27112604e-09,\n",
       "        1.39689974e-15, 2.78221803e-12, 1.57569205e-12, 3.11657197e-16,\n",
       "        4.87837079e-17, 2.48671953e-24, 4.76418181e-17, 3.89500206e-14,\n",
       "        2.03827307e-19, 3.72801408e-16, 9.08996915e-17, 1.41945754e-12,\n",
       "        2.27104451e-08, 2.08015487e-20, 6.29687311e-16, 3.20058209e-14,\n",
       "        6.34760473e-12, 1.25093349e-12, 2.48260526e-17, 1.48399378e-16,\n",
       "        3.60133473e-13, 2.77733735e-14]], dtype=float32)"
      ]
     },
     "execution_count": 412,
     "metadata": {},
     "output_type": "execute_result"
    }
   ],
   "source": [
    "y_pred_goal = model_goal.predict(np.asarray(sequences_wvec_pad))\n",
    "y_pred_goal[:2]"
   ]
  },
  {
   "cell_type": "markdown",
   "metadata": {},
   "source": [
    " "
   ]
  },
  {
   "cell_type": "markdown",
   "metadata": {},
   "source": [
    " "
   ]
  },
  {
   "cell_type": "markdown",
   "metadata": {},
   "source": [
    " "
   ]
  },
  {
   "cell_type": "markdown",
   "metadata": {},
   "source": [
    "3. подготовим модель предсказания интентов, где на вход будут приходить:\n",
    "\n",
    "\n",
    "* предсказанные сущности на каждую фразу\n",
    "* вектор вероятностей пресказания тематики\n",
    "* эмбеддинг предложения Word2Vec по индексам фраз\n",
    "\n",
    "по итогам результат будет конкатенироваться и подаваться на полносвязный слой с последующей классификациое интентов"
   ]
  },
  {
   "cell_type": "code",
   "execution_count": 419,
   "metadata": {},
   "outputs": [
    {
     "data": {
      "text/plain": [
       "array([0., 1., 0., 0., 1., 1., 0., 0., 0., 0., 0., 0., 0., 0., 0., 0., 0.,\n",
       "       0., 0., 1., 0., 0., 0., 0., 0., 0., 0., 0., 0., 0., 0., 0., 0., 0.,\n",
       "       0., 0., 0., 0., 0., 0., 0., 0., 0., 0., 0., 0., 0., 0., 0., 0., 0.,\n",
       "       0., 0., 0., 0., 0., 0., 0., 0., 0., 0., 0., 0., 0., 0., 0., 0., 0.,\n",
       "       0., 0., 0., 0., 0., 0., 0., 0., 0., 0., 0., 0., 0., 0., 0., 0., 0.,\n",
       "       0., 0., 0., 0., 0., 0., 0., 0., 0., 0., 0., 0., 0., 0., 0.])"
      ]
     },
     "execution_count": 419,
     "metadata": {},
     "output_type": "execute_result"
    }
   ],
   "source": [
    "xTrainRez01[0][:100]"
   ]
  },
  {
   "cell_type": "code",
   "execution_count": 415,
   "metadata": {
    "scrolled": true
   },
   "outputs": [
    {
     "data": {
      "text/plain": [
       "['gi074', 'gi081']"
      ]
     },
     "execution_count": 415,
     "metadata": {},
     "output_type": "execute_result"
    }
   ],
   "source": [
    "classes[:2]"
   ]
  },
  {
   "cell_type": "code",
   "execution_count": 417,
   "metadata": {},
   "outputs": [
    {
     "data": {
      "text/plain": [
       "[70, 77, 136, 159, 347]"
      ]
     },
     "execution_count": 417,
     "metadata": {},
     "output_type": "execute_result"
    }
   ],
   "source": [
    "y[:5]"
   ]
  },
  {
   "cell_type": "code",
   "execution_count": 418,
   "metadata": {},
   "outputs": [
    {
     "data": {
      "text/plain": [
       "array([[0., 0., 0., ..., 0., 0., 0.],\n",
       "       [0., 0., 0., ..., 0., 0., 0.],\n",
       "       [0., 0., 0., ..., 0., 0., 0.],\n",
       "       [0., 0., 0., ..., 0., 0., 0.],\n",
       "       [0., 0., 0., ..., 0., 0., 0.]], dtype=float32)"
      ]
     },
     "execution_count": 418,
     "metadata": {},
     "output_type": "execute_result"
    }
   ],
   "source": [
    "y_cat[:5]"
   ]
  },
  {
   "cell_type": "markdown",
   "metadata": {},
   "source": [
    "разобьем данные трех моделей на тренировочную и тестовую выборки "
   ]
  },
  {
   "cell_type": "code",
   "execution_count": 422,
   "metadata": {},
   "outputs": [
    {
     "data": {
      "text/plain": [
       "(113324, 96)"
      ]
     },
     "execution_count": 422,
     "metadata": {},
     "output_type": "execute_result"
    }
   ],
   "source": [
    "y_pred_ner.shape"
   ]
  },
  {
   "cell_type": "code",
   "execution_count": 423,
   "metadata": {},
   "outputs": [
    {
     "data": {
      "text/plain": [
       "(113324, 106)"
      ]
     },
     "execution_count": 423,
     "metadata": {},
     "output_type": "execute_result"
    }
   ],
   "source": [
    "y_pred_goal.shape"
   ]
  },
  {
   "cell_type": "code",
   "execution_count": 425,
   "metadata": {},
   "outputs": [
    {
     "data": {
      "text/plain": [
       "(113324, 500)"
      ]
     },
     "execution_count": 425,
     "metadata": {},
     "output_type": "execute_result"
    }
   ],
   "source": [
    "np.asarray(xTrainRez01).shape"
   ]
  },
  {
   "cell_type": "code",
   "execution_count": 428,
   "metadata": {},
   "outputs": [],
   "source": [
    "from keras.layers import Concatenate"
   ]
  },
  {
   "cell_type": "code",
   "execution_count": 430,
   "metadata": {},
   "outputs": [],
   "source": [
    "# ner\n",
    "inp_ner = Input(shape=(y_pred_ner.shape[1]))\n",
    "ner = Dense(y_pred_ner.shape[1]*3, name='dense_1_ner')(inp_ner)\n",
    "ner = Dropout(0.3)(ner)\n",
    "ner = Dense(y_pred_ner.shape[1]*2, name='dense_2_ner')(ner)\n",
    "\n",
    "\n",
    "\n",
    "# goal\n",
    "inp_goal = Input(shape=(y_pred_goal.shape[1]))\n",
    "goal = Dense(y_pred_goal.shape[1]*3, name='dense_1_goal')(inp_goal)\n",
    "goal = Dropout(0.3)(goal)\n",
    "goal = Dense(y_pred_goal.shape[1]*2, name='dense_2_goal')(goal)\n",
    "\n",
    "\n",
    "# фразы\n",
    "inp_phrase = Input(shape=(500, ))\n",
    "# x = BatchNormalization()(inp)\n",
    "x = Dense(800, activation='relu', name='dense_1_x')(inp_phrase)\n",
    "x = Dropout(0.3)(x)\n",
    "x = Dense(600, activation='relu', name='dense_2_x')(x)\n",
    "x = Dropout(0.3)(x)\n",
    "x = Dense(400, activation='relu', name='dense_3_x')(x)\n",
    "\n",
    "\n",
    "# concat 3 models\n",
    "x = Concatenate()([ner, goal, x])\n",
    "x = Dense(600, activation='relu', name='dense_1_concat')(x)\n",
    "x = Dropout(0.3)(x)\n",
    "x = Dense(400, activation='relu', name='dense_2_concat')(x)\n",
    "\n",
    "output = Dense(len(classes), activation='softmax', name='dense_output')(x)\n",
    "\n",
    "model = Model([inp_ner, inp_goal, inp_phrase], output)\n",
    "\n",
    "model.compile(optimizer=Adam(lr=1e-4), \n",
    "#                   loss='categorical_crossentropy', \n",
    "                  loss=ovsr_binary_crossentropy,\n",
    "                  metrics=['accuracy'])"
   ]
  },
  {
   "cell_type": "code",
   "execution_count": 443,
   "metadata": {
    "scrolled": false
   },
   "outputs": [
    {
     "name": "stdout",
     "output_type": "stream",
     "text": [
      "Epoch 1/5\n",
      "399/399 [==============================] - 15s 39ms/step - loss: 6.0830e-04 - accuracy: 0.9576 - val_loss: 0.0015 - val_accuracy: 0.9198\n",
      "Epoch 2/5\n",
      "399/399 [==============================] - 16s 39ms/step - loss: 5.9713e-04 - accuracy: 0.9584 - val_loss: 0.0015 - val_accuracy: 0.9185\n",
      "Epoch 3/5\n",
      "399/399 [==============================] - 15s 39ms/step - loss: 5.9148e-04 - accuracy: 0.9586 - val_loss: 0.0015 - val_accuracy: 0.9194\n",
      "Epoch 4/5\n",
      "399/399 [==============================] - 16s 39ms/step - loss: 5.7970e-04 - accuracy: 0.9593 - val_loss: 0.0015 - val_accuracy: 0.9209\n",
      "Epoch 5/5\n",
      "399/399 [==============================] - 16s 39ms/step - loss: 5.8604e-04 - accuracy: 0.9592 - val_loss: 0.0015 - val_accuracy: 0.9189\n"
     ]
    }
   ],
   "source": [
    "history = model.fit([y_pred_ner, y_pred_goal, np.asarray(xTrainRez01)], \n",
    "                    y_cat, \n",
    "                    batch_size=256,\n",
    "                    epochs=5, \n",
    "#                     validation_data=(x_test, y_test),\n",
    "                    validation_split=0.1,\n",
    "                    verbose=1, \n",
    "                    shuffle=True)\n",
    "\n"
   ]
  },
  {
   "cell_type": "code",
   "execution_count": 444,
   "metadata": {},
   "outputs": [
    {
     "data": {
      "image/png": "[encoded data removed]",
      "text/plain": [
       "<Figure size 432x288 with 2 Axes>"
      ]
     },
     "metadata": {
      "needs_background": "light"
     },
     "output_type": "display_data"
    }
   ],
   "source": [
    "import matplotlib.pyplot as plt\n",
    "# посмотрим на историю обучения\n",
    "\n",
    "fig, ax1 = plt.subplots()\n",
    "\n",
    "t = np.arange(0, len(history.history['accuracy']), 1)\n",
    "\n",
    "ln1 = ax1.plot(t, history.history['loss'], color='r', label='loss')\n",
    "ln2 = ax1.plot(t, history.history['val_loss'], color='r', marker='o', label='val_loss')\n",
    "ax1.set_xlabel('epochs')\n",
    "ax1.set_ylabel('loss')\n",
    "# ax1.legend(loc=0)\n",
    "ax2 = ax1.twinx()  # instantiate a second axes that shares the same x-axis\n",
    "\n",
    "\n",
    "ln3 = ax2.plot(t, history.history['accuracy'], color='b', label='accuracy')\n",
    "ln4 = ax2.plot(t, history.history['val_accuracy'], color='b', marker='o', label='val_accuracy')\n",
    "ax2.set_ylabel('accuracy')  # we already handled the x-label with ax1\n",
    "# ax2.legend(loc=0)\n",
    "\n",
    "lns = ln1+ln2+ln3+ln4\n",
    "labs = [l.get_label() for l in lns]\n",
    "ax1.legend(lns, labs, loc=0)\n",
    "\n",
    "fig.tight_layout()  # otherwise the right y-label is slightly clipped\n",
    "# plt.legend(loc='lower right')\n",
    "plt.show()"
   ]
  },
  {
   "cell_type": "code",
   "execution_count": 433,
   "metadata": {},
   "outputs": [
    {
     "data": {
      "text/plain": [
       "0.9682238537291307"
      ]
     },
     "execution_count": 433,
     "metadata": {},
     "output_type": "execute_result"
    }
   ],
   "source": [
    "f1_score(y, np.argmax(model.predict([y_pred_ner, y_pred_goal, np.asarray(xTrainRez01)]), axis=1), average='micro')"
   ]
  },
  {
   "cell_type": "code",
   "execution_count": 440,
   "metadata": {},
   "outputs": [],
   "source": [
    "from sklearn.metrics import classification_report"
   ]
  },
  {
   "cell_type": "code",
   "execution_count": 442,
   "metadata": {
    "scrolled": false
   },
   "outputs": [
    {
     "name": "stdout",
     "output_type": "stream",
     "text": [
      "              precision    recall  f1-score   support\n",
      "\n",
      "       gi074       0.00      0.00      0.00         4\n",
      "       gi081       0.00      0.00      0.00        12\n",
      "       gi144       0.94      0.65      0.77       102\n",
      "       gi169       0.65      0.48      0.55        23\n",
      "       gi377       0.00      0.00      0.00        20\n",
      "       gi343       0.00      0.00      0.00        25\n",
      "       gi360       0.00      0.00      0.00        18\n",
      "       gi145       0.99      0.99      0.99       211\n",
      "       gi167       0.95      0.95      0.95       437\n",
      "       gi236       0.94      1.00      0.97        30\n",
      "       gi347       0.99      0.95      0.97       429\n",
      "       gi399       0.97      0.99      0.98       705\n",
      "       gi076       0.97      0.98      0.98       483\n",
      "       gi331       0.98      0.99      0.98       356\n",
      "       gi223       0.71      1.00      0.83         5\n",
      "       gi364       0.96      1.00      0.98       117\n",
      "       gi251       0.99      0.98      0.99       303\n",
      "       gi107       0.97      0.95      0.96      1540\n",
      "       gi141       0.81      0.87      0.84        15\n",
      "       gi015       0.99      0.93      0.95        80\n",
      "       gi243       0.96      0.93      0.94       136\n",
      "       gi335       0.96      0.88      0.92       136\n",
      "       gi011       0.95      0.77      0.85        26\n",
      "       gi305       0.79      0.79      0.79        33\n",
      "       gi219       0.94      0.90      0.92       187\n",
      "       gi280       0.96      0.98      0.97        87\n",
      "       gi110       0.84      0.74      0.79       155\n",
      "       gi054       0.89      0.93      0.91        73\n",
      "       gi120       0.57      0.91      0.70       117\n",
      "       gi097       1.00      0.99      0.99       202\n",
      "       gi137       0.96      0.96      0.96        27\n",
      "       gi075       0.82      0.99      0.90       537\n",
      "       gi073       0.93      0.96      0.95       554\n",
      "       gi240       0.91      0.98      0.95        53\n",
      "       gi152       0.96      0.98      0.97       221\n",
      "       gi026       1.00      1.00      1.00       665\n",
      "       gi023       0.94      1.00      0.97        29\n",
      "       gi173       0.95      0.93      0.94       602\n",
      "       gi103       1.00      1.00      1.00       263\n",
      "       gi250       0.95      0.93      0.94        96\n",
      "       gi108       1.00      0.98      0.99        48\n",
      "       gi160       0.99      0.94      0.96       249\n",
      "       gi037       0.98      0.99      0.99       713\n",
      "       gi006       1.00      0.98      0.99      1170\n",
      "       gi165       0.98      0.96      0.97       173\n",
      "       gi031       0.98      0.98      0.98        45\n",
      "       gi082       0.99      0.98      0.98        96\n",
      "       gi068       0.89      0.67      0.76        12\n",
      "       gi358       1.00      1.00      1.00        24\n",
      "       gi171       1.00      0.97      0.98        33\n",
      "       gi083       0.95      1.00      0.98        40\n",
      "       gi002       0.96      1.00      0.98        44\n",
      "       gi005       1.00      0.97      0.99       159\n",
      "       gi059       1.00      0.99      0.99        77\n",
      "       gi242       0.97      1.00      0.98        85\n",
      "       gi231       0.92      0.88      0.90        40\n",
      "       gi061       0.98      0.99      0.99       631\n",
      "       gi064       0.99      0.99      0.99      1311\n",
      "       gi270       0.99      0.99      0.99       481\n",
      "       gi013       1.00      1.00      1.00        19\n",
      "       gi147       1.00      1.00      1.00         5\n",
      "       gi070       0.99      0.99      0.99      1240\n",
      "       gi307       0.89      0.94      0.91        17\n",
      "       gi301       0.00      0.00      0.00         3\n",
      "       gi376       0.99      0.91      0.95        99\n",
      "       gi385       0.95      0.99      0.97       464\n",
      "       gi078       0.99      0.99      0.99       819\n",
      "       gi131       0.99      1.00      1.00       571\n",
      "       gi166       1.00      1.00      1.00       521\n",
      "       gi248       0.99      0.99      0.99       703\n",
      "       gi035       1.00      0.99      1.00       444\n",
      "       gi228       0.99      0.99      0.99       474\n",
      "       gi245       0.97      0.95      0.96       536\n",
      "       gi155       0.96      0.86      0.91       368\n",
      "       gi333       0.99      0.94      0.96       197\n",
      "       gi327       0.96      0.97      0.97       199\n",
      "       gi142       0.99      1.00      0.99        91\n",
      "       gi373       0.95      0.99      0.97       290\n",
      "       gi116       0.97      0.94      0.96       322\n",
      "       gi329       0.80      0.60      0.69       120\n",
      "       gi018       0.99      0.99      0.99       185\n",
      "       gi190       0.88      0.93      0.90       123\n",
      "       gi162       1.00      1.00      1.00        27\n",
      "       gi281       1.00      0.82      0.90        38\n",
      "       gi139       0.94      0.87      0.90       282\n",
      "       gi128       1.00      0.99      0.99        99\n",
      "       gi156       1.00      1.00      1.00        31\n",
      "       gi179       0.99      0.98      0.99       108\n",
      "       gi118       1.00      1.00      1.00        12\n",
      "       gi067       0.98      0.98      0.98       165\n",
      "       gi060       1.00      1.00      1.00         2\n",
      "       gi090       0.98      0.96      0.97        53\n",
      "       gi230       0.97      0.88      0.92        74\n",
      "       gi007       0.99      0.93      0.96       142\n",
      "       gi172       0.98      0.89      0.94        65\n",
      "       gi211       1.00      1.00      1.00        53\n",
      "       gi106       0.99      0.99      0.99       308\n",
      "       gi203       0.99      0.99      0.99       173\n",
      "       gi168       0.99      1.00      1.00       105\n",
      "       gi212       0.99      0.99      0.99       345\n",
      "       gi340       0.98      0.98      0.98       532\n",
      "       gi121       0.99      1.00      1.00       594\n",
      "       gi378       0.98      0.97      0.98       166\n",
      "       gi325       0.97      0.99      0.98       353\n",
      "       gi158       0.92      0.86      0.89       111\n",
      "       gi246       0.98      0.94      0.96       887\n",
      "       gi072       0.95      0.98      0.97       791\n",
      "       gi125       0.94      1.00      0.97        75\n",
      "       gi114       0.98      0.86      0.92        70\n",
      "       gi181       0.96      0.77      0.85        30\n",
      "       gi268       1.00      1.00      1.00       149\n",
      "       gi354       1.00      1.00      1.00        10\n",
      "       gi077       0.98      0.99      0.98       438\n",
      "       gi314       0.94      0.97      0.95       125\n",
      "       gi029       0.97      0.98      0.98       397\n",
      "       gi390       0.96      0.95      0.95       253\n",
      "       gi009       0.96      0.99      0.98       237\n",
      "       gi393       0.83      0.83      0.83        81\n",
      "       gi010       0.94      0.94      0.94       368\n",
      "       gi025       0.96      0.94      0.95       520\n",
      "       gi345       0.99      0.90      0.94       135\n",
      "       gi184       0.97      0.97      0.97       502\n",
      "       gi392       0.94      0.90      0.92        68\n",
      "       gi033       0.98      0.99      0.98      1068\n",
      "       gi027       0.99      0.99      0.99       570\n",
      "       gi039       0.99      0.97      0.98       208\n",
      "       gi204       0.97      1.00      0.98        28\n",
      "       gi189       0.92      0.89      0.91       113\n",
      "       gi200       0.99      0.99      0.99       342\n",
      "       gi001       0.99      0.99      0.99      1147\n",
      "       gi016       1.00      1.00      1.00         6\n",
      "       gi238       0.98      0.96      0.97       344\n",
      "       gi102       0.95      0.99      0.97       192\n",
      "       gi095       0.97      0.99      0.98       572\n",
      "       gi290       0.94      0.99      0.97       132\n",
      "       gi344       0.98      0.98      0.98       298\n",
      "       gi213       0.98      0.98      0.98      2758\n",
      "       gi154       1.00      0.99      0.99       739\n",
      "       gi112       0.99      0.99      0.99       468\n",
      "       gi368       0.96      0.93      0.94        27\n",
      "       gi332       1.00      1.00      1.00        14\n",
      "       gi143       0.91      0.93      0.92        80\n",
      "       gi020       0.96      0.91      0.93       216\n",
      "       gi380       0.98      0.97      0.98       533\n",
      "       gi341       0.96      0.97      0.96      2876\n",
      "       gi028       0.95      0.99      0.97       615\n",
      "       gi146       0.98      0.88      0.93       661\n",
      "       gi224       0.99      0.96      0.97       970\n",
      "       gi056       1.00      1.00      1.00         8\n",
      "       gi133       0.98      1.00      0.99       538\n",
      "       gi032       0.99      0.97      0.98      1487\n",
      "       gi132       0.94      0.93      0.94       148\n",
      "       gi269       0.99      1.00      0.99        80\n",
      "       gi122       1.00      0.92      0.96        12\n",
      "       gi227       0.91      1.00      0.95        78\n",
      "       gi391       0.99      0.99      0.99      1953\n",
      "       gi226       0.95      0.97      0.96       267\n",
      "       gi342       1.00      1.00      1.00      1177\n",
      "       gi004       1.00      0.98      0.99       100\n",
      "       gi371       0.99      0.99      0.99       174\n",
      "       gi210       1.00      0.82      0.90        11\n",
      "       gi394       0.99      0.99      0.99       353\n",
      "       gi051       0.98      0.99      0.98       679\n",
      "       gi198       0.98      0.98      0.98       682\n",
      "       gi241       0.92      0.98      0.95        66\n",
      "       gi140       0.99      1.00      1.00       137\n",
      "       gi161       1.00      1.00      1.00        26\n",
      "       gi207       0.92      0.96      0.94       137\n",
      "       gi352       0.97      0.86      0.91       118\n",
      "       gi218       0.94      0.87      0.90      4804\n",
      "       gi050       0.81      0.59      0.68        75\n",
      "       gi351       0.97      0.99      0.98     26892\n",
      "       gi208       1.00      0.86      0.93        29\n",
      "       gi220       0.94      0.93      0.94        90\n",
      "       gi315       0.94      0.98      0.96       636\n",
      "       gi205       0.98      0.98      0.98        62\n",
      "       gi085       0.97      0.91      0.94       188\n",
      "       gi239       1.00      0.81      0.90        32\n",
      "       gi339       1.00      0.96      0.98        28\n",
      "       gi101       0.98      0.98      0.98       283\n",
      "       gi109       0.98      1.00      0.99       206\n",
      "       gi366       0.94      0.96      0.95        49\n",
      "       gi136       1.00      1.00      1.00        12\n",
      "       gi353       0.97      0.97      0.97        33\n",
      "       gi098       0.99      0.99      0.99       244\n",
      "       gi099       0.97      1.00      0.99        66\n",
      "       gi127       0.93      1.00      0.96        78\n",
      "       gi286       1.00      0.90      0.95        40\n",
      "       gi387       0.99      0.98      0.99       121\n",
      "       gi225       0.98      0.98      0.98       126\n",
      "       gi150       0.99      0.98      0.99       101\n",
      "       gi194       0.99      0.99      0.99      1737\n",
      "       gi257       0.88      0.91      0.89        97\n",
      "       gi030       0.74      0.34      0.47        50\n",
      "       gi395       0.75      0.88      0.81        24\n",
      "       gi350       0.93      0.64      0.76        89\n",
      "       gi129       1.00      1.00      1.00       458\n",
      "       gi183       0.83      0.83      0.83        12\n",
      "       gi079       0.93      0.81      0.86       227\n",
      "       gi336       0.88      1.00      0.93        35\n",
      "       gi232       1.00      0.88      0.93       136\n",
      "       gi235       1.00      0.99      1.00       131\n",
      "       gi008       1.00      0.71      0.83        14\n",
      "       gi334       0.88      0.98      0.93        53\n",
      "       gi293       0.96      1.00      0.98        43\n",
      "       gi195       0.98      1.00      0.99       142\n",
      "       gi311       0.99      0.98      0.98       298\n",
      "       gi071       1.00      0.98      0.99        95\n",
      "       gi285       0.97      1.00      0.99        38\n",
      "       gi135       0.43      1.00      0.60         3\n",
      "       gi292       0.99      1.00      1.00       639\n",
      "       gi084       0.98      0.96      0.97       295\n",
      "       gi104       0.97      0.97      0.97        40\n",
      "       gi014       1.00      0.96      0.98        23\n",
      "       gi177       0.93      0.86      0.89       264\n",
      "       gi151       0.94      0.87      0.90       252\n",
      "       gi193       0.96      0.98      0.97        52\n",
      "       gi388       0.97      0.97      0.97       384\n",
      "       gi126       0.96      0.98      0.97       352\n",
      "       gi124       1.00      1.00      1.00       110\n",
      "       gi291       1.00      0.91      0.95        32\n",
      "       gi149       1.00      1.00      1.00        13\n",
      "       gi375       1.00      0.96      0.98        24\n",
      "       gi042       0.88      0.97      0.92       961\n",
      "       gi262       0.95      0.95      0.95        21\n",
      "       gi348       0.99      1.00      0.99        67\n",
      "       gi369       0.99      0.98      0.98       132\n",
      "       gi117       0.97      0.94      0.96        34\n",
      "       gi361       0.89      0.95      0.92       523\n",
      "       gi233       0.96      0.98      0.97       164\n",
      "       ti011       1.00      1.00      1.00        39\n",
      "       gi221       0.99      0.99      0.99       338\n",
      "       gi328       0.93      0.99      0.96       436\n",
      "       gi080       0.86      0.98      0.91       124\n",
      "       gi052       0.95      1.00      0.98       161\n",
      "       gi244       1.00      1.00      1.00        34\n",
      "       gi053       0.97      1.00      0.99       101\n",
      "       gi091       0.99      0.97      0.98      4288\n",
      "       gi386       0.50      0.50      0.50         2\n",
      "       gi349       0.93      0.96      0.95        27\n",
      "       gi306       0.67      1.00      0.80         2\n",
      "       gi372       0.95      0.94      0.95        67\n",
      "       gi265       0.90      0.96      0.93        46\n",
      "       gi092       0.97      0.97      0.97        61\n",
      "       gi046       1.00      0.81      0.90        16\n",
      "       gi153       0.94      0.89      0.91        18\n",
      "       gi298       1.00      0.96      0.98        49\n",
      "       gi249       0.93      0.95      0.94        91\n",
      "       gi174       0.89      0.77      0.83        71\n",
      "       gi111       0.38      1.00      0.55         3\n",
      "       gi359       0.60      1.00      0.75        33\n",
      "       gi370       0.94      0.80      0.86        20\n",
      "       gi289       0.76      0.86      0.81        86\n",
      "       gi123       0.81      0.57      0.67        23\n",
      "       gi312       1.00      0.93      0.96        43\n",
      "       gi379       1.00      0.57      0.73        14\n",
      "       gi164       0.93      0.96      0.95       302\n",
      "       gi382       0.98      0.98      0.98       123\n",
      "       gi021       0.00      0.00      0.00         1\n",
      "       gi199       1.00      1.00      1.00        27\n",
      "       gi093       0.99      1.00      0.99       145\n",
      "       gi100       0.94      0.97      0.96       102\n",
      "       gi326       0.96      0.98      0.97       128\n",
      "       gi022       0.98      1.00      0.99        61\n",
      "       gi274       0.99      1.00      0.99        73\n",
      "       gi175       1.00      0.99      0.99        79\n",
      "       gi313       1.00      1.00      1.00        53\n",
      "       gi363       0.99      0.99      0.99       134\n",
      "       gi163       0.97      0.89      0.93       112\n",
      "       gi191       0.90      1.00      0.95         9\n",
      "       gi019       1.00      1.00      1.00         1\n",
      "       gi374       1.00      1.00      1.00        31\n",
      "       gi277       1.00      0.95      0.98       106\n",
      "       gi024       1.00      1.00      1.00        72\n",
      "       gi309       0.98      1.00      0.99       127\n",
      "       gi209       0.88      0.94      0.91       120\n",
      "       gi267       1.00      0.67      0.80         9\n",
      "       gi275       1.00      0.91      0.95        11\n",
      "       gi216       1.00      0.89      0.94         9\n",
      "       gi266       0.98      1.00      0.99       269\n",
      "       gi186       0.97      0.98      0.97       138\n",
      "       gi330       0.98      0.96      0.97       390\n",
      "       gi222       0.93      0.87      0.90        15\n",
      "       gi310       1.00      0.48      0.65        23\n",
      "       gi389       1.00      0.88      0.93        16\n",
      "       gi247       0.90      0.99      0.94       138\n",
      "       gi296       0.92      0.96      0.94        79\n",
      "       gi288       0.90      0.97      0.93        59\n",
      "       gi049       0.93      0.98      0.96       144\n",
      "       gi259       0.90      0.86      0.88       141\n",
      "       gi381       0.93      0.80      0.86        49\n",
      "       gi197       0.93      0.95      0.94        42\n",
      "       gi089       0.00      0.00      0.00         2\n",
      "       gi130       0.00      0.00      0.00         2\n",
      "       gi320       0.99      0.99      0.99        73\n",
      "       gi304       1.00      1.00      1.00        94\n",
      "       gi094       0.97      0.97      0.97        34\n",
      "       gi229       0.94      0.98      0.96        46\n",
      "       gi003       0.99      0.96      0.97        74\n",
      "       gi297       1.00      1.00      1.00       170\n",
      "       gi017       0.96      0.99      0.97       228\n",
      "       gi397       0.99      0.97      0.98       119\n",
      "       gi398       0.96      0.98      0.97        47\n",
      "       gi047       0.97      1.00      0.99        37\n",
      "       gi065       1.00      0.93      0.96        41\n",
      "       gi283       1.00      0.96      0.98        24\n",
      "       gi055       0.98      0.98      0.98        46\n",
      "       gi355       0.92      1.00      0.96        48\n",
      "       ti010       0.92      0.98      0.95        49\n",
      "       ti007       0.80      0.83      0.82        48\n",
      "       gi057       0.93      0.83      0.88        60\n",
      "       ti008       0.86      0.97      0.91        37\n",
      "       gi316       0.96      1.00      0.98        76\n",
      "       gi188       0.97      0.97      0.97        64\n",
      "       gi383       0.97      0.97      0.97       118\n",
      "       gi287       1.00      0.90      0.95        31\n",
      "       gi176       1.00      0.94      0.97        16\n",
      "       fi003       0.91      0.97      0.94        63\n",
      "       gi178       1.00      1.00      1.00        74\n",
      "       gi279       0.89      0.99      0.94       156\n",
      "       gi362       0.95      0.97      0.96        37\n",
      "       gi215       1.00      0.94      0.97        33\n",
      "       gi365       0.98      0.99      0.98        93\n",
      "       gi062       1.00      1.00      1.00        20\n",
      "       gi196       0.89      0.89      0.89        35\n",
      "       gi337       0.96      0.96      0.96        28\n",
      "       gi308       0.94      0.94      0.94        18\n",
      "       gi115       0.97      1.00      0.99        38\n",
      "       gi384       0.94      0.93      0.93        54\n",
      "       gi396       0.91      0.83      0.87        24\n",
      "       gi338       0.98      0.96      0.97       106\n",
      "       gi096       0.98      0.95      0.96        43\n",
      "       gi170       1.00      1.00      1.00        18\n",
      "       gi303       1.00      0.98      0.99        58\n",
      "       gi206       0.98      1.00      0.99        58\n",
      "       gi346       0.94      0.92      0.93        83\n",
      "       gi357       0.95      1.00      0.98        61\n",
      "       gi157       1.00      0.95      0.97        19\n",
      "       gi012       0.99      0.95      0.97       336\n",
      "       gi273       0.76      0.92      0.83        73\n",
      "       gi034       0.94      1.00      0.97        51\n",
      "       gi300       1.00      1.00      1.00       107\n",
      "       gi317       1.00      0.97      0.98       128\n",
      "       gi185       0.99      0.96      0.97       182\n",
      "       gi138       1.00      0.97      0.99        35\n",
      "       gi401       0.94      1.00      0.97        46\n",
      "       gi214       1.00      0.99      0.99       237\n",
      "       gi180       1.00      0.98      0.99       172\n",
      "       gi134       1.00      0.65      0.79        43\n",
      "       ti003       1.00      0.97      0.99        35\n",
      "       ti009       0.99      0.99      0.99        78\n",
      "       fi001       0.99      0.97      0.98        99\n",
      "       fi006       1.00      0.97      0.99        39\n",
      "       fi002       1.00      0.99      1.00       142\n",
      "       fi004       1.00      0.99      0.99        79\n",
      "       fi005       0.91      1.00      0.95       164\n",
      "       ti004       0.99      1.00      0.99        77\n",
      "       fi007       0.96      0.90      0.93        61\n",
      "       ti006       0.99      1.00      1.00       149\n",
      "       gi282       0.90      1.00      0.95        54\n",
      "       gi400       0.84      0.97      0.90        37\n",
      "       gi356       1.00      1.00      1.00        34\n",
      "       gi063       1.00      0.85      0.92        33\n",
      "       gi276       0.96      0.97      0.97        73\n",
      "       gi066       0.99      0.99      0.99        87\n",
      "       gi294       0.95      1.00      0.97        78\n",
      "       gi295       1.00      1.00      1.00        34\n",
      "       gi302       0.96      1.00      0.98        25\n",
      "       gi187       0.87      0.93      0.90        29\n",
      "       gi086       0.99      0.99      0.99      1132\n",
      "       gi272       0.90      0.90      0.90        31\n",
      "       gi402       1.00      1.00      1.00         8\n",
      "       gi253       0.00      0.00      0.00         1\n",
      "       gi119       0.00      0.00      0.00         1\n",
      "       gi367       1.00      0.50      0.67         8\n",
      "       gi318       0.90      0.90      0.90        10\n",
      "       gi319       0.53      0.46      0.49        65\n",
      "       ti005       1.00      0.24      0.38        42\n",
      "       gi182       0.70      0.57      0.63        58\n",
      "       gi192       1.00      0.57      0.73         7\n",
      "       gi258       0.43      0.77      0.56        13\n",
      "       ti002       1.00      0.29      0.44         7\n",
      "       gi509       0.50      0.20      0.29        10\n",
      "       gi234       0.73      0.68      0.70        84\n",
      "\n",
      "    accuracy                           0.97    113324\n",
      "   macro avg       0.92      0.91      0.91    113324\n",
      "weighted avg       0.97      0.97      0.97    113324\n",
      "\n"
     ]
    },
    {
     "name": "stderr",
     "output_type": "stream",
     "text": [
      "C:\\Users\\vdanilchenko\\test-env3\\lib\\site-packages\\sklearn\\metrics\\_classification.py:1221: UndefinedMetricWarning: Precision and F-score are ill-defined and being set to 0.0 in labels with no predicted samples. Use `zero_division` parameter to control this behavior.\n",
      "  _warn_prf(average, modifier, msg_start, len(result))\n"
     ]
    }
   ],
   "source": [
    "print(classification_report(y, np.argmax(model.predict([y_pred_ner, y_pred_goal, np.asarray(xTrainRez01)]), axis=1), target_names=classes))"
   ]
  }
 ],
 "metadata": {
  "kernelspec": {
   "display_name": "Python 3",
   "language": "python",
   "name": "python3"
  },
  "language_info": {
   "codemirror_mode": {
    "name": "ipython",
    "version": 3
   },
   "file_extension": ".py",
   "mimetype": "text/x-python",
   "name": "python",
   "nbconvert_exporter": "python",
   "pygments_lexer": "ipython3",
   "version": "3.7.4"
  }
 },
 "nbformat": 4,
 "nbformat_minor": 2
}
