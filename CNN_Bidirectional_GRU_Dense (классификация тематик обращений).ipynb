{
 "cells": [
  {
   "cell_type": "markdown",
   "metadata": {
    "colab_type": "text",
    "id": "J0Qjg6vuaHNt"
   },
   "source": [
    "# DEEP NEURAL NETWORKS CLASSIFICATION"
   ]
  },
  {
   "cell_type": "markdown",
   "metadata": {},
   "source": [
    "Данильченко Вадим"
   ]
  },
  {
   "cell_type": "markdown",
   "metadata": {},
   "source": [
    "-------------------------------------------------------------------------------------------------------------------------------"
   ]
  },
  {
   "attachments": {},
   "cell_type": "markdown",
   "metadata": {},
   "source": [
    "классификация тематик обращений клиентов к чат-боту.\n",
    "\n",
    "class\tintent\n",
    "- 0\tузнать возраст бота\n",
    "- 1\tузнать какую музыку слушает бот\n",
    "- 2\tузнать любит ли бот путешествовать\n",
    "- 3\tузнать где работает бот\n",
    "- 4\tузнать информацию про семью бота\n",
    "- 5\tузнать как относится бот к спорту\n",
    "- 6\tузнать где учится бот\n",
    "- 7\tузнать что читает бот\n",
    "- 8\tузнать есть ли у бота животные\n",
    "- 9\tузнать есть ли у бота машина\n",
    "- 10\tузнать как выглядит бот\n",
    "- 11\tузнать как зовут бота\n",
    "- 12\tузнать какие парни/девушки нравятся\n",
    "- 13\tузнать какой пол у бота\n",
    "- 14\tузнать кто такой бот\n",
    "- 15\tузнать кулинарные пристрастия бота\n",
    "- 16\tузнать о чем мечтает бот\n",
    "- 17\tпоблагодарить бота\n",
    "- 18\tпоприветствовать бота\n",
    "- 19\tпопрощаться с ботом\n",
    "- 20\tразослать информацию студентам на email\n",
    "- 21\tузнать как дела\n",
    "- 22\tузнать метеопрогноз на сегодня\n",
    "- 23\tузнать об увлечениях\n",
    "- 24\tузнать откуда бот\n",
    "- 25\tузнать расписание занятий\n",
    "- 26\tузнать чем занимается бот\n",
    "- 27\tуслышать анекдот\n",
    "- 28\tузнать о преподавателе\n",
    "- 29\tсделать уведомление студентам канала\n",
    "- 30\tузнать что умеет бот"
   ]
  },
  {
   "cell_type": "code",
   "execution_count": 2,
   "metadata": {},
   "outputs": [],
   "source": [
    "import re\n",
    "import tensorflow\n",
    "import joblib\n",
    "import pandas as pd\n",
    "import numpy as np\n",
    "from gensim.models import Word2Vec, FastText\n",
    "from tensorflow import keras\n",
    "from keras.preprocessing.text import text_to_word_sequence, Tokenizer\n",
    "from sklearn.feature_extraction.text import TfidfVectorizer\n",
    "from tqdm import trange\n",
    "from keras.preprocessing.sequence import pad_sequences\n",
    "from pymorphy2 import MorphAnalyzer\n",
    "from tensorflow.keras.layers import Embedding, Conv1D, MaxPooling1D, Dropout, Input, Concatenate, Dense, Activation, Flatten, AveragePooling1D, BatchNormalization\n",
    "from tensorflow.keras.layers import LSTM, Bidirectional, Multiply, add, GRU, Reshape, TimeDistributed, GlobalMaxPooling1D\n",
    "from keras import regularizers\n",
    "from tensorflow.keras.models import Model\n",
    "from keras.utils import to_categorical\n",
    "from tensorflow.keras import backend\n",
    "from sklearn.model_selection import train_test_split\n",
    "import matplotlib.pyplot as plt\n",
    "import warnings\n",
    "warnings.filterwarnings('ignore')"
   ]
  },
  {
   "cell_type": "code",
   "execution_count": 9,
   "metadata": {},
   "outputs": [
    {
     "data": {
      "text/plain": [
       "['привет как настроение',\n",
       " 'привет как настроеньице',\n",
       " 'привет как поживаешь',\n",
       " 'привет как твои дела',\n",
       " 'привет как ты',\n",
       " 'привет как ты чем занимаешься',\n",
       " 'привет как у вас дела',\n",
       " 'привет как у тебя дела',\n",
       " 'привет привет как делишки',\n",
       " 'приветик как дела',\n",
       " 'приветики как дела',\n",
       " 'сам как',\n",
       " 'тоже не плохо',\n",
       " 'ты как',\n",
       " 'у меня все хорошо а у тебя',\n",
       " 'узнать как дела',\n",
       " 'че как',\n",
       " 'эээй привет как дела ты откуда',\n",
       " 'будет ли сегодня дождь',\n",
       " 'какая погода завтра',\n",
       " 'погода',\n",
       " 'завтра какая погода',\n",
       " 'завтра солнечно',\n",
       " 'какая погода',\n",
       " 'метеопрогноз',\n",
       " 'метеопрогноз на сегодня',\n",
       " 'прогноз погоды',\n",
       " 'прогноз погоды на сегодня',\n",
       " 'сегодня солнечно',\n",
       " 'сколько градусов',\n",
       " 'температуру можешь сказать',\n",
       " 'узнать метеопрогноз на сегодня',\n",
       " 'узнать погоду',\n",
       " 'что за окном',\n",
       " 'метеопрогноз на завтра']"
      ]
     },
     "execution_count": 9,
     "metadata": {},
     "output_type": "execute_result"
    }
   ],
   "source": [
    "# загрузим все фразы\n",
    "bazonka = pd.read_excel(r'C:\\Users\\vndan\\projects\\netology_chat_bot\\kb\\kb_new.xlsx', sheet_name='kb')\n",
    "bazonka.shape\n",
    "\n",
    "dialogues = joblib.load(r'F:\\ОБУЧЕНИЕ\\CHAT-BOTs\\тексты\\dialogues\\dialogues_prepared.pkl')\n",
    "intents = open(r'F:\\ОБУЧЕНИЕ\\CHAT-BOTs\\тексты\\dialogues\\_intents.txt', encoding='utf-8').readlines()\n",
    "intents =  [str(i).replace('\\n', '') for i in intents]\n",
    "phrases = open(r'F:\\ОБУЧЕНИЕ\\CHAT-BOTs\\тексты\\dialogues\\_phrases.txt', encoding='utf-8').readlines()\n",
    "phrases =  [str(i).replace('\\n', '') for i in phrases]\n",
    "yes_no = pd.read_excel(r'C:\\Users\\vndan\\projects\\netology_chat_bot\\kb\\train_data_yes.xlsx')\n",
    "# объединим все диалоги в один список\n",
    "concatted_phrases = dialogues.participant_1.tolist() + dialogues.participant_2.tolist() + intents + phrases + bazonka['message'].tolist() + yes_no['message'].tolist()\n",
    "concatted_phrases = intents + phrases + bazonka['message'].tolist() + yes_no['message'].tolist()\n",
    "concatted_phrases[620:655]"
   ]
  },
  {
   "cell_type": "code",
   "execution_count": 10,
   "metadata": {},
   "outputs": [
    {
     "data": {
      "text/plain": [
       "[['поприветствовать', 'бота'], ['поприветствовать', 'бота']]"
      ]
     },
     "execution_count": 10,
     "metadata": {},
     "output_type": "execute_result"
    }
   ],
   "source": [
    "# токенизируем\n",
    "def text2seq(phrase):\n",
    "    phrase = re.sub('ё', 'е', phrase)\n",
    "    return text_to_word_sequence(str(phrase), filters='!\"#$%&()*+,-./:;<=>?@[\\\\]^_`{|}~\\t\\n', lower=True, split=' ')\n",
    "\n",
    "text = [text2seq(phrase) for phrase in concatted_phrases]\n",
    "text[:2]"
   ]
  },
  {
   "cell_type": "code",
   "execution_count": 12,
   "metadata": {},
   "outputs": [
    {
     "name": "stderr",
     "output_type": "stream",
     "text": [
      "100%|██████████| 928/928 [00:00<00:00, 1907.46it/s]\n"
     ]
    }
   ],
   "source": [
    "# лемматизируем\n",
    "morph = MorphAnalyzer()\n",
    "sentences = [[] for _ in range(len(text))]\n",
    "for sentence in trange(len(text)):\n",
    "    phrase = text[sentence]\n",
    "    for word in phrase:\n",
    "        sentences[sentence].append(morph.parse(word)[0].normal_form)"
   ]
  },
  {
   "cell_type": "markdown",
   "metadata": {},
   "source": [
    "подготвока эмбеддингов"
   ]
  },
  {
   "cell_type": "code",
   "execution_count": 13,
   "metadata": {},
   "outputs": [],
   "source": [
    "# обучим модели\n",
    "size = 50\n",
    "window = 5\n",
    "ft = FastText(sentences=sentences, size=size, window=window, min_count=1, seed=777, workers=-1, max_vocab_size=None)\n",
    "wvec = Word2Vec(sentences=sentences, size=size, window=window, min_count=1, seed=777, workers=-1, max_vocab_size=None)"
   ]
  },
  {
   "cell_type": "code",
   "execution_count": 16,
   "metadata": {},
   "outputs": [
    {
     "data": {
      "text/plain": [
       "array([ 4.4888100e-03, -4.3321531e-03, -7.0383730e-03,  3.7250475e-03,\n",
       "        6.3173040e-03, -4.3068430e-03,  7.7224718e-03, -8.3888927e-04,\n",
       "        6.9051697e-03,  5.2407968e-06, -2.3118393e-03,  8.2551390e-03,\n",
       "        5.8275014e-03,  8.6410902e-03, -4.8663858e-03, -5.6927735e-03,\n",
       "        9.9577121e-03,  4.2664390e-03, -7.4034702e-04,  3.7775137e-03,\n",
       "       -7.8218291e-03,  2.9782914e-03, -7.1067610e-03, -9.6850265e-03,\n",
       "       -8.4634265e-03,  4.1766507e-03,  7.7311094e-03, -4.4546474e-04,\n",
       "        2.0764440e-03, -9.0079419e-03,  6.6580609e-03,  3.8441890e-03,\n",
       "        4.7897450e-03,  2.4347671e-03,  4.3045580e-03,  2.0739001e-03,\n",
       "        8.0486061e-03, -2.9068119e-03,  8.9438614e-03, -4.1918352e-04,\n",
       "        1.0236155e-03,  7.7276304e-03,  2.6732073e-03,  3.0148021e-04,\n",
       "        2.8749495e-03,  1.4593835e-04,  1.8863124e-03,  3.0623036e-03,\n",
       "        3.3497300e-03,  8.2182596e-03], dtype=float32)"
      ]
     },
     "execution_count": 16,
     "metadata": {},
     "output_type": "execute_result"
    }
   ],
   "source": [
    "wvec.wv.__getitem__('email')"
   ]
  },
  {
   "cell_type": "code",
   "execution_count": 17,
   "metadata": {},
   "outputs": [
    {
     "data": {
      "text/plain": [
       "array([ 4.4888100e-03, -4.3321531e-03, -7.0383730e-03,  3.7250475e-03,\n",
       "        6.3173040e-03, -4.3068430e-03,  7.7224718e-03, -8.3888927e-04,\n",
       "        6.9051697e-03,  5.2407968e-06, -2.3118393e-03,  8.2551390e-03,\n",
       "        5.8275014e-03,  8.6410902e-03, -4.8663858e-03, -5.6927735e-03,\n",
       "        9.9577121e-03,  4.2664390e-03, -7.4034702e-04,  3.7775137e-03,\n",
       "       -7.8218291e-03,  2.9782914e-03, -7.1067610e-03, -9.6850265e-03,\n",
       "       -8.4634265e-03,  4.1766507e-03,  7.7311094e-03, -4.4546474e-04,\n",
       "        2.0764440e-03, -9.0079419e-03,  6.6580609e-03,  3.8441890e-03,\n",
       "        4.7897450e-03,  2.4347671e-03,  4.3045580e-03,  2.0739001e-03,\n",
       "        8.0486061e-03, -2.9068119e-03,  8.9438614e-03, -4.1918352e-04,\n",
       "        1.0236155e-03,  7.7276304e-03,  2.6732073e-03,  3.0148021e-04,\n",
       "        2.8749495e-03,  1.4593835e-04,  1.8863124e-03,  3.0623036e-03,\n",
       "        3.3497300e-03,  8.2182596e-03, -2.1878562e-03,  1.2443402e-03,\n",
       "       -5.7335729e-03, -4.1821520e-03,  4.0046623e-05, -3.0518495e-03,\n",
       "       -4.7957257e-04, -1.5608265e-04,  2.4318257e-03,  1.4306917e-03,\n",
       "        3.8937288e-03,  4.2057964e-03, -4.2497958e-03,  5.4645777e-04,\n",
       "       -8.2407129e-04,  2.5259620e-03,  2.6965835e-03,  1.4498016e-03,\n",
       "       -6.7807274e-04,  4.0598228e-03,  7.4665793e-03,  2.0202524e-03,\n",
       "       -4.5962143e-03, -6.4382018e-03,  1.0911847e-03,  3.2156502e-04,\n",
       "        6.0171871e-03,  2.4414384e-03,  3.0959447e-04, -7.0241080e-03,\n",
       "       -4.2524887e-03, -7.0759552e-03,  1.8304562e-03, -2.4893160e-03,\n",
       "       -2.3844698e-03,  4.7474215e-03,  1.3953448e-05,  3.3341689e-04,\n",
       "       -2.1394405e-03, -5.4402156e-03,  3.5931508e-03, -7.1600586e-04,\n",
       "        3.5535984e-03, -2.1108626e-03,  2.2571748e-03, -4.0381909e-03,\n",
       "       -3.8419355e-04, -1.8862509e-03, -1.3272761e-03, -1.5802585e-03],\n",
       "      dtype=float32)"
      ]
     },
     "execution_count": 17,
     "metadata": {},
     "output_type": "execute_result"
    }
   ],
   "source": [
    "# функция, объединяющая результаты моделей в один вектор\n",
    "def get_item(word):\n",
    "    if word in wvec:\n",
    "        w = wvec.wv.__getitem__(word)\n",
    "    else:\n",
    "        w = np.zeros(wvec.wv.vector_size)\n",
    "    if word in ft:\n",
    "        f = ft.wv.__getitem__(word)\n",
    "    else:\n",
    "        f = np.zeros(ft.wv.vector_size)\n",
    "    return np.concatenate([w,f])\n",
    "\n",
    "get_item('email')"
   ]
  },
  {
   "cell_type": "code",
   "execution_count": 19,
   "metadata": {},
   "outputs": [],
   "source": [
    "# создадим словарь индексов слов\n",
    "id2word = {k+1:v for k,v in enumerate(list(wvec.wv.vocab.keys()))}\n",
    "\n",
    "# на всякий случай проверим и добавим словарь fasttext\n",
    "i = max(id2word)\n",
    "for word in list(ft.wv.vocab.keys()):\n",
    "    if word not in id2word.values():\n",
    "        i+=1\n",
    "        id2word[i] = word\n",
    "\n",
    "# добавим UNK, в него будут преобразовываться все неизвестные слова\n",
    "id2word[0] ='UNK'\n",
    "\n",
    "# также словарь слов в индекс\n",
    "word2id = {v: k for k, v in id2word.items()}"
   ]
  },
  {
   "cell_type": "code",
   "execution_count": 20,
   "metadata": {},
   "outputs": [],
   "source": [
    "# функция преобразования входящей фразы в вектор\n",
    "def vectorize(phrase):\n",
    "    phrase = ' '.join(text2seq(phrase))\n",
    "    vector_tmp = []\n",
    "    for word in phrase:\n",
    "        word = morph.parse(word)[0].normal_form\n",
    "        if word not in word2id:\n",
    "            word = 'UNK'\n",
    "        vector_tmp.append(get_item(word))\n",
    "    return np.mean(vector_tmp, axis=0)"
   ]
  },
  {
   "cell_type": "markdown",
   "metadata": {},
   "source": [
    "подготовим модель"
   ]
  },
  {
   "cell_type": "code",
   "execution_count": 21,
   "metadata": {},
   "outputs": [],
   "source": [
    "# объявим гиперпараметры дальнейшей модели\n",
    "MAX_SEQ_LEN = 15\n",
    "# MAX_VOCAB_SIZE = len(wvec.wv.vocab)+1\n",
    "MAX_VOCAB_SIZE = len(id2word)+1\n",
    "EMBEDDING_DIM = len(get_item('привет'))\n",
    "VALIDATION_SPLIT = 0.1\n",
    "BATCH_SIZE = 128\n",
    "EPOCHS = 30\n",
    "CLASSES = len(set(bazonka['intent'].tolist()))"
   ]
  },
  {
   "cell_type": "code",
   "execution_count": 23,
   "metadata": {},
   "outputs": [],
   "source": [
    "########################## MODEL ##############################\n",
    "# подготовим эмбеддинг\n",
    "embedding_matrix = np.zeros((MAX_VOCAB_SIZE, EMBEDDING_DIM))\n",
    "for word in word2id:\n",
    "    i = word2id[word]\n",
    "    embedding_vector = get_item(word)\n",
    "    embedding_matrix[i] = embedding_vector \n",
    "embedding_layer = Embedding(MAX_VOCAB_SIZE,\n",
    "                            EMBEDDING_DIM,\n",
    "                            weights=[embedding_matrix],\n",
    "                            input_length=MAX_SEQ_LEN,\n",
    "                            trainable=True\n",
    "                            )\n",
    "\n",
    "input_ = Input(shape=(MAX_SEQ_LEN, ))\n",
    "emb = embedding_layer(input_)\n",
    "\n",
    "# отправим на вход 3м моделям\n",
    "\n",
    "# 1\n",
    "x3 = Conv1D(filters=int(EMBEDDING_DIM/3), kernel_size=3, strides=1, padding='same', name='model1_conv1_k3')(emb)\n",
    "x2 = Conv1D(filters=int(EMBEDDING_DIM/2), kernel_size=2, strides=1, padding='same', name='model1_conv1_k2')(emb)\n",
    "x1 = Conv1D(filters=EMBEDDING_DIM, kernel_size=1, strides=1, padding='same', name='model1_conv1_k1')(emb)\n",
    "x = Concatenate(name='model1_concat')([x3, x2, x1])\n",
    "x = Activation('relu', name='model1_relu')(x)\n",
    "x = Conv1D(filters=EMBEDDING_DIM, kernel_size=1, name='model1_conv1_k1_2')(x)\n",
    "\n",
    "# 2\n",
    "xx = Bidirectional(LSTM(EMBEDDING_DIM, return_sequences=True, kernel_regularizer=regularizers.l2(0.1), activation='tanh'), name='model2_bi1')(emb)\n",
    "xx = Bidirectional(LSTM(int(EMBEDDING_DIM/2), return_sequences=True, kernel_regularizer=regularizers.l2(0.1)), name='model2_bi2')(xx)\n",
    "\n",
    "# 3\n",
    "xxx = GRU(EMBEDDING_DIM, return_sequences=True, name='model3_gru')(emb)\n",
    "xxx = Dense(EMBEDDING_DIM, activation='relu', name='model3_dense')(xxx)\n",
    "\n",
    "# объединение моделей результатов моделей в единый сверточный слой \n",
    "x = Concatenate()([x, xx, xxx])\n",
    "x = MaxPooling1D()(x)\n",
    "\n",
    "# преобразуем в полносвязный слой\n",
    "x = Flatten()(x)\n",
    "x = Dense(x.shape[1], activation='relu')(x)\n",
    "x = Dropout(0.2)(x)\n",
    "\n",
    "# выходной слой с количеством нейронов согласно к-ву классов\n",
    "output = Dense(CLASSES, activation='softmax')(x)"
   ]
  },
  {
   "cell_type": "code",
   "execution_count": 25,
   "metadata": {},
   "outputs": [
    {
     "name": "stdout",
     "output_type": "stream",
     "text": [
      "Model: \"model_1\"\n",
      "__________________________________________________________________________________________________\n",
      "Layer (type)                    Output Shape         Param #     Connected to                     \n",
      "==================================================================================================\n",
      "input_1 (InputLayer)            [(None, 15)]         0                                            \n",
      "__________________________________________________________________________________________________\n",
      "embedding (Embedding)           (None, 15, 100)      42300       input_1[0][0]                    \n",
      "__________________________________________________________________________________________________\n",
      "model1_conv1_k3 (Conv1D)        (None, 15, 33)       9933        embedding[0][0]                  \n",
      "__________________________________________________________________________________________________\n",
      "model1_conv1_k2 (Conv1D)        (None, 15, 50)       10050       embedding[0][0]                  \n",
      "__________________________________________________________________________________________________\n",
      "model1_conv1_k1 (Conv1D)        (None, 15, 100)      10100       embedding[0][0]                  \n",
      "__________________________________________________________________________________________________\n",
      "model1_concat (Concatenate)     (None, 15, 183)      0           model1_conv1_k3[0][0]            \n",
      "                                                                 model1_conv1_k2[0][0]            \n",
      "                                                                 model1_conv1_k1[0][0]            \n",
      "__________________________________________________________________________________________________\n",
      "model1_relu (Activation)        (None, 15, 183)      0           model1_concat[0][0]              \n",
      "__________________________________________________________________________________________________\n",
      "model2_bi1 (Bidirectional)      (None, 15, 200)      160800      embedding[0][0]                  \n",
      "__________________________________________________________________________________________________\n",
      "model3_gru (GRU)                (None, 15, 100)      60600       embedding[0][0]                  \n",
      "__________________________________________________________________________________________________\n",
      "model1_conv1_k1_2 (Conv1D)      (None, 15, 100)      18400       model1_relu[0][0]                \n",
      "__________________________________________________________________________________________________\n",
      "model2_bi2 (Bidirectional)      (None, 15, 100)      100400      model2_bi1[0][0]                 \n",
      "__________________________________________________________________________________________________\n",
      "model3_dense (Dense)            (None, 15, 100)      10100       model3_gru[0][0]                 \n",
      "__________________________________________________________________________________________________\n",
      "concatenate (Concatenate)       (None, 15, 300)      0           model1_conv1_k1_2[0][0]          \n",
      "                                                                 model2_bi2[0][0]                 \n",
      "                                                                 model3_dense[0][0]               \n",
      "__________________________________________________________________________________________________\n",
      "max_pooling1d (MaxPooling1D)    (None, 7, 300)       0           concatenate[0][0]                \n",
      "__________________________________________________________________________________________________\n",
      "flatten (Flatten)               (None, 2100)         0           max_pooling1d[0][0]              \n",
      "__________________________________________________________________________________________________\n",
      "dense (Dense)                   (None, 2100)         4412100     flatten[0][0]                    \n",
      "__________________________________________________________________________________________________\n",
      "dropout (Dropout)               (None, 2100)         0           dense[0][0]                      \n",
      "__________________________________________________________________________________________________\n",
      "dense_1 (Dense)                 (None, 31)           65131       dropout[0][0]                    \n",
      "==================================================================================================\n",
      "Total params: 4,899,914\n",
      "Trainable params: 4,899,914\n",
      "Non-trainable params: 0\n",
      "__________________________________________________________________________________________________\n"
     ]
    }
   ],
   "source": [
    "model = Model(input_, output)\n",
    "\n",
    "model.compile(loss='categorical_crossentropy',\n",
    "              optimizer=keras.optimizers.Adam(learning_rate=0.001),\n",
    "              metrics=['accuracy'])\n",
    "\n",
    "model.summary()"
   ]
  },
  {
   "cell_type": "markdown",
   "metadata": {},
   "source": [
    "подготовим данные для обучения"
   ]
  },
  {
   "cell_type": "code",
   "execution_count": 26,
   "metadata": {},
   "outputs": [
    {
     "name": "stderr",
     "output_type": "stream",
     "text": [
      "100%|██████████| 747/747 [00:00<00:00, 1557.18it/s]\n"
     ]
    },
    {
     "data": {
      "text/plain": [
       "[[87, 72, 88, 89],\n",
       " [87, 72, 90, 89],\n",
       " [87, 72, 90, 89, 91],\n",
       " [87, 90, 72, 89],\n",
       " [6, 92, 72, 89]]"
      ]
     },
     "execution_count": 26,
     "metadata": {},
     "output_type": "execute_result"
    }
   ],
   "source": [
    "# определим базу знаний\n",
    "train_df = bazonka\n",
    "\n",
    "# немного измененная функция векторизации\n",
    "def preprocess(text):\n",
    "    temp_seq = []\n",
    "    # text = ' '.join([word for word in morph.lemmatize(text) if not any(i in word for i in [' ', '\\n'])])\n",
    "    for word in text2seq(str(text)):\n",
    "        word = morph.parse(word)[0].normal_form\n",
    "        # word = morph.lemmatize(word)[0]\n",
    "        if word not in word2id:\n",
    "            word = 'UNK'\n",
    "        temp_seq.append(word2id[word])\n",
    "    return temp_seq\n",
    "\n",
    "# преобразуем фразы в послeдовательности индексов слов\n",
    "sequences = []\n",
    "for phrase in trange(train_df['message'].shape[0]):\n",
    "    sequences.append(preprocess(train_df['message'].iloc[phrase]))\n",
    "    \n",
    "sequences[:5]"
   ]
  },
  {
   "cell_type": "code",
   "execution_count": 27,
   "metadata": {},
   "outputs": [
    {
     "data": {
      "text/plain": [
       "array([[ 0,  0,  0,  0,  0,  0,  0,  0,  0,  0,  0, 87, 72, 88, 89],\n",
       "       [ 0,  0,  0,  0,  0,  0,  0,  0,  0,  0,  0, 87, 72, 90, 89],\n",
       "       [ 0,  0,  0,  0,  0,  0,  0,  0,  0,  0, 87, 72, 90, 89, 91],\n",
       "       [ 0,  0,  0,  0,  0,  0,  0,  0,  0,  0,  0, 87, 90, 72, 89],\n",
       "       [ 0,  0,  0,  0,  0,  0,  0,  0,  0,  0,  0,  6, 92, 72, 89]])"
      ]
     },
     "execution_count": 27,
     "metadata": {},
     "output_type": "execute_result"
    }
   ],
   "source": [
    "# приведем к заданной длине, дополнив нулями\n",
    "sequences = pad_sequences(sequences, maxlen=MAX_SEQ_LEN)\n",
    "sequences[:5]"
   ]
  },
  {
   "cell_type": "code",
   "execution_count": 28,
   "metadata": {},
   "outputs": [
    {
     "name": "stdout",
     "output_type": "stream",
     "text": [
      "shape:  (747, 31)\n"
     ]
    },
    {
     "data": {
      "text/plain": [
       "array([[1., 0., 0., 0., 0., 0., 0., 0., 0., 0., 0., 0., 0., 0., 0., 0.,\n",
       "        0., 0., 0., 0., 0., 0., 0., 0., 0., 0., 0., 0., 0., 0., 0.],\n",
       "       [1., 0., 0., 0., 0., 0., 0., 0., 0., 0., 0., 0., 0., 0., 0., 0.,\n",
       "        0., 0., 0., 0., 0., 0., 0., 0., 0., 0., 0., 0., 0., 0., 0.]],\n",
       "      dtype=float32)"
      ]
     },
     "execution_count": 28,
     "metadata": {},
     "output_type": "execute_result"
    }
   ],
   "source": [
    "# приведем таргет к виду 1xlen(CLASSES) с 1 на месте правильного класса\n",
    "y = train_df['TARGET'].to_list()\n",
    "y_binary = to_categorical(y)\n",
    "print('shape: ', y_binary.shape)\n",
    "y_binary[:2]"
   ]
  },
  {
   "cell_type": "code",
   "execution_count": 29,
   "metadata": {},
   "outputs": [],
   "source": [
    "# разделим на тренировочную и валидационную выборки\n",
    "x_train, x_test, y_train, y_test = train_test_split(sequences, y_binary, test_size=0.1, random_state=777, shuffle=True)"
   ]
  },
  {
   "cell_type": "markdown",
   "metadata": {},
   "source": [
    "обучим модель"
   ]
  },
  {
   "cell_type": "code",
   "execution_count": 30,
   "metadata": {},
   "outputs": [
    {
     "name": "stdout",
     "output_type": "stream",
     "text": [
      "Train on 672 samples, validate on 75 samples\n",
      "Epoch 1/30\n",
      "672/672 - 7s - loss: 68.0043 - accuracy: 0.9677 - val_loss: 61.3347 - val_accuracy: 0.9677\n",
      "Epoch 2/30\n",
      "672/672 - 1s - loss: 57.9005 - accuracy: 0.9677 - val_loss: 51.9943 - val_accuracy: 0.9677\n",
      "Epoch 3/30\n",
      "672/672 - 1s - loss: 48.9779 - accuracy: 0.9677 - val_loss: 43.8132 - val_accuracy: 0.9677\n",
      "Epoch 4/30\n",
      "672/672 - 1s - loss: 41.1926 - accuracy: 0.9677 - val_loss: 36.7212 - val_accuracy: 0.9677\n",
      "Epoch 5/30\n",
      "672/672 - 1s - loss: 34.4647 - accuracy: 0.9677 - val_loss: 30.6264 - val_accuracy: 0.9677\n",
      "Epoch 6/30\n",
      "672/672 - 1s - loss: 28.6977 - accuracy: 0.9678 - val_loss: 25.4286 - val_accuracy: 0.9699\n",
      "Epoch 7/30\n",
      "672/672 - 1s - loss: 23.7901 - accuracy: 0.9687 - val_loss: 21.0267 - val_accuracy: 0.9695\n",
      "Epoch 8/30\n",
      "672/672 - 1s - loss: 19.6406 - accuracy: 0.9707 - val_loss: 17.3192 - val_accuracy: 0.9708\n",
      "Epoch 9/30\n",
      "672/672 - 1s - loss: 16.1503 - accuracy: 0.9730 - val_loss: 14.2149 - val_accuracy: 0.9725\n",
      "Epoch 10/30\n",
      "672/672 - 1s - loss: 13.2296 - accuracy: 0.9760 - val_loss: 11.6238 - val_accuracy: 0.9759\n",
      "Epoch 11/30\n",
      "672/672 - 1s - loss: 10.7921 - accuracy: 0.9802 - val_loss: 9.4695 - val_accuracy: 0.9746\n",
      "Epoch 12/30\n",
      "672/672 - 1s - loss: 8.7717 - accuracy: 0.9827 - val_loss: 7.6846 - val_accuracy: 0.9776\n",
      "Epoch 13/30\n",
      "672/672 - 1s - loss: 7.1016 - accuracy: 0.9856 - val_loss: 6.2123 - val_accuracy: 0.9794\n",
      "Epoch 14/30\n",
      "672/672 - 1s - loss: 5.7261 - accuracy: 0.9866 - val_loss: 5.0064 - val_accuracy: 0.9798\n",
      "Epoch 15/30\n",
      "672/672 - 1s - loss: 4.5974 - accuracy: 0.9885 - val_loss: 4.0190 - val_accuracy: 0.9828\n",
      "Epoch 16/30\n",
      "672/672 - 1s - loss: 3.6781 - accuracy: 0.9889 - val_loss: 3.2207 - val_accuracy: 0.9815\n",
      "Epoch 17/30\n",
      "672/672 - 1s - loss: 2.9293 - accuracy: 0.9910 - val_loss: 2.5737 - val_accuracy: 0.9819\n",
      "Epoch 18/30\n",
      "672/672 - 1s - loss: 2.3248 - accuracy: 0.9926 - val_loss: 2.0483 - val_accuracy: 0.9824\n",
      "Epoch 19/30\n",
      "672/672 - 1s - loss: 1.8332 - accuracy: 0.9937 - val_loss: 1.6303 - val_accuracy: 0.9824\n",
      "Epoch 20/30\n",
      "672/672 - 1s - loss: 1.4417 - accuracy: 0.9950 - val_loss: 1.2900 - val_accuracy: 0.9824\n",
      "Epoch 21/30\n",
      "672/672 - 1s - loss: 1.1276 - accuracy: 0.9958 - val_loss: 1.0242 - val_accuracy: 0.9832\n",
      "Epoch 22/30\n",
      "672/672 - 1s - loss: 0.8778 - accuracy: 0.9966 - val_loss: 0.8149 - val_accuracy: 0.9819\n",
      "Epoch 23/30\n",
      "672/672 - 1s - loss: 0.6822 - accuracy: 0.9966 - val_loss: 0.6470 - val_accuracy: 0.9815\n",
      "Epoch 24/30\n",
      "672/672 - 1s - loss: 0.5264 - accuracy: 0.9979 - val_loss: 0.5187 - val_accuracy: 0.9824\n",
      "Epoch 25/30\n",
      "672/672 - 1s - loss: 0.4058 - accuracy: 0.9976 - val_loss: 0.4183 - val_accuracy: 0.9802\n",
      "Epoch 26/30\n",
      "672/672 - 1s - loss: 0.3107 - accuracy: 0.9974 - val_loss: 0.3388 - val_accuracy: 0.9789\n",
      "Epoch 27/30\n",
      "672/672 - 1s - loss: 0.2370 - accuracy: 0.9978 - val_loss: 0.2784 - val_accuracy: 0.9841\n",
      "Epoch 28/30\n",
      "672/672 - 1s - loss: 0.1824 - accuracy: 0.9978 - val_loss: 0.2292 - val_accuracy: 0.9828\n",
      "Epoch 29/30\n",
      "672/672 - 1s - loss: 0.1400 - accuracy: 0.9976 - val_loss: 0.1922 - val_accuracy: 0.9806\n",
      "Epoch 30/30\n",
      "672/672 - 1s - loss: 0.1084 - accuracy: 0.9979 - val_loss: 0.1731 - val_accuracy: 0.9806\n"
     ]
    }
   ],
   "source": [
    "# обучим модель\n",
    "r = model.fit(x_train,\n",
    "              y_train,\n",
    "              batch_size=BATCH_SIZE,\n",
    "              epochs=EPOCHS,\n",
    "              validation_data=(x_test, y_test),\n",
    "              verbose=2\n",
    "              )"
   ]
  },
  {
   "cell_type": "code",
   "execution_count": 32,
   "metadata": {},
   "outputs": [
    {
     "data": {
      "image/png": "[encoded data removed]",
      "text/plain": [
       "<Figure size 432x288 with 2 Axes>"
      ]
     },
     "metadata": {
      "needs_background": "light"
     },
     "output_type": "display_data"
    }
   ],
   "source": [
    "# посмотрим на историю обучения\n",
    "\n",
    "fig, ax1 = plt.subplots()\n",
    "\n",
    "t = np.arange(0, len(r.history['accuracy']), 1)\n",
    "\n",
    "ln1 = ax1.plot(t, r.history['loss'], color='r', label='loss')\n",
    "ln2 = ax1.plot(t, r.history['val_loss'], color='r', marker='o', label='val_loss')\n",
    "ax1.set_xlabel('epochs')\n",
    "ax1.set_ylabel('loss')\n",
    "# ax1.legend(loc=0)\n",
    "ax2 = ax1.twinx()  # instantiate a second axes that shares the same x-axis\n",
    "\n",
    "\n",
    "ln3 = ax2.plot(t, r.history['accuracy'], color='b', label='accuracy')\n",
    "ln4 = ax2.plot(t, r.history['val_accuracy'], color='b', marker='o', label='val_accuracy')\n",
    "ax2.set_ylabel('accuracy')  # we already handled the x-label with ax1\n",
    "# ax2.legend(loc=0)\n",
    "\n",
    "lns = ln1+ln2+ln3+ln4\n",
    "labs = [l.get_label() for l in lns]\n",
    "ax1.legend(lns, labs, loc=0)\n",
    "\n",
    "fig.tight_layout()  # otherwise the right y-label is slightly clipped\n",
    "# plt.legend(loc='lower right')\n",
    "plt.show()"
   ]
  },
  {
   "cell_type": "code",
   "execution_count": 37,
   "metadata": {},
   "outputs": [],
   "source": [
    "model.save(r'C:\\Users\\vndan\\projects\\netology_chat_bot\\models\\CNN_classification.hdf5')"
   ]
  },
  {
   "cell_type": "code",
   "execution_count": 39,
   "metadata": {},
   "outputs": [
    {
     "name": "stdout",
     "output_type": "stream",
     "text": [
      "0.98437923 25\n"
     ]
    }
   ],
   "source": [
    "test_text = 'узнать расписание занятий'\n",
    "print(np.max(model.predict(pad_sequences([preprocess(test_text)], maxlen=MAX_SEQ_LEN))), \n",
    "np.argmax(model.predict(pad_sequences([preprocess(test_text)], maxlen=MAX_SEQ_LEN))))"
   ]
  }
 ],
 "metadata": {
  "kernelspec": {
   "display_name": "Python (chatbot)",
   "language": "python",
   "name": "chatbot"
  },
  "language_info": {
   "codemirror_mode": {
    "name": "ipython",
    "version": 3
   },
   "file_extension": ".py",
   "mimetype": "text/x-python",
   "name": "python",
   "nbconvert_exporter": "python",
   "pygments_lexer": "ipython3",
   "version": "3.7.5"
  }
 },
 "nbformat": 4,
 "nbformat_minor": 2
}
