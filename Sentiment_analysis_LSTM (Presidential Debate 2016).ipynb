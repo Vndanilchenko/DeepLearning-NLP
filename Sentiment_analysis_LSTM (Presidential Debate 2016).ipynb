{
 "cells": [
  {
   "cell_type": "markdown",
   "metadata": {},
   "source": [
    "# Sentiment analysis"
   ]
  },
  {
   "cell_type": "markdown",
   "metadata": {},
   "source": [
    "Анализ тональности твитов первых президентский дебатов (2016 GOP Presidential Debate)"
   ]
  },
  {
   "cell_type": "markdown",
   "metadata": {},
   "source": [
    "Данильченко Вадим"
   ]
  },
  {
   "cell_type": "code",
   "execution_count": 1,
   "metadata": {
    "_cell_guid": "6c53202d-5c34-4859-e7e9-8ef5c7068287",
    "_uuid": "717bb968c36b9325c7d4cae5724a3672e49ff243"
   },
   "outputs": [
    {
     "name": "stderr",
     "output_type": "stream",
     "text": [
      "Using TensorFlow backend.\n"
     ]
    }
   ],
   "source": [
    "import numpy as np \n",
    "import pandas as pd\n",
    "\n",
    "from sklearn.feature_extraction.text import CountVectorizer\n",
    "from keras.preprocessing.text import Tokenizer\n",
    "from keras.preprocessing.sequence import pad_sequences\n",
    "from keras.models import Model\n",
    "from keras.layers import Dense, Input, Embedding, LSTM, SpatialDropout1D\n",
    "from keras.optimizers import Adam\n",
    "from sklearn.model_selection import train_test_split\n",
    "from keras.utils.np_utils import to_categorical\n",
    "import re\n",
    "from imblearn.over_sampling import RandomOverSampler\n",
    "from collections import Counter\n",
    "import matplotlib.pyplot as plt"
   ]
  },
  {
   "cell_type": "markdown",
   "metadata": {
    "_cell_guid": "2bc2702e-d6f4-df5f-b80e-50ab23a6d29e",
    "_uuid": "9b520acffb5cd85d0e1ada968ad0f12cee33a4b5"
   },
   "source": [
    "Only keeping the necessary columns."
   ]
  },
  {
   "cell_type": "code",
   "execution_count": 2,
   "metadata": {
    "_cell_guid": "89c8c923-c0bf-7b35-9ab8-e63f00b74e5a",
    "_uuid": "d2bc3bbd2ea3961c49e6673145a0a7226c160e58"
   },
   "outputs": [
    {
     "data": {
      "text/html": [
       "<div>\n",
       "<style scoped>\n",
       "    .dataframe tbody tr th:only-of-type {\n",
       "        vertical-align: middle;\n",
       "    }\n",
       "\n",
       "    .dataframe tbody tr th {\n",
       "        vertical-align: top;\n",
       "    }\n",
       "\n",
       "    .dataframe thead th {\n",
       "        text-align: right;\n",
       "    }\n",
       "</style>\n",
       "<table border=\"1\" class=\"dataframe\">\n",
       "  <thead>\n",
       "    <tr style=\"text-align: right;\">\n",
       "      <th></th>\n",
       "      <th>text</th>\n",
       "      <th>sentiment</th>\n",
       "    </tr>\n",
       "  </thead>\n",
       "  <tbody>\n",
       "    <tr>\n",
       "      <td>0</td>\n",
       "      <td>RT @NancyLeeGrahn: How did everyone feel about...</td>\n",
       "      <td>Neutral</td>\n",
       "    </tr>\n",
       "    <tr>\n",
       "      <td>1</td>\n",
       "      <td>RT @ScottWalker: Didn't catch the full #GOPdeb...</td>\n",
       "      <td>Positive</td>\n",
       "    </tr>\n",
       "    <tr>\n",
       "      <td>2</td>\n",
       "      <td>RT @TJMShow: No mention of Tamir Rice and the ...</td>\n",
       "      <td>Neutral</td>\n",
       "    </tr>\n",
       "    <tr>\n",
       "      <td>3</td>\n",
       "      <td>RT @RobGeorge: That Carly Fiorina is trending ...</td>\n",
       "      <td>Positive</td>\n",
       "    </tr>\n",
       "    <tr>\n",
       "      <td>4</td>\n",
       "      <td>RT @DanScavino: #GOPDebate w/ @realDonaldTrump...</td>\n",
       "      <td>Positive</td>\n",
       "    </tr>\n",
       "  </tbody>\n",
       "</table>\n",
       "</div>"
      ],
      "text/plain": [
       "                                                text sentiment\n",
       "0  RT @NancyLeeGrahn: How did everyone feel about...   Neutral\n",
       "1  RT @ScottWalker: Didn't catch the full #GOPdeb...  Positive\n",
       "2  RT @TJMShow: No mention of Tamir Rice and the ...   Neutral\n",
       "3  RT @RobGeorge: That Carly Fiorina is trending ...  Positive\n",
       "4  RT @DanScavino: #GOPDebate w/ @realDonaldTrump...  Positive"
      ]
     },
     "execution_count": 2,
     "metadata": {},
     "output_type": "execute_result"
    }
   ],
   "source": [
    "# загрузим данные\n",
    "data = pd.read_csv('../data/first-gop-debate-twitter-sentiment/Sentiment.csv')\n",
    "data = data[['text','sentiment']]\n",
    "data.head()"
   ]
  },
  {
   "cell_type": "code",
   "execution_count": 3,
   "metadata": {
    "_cell_guid": "43632d2d-6160-12ce-48b0-e5eb1c207076",
    "_uuid": "d0f8b4542106a279f7398db7285ae5e370b2e813"
   },
   "outputs": [
    {
     "name": "stdout",
     "output_type": "stream",
     "text": [
      "количество элементов в классах:  {'Positive': 2236, 'Negative': 8493}\n"
     ]
    }
   ],
   "source": [
    "# предобработаем текст\n",
    "data = data[data.sentiment != \"Neutral\"]\n",
    "\n",
    "def preprocessing(phrase):\n",
    "    phrase = str(phrase).lower().replace('\\n',' ').replace('rt',' ')\n",
    "    phrase = re.sub('[^a-zA-z0-9\\ ]', ' ', phrase)\n",
    "    phrase = re.sub('\\ {2,}', ' ', phrase)\n",
    "    return phrase.strip()\n",
    "    \n",
    "data['text'] = data['text'].apply(lambda x: (preprocessing(x) if len(x)>0 else None))\n",
    "data['text'].dropna()\n",
    "\n",
    "print('количество элементов в классах: ', dict(Counter(data['sentiment'])))"
   ]
  },
  {
   "cell_type": "code",
   "execution_count": 4,
   "metadata": {
    "scrolled": true
   },
   "outputs": [
    {
     "data": {
      "text/plain": [
       "array([[   0,    0,    0,    0,    0,    0,    0,  344,  131,    4, 2405,\n",
       "           1,  708,    2,   45,   44,  196,   42,  217,    8,  304,   12,\n",
       "         180, 1749,   17, 1319, 1408,  727,   14,    4,   11, 6243],\n",
       "       [   0,    0,    0,    0,    0,    0,    0,    0,    0, 6244,   20,\n",
       "         291,  250,    6, 4239,  828,  107,  173,   30, 2776,  143,    8,\n",
       "           1,  169,   17,   40, 6245,    2,  239,  155,   12,   22]])"
      ]
     },
     "execution_count": 4,
     "metadata": {},
     "output_type": "execute_result"
    }
   ],
   "source": [
    "# представим каждый текст из X как последовательность индексов слов\n",
    "tokenizer = Tokenizer(split=' ')\n",
    "tokenizer.fit_on_texts(data['text'].values)\n",
    "X = tokenizer.texts_to_sequences(data['text'].values)\n",
    "X = pad_sequences(X)\n",
    "X[:2]"
   ]
  },
  {
   "cell_type": "code",
   "execution_count": 5,
   "metadata": {},
   "outputs": [
    {
     "name": "stdout",
     "output_type": "stream",
     "text": [
      "количество элементов в классах после аугментации:  {'Positive': 8493, 'Negative': 8493}\n"
     ]
    }
   ],
   "source": [
    "# сделаем аугметацию \n",
    "ros = RandomOverSampler(random_state=777)\n",
    "X, y = ros.fit_sample(X, data['sentiment'])\n",
    "\n",
    "print('количество элементов в классах после аугментации: ', dict(Counter(y)))"
   ]
  },
  {
   "cell_type": "code",
   "execution_count": 6,
   "metadata": {},
   "outputs": [
    {
     "data": {
      "text/plain": [
       "(16986, 2)"
      ]
     },
     "execution_count": 6,
     "metadata": {},
     "output_type": "execute_result"
    }
   ],
   "source": [
    "# преобразуем Y в формат [0, 1], где 1 будет на пересечении с целевым классом для каждого элемента\n",
    "Y = pd.get_dummies(y).values\n",
    "Y.shape"
   ]
  },
  {
   "cell_type": "code",
   "execution_count": 7,
   "metadata": {
    "_cell_guid": "b35748b8-2353-3db2-e571-5fd22bb93eb0",
    "_uuid": "a380bbfae2d098d407b138fc44622c9913a31c07",
    "scrolled": true
   },
   "outputs": [
    {
     "name": "stdout",
     "output_type": "stream",
     "text": [
      "(11890, 32) (11890, 2)\n",
      "(5096, 32) (5096, 2)\n"
     ]
    }
   ],
   "source": [
    "# разделим на тренировочную и валидационную выборки\n",
    "x_train, x_test, y_train, y_test = train_test_split(X,Y, test_size = 0.3, random_state = 777)\n",
    "print(x_train.shape, y_train.shape)\n",
    "print(x_test.shape, y_test.shape)"
   ]
  },
  {
   "cell_type": "markdown",
   "metadata": {},
   "source": [
    "построим модель"
   ]
  },
  {
   "cell_type": "code",
   "execution_count": 8,
   "metadata": {},
   "outputs": [],
   "source": [
    "# задаем гиперпараметры\n",
    "MAX_VOCAB_SIZE = len(tokenizer.word_index)+1\n",
    "EMBEDDING_DIM = 128\n",
    "MAX_SEQ_LEN = X.shape[1]\n",
    "BATCH_SIZE = 64\n",
    "EPOCHS = 6\n",
    "CLASSES = 2"
   ]
  },
  {
   "cell_type": "code",
   "execution_count": 9,
   "metadata": {},
   "outputs": [
    {
     "name": "stdout",
     "output_type": "stream",
     "text": [
      "Model: \"model_1\"\n",
      "_________________________________________________________________\n",
      "Layer (type)                 Output Shape              Param #   \n",
      "=================================================================\n",
      "input (InputLayer)           (None, 32)                0         \n",
      "_________________________________________________________________\n",
      "embedding_1 (Embedding)      (None, 32, 128)           1914496   \n",
      "_________________________________________________________________\n",
      "spatial_dropout1d_1 (Spatial (None, 32, 128)           0         \n",
      "_________________________________________________________________\n",
      "LSTM (LSTM)                  (None, 128)               131584    \n",
      "_________________________________________________________________\n",
      "Dense (Dense)                (None, 2)                 258       \n",
      "=================================================================\n",
      "Total params: 2,046,338\n",
      "Trainable params: 2,046,338\n",
      "Non-trainable params: 0\n",
      "_________________________________________________________________\n"
     ]
    }
   ],
   "source": [
    "# скомпилируем модель\n",
    "\n",
    "embedding_layer = Embedding(MAX_VOCAB_SIZE,\n",
    "                            EMBEDDING_DIM,\n",
    "                            input_length=MAX_SEQ_LEN,\n",
    "                            trainable=True\n",
    "                            )\n",
    "\n",
    "input_ = Input(shape=(MAX_SEQ_LEN, ), name='input')\n",
    "emb = embedding_layer(input_)\n",
    "\n",
    "x = SpatialDropout1D(0.4)(emb)\n",
    "x = LSTM(EMBEDDING_DIM, recurrent_dropout=0.2, name='LSTM')(x)\n",
    "output = Dense(CLASSES, activation='softmax', name='Dense')(x)\n",
    "\n",
    "model = Model(input_, output)\n",
    "model.compile(metrics=['accuracy'],\n",
    "                optimizer=Adam(learning_rate=0.001),\n",
    "                loss='categorical_crossentropy')\n",
    "model.summary()"
   ]
  },
  {
   "cell_type": "code",
   "execution_count": 10,
   "metadata": {},
   "outputs": [
    {
     "name": "stderr",
     "output_type": "stream",
     "text": [
      "C:\\Users\\vndan\\Anaconda3\\lib\\site-packages\\tensorflow_core\\python\\framework\\indexed_slices.py:424: UserWarning: Converting sparse IndexedSlices to a dense Tensor of unknown shape. This may consume a large amount of memory.\n",
      "  \"Converting sparse IndexedSlices to a dense Tensor of unknown shape. \"\n"
     ]
    },
    {
     "name": "stdout",
     "output_type": "stream",
     "text": [
      "Train on 11890 samples, validate on 5096 samples\n",
      "Epoch 1/6\n",
      "11890/11890 [==============================] - 16s 1ms/step - loss: 0.4660 - accuracy: 0.7664 - val_loss: 0.3259 - val_accuracy: 0.8717\n",
      "Epoch 2/6\n",
      "11890/11890 [==============================] - 15s 1ms/step - loss: 0.2395 - accuracy: 0.9074 - val_loss: 0.2517 - val_accuracy: 0.9056\n",
      "Epoch 3/6\n",
      "11890/11890 [==============================] - 16s 1ms/step - loss: 0.1521 - accuracy: 0.9447 - val_loss: 0.2321 - val_accuracy: 0.9088\n",
      "Epoch 4/6\n",
      "11890/11890 [==============================] - 16s 1ms/step - loss: 0.1157 - accuracy: 0.9588 - val_loss: 0.1989 - val_accuracy: 0.9321\n",
      "Epoch 5/6\n",
      "11890/11890 [==============================] - 16s 1ms/step - loss: 0.0918 - accuracy: 0.9662 - val_loss: 0.2124 - val_accuracy: 0.9270\n",
      "Epoch 6/6\n",
      "11890/11890 [==============================] - 15s 1ms/step - loss: 0.0843 - accuracy: 0.9667 - val_loss: 0.2088 - val_accuracy: 0.9233\n"
     ]
    }
   ],
   "source": [
    "# обучим\n",
    "r = model.fit(x_train, \n",
    "          y_train, \n",
    "          epochs=EPOCHS, \n",
    "          batch_size=BATCH_SIZE, \n",
    "          validation_data=(x_test, y_test),\n",
    "          verbose=1)"
   ]
  },
  {
   "cell_type": "code",
   "execution_count": 11,
   "metadata": {},
   "outputs": [
    {
     "data": {
      "image/png": "[encoded data removed]",
      "text/plain": [
       "<Figure size 432x288 with 2 Axes>"
      ]
     },
     "metadata": {
      "needs_background": "light"
     },
     "output_type": "display_data"
    }
   ],
   "source": [
    "# посмотрим на историю обучения\n",
    "\n",
    "fig, ax1 = plt.subplots()\n",
    "\n",
    "t = np.arange(0, len(r.history['accuracy']), 1)\n",
    "\n",
    "ln1 = ax1.plot(t, r.history['loss'], color='r', label='loss')\n",
    "ln2 = ax1.plot(t, r.history['val_loss'], color='r', marker='o', label='val_loss')\n",
    "ax1.set_xlabel('epochs')\n",
    "ax1.set_ylabel('loss')\n",
    "# ax1.legend(loc=0)\n",
    "ax2 = ax1.twinx()  # instantiate a second axes that shares the same x-axis\n",
    "\n",
    "\n",
    "ln3 = ax2.plot(t, r.history['accuracy'], color='b', label='accuracy')\n",
    "ln4 = ax2.plot(t, r.history['val_accuracy'], color='b', marker='o', label='val_accuracy')\n",
    "ax2.set_ylabel('accuracy')  # we already handled the x-label with ax1\n",
    "# ax2.legend(loc=0)\n",
    "\n",
    "lns = ln1+ln2+ln3+ln4\n",
    "labs = [l.get_label() for l in lns]\n",
    "ax1.legend(lns, labs, loc=0)\n",
    "\n",
    "fig.tight_layout()  # otherwise the right y-label is slightly clipped\n",
    "# plt.legend(loc='lower right')\n",
    "plt.show()"
   ]
  },
  {
   "cell_type": "markdown",
   "metadata": {
    "_cell_guid": "4ebd7bc1-53c0-0e31-a0b0-b6d0a3017434",
    "_uuid": "47e99d7ed1f27a85eb01dbafc71b66b329fb1d12"
   },
   "source": [
    "посморим на метрики"
   ]
  },
  {
   "cell_type": "code",
   "execution_count": 12,
   "metadata": {
    "_cell_guid": "a970f412-722f-6d6d-72c8-325d0901ccef",
    "_uuid": "7872f6ea819a5d4d08394ba6db8436f9cb2cfe1c"
   },
   "outputs": [
    {
     "name": "stdout",
     "output_type": "stream",
     "text": [
      "score: 0.21\n",
      "acc: 0.92\n"
     ]
    }
   ],
   "source": [
    "validation_size = 1500\n",
    "\n",
    "X_validate = x_test[-validation_size:]\n",
    "Y_validate = y_test[-validation_size:]\n",
    "X_test = x_test[:-validation_size]\n",
    "Y_test = y_test[:-validation_size]\n",
    "score,acc = model.evaluate(x_test, y_test, verbose = 2, batch_size = BATCH_SIZE)\n",
    "print(\"score: %.2f\" % (score))\n",
    "print(\"acc: %.2f\" % (acc))"
   ]
  },
  {
   "cell_type": "code",
   "execution_count": 13,
   "metadata": {},
   "outputs": [
    {
     "name": "stdout",
     "output_type": "stream",
     "text": [
      "              precision    recall  f1-score   support\n",
      "\n",
      "           0       0.96      0.89      0.92      2574\n",
      "           1       0.89      0.96      0.93      2522\n",
      "\n",
      "   micro avg       0.92      0.92      0.92      5096\n",
      "   macro avg       0.93      0.92      0.92      5096\n",
      "weighted avg       0.93      0.92      0.92      5096\n",
      " samples avg       0.92      0.92      0.92      5096\n",
      "\n"
     ]
    }
   ],
   "source": [
    "from sklearn.metrics import classification_report\n",
    "print(classification_report(y_test, np.round(model.predict(x_test))))"
   ]
  },
  {
   "cell_type": "markdown",
   "metadata": {},
   "source": [
    "поиграем с парочкой примеров"
   ]
  },
  {
   "cell_type": "code",
   "execution_count": 14,
   "metadata": {},
   "outputs": [
    {
     "data": {
      "text/plain": [
       "'positive'"
      ]
     },
     "execution_count": 14,
     "metadata": {},
     "output_type": "execute_result"
    }
   ],
   "source": [
    "new_text = 'they are our future shure i will vote'\n",
    "['negative', 'positive'][np.argmax(model.predict(pad_sequences(tokenizer.texts_to_sequences([new_text]), maxlen=len(X[0])))[0])]"
   ]
  },
  {
   "cell_type": "code",
   "execution_count": 15,
   "metadata": {},
   "outputs": [
    {
     "data": {
      "text/plain": [
       "'negative'"
      ]
     },
     "execution_count": 15,
     "metadata": {},
     "output_type": "execute_result"
    }
   ],
   "source": [
    "new_text = 'they are stupid I will not vote'\n",
    "['negative', 'positive'][np.argmax(model.predict(pad_sequences(tokenizer.texts_to_sequences([new_text]), maxlen=len(X[0])))[0])]"
   ]
  }
 ],
 "metadata": {
  "_change_revision": 0,
  "_is_fork": false,
  "kernelspec": {
   "display_name": "seq2seq",
   "language": "python",
   "name": "seq2seq"
  },
  "language_info": {
   "codemirror_mode": {
    "name": "ipython",
    "version": 3
   },
   "file_extension": ".py",
   "mimetype": "text/x-python",
   "name": "python",
   "nbconvert_exporter": "python",
   "pygments_lexer": "ipython3",
   "version": "3.7.4"
  }
 },
 "nbformat": 4,
 "nbformat_minor": 4
}
