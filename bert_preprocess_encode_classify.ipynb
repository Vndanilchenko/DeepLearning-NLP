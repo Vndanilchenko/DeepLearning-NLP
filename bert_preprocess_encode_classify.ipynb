{
  "cells": [
    {
      "cell_type": "markdown",
      "source": [
        "# ИСПОЛЬЗОВАНИЕ BERT(LaBSE) ДЛЯ КЛАССИФИКАЦИИ ТЕКСТА НА РУССКОМ ЯЗЫКЕ\n",
        "Данильченко Вадим"
      ],
      "metadata": {
        "id": "bNIoUYPhnJFP"
      }
    },
    {
      "cell_type": "code",
      "execution_count": 1,
      "metadata": {
        "id": "MsyKUv5JqRFY"
      },
      "outputs": [],
      "source": [
        "# !pip install tensorflow_addons tensorflow_text"
      ]
    },
    {
      "cell_type": "markdown",
      "source": [
        "импортируем необходимые библиотеки"
      ],
      "metadata": {
        "id": "4gENoSkInzuR"
      }
    },
    {
      "cell_type": "code",
      "execution_count": 2,
      "metadata": {
        "id": "fzWR3PcsqGkM"
      },
      "outputs": [],
      "source": [
        "import tensorflow as tf\n",
        "import tensorflow_hub as hub\n",
        "from tensorflow_addons.optimizers import AdamW\n",
        "import numpy as np\n",
        "import pandas as pd\n",
        "from sklearn.model_selection import train_test_split\n",
        "import tensorflow_text as text"
      ]
    },
    {
      "cell_type": "markdown",
      "source": [
        "сделаем тест наличия GPU"
      ],
      "metadata": {
        "id": "hjtUBUP7n50R"
      }
    },
    {
      "cell_type": "code",
      "execution_count": 3,
      "metadata": {
        "colab": {
          "base_uri": "https://localhost:8080/"
        },
        "id": "VkymxiZ_wVXJ",
        "outputId": "7e0933a3-c421-4d11-cd7d-63c527549f47"
      },
      "outputs": [
        {
          "output_type": "execute_result",
          "data": {
            "text/plain": [
              "[PhysicalDevice(name='/physical_device:GPU:0', device_type='GPU')]"
            ]
          },
          "metadata": {},
          "execution_count": 3
        }
      ],
      "source": [
        "gpus = tf.config.experimental.list_physical_devices('GPU')\n",
        "gpus"
      ]
    },
    {
      "cell_type": "code",
      "execution_count": 4,
      "metadata": {
        "colab": {
          "base_uri": "https://localhost:8080/"
        },
        "id": "ZD4A5tooxTxY",
        "outputId": "9e28f0c1-410d-414d-e93d-df4c49cca385"
      },
      "outputs": [
        {
          "output_type": "stream",
          "name": "stdout",
          "text": [
            "Found GPU at: /device:GPU:0\n"
          ]
        }
      ],
      "source": [
        "%tensorflow_version 2.x\n",
        "device_name = tf.test.gpu_device_name()\n",
        "if device_name != '/device:GPU:0':\n",
        "  raise SystemError('GPU device not found')\n",
        "print('Found GPU at: {}'.format(device_name))"
      ]
    },
    {
      "cell_type": "code",
      "execution_count": 5,
      "metadata": {
        "id": "CIkk56MPw5aA"
      },
      "outputs": [],
      "source": [
        "for gpu in gpus:\n",
        "  tf.config.experimental.set_memory_growth(gpu, True)"
      ]
    },
    {
      "cell_type": "markdown",
      "metadata": {
        "id": "H3dCWpNqqjCr"
      },
      "source": [
        "1. ПРЕПРОЦЕССИНГ И СОЗДАНИЕ ДАТАСЕТА"
      ]
    },
    {
      "cell_type": "code",
      "execution_count": 6,
      "metadata": {
        "colab": {
          "base_uri": "https://localhost:8080/",
          "height": 206
        },
        "id": "vLH38yLzqiHM",
        "outputId": "504cc06b-bb87-4375-d1d6-56b29ced1bc7"
      },
      "outputs": [
        {
          "output_type": "execute_result",
          "data": {
            "text/plain": [
              "           message  target     label  rnbr\n",
              "0       жду ответа       1   label_1     1\n",
              "1  заранее спасибо       1   label_1     2\n",
              "2  спасибо заранее       1   label_1     3\n",
              "3               lf      10  label_10     1\n",
              "4               ok      10  label_10     2"
            ],
            "text/html": [
              "\n",
              "  <div id=\"df-59007f6b-aaac-4cf0-916a-c0a5e56b1106\">\n",
              "    <div class=\"colab-df-container\">\n",
              "      <div>\n",
              "<style scoped>\n",
              "    .dataframe tbody tr th:only-of-type {\n",
              "        vertical-align: middle;\n",
              "    }\n",
              "\n",
              "    .dataframe tbody tr th {\n",
              "        vertical-align: top;\n",
              "    }\n",
              "\n",
              "    .dataframe thead th {\n",
              "        text-align: right;\n",
              "    }\n",
              "</style>\n",
              "<table border=\"1\" class=\"dataframe\">\n",
              "  <thead>\n",
              "    <tr style=\"text-align: right;\">\n",
              "      <th></th>\n",
              "      <th>message</th>\n",
              "      <th>target</th>\n",
              "      <th>label</th>\n",
              "      <th>rnbr</th>\n",
              "    </tr>\n",
              "  </thead>\n",
              "  <tbody>\n",
              "    <tr>\n",
              "      <th>0</th>\n",
              "      <td>жду ответа</td>\n",
              "      <td>1</td>\n",
              "      <td>label_1</td>\n",
              "      <td>1</td>\n",
              "    </tr>\n",
              "    <tr>\n",
              "      <th>1</th>\n",
              "      <td>заранее спасибо</td>\n",
              "      <td>1</td>\n",
              "      <td>label_1</td>\n",
              "      <td>2</td>\n",
              "    </tr>\n",
              "    <tr>\n",
              "      <th>2</th>\n",
              "      <td>спасибо заранее</td>\n",
              "      <td>1</td>\n",
              "      <td>label_1</td>\n",
              "      <td>3</td>\n",
              "    </tr>\n",
              "    <tr>\n",
              "      <th>3</th>\n",
              "      <td>lf</td>\n",
              "      <td>10</td>\n",
              "      <td>label_10</td>\n",
              "      <td>1</td>\n",
              "    </tr>\n",
              "    <tr>\n",
              "      <th>4</th>\n",
              "      <td>ok</td>\n",
              "      <td>10</td>\n",
              "      <td>label_10</td>\n",
              "      <td>2</td>\n",
              "    </tr>\n",
              "  </tbody>\n",
              "</table>\n",
              "</div>\n",
              "      <button class=\"colab-df-convert\" onclick=\"convertToInteractive('df-59007f6b-aaac-4cf0-916a-c0a5e56b1106')\"\n",
              "              title=\"Convert this dataframe to an interactive table.\"\n",
              "              style=\"display:none;\">\n",
              "        \n",
              "  <svg xmlns=\"http://www.w3.org/2000/svg\" height=\"24px\"viewBox=\"0 0 24 24\"\n",
              "       width=\"24px\">\n",
              "    <path d=\"M0 0h24v24H0V0z\" fill=\"none\"/>\n",
              "    <path d=\"M18.56 5.44l.94 2.06.94-2.06 2.06-.94-2.06-.94-.94-2.06-.94 2.06-2.06.94zm-11 1L8.5 8.5l.94-2.06 2.06-.94-2.06-.94L8.5 2.5l-.94 2.06-2.06.94zm10 10l.94 2.06.94-2.06 2.06-.94-2.06-.94-.94-2.06-.94 2.06-2.06.94z\"/><path d=\"M17.41 7.96l-1.37-1.37c-.4-.4-.92-.59-1.43-.59-.52 0-1.04.2-1.43.59L10.3 9.45l-7.72 7.72c-.78.78-.78 2.05 0 2.83L4 21.41c.39.39.9.59 1.41.59.51 0 1.02-.2 1.41-.59l7.78-7.78 2.81-2.81c.8-.78.8-2.07 0-2.86zM5.41 20L4 18.59l7.72-7.72 1.47 1.35L5.41 20z\"/>\n",
              "  </svg>\n",
              "      </button>\n",
              "      \n",
              "  <style>\n",
              "    .colab-df-container {\n",
              "      display:flex;\n",
              "      flex-wrap:wrap;\n",
              "      gap: 12px;\n",
              "    }\n",
              "\n",
              "    .colab-df-convert {\n",
              "      background-color: #E8F0FE;\n",
              "      border: none;\n",
              "      border-radius: 50%;\n",
              "      cursor: pointer;\n",
              "      display: none;\n",
              "      fill: #1967D2;\n",
              "      height: 32px;\n",
              "      padding: 0 0 0 0;\n",
              "      width: 32px;\n",
              "    }\n",
              "\n",
              "    .colab-df-convert:hover {\n",
              "      background-color: #E2EBFA;\n",
              "      box-shadow: 0px 1px 2px rgba(60, 64, 67, 0.3), 0px 1px 3px 1px rgba(60, 64, 67, 0.15);\n",
              "      fill: #174EA6;\n",
              "    }\n",
              "\n",
              "    [theme=dark] .colab-df-convert {\n",
              "      background-color: #3B4455;\n",
              "      fill: #D2E3FC;\n",
              "    }\n",
              "\n",
              "    [theme=dark] .colab-df-convert:hover {\n",
              "      background-color: #434B5C;\n",
              "      box-shadow: 0px 1px 3px 1px rgba(0, 0, 0, 0.15);\n",
              "      filter: drop-shadow(0px 1px 2px rgba(0, 0, 0, 0.3));\n",
              "      fill: #FFFFFF;\n",
              "    }\n",
              "  </style>\n",
              "\n",
              "      <script>\n",
              "        const buttonEl =\n",
              "          document.querySelector('#df-59007f6b-aaac-4cf0-916a-c0a5e56b1106 button.colab-df-convert');\n",
              "        buttonEl.style.display =\n",
              "          google.colab.kernel.accessAllowed ? 'block' : 'none';\n",
              "\n",
              "        async function convertToInteractive(key) {\n",
              "          const element = document.querySelector('#df-59007f6b-aaac-4cf0-916a-c0a5e56b1106');\n",
              "          const dataTable =\n",
              "            await google.colab.kernel.invokeFunction('convertToInteractive',\n",
              "                                                     [key], {});\n",
              "          if (!dataTable) return;\n",
              "\n",
              "          const docLinkHtml = 'Like what you see? Visit the ' +\n",
              "            '<a target=\"_blank\" href=https://colab.research.google.com/notebooks/data_table.ipynb>data table notebook</a>'\n",
              "            + ' to learn more about interactive tables.';\n",
              "          element.innerHTML = '';\n",
              "          dataTable['output_type'] = 'display_data';\n",
              "          await google.colab.output.renderOutput(dataTable, element);\n",
              "          const docLink = document.createElement('div');\n",
              "          docLink.innerHTML = docLinkHtml;\n",
              "          element.appendChild(docLink);\n",
              "        }\n",
              "      </script>\n",
              "    </div>\n",
              "  </div>\n",
              "  "
            ]
          },
          "metadata": {},
          "execution_count": 6
        }
      ],
      "source": [
        "# импортируем данные\n",
        "data = pd.read_excel(r'data_train_cleaned short.xlsx', engine='openpyxl')\n",
        "data.head()"
      ]
    },
    {
      "cell_type": "code",
      "execution_count": 7,
      "metadata": {
        "colab": {
          "base_uri": "https://localhost:8080/"
        },
        "id": "gRVx8jggsky6",
        "outputId": "2567341f-2573-44ac-d421-13981e87fb68"
      },
      "outputs": [
        {
          "output_type": "execute_result",
          "data": {
            "text/plain": [
              "(5102, 4)"
            ]
          },
          "metadata": {},
          "execution_count": 7
        }
      ],
      "source": [
        "# уменьшим объем для быстрого эксперимента\n",
        "data = data[data['rnbr']<=20]\n",
        "data.shape"
      ]
    },
    {
      "cell_type": "code",
      "execution_count": 8,
      "metadata": {
        "colab": {
          "base_uri": "https://localhost:8080/"
        },
        "id": "tR3QT6Xoq_Bn",
        "outputId": "66115b92-ead5-4091-bd51-f6f6dfdddf57"
      },
      "outputs": [
        {
          "output_type": "stream",
          "name": "stdout",
          "text": [
            "<class 'pandas.core.frame.DataFrame'>\n",
            "Int64Index: 5102 entries, 0 to 77611\n",
            "Data columns (total 4 columns):\n",
            " #   Column   Non-Null Count  Dtype \n",
            "---  ------   --------------  ----- \n",
            " 0   message  5102 non-null   object\n",
            " 1   target   5102 non-null   int64 \n",
            " 2   label    5102 non-null   object\n",
            " 3   rnbr     5102 non-null   int64 \n",
            "dtypes: int64(2), object(2)\n",
            "memory usage: 199.3+ KB\n"
          ]
        }
      ],
      "source": [
        "# приведем сообщения к типу str\n",
        "data['message'] = data['message'].astype('str')\n",
        "data.info()"
      ]
    },
    {
      "cell_type": "code",
      "execution_count": 9,
      "metadata": {
        "colab": {
          "base_uri": "https://localhost:8080/"
        },
        "id": "VzLmWBvkrRI2",
        "outputId": "aa93dc71-18bd-49cb-fdcb-71536bf30665"
      },
      "outputs": [
        {
          "output_type": "execute_result",
          "data": {
            "text/plain": [
              "278"
            ]
          },
          "metadata": {},
          "execution_count": 9
        }
      ],
      "source": [
        "# посмотрим сколько у нас классов\n",
        "classes = len(data['target'].unique().tolist())\n",
        "classes"
      ]
    },
    {
      "cell_type": "code",
      "execution_count": 10,
      "metadata": {
        "id": "eYHuRnosrW-N"
      },
      "outputs": [],
      "source": [
        "# подготовим таргет\n",
        "x = data['message'].tolist()\n",
        "y = data['target'].tolist()\n",
        "y_cat = tf.keras.utils.to_categorical(y)"
      ]
    },
    {
      "cell_type": "code",
      "execution_count": 11,
      "metadata": {
        "id": "Fs0KAArArels"
      },
      "outputs": [],
      "source": [
        "# разобьем на обучающую и тестовую выборки\n",
        "x_train, x_test, y_train, y_test = train_test_split(x, y_cat, test_size=0.1, random_state=777)"
      ]
    },
    {
      "cell_type": "code",
      "execution_count": 12,
      "metadata": {
        "id": "UDmmfUz6rhGH"
      },
      "outputs": [],
      "source": [
        "# преобразуем в датасет\n",
        "AUTOTUNE = tf.data.AUTOTUNE\n",
        "batch_size = 512\n",
        "train_ds = tf.data.Dataset.from_tensor_slices((x_train, y_train)).batch(batch_size)\n",
        "train_ds = train_ds.cache().prefetch(buffer_size=AUTOTUNE)\n",
        "\n",
        "test_ds = tf.data.Dataset.from_tensor_slices((x_test, y_test)).batch(batch_size)\n",
        "test_ds = test_ds.cache().prefetch(buffer_size=AUTOTUNE)"
      ]
    },
    {
      "cell_type": "markdown",
      "metadata": {
        "id": "leS14-NSrpyq"
      },
      "source": [
        "2. МОДЕЛЬ"
      ]
    },
    {
      "cell_type": "code",
      "execution_count": 13,
      "metadata": {
        "id": "4Uy0LkPPrnFj"
      },
      "outputs": [],
      "source": [
        "# выгрузим предобученную модель для препроцессинга текста, а также LaBSE на основе BERT\n",
        "preprocessor = hub.KerasLayer(\"https://tfhub.dev/google/universal-sentence-encoder-cmlm/multilingual-preprocess/2\")\n",
        "encoder = hub.KerasLayer(\"https://tfhub.dev/google/LaBSE/2\", trainable=False)"
      ]
    },
    {
      "cell_type": "code",
      "execution_count": 20,
      "metadata": {
        "id": "DwDXvuCjruZM"
      },
      "outputs": [],
      "source": [
        "# архитектура модели - текст из датасета пропускается через препроцессор и LaBSE, выход которого забирается\n",
        "# и прогоняется через полносвязные слои с дропаутом, на последнем шаге слой сколичеством необхимых нам классов \n",
        "text_input = tf.keras.layers.Input(shape=(), dtype=tf.string, name='text')\n",
        "preprocessing_layer = hub.KerasLayer(preprocessor, name='preprocessing')(text_input)\n",
        "encoder_layer = hub.KerasLayer(encoder, trainable=False, name='LaBSE_encoder')(preprocessing_layer)\n",
        "x = encoder_layer['pooled_output']\n",
        "x = tf.keras.layers.Flatten(name='flatten')(x)\n",
        "x = tf.keras.layers.Dropout(0.1, name='dropout1')(x)\n",
        "x = tf.keras.layers.Dense(768, activation=tf.keras.activations.relu, name='dense1')(x)\n",
        "x = tf.keras.layers.Dropout(0.2, name='dropout2')(x)\n",
        "x = tf.keras.layers.Dense(512, activation=tf.keras.activations.relu, name='dense2')(x)\n",
        "x = tf.keras.layers.Dropout(0.2, name='dropout3')(x)\n",
        "output = tf.keras.layers.Dense(y_train.shape[1], activation=tf.keras.activations.softmax, name='dense_output')(x)\n",
        "\n",
        "model = tf.keras.Model(text_input, output)"
      ]
    },
    {
      "cell_type": "code",
      "execution_count": 21,
      "metadata": {
        "colab": {
          "base_uri": "https://localhost:8080/"
        },
        "id": "fXymbfSkrwlu",
        "outputId": "9fb4e574-ae8f-4182-a9dc-04365b6a89b6"
      },
      "outputs": [
        {
          "output_type": "stream",
          "name": "stdout",
          "text": [
            "Model: \"model_1\"\n",
            "__________________________________________________________________________________________________\n",
            " Layer (type)                   Output Shape         Param #     Connected to                     \n",
            "==================================================================================================\n",
            " text (InputLayer)              [(None,)]            0           []                               \n",
            "                                                                                                  \n",
            " preprocessing (KerasLayer)     {'input_word_ids':   0           ['text[0][0]']                   \n",
            "                                (None, 128),                                                      \n",
            "                                 'input_type_ids':                                                \n",
            "                                (None, 128),                                                      \n",
            "                                 'input_mask': (Non                                               \n",
            "                                e, 128)}                                                          \n",
            "                                                                                                  \n",
            " LaBSE_encoder (KerasLayer)     {'pooled_output': (  470926849   ['preprocessing[0][0]',          \n",
            "                                None, 768),                       'preprocessing[0][1]',          \n",
            "                                 'encoder_outputs':               'preprocessing[0][2]']          \n",
            "                                 [(None, 128, 768),                                               \n",
            "                                 (None, 128, 768),                                                \n",
            "                                 (None, 128, 768),                                                \n",
            "                                 (None, 128, 768),                                                \n",
            "                                 (None, 128, 768),                                                \n",
            "                                 (None, 128, 768),                                                \n",
            "                                 (None, 128, 768),                                                \n",
            "                                 (None, 128, 768),                                                \n",
            "                                 (None, 128, 768),                                                \n",
            "                                 (None, 128, 768),                                                \n",
            "                                 (None, 128, 768),                                                \n",
            "                                 (None, 128, 768)],                                               \n",
            "                                 'sequence_output':                                               \n",
            "                                 (None, 128, 768),                                                \n",
            "                                 'default': (None,                                                \n",
            "                                768)}                                                             \n",
            "                                                                                                  \n",
            " flatten (Flatten)              (None, 768)          0           ['LaBSE_encoder[0][13]']         \n",
            "                                                                                                  \n",
            " dropout1 (Dropout)             (None, 768)          0           ['flatten[0][0]']                \n",
            "                                                                                                  \n",
            " dense1 (Dense)                 (None, 768)          590592      ['dropout1[0][0]']               \n",
            "                                                                                                  \n",
            " dropout2 (Dropout)             (None, 768)          0           ['dense1[0][0]']                 \n",
            "                                                                                                  \n",
            " dense2 (Dense)                 (None, 512)          393728      ['dropout2[0][0]']               \n",
            "                                                                                                  \n",
            " dropout3 (Dropout)             (None, 512)          0           ['dense2[0][0]']                 \n",
            "                                                                                                  \n",
            " dense_output (Dense)           (None, 279)          143127      ['dropout3[0][0]']               \n",
            "                                                                                                  \n",
            "==================================================================================================\n",
            "Total params: 472,054,296\n",
            "Trainable params: 1,127,447\n",
            "Non-trainable params: 470,926,849\n",
            "__________________________________________________________________________________________________\n"
          ]
        }
      ],
      "source": [
        "# компилируем модель и выводим архитектуру\n",
        "model.compile(loss='categorical_crossentropy',\n",
        "              optimizer=tf.keras.optimizers.Adam(learning_rate=0.001),\n",
        "              # optimizer=optimizer,\n",
        "              metrics=['accuracy'])\n",
        "model.summary()"
      ]
    },
    {
      "cell_type": "code",
      "execution_count": 22,
      "metadata": {
        "colab": {
          "base_uri": "https://localhost:8080/"
        },
        "id": "jpEpopRxr0uP",
        "outputId": "bac6e822-b71b-4853-9d96-2ab690f8e677"
      },
      "outputs": [
        {
          "output_type": "stream",
          "name": "stdout",
          "text": [
            "Epoch 1/20\n",
            "9/9 [==============================] - 116s 13s/step - loss: 5.4546 - accuracy: 0.0340 - val_loss: 5.0060 - val_accuracy: 0.1879\n",
            "Epoch 2/20\n",
            "9/9 [==============================] - 112s 13s/step - loss: 4.3081 - accuracy: 0.2501 - val_loss: 3.3798 - val_accuracy: 0.4990\n",
            "Epoch 3/20\n",
            "9/9 [==============================] - 112s 13s/step - loss: 2.7757 - accuracy: 0.4622 - val_loss: 2.0055 - val_accuracy: 0.6419\n",
            "Epoch 4/20\n",
            "9/9 [==============================] - 113s 13s/step - loss: 1.7494 - accuracy: 0.6203 - val_loss: 1.3608 - val_accuracy: 0.7280\n",
            "Epoch 5/20\n",
            "9/9 [==============================] - 112s 13s/step - loss: 1.1472 - accuracy: 0.7286 - val_loss: 1.0586 - val_accuracy: 0.7476\n",
            "Epoch 6/20\n",
            "9/9 [==============================] - 113s 13s/step - loss: 0.8353 - accuracy: 0.7959 - val_loss: 0.8817 - val_accuracy: 0.7789\n",
            "Epoch 7/20\n",
            "9/9 [==============================] - 113s 13s/step - loss: 0.6431 - accuracy: 0.8364 - val_loss: 0.7866 - val_accuracy: 0.8082\n",
            "Epoch 8/20\n",
            "9/9 [==============================] - 112s 13s/step - loss: 0.5183 - accuracy: 0.8643 - val_loss: 0.7114 - val_accuracy: 0.8160\n",
            "Epoch 9/20\n",
            "9/9 [==============================] - 113s 13s/step - loss: 0.4278 - accuracy: 0.8870 - val_loss: 0.7207 - val_accuracy: 0.8082\n",
            "Epoch 10/20\n",
            "9/9 [==============================] - 112s 13s/step - loss: 0.3641 - accuracy: 0.9070 - val_loss: 0.6585 - val_accuracy: 0.8278\n",
            "Epoch 11/20\n",
            "9/9 [==============================] - 112s 13s/step - loss: 0.3177 - accuracy: 0.9137 - val_loss: 0.6557 - val_accuracy: 0.8258\n",
            "Epoch 12/20\n",
            "9/9 [==============================] - 113s 13s/step - loss: 0.2745 - accuracy: 0.9281 - val_loss: 0.6335 - val_accuracy: 0.8356\n",
            "Epoch 13/20\n",
            "9/9 [==============================] - 112s 13s/step - loss: 0.2376 - accuracy: 0.9384 - val_loss: 0.6489 - val_accuracy: 0.8356\n",
            "Epoch 14/20\n",
            "9/9 [==============================] - 113s 13s/step - loss: 0.2211 - accuracy: 0.9429 - val_loss: 0.6490 - val_accuracy: 0.8219\n",
            "Epoch 15/20\n",
            "9/9 [==============================] - 113s 13s/step - loss: 0.1888 - accuracy: 0.9514 - val_loss: 0.6568 - val_accuracy: 0.8356\n",
            "Epoch 16/20\n",
            "9/9 [==============================] - 114s 13s/step - loss: 0.1748 - accuracy: 0.9545 - val_loss: 0.6379 - val_accuracy: 0.8278\n",
            "Epoch 17/20\n",
            "9/9 [==============================] - 113s 13s/step - loss: 0.1484 - accuracy: 0.9656 - val_loss: 0.6466 - val_accuracy: 0.8434\n",
            "Epoch 18/20\n",
            "9/9 [==============================] - 113s 13s/step - loss: 0.1424 - accuracy: 0.9673 - val_loss: 0.6231 - val_accuracy: 0.8434\n",
            "Epoch 19/20\n",
            "9/9 [==============================] - 115s 13s/step - loss: 0.1401 - accuracy: 0.9621 - val_loss: 0.6853 - val_accuracy: 0.8239\n",
            "Epoch 20/20\n",
            "9/9 [==============================] - 116s 13s/step - loss: 0.1336 - accuracy: 0.9632 - val_loss: 0.6260 - val_accuracy: 0.8415\n"
          ]
        },
        {
          "output_type": "execute_result",
          "data": {
            "text/plain": [
              "<keras.callbacks.History at 0x7f181b54fb50>"
            ]
          },
          "metadata": {},
          "execution_count": 22
        }
      ],
      "source": [
        "# проведем обучение модели\n",
        "model.fit(train_ds,\n",
        "          validation_data=test_ds,\n",
        "          epochs=20,\n",
        "          batch_size=batch_size,\n",
        "          verbose=1)"
      ]
    },
    {
      "cell_type": "code",
      "execution_count": 23,
      "metadata": {
        "id": "_pVXOpkrsQH-",
        "colab": {
          "base_uri": "https://localhost:8080/"
        },
        "outputId": "d3de54bb-252f-4f2a-d473-2576c4bddfe3"
      },
      "outputs": [
        {
          "output_type": "stream",
          "name": "stdout",
          "text": [
            "1/1 [==============================] - 12s 12s/step - loss: 0.6260 - accuracy: 0.8415\n"
          ]
        },
        {
          "output_type": "execute_result",
          "data": {
            "text/plain": [
              "[0.6259775757789612, 0.8414872884750366]"
            ]
          },
          "metadata": {},
          "execution_count": 23
        }
      ],
      "source": [
        "# посмотрим на результат\n",
        "model.evaluate(test_ds)"
      ]
    },
    {
      "cell_type": "markdown",
      "source": [
        "да, наблюдается переобучение, но в целом для тестового эксперимента этих показателей достаточно"
      ],
      "metadata": {
        "id": "I_I0FxpdqR71"
      }
    }
  ],
  "metadata": {
    "accelerator": "GPU",
    "colab": {
      "collapsed_sections": [],
      "name": "bert-preprocess-encode-classify.ipynb",
      "provenance": []
    },
    "kernelspec": {
      "display_name": "Python 3",
      "name": "python3"
    },
    "language_info": {
      "name": "python"
    }
  },
  "nbformat": 4,
  "nbformat_minor": 0
}