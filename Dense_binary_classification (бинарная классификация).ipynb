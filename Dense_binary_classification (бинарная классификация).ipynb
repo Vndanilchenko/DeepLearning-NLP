{
 "cells": [
  {
   "cell_type": "markdown",
   "metadata": {
    "colab_type": "text",
    "id": "J0Qjg6vuaHNt"
   },
   "source": [
    "# NEURAL NETWORKS BINARY CLASSIFICATION"
   ]
  },
  {
   "cell_type": "markdown",
   "metadata": {},
   "source": [
    "бинарная классификация ответов клиента в стиле да/нет на уточняющий вопрос, например \"вы уверены, что хотите отменить отправку сообщения?\""
   ]
  },
  {
   "cell_type": "markdown",
   "metadata": {},
   "source": [
    "Данильченко Вадим"
   ]
  },
  {
   "cell_type": "markdown",
   "metadata": {},
   "source": [
    "-------------------------------------------------------------------------------------------------------------------------------"
   ]
  },
  {
   "cell_type": "code",
   "execution_count": 1,
   "metadata": {},
   "outputs": [
    {
     "name": "stderr",
     "output_type": "stream",
     "text": [
      "Using TensorFlow backend.\n"
     ]
    }
   ],
   "source": [
    "import re\n",
    "import tensorflow\n",
    "import joblib\n",
    "import pandas as pd\n",
    "import numpy as np\n",
    "from gensim.models import Word2Vec, FastText\n",
    "from tensorflow import keras\n",
    "from keras.preprocessing.text import text_to_word_sequence, Tokenizer\n",
    "from sklearn.feature_extraction.text import TfidfVectorizer\n",
    "from tqdm import trange\n",
    "from keras.preprocessing.sequence import pad_sequences\n",
    "from pymorphy2 import MorphAnalyzer\n",
    "from tensorflow.keras.layers import Embedding, Conv1D, MaxPooling1D, Dropout, Input, Concatenate, Dense, Activation, Flatten, AveragePooling1D, BatchNormalization\n",
    "from tensorflow.keras.layers import LSTM, Bidirectional, Multiply, add, GRU, Reshape, TimeDistributed, GlobalMaxPooling1D\n",
    "from keras import regularizers\n",
    "from tensorflow.keras.models import Model\n",
    "from keras.utils import to_categorical\n",
    "from tensorflow.keras import backend\n",
    "from sklearn.model_selection import train_test_split\n",
    "import matplotlib.pyplot as plt\n",
    "from sklearn.metrics import accuracy_score, f1_score, roc_auc_score\n",
    "import warnings\n",
    "warnings.filterwarnings('ignore')"
   ]
  },
  {
   "cell_type": "code",
   "execution_count": 3,
   "metadata": {},
   "outputs": [
    {
     "data": {
      "text/plain": [
       "['привет как настроение',\n",
       " 'привет как настроеньице',\n",
       " 'привет как поживаешь',\n",
       " 'привет как твои дела',\n",
       " 'привет как ты',\n",
       " 'привет как ты чем занимаешься',\n",
       " 'привет как у вас дела',\n",
       " 'привет как у тебя дела',\n",
       " 'привет привет как делишки',\n",
       " 'приветик как дела',\n",
       " 'приветики как дела',\n",
       " 'сам как',\n",
       " 'тоже не плохо',\n",
       " 'ты как',\n",
       " 'у меня все хорошо а у тебя',\n",
       " 'узнать как дела',\n",
       " 'че как',\n",
       " 'эээй привет как дела ты откуда',\n",
       " 'будет ли сегодня дождь',\n",
       " 'какая погода завтра',\n",
       " 'погода',\n",
       " 'завтра какая погода',\n",
       " 'завтра солнечно',\n",
       " 'какая погода',\n",
       " 'метеопрогноз',\n",
       " 'метеопрогноз на сегодня',\n",
       " 'прогноз погоды',\n",
       " 'прогноз погоды на сегодня',\n",
       " 'сегодня солнечно',\n",
       " 'сколько градусов',\n",
       " 'температуру можешь сказать',\n",
       " 'узнать метеопрогноз на сегодня',\n",
       " 'узнать погоду',\n",
       " 'что за окном',\n",
       " 'метеопрогноз на завтра']"
      ]
     },
     "execution_count": 3,
     "metadata": {},
     "output_type": "execute_result"
    }
   ],
   "source": [
    "# загрузим все фразы\n",
    "bazonka = pd.read_excel(r'C:\\Users\\vndan\\projects\\netology_chat_bot\\kb\\kb_new.xlsx', sheet_name='kb')\n",
    "bazonka.shape\n",
    "\n",
    "dialogues = joblib.load(r'F:\\ОБУЧЕНИЕ\\CHAT-BOTs\\тексты\\dialogues\\dialogues_prepared.pkl')\n",
    "intents = open(r'F:\\ОБУЧЕНИЕ\\CHAT-BOTs\\тексты\\dialogues\\_intents.txt', encoding='utf-8').readlines()\n",
    "intents =  [str(i).replace('\\n', '') for i in intents]\n",
    "phrases = open(r'F:\\ОБУЧЕНИЕ\\CHAT-BOTs\\тексты\\dialogues\\_phrases.txt', encoding='utf-8').readlines()\n",
    "phrases =  [str(i).replace('\\n', '') for i in phrases]\n",
    "yes_no = pd.read_excel(r'C:\\Users\\vndan\\projects\\netology_chat_bot\\kb\\train_data_yes.xlsx')\n",
    "# объединим все диалоги в один список\n",
    "concatted_phrases = dialogues.participant_1.tolist() + dialogues.participant_2.tolist() + intents + phrases + bazonka['message'].tolist() + yes_no['message'].tolist()\n",
    "concatted_phrases = intents + phrases + bazonka['message'].tolist() + yes_no['message'].tolist()\n",
    "concatted_phrases[620:655]"
   ]
  },
  {
   "cell_type": "code",
   "execution_count": 4,
   "metadata": {},
   "outputs": [
    {
     "data": {
      "text/plain": [
       "[['поприветствовать', 'бота'], ['поприветствовать', 'бота']]"
      ]
     },
     "execution_count": 4,
     "metadata": {},
     "output_type": "execute_result"
    }
   ],
   "source": [
    "# токенизируем\n",
    "def text2seq(phrase):\n",
    "    phrase = re.sub('ё', 'е', phrase)\n",
    "    return text_to_word_sequence(str(phrase), filters='!\"#$%&()*+,-./:;<=>?@[\\\\]^_`{|}~\\t\\n', lower=True, split=' ')\n",
    "\n",
    "text = [text2seq(phrase) for phrase in concatted_phrases]\n",
    "text[:2]"
   ]
  },
  {
   "cell_type": "code",
   "execution_count": 5,
   "metadata": {},
   "outputs": [
    {
     "name": "stderr",
     "output_type": "stream",
     "text": [
      "100%|██████████| 928/928 [00:00<00:00, 1895.02it/s]\n"
     ]
    }
   ],
   "source": [
    "# лемматизируем\n",
    "morph = MorphAnalyzer()\n",
    "sentences = [[] for _ in range(len(text))]\n",
    "for sentence in trange(len(text)):\n",
    "    phrase = text[sentence]\n",
    "    for word in phrase:\n",
    "        sentences[sentence].append(morph.parse(word)[0].normal_form)"
   ]
  },
  {
   "cell_type": "markdown",
   "metadata": {},
   "source": [
    "подготвока эмбеддингов"
   ]
  },
  {
   "cell_type": "code",
   "execution_count": 6,
   "metadata": {},
   "outputs": [],
   "source": [
    "# обучим модели\n",
    "size = 50\n",
    "window = 5\n",
    "ft = FastText(sentences=sentences, size=size, window=window, min_count=1, seed=777, workers=-1, max_vocab_size=None)\n",
    "wvec = Word2Vec(sentences=sentences, size=size, window=window, min_count=1, seed=777, workers=-1, max_vocab_size=None)"
   ]
  },
  {
   "cell_type": "code",
   "execution_count": 7,
   "metadata": {},
   "outputs": [
    {
     "data": {
      "text/plain": [
       "array([ 0.00611621,  0.00200438,  0.00116524, -0.00796932,  0.00013929,\n",
       "        0.00214457, -0.00595295,  0.00688333, -0.00548837, -0.00189744,\n",
       "        0.00107422, -0.00948962, -0.00134924, -0.00644227, -0.00347252,\n",
       "        0.00653213,  0.00265306, -0.00822747,  0.00052185, -0.00316316,\n",
       "        0.00584888,  0.00821538, -0.00747785,  0.00273563, -0.0067853 ,\n",
       "        0.00723975, -0.0035226 ,  0.00570089,  0.00944334, -0.00336898,\n",
       "       -0.00788026, -0.00600807,  0.00498362,  0.00347864, -0.00562395,\n",
       "       -0.00182934, -0.00749047,  0.00628384,  0.00970353,  0.00984273,\n",
       "        0.00921473, -0.00641799, -0.00202979,  0.00906176,  0.00481646,\n",
       "        0.0052074 ,  0.00885694, -0.00552878, -0.00164396, -0.00995689],\n",
       "      dtype=float32)"
      ]
     },
     "execution_count": 7,
     "metadata": {},
     "output_type": "execute_result"
    }
   ],
   "source": [
    "wvec.wv.__getitem__('email')"
   ]
  },
  {
   "cell_type": "code",
   "execution_count": 8,
   "metadata": {},
   "outputs": [
    {
     "data": {
      "text/plain": [
       "array([ 6.1162105e-03,  2.0043831e-03,  1.1652398e-03, -7.9693208e-03,\n",
       "        1.3928728e-04,  2.1445735e-03, -5.9529515e-03,  6.8833292e-03,\n",
       "       -5.4883733e-03, -1.8974403e-03,  1.0742204e-03, -9.4896220e-03,\n",
       "       -1.3492433e-03, -6.4422749e-03, -3.4725249e-03,  6.5321252e-03,\n",
       "        2.6530649e-03, -8.2274703e-03,  5.2184932e-04, -3.1631638e-03,\n",
       "        5.8488813e-03,  8.2153808e-03, -7.4778521e-03,  2.7356318e-03,\n",
       "       -6.7853006e-03,  7.2397538e-03, -3.5226003e-03,  5.7008923e-03,\n",
       "        9.4433352e-03, -3.3689770e-03, -7.8802574e-03, -6.0080672e-03,\n",
       "        4.9836249e-03,  3.4786426e-03, -5.6239483e-03, -1.8293411e-03,\n",
       "       -7.4904710e-03,  6.2838360e-03,  9.7035328e-03,  9.8427264e-03,\n",
       "        9.2147263e-03, -6.4179855e-03, -2.0297901e-03,  9.0617565e-03,\n",
       "        4.8164558e-03,  5.2074045e-03,  8.8569401e-03, -5.5287820e-03,\n",
       "       -1.6439577e-03, -9.9568851e-03, -2.1878562e-03,  1.2443402e-03,\n",
       "       -5.7335729e-03, -4.1821520e-03,  4.0046623e-05, -3.0518495e-03,\n",
       "       -4.7957257e-04, -1.5608265e-04,  2.4318257e-03,  1.4306917e-03,\n",
       "        3.8937288e-03,  4.2057964e-03, -4.2497958e-03,  5.4645777e-04,\n",
       "       -8.2407129e-04,  2.5259620e-03,  2.6965835e-03,  1.4498016e-03,\n",
       "       -6.7807274e-04,  4.0598228e-03,  7.4665793e-03,  2.0202524e-03,\n",
       "       -4.5962143e-03, -6.4382018e-03,  1.0911847e-03,  3.2156502e-04,\n",
       "        6.0171871e-03,  2.4414384e-03,  3.0959447e-04, -7.0241080e-03,\n",
       "       -4.2524887e-03, -7.0759552e-03,  1.8304562e-03, -2.4893160e-03,\n",
       "       -2.3844698e-03,  4.7474215e-03,  1.3953448e-05,  3.3341689e-04,\n",
       "       -2.1394405e-03, -5.4402156e-03,  3.5931508e-03, -7.1600586e-04,\n",
       "        3.5535984e-03, -2.1108626e-03,  2.2571748e-03, -4.0381909e-03,\n",
       "       -3.8419355e-04, -1.8862509e-03, -1.3272761e-03, -1.5802585e-03],\n",
       "      dtype=float32)"
      ]
     },
     "execution_count": 8,
     "metadata": {},
     "output_type": "execute_result"
    }
   ],
   "source": [
    "# функция, объединяющая результаты моделей в один вектор\n",
    "def get_item(word):\n",
    "    if word in wvec:\n",
    "        w = wvec.wv.__getitem__(word)\n",
    "    else:\n",
    "        w = np.zeros(wvec.wv.vector_size)\n",
    "    if word in ft:\n",
    "        f = ft.wv.__getitem__(word)\n",
    "    else:\n",
    "        f = np.zeros(ft.wv.vector_size)\n",
    "    return np.concatenate([w,f])\n",
    "\n",
    "get_item('email')"
   ]
  },
  {
   "cell_type": "code",
   "execution_count": 9,
   "metadata": {},
   "outputs": [],
   "source": [
    "# создадим словарь индексов слов\n",
    "id2word = {k+1:v for k,v in enumerate(list(wvec.wv.vocab.keys()))}\n",
    "\n",
    "# на всякий случай проверим и добавим словарь fasttext\n",
    "i = max(id2word)\n",
    "for word in list(ft.wv.vocab.keys()):\n",
    "    if word not in id2word.values():\n",
    "        i+=1\n",
    "        id2word[i] = word\n",
    "\n",
    "# добавим UNK, в него будут преобразовываться все неизвестные слова\n",
    "id2word[0] ='UNK'\n",
    "\n",
    "# также словарь слов в индекс\n",
    "word2id = {v: k for k, v in id2word.items()}"
   ]
  },
  {
   "cell_type": "code",
   "execution_count": 10,
   "metadata": {},
   "outputs": [],
   "source": [
    "# функция преобразования входящей фразы в вектор\n",
    "def vectorize(phrase):\n",
    "    phrase = ' '.join(text2seq(phrase))\n",
    "    vector_tmp = []\n",
    "    for word in phrase:\n",
    "        word = morph.parse(word)[0].normal_form\n",
    "        if word not in word2id:\n",
    "            word = 'UNK'\n",
    "        vector_tmp.append(get_item(word))\n",
    "    return np.mean(vector_tmp, axis=0)"
   ]
  },
  {
   "cell_type": "markdown",
   "metadata": {},
   "source": [
    "подготовим модель"
   ]
  },
  {
   "cell_type": "code",
   "execution_count": 18,
   "metadata": {},
   "outputs": [],
   "source": [
    "# объявим гиперпараметры дальнейшей модели\n",
    "MAX_SEQ_LEN = 8\n",
    "# MAX_VOCAB_SIZE = len(wvec.wv.vocab)+1\n",
    "MAX_VOCAB_SIZE = len(id2word)+1\n",
    "EMBEDDING_DIM = len(get_item('привет'))\n",
    "VALIDATION_SPLIT = 0.1\n",
    "BATCH_SIZE = 18\n",
    "EPOCHS = 10\n",
    "CLASSES = 2"
   ]
  },
  {
   "cell_type": "markdown",
   "metadata": {},
   "source": [
    "подготовим данные для обучения"
   ]
  },
  {
   "cell_type": "code",
   "execution_count": 12,
   "metadata": {},
   "outputs": [],
   "source": [
    "# немного измененная функция векторизации\n",
    "def preprocess(text):\n",
    "    temp_seq = []\n",
    "    # text = ' '.join([word for word in morph.lemmatize(text) if not any(i in word for i in [' ', '\\n'])])\n",
    "    for word in text2seq(str(text)):\n",
    "        word = morph.parse(word)[0].normal_form\n",
    "        # word = morph.lemmatize(word)[0]\n",
    "        if word not in word2id:\n",
    "            word = 'UNK'\n",
    "        temp_seq.append(word2id[word])\n",
    "    return temp_seq"
   ]
  },
  {
   "cell_type": "code",
   "execution_count": 13,
   "metadata": {},
   "outputs": [],
   "source": [
    "# определим базу знаний\n",
    "train_df = concatted_phrases"
   ]
  },
  {
   "cell_type": "code",
   "execution_count": 26,
   "metadata": {},
   "outputs": [
    {
     "data": {
      "text/plain": [
       "[[1, 2], [1, 2]]"
      ]
     },
     "execution_count": 26,
     "metadata": {},
     "output_type": "execute_result"
    }
   ],
   "source": [
    "# преобразуем фразы в послeдовательности индексов слов\n",
    "x_seq = []\n",
    "for phrase in train_df:\n",
    "    phrase = preprocess(phrase)\n",
    "    x_seq.append(phrase)\n",
    "x_seq[:2]"
   ]
  },
  {
   "cell_type": "code",
   "execution_count": 27,
   "metadata": {},
   "outputs": [
    {
     "data": {
      "text/plain": [
       "array([[0, 0, 0, 0, 0, 0, 1, 2],\n",
       "       [0, 0, 0, 0, 0, 0, 1, 2]])"
      ]
     },
     "execution_count": 27,
     "metadata": {},
     "output_type": "execute_result"
    }
   ],
   "source": [
    "# приведем к заданной длине, дополнив нулями\n",
    "x_seq = pad_sequences(x_seq, maxlen=MAX_SEQ_LEN)\n",
    "x = np.asarray(x_seq)\n",
    "x[:2]"
   ]
  },
  {
   "cell_type": "code",
   "execution_count": 28,
   "metadata": {},
   "outputs": [
    {
     "data": {
      "text/plain": [
       "[0, 0]"
      ]
     },
     "execution_count": 28,
     "metadata": {},
     "output_type": "execute_result"
    }
   ],
   "source": [
    "# определим таргет (если он в исходной обучающей, то смотрим тот на таргет, иначе 0)\n",
    "y = []\n",
    "for phrase in train_df:\n",
    "    if phrase in yes_no['message'].tolist():\n",
    "        y.append(yes_no[yes_no['message'] == phrase].drop_duplicates()['target'].tolist()[0])\n",
    "    else:\n",
    "        y.append(0)\n",
    "y[:2]"
   ]
  },
  {
   "cell_type": "code",
   "execution_count": 29,
   "metadata": {},
   "outputs": [
    {
     "data": {
      "text/plain": [
       "array([[1., 0.],\n",
       "       [1., 0.]], dtype=float32)"
      ]
     },
     "execution_count": 29,
     "metadata": {},
     "output_type": "execute_result"
    }
   ],
   "source": [
    "# приведем таргет к виду 1xlen(CLASSES) с 1 на месте правильного класса\n",
    "y_binary = to_categorical(y)\n",
    "y_binary[:2]"
   ]
  },
  {
   "cell_type": "code",
   "execution_count": 30,
   "metadata": {},
   "outputs": [],
   "source": [
    "# разделим на тренировочную и валидационную выборки\n",
    "x_train, x_test, y_train, y_test = train_test_split(x, y_binary, test_size=0.1, random_state=777, shuffle=True)"
   ]
  },
  {
   "cell_type": "markdown",
   "metadata": {},
   "source": [
    "обучим модель"
   ]
  },
  {
   "cell_type": "code",
   "execution_count": 49,
   "metadata": {},
   "outputs": [],
   "source": [
    "########################## MODEL ##############################\n",
    "\n",
    "# подготовим эмбеддинг\n",
    "embedding_matrix = np.zeros((MAX_VOCAB_SIZE, EMBEDDING_DIM))\n",
    "for word in word2id:\n",
    "    i = word2id[word]\n",
    "    embedding_vector = get_item(word)\n",
    "    embedding_matrix[i] = embedding_vector\n",
    "\n",
    "\n",
    "embedding_layer = Embedding(MAX_VOCAB_SIZE,\n",
    "                            EMBEDDING_DIM,\n",
    "                            weights=[embedding_matrix],\n",
    "                            input_length=MAX_SEQ_LEN,\n",
    "                            trainable=True\n",
    "                            )\n",
    "\n",
    "input_ = Input(shape=(MAX_SEQ_LEN, ))\n",
    "emb = embedding_layer(input_)\n",
    "\n",
    "# подадим на вход модели\n",
    "x = Flatten()(emb)\n",
    "x = Dense(x.shape[1], activation='relu')(x)\n",
    "x = Dropout(0.2)(x)\n",
    "x = Dense(int(x.shape[1])/2, activation='relu')(x)\n",
    "# \n",
    "output = Dense(CLASSES, activation='sigmoid')(x)"
   ]
  },
  {
   "cell_type": "code",
   "execution_count": 50,
   "metadata": {},
   "outputs": [
    {
     "name": "stdout",
     "output_type": "stream",
     "text": [
      "Model: \"model_3\"\n",
      "_________________________________________________________________\n",
      "Layer (type)                 Output Shape              Param #   \n",
      "=================================================================\n",
      "input_3 (InputLayer)         [(None, 8)]               0         \n",
      "_________________________________________________________________\n",
      "embedding_2 (Embedding)      (None, 8, 100)            42300     \n",
      "_________________________________________________________________\n",
      "flatten_2 (Flatten)          (None, 800)               0         \n",
      "_________________________________________________________________\n",
      "dense_3 (Dense)              (None, 800)               640800    \n",
      "_________________________________________________________________\n",
      "dropout_2 (Dropout)          (None, 800)               0         \n",
      "_________________________________________________________________\n",
      "dense_4 (Dense)              (None, 400)               320400    \n",
      "_________________________________________________________________\n",
      "dense_5 (Dense)              (None, 2)                 802       \n",
      "=================================================================\n",
      "Total params: 1,004,302\n",
      "Trainable params: 1,004,302\n",
      "Non-trainable params: 0\n",
      "_________________________________________________________________\n"
     ]
    }
   ],
   "source": [
    "model = Model(input_, output)\n",
    "\n",
    "model.compile(loss='binary_crossentropy',\n",
    "             optimizer=keras.optimizers.Adam(learning_rate=0.0001),\n",
    "             metrics=['accuracy'])\n",
    "\n",
    "model.summary()"
   ]
  },
  {
   "cell_type": "code",
   "execution_count": 51,
   "metadata": {},
   "outputs": [
    {
     "name": "stdout",
     "output_type": "stream",
     "text": [
      "Train on 835 samples, validate on 93 samples\n",
      "Epoch 1/10\n",
      "835/835 - 1s - loss: 0.6330 - accuracy: 0.9078 - val_loss: 0.4641 - val_accuracy: 0.9570\n",
      "Epoch 2/10\n",
      "835/835 - 0s - loss: 0.3379 - accuracy: 0.9222 - val_loss: 0.1823 - val_accuracy: 0.9570\n",
      "Epoch 3/10\n",
      "835/835 - 0s - loss: 0.2390 - accuracy: 0.9222 - val_loss: 0.1459 - val_accuracy: 0.9570\n",
      "Epoch 4/10\n",
      "835/835 - 0s - loss: 0.1819 - accuracy: 0.9222 - val_loss: 0.0965 - val_accuracy: 0.9570\n",
      "Epoch 5/10\n",
      "835/835 - 0s - loss: 0.1116 - accuracy: 0.9234 - val_loss: 0.0799 - val_accuracy: 0.9785\n",
      "Epoch 6/10\n",
      "835/835 - 0s - loss: 0.0728 - accuracy: 0.9725 - val_loss: 0.0568 - val_accuracy: 0.9892\n",
      "Epoch 7/10\n",
      "835/835 - 0s - loss: 0.0497 - accuracy: 0.9976 - val_loss: 0.0486 - val_accuracy: 0.9892\n",
      "Epoch 8/10\n",
      "835/835 - 0s - loss: 0.0297 - accuracy: 0.9988 - val_loss: 0.0389 - val_accuracy: 0.9892\n",
      "Epoch 9/10\n",
      "835/835 - 0s - loss: 0.0151 - accuracy: 1.0000 - val_loss: 0.0604 - val_accuracy: 0.9677\n",
      "Epoch 10/10\n",
      "835/835 - 0s - loss: 0.0083 - accuracy: 0.9988 - val_loss: 0.0541 - val_accuracy: 0.9785\n"
     ]
    }
   ],
   "source": [
    "# обучим модель\n",
    "r = model.fit(x_train,\n",
    "              y_train,\n",
    "              batch_size=BATCH_SIZE,\n",
    "              epochs=EPOCHS,\n",
    "              validation_data=(x_test, y_test),\n",
    "              verbose=2\n",
    "              )"
   ]
  },
  {
   "cell_type": "code",
   "execution_count": 52,
   "metadata": {},
   "outputs": [
    {
     "data": {
      "image/png": "[encoded data removed]",
      "text/plain": [
       "<Figure size 432x288 with 2 Axes>"
      ]
     },
     "metadata": {
      "needs_background": "light"
     },
     "output_type": "display_data"
    }
   ],
   "source": [
    "# посмотрим на историю обучения\n",
    "\n",
    "fig, ax1 = plt.subplots()\n",
    "\n",
    "t = np.arange(0, len(r.history['accuracy']), 1)\n",
    "\n",
    "ln1 = ax1.plot(t, r.history['loss'], color='r', label='loss')\n",
    "ln2 = ax1.plot(t, r.history['val_loss'], color='r', marker='o', label='val_loss')\n",
    "ax1.set_xlabel('epochs')\n",
    "ax1.set_ylabel('loss')\n",
    "# ax1.legend(loc=0)\n",
    "ax2 = ax1.twinx()  # instantiate a second axes that shares the same x-axis\n",
    "\n",
    "\n",
    "ln3 = ax2.plot(t, r.history['accuracy'], color='b', label='accuracy')\n",
    "ln4 = ax2.plot(t, r.history['val_accuracy'], color='b', marker='o', label='val_accuracy')\n",
    "ax2.set_ylabel('accuracy')  # we already handled the x-label with ax1\n",
    "# ax2.legend(loc=0)\n",
    "\n",
    "lns = ln1+ln2+ln3+ln4\n",
    "labs = [l.get_label() for l in lns]\n",
    "ax1.legend(lns, labs, loc=0)\n",
    "\n",
    "fig.tight_layout()  # otherwise the right y-label is slightly clipped\n",
    "# plt.legend(loc='lower right')\n",
    "plt.show()"
   ]
  },
  {
   "cell_type": "code",
   "execution_count": 53,
   "metadata": {},
   "outputs": [
    {
     "name": "stdout",
     "output_type": "stream",
     "text": [
      "NN acc, f1, roc_auc:  0.978494623655914 0.8 0.9887640449438202\n"
     ]
    }
   ],
   "source": [
    "p = model.predict(x_test)\n",
    "\n",
    "print('NN acc, f1, roc_auc: ', accuracy_score(y_true=list(y_test[:,1]), y_pred=list(np.round(p[:,1]))),\n",
    "    f1_score(y_true=list(y_test[:,1]), y_pred=list(np.round(p[:,1]))),\n",
    "    roc_auc_score(y_true=list(y_test[:,1]), y_score=list(np.round(p[:,1]))))"
   ]
  },
  {
   "cell_type": "code",
   "execution_count": 54,
   "metadata": {},
   "outputs": [
    {
     "name": "stdout",
     "output_type": "stream",
     "text": [
      "0.966852 1\n"
     ]
    }
   ],
   "source": [
    "test_text = 'да'\n",
    "print(np.max(model.predict(pad_sequences([preprocess(test_text)], maxlen=MAX_SEQ_LEN))), \n",
    "np.argmax(model.predict(pad_sequences([preprocess(test_text)], maxlen=MAX_SEQ_LEN))))"
   ]
  },
  {
   "cell_type": "code",
   "execution_count": 55,
   "metadata": {},
   "outputs": [
    {
     "name": "stdout",
     "output_type": "stream",
     "text": [
      "0.9921738 0\n"
     ]
    }
   ],
   "source": [
    "test_text = 'нет'\n",
    "print(np.max(model.predict(pad_sequences([preprocess(test_text)], maxlen=MAX_SEQ_LEN))), \n",
    "np.argmax(model.predict(pad_sequences([preprocess(test_text)], maxlen=MAX_SEQ_LEN))))"
   ]
  },
  {
   "cell_type": "code",
   "execution_count": 56,
   "metadata": {
    "scrolled": true
   },
   "outputs": [
    {
     "name": "stdout",
     "output_type": "stream",
     "text": [
      "0.9999614 0\n"
     ]
    }
   ],
   "source": [
    "test_text = 'узнать расписание занятий'\n",
    "print(np.max(model.predict(pad_sequences([preprocess(test_text)], maxlen=MAX_SEQ_LEN))), \n",
    "np.argmax(model.predict(pad_sequences([preprocess(test_text)], maxlen=MAX_SEQ_LEN))))"
   ]
  },
  {
   "cell_type": "code",
   "execution_count": 57,
   "metadata": {},
   "outputs": [],
   "source": [
    "model.save(r'C:\\Users\\vndan\\projects\\netology_chat_bot\\models\\NN_classification_yesno.hdf5')"
   ]
  }
 ],
 "metadata": {
  "kernelspec": {
   "display_name": "Python (chatbot)",
   "language": "python",
   "name": "chatbot"
  },
  "language_info": {
   "codemirror_mode": {
    "name": "ipython",
    "version": 3
   },
   "file_extension": ".py",
   "mimetype": "text/x-python",
   "name": "python",
   "nbconvert_exporter": "python",
   "pygments_lexer": "ipython3",
   "version": "3.7.5"
  }
 },
 "nbformat": 4,
 "nbformat_minor": 2
}
