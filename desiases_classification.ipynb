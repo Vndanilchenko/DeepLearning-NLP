{
  "nbformat": 4,
  "nbformat_minor": 0,
  "metadata": {
    "colab": {
      "name": "desiases classification",
      "provenance": [],
      "collapsed_sections": []
    },
    "kernelspec": {
      "name": "python3",
      "display_name": "Python 3"
    },
    "accelerator": "GPU"
  },
  "cells": [
    {
      "cell_type": "markdown",
      "metadata": {
        "id": "VZIRwbjgt27D",
        "colab_type": "text"
      },
      "source": [
        "Данильченко Вадим"
      ]
    },
    {
      "cell_type": "markdown",
      "metadata": {
        "id": "afTCQM2wt3C0",
        "colab_type": "text"
      },
      "source": [
        "Классификация болезней по документу и симптомам"
      ]
    },
    {
      "cell_type": "code",
      "metadata": {
        "id": "P8nrgM8nt9P6",
        "colab_type": "code",
        "outputId": "e186ce4d-01ee-4377-f818-8e927157da10",
        "colab": {
          "base_uri": "https://localhost:8080/",
          "height": 34
        }
      },
      "source": [
        "from google.colab import files\n",
        "import numpy as np\n",
        "import pandas as pd\n",
        "import matplotlib.pyplot as plt\n",
        "import os\n",
        "%matplotlib inline\n",
        "\n",
        "from google.colab import drive\n",
        "from tqdm import trange\n",
        "\n",
        "from keras.preprocessing.text import Tokenizer\n",
        "from keras import utils\n",
        "import re"
      ],
      "execution_count": 1,
      "outputs": [
        {
          "output_type": "stream",
          "text": [
            "Using TensorFlow backend.\n"
          ],
          "name": "stderr"
        }
      ]
    },
    {
      "cell_type": "code",
      "metadata": {
        "id": "4XM0rPPjuiP6",
        "colab_type": "code",
        "outputId": "85c23877-0a92-406e-cece-3e8a088614c3",
        "colab": {
          "base_uri": "https://localhost:8080/",
          "height": 122
        }
      },
      "source": [
        "drive.mount('/content/drive')"
      ],
      "execution_count": 2,
      "outputs": [
        {
          "output_type": "stream",
          "text": [
            "Go to this URL in a browser: https://accounts.google.com/o/oauth2/auth?client_id=947318989803-6bn6qk8qdgf4n4g3pfee6491hc0brc4i.apps.googleusercontent.com&redirect_uri=urn%3aietf%3awg%3aoauth%3a2.0%3aoob&response_type=code&scope=email%20https%3a%2f%2fwww.googleapis.com%2fauth%2fdocs.test%20https%3a%2f%2fwww.googleapis.com%2fauth%2fdrive%20https%3a%2f%2fwww.googleapis.com%2fauth%2fdrive.photos.readonly%20https%3a%2f%2fwww.googleapis.com%2fauth%2fpeopleapi.readonly\n",
            "\n",
            "Enter your authorization code:\n",
            "··········\n",
            "Mounted at /content/drive\n"
          ],
          "name": "stdout"
        }
      ]
    },
    {
      "cell_type": "code",
      "metadata": {
        "id": "yTojhYzLx36G",
        "colab_type": "code",
        "outputId": "5186554f-a4ed-40e9-b0c9-06a2273be271",
        "colab": {
          "base_uri": "https://localhost:8080/",
          "height": 51
        }
      },
      "source": [
        "! ls drive/'My Drive'/data/diseases"
      ],
      "execution_count": 5,
      "outputs": [
        {
          "output_type": "stream",
          "text": [
            "Аппендицит.txt\tГепатит.txt   Колит.txt       Холицестит.txt  Энтерит.txt\n",
            "Гастрит.txt\tДуоденит.txt  Панкреатит.txt  Эзофагит.txt    Язва.txt\n"
          ],
          "name": "stdout"
        }
      ]
    },
    {
      "cell_type": "markdown",
      "metadata": {
        "id": "pKKuWEfndKdT",
        "colab_type": "text"
      },
      "source": [
        "# классифицирую сначала просто документы по сплошному тексту без разделения на предложения"
      ]
    },
    {
      "cell_type": "code",
      "metadata": {
        "id": "te92vIUWDecG",
        "colab_type": "code",
        "colab": {
          "base_uri": "https://localhost:8080/",
          "height": 224
        },
        "outputId": "4db24887-7ab2-468a-8f9d-4137be81e958"
      },
      "source": [
        "def read_text(filename):\n",
        "  f = open(filename, 'r')\n",
        "  text = f.read()\n",
        "  text = text.replace('\\n', ' ')\n",
        "  return text\n",
        "\n",
        "path = 'drive/My Drive/data/diseases'\n",
        "data = {}\n",
        "for file in os.listdir(path):\n",
        "  print(file)\n",
        "  data[file[:-4]] = read_text(os.path.join(path, file))\n",
        "\n",
        "data['Язва']"
      ],
      "execution_count": 180,
      "outputs": [
        {
          "output_type": "stream",
          "text": [
            "Аппендицит.txt\n",
            "Гастрит.txt\n",
            "Гепатит.txt\n",
            "Дуоденит.txt\n",
            "Колит.txt\n",
            "Панкреатит.txt\n",
            "Холицестит.txt\n",
            "Эзофагит.txt\n",
            "Энтерит.txt\n",
            "Язва.txt\n"
          ],
          "name": "stdout"
        },
        {
          "output_type": "execute_result",
          "data": {
            "text/plain": [
              "'боль, часто локализованная в эпигастрии и уменьшающаяся после еды или антацидов.  боль описывается как жгучая или грызущая, иногда как чувство голода.  Боль в эпигастральной области кислая отрыжка  изжога снижение массы тела рвота и тошнота после еды  боль после еды и в зависимости от пораженного отдела может появиться сразу или спустя 1–2 часа рвота кислым содержимым желудка  боль в животе Боль возникает в середине живота («под ложечкой»), никуда, как правило, не отдает Болевой синдром. Возникает в верхней части живота, носит непостоянный характер.  Изжога Рвота тошнота Отсутствие аппетита  жжениеи  боль в верхней части живота выше пупка тошнота рвота снижение аппетита снижение веса слабость усталость  налет на языке метеоризм чередование поноса ,запора и нормального стула неприятный запах из ротовой полости уменьшение веса тошнота рвота изжога и отрыжка кислотой  Ноющие или схваткообразные боли, слабоинтенсивные в эпигастральной области, чаще возникают натощак или непосредственно после еды Постоянная изжога, особенно в ночные и утренние часы, отрыжка кислым Тошнота Отрыжка воздухом, кислым или горьким привкусом Тяжесть в эпигастральной области после приема пищи, чувство быстрого наполнения желудка Снижение аппетита При кровотечении из язв появляется рвота “кофейной гущи”, темный стул (мелена) При перфорации язв - сильная, кинжальная боль в эпигастральной области, тошнота, рвота, болезненное напряжение мышц живота  Ощущение раздутости Отрыжка Отсутствие аппетита или потеря веса Тошнота Кровавая или темная дефекация Рвота  боль или дискомфорт в эпигастрии,появляющаяся 1–3 ч после еды,проходящая после приема пищи или антацидов.  диспепсия тошнота рвота  боль в верхней половине живота ночные и «голодные» боли изжога Тошнота рвота «кислая» отрыжка запоры   изжога отрыжка кислым тошнота рвота на высоте болей,приносящая облегчение склонность к запорам  Боль тошнота тяжесть после приема пищи чувство переполнения желудка рвота снижение аппетита массы тела изжога  Потеря аппетита потеря веса Тошнота рвота Гематемезис (рвота кровью) Вздутие живота Боли в животе Кровавый или темный стул. жгучая боль в животе, которая проходит от пупка до груди  сильная изжога тошнота рвота неприятная отрыжка запоры повышенное газообразование вздутие живота потеря аппетита снижение веса повышенная потливость боли в животе чувство дискомфорта,усиливающееся после трапезы  Склонность к запорам Тошнота рвота  Боль во сне «голодная» боль  Болевой синдром Рвота ощущение тяжести в животе тошнота изжога запоры   появление отрыжки после приема пищи раннее появление чувства сытости тяжесть в эпигастрии непереносимость жирной пищи появление тошноты иногда рвота   боль,которая возникает через час после еды и длится два часа отрыжка,имеет острый привкус кислоты кровотечение рвота,возникающая внезапно,иногда во время еды В рвотных массах больного обнаруживаются примеси крови Язвенный больной интенсивно худеет снижается аппетит или полностью пропадает изменяется цвет лица  колющая,давящая боль или рези в области желудка,которые почти всегда по времени возникновения связаны с приемом пищи  Тошнота, иногда сопровождающаяся рвотой.   Изжога жжения в надчревной области.  Чувство тяжести в животе.  Отрыжка воздухом  заброс содержимого желудка в ротовую полость,после чего во рту остается неприятный кисловатый или горьковатый привкус. Повышенное газообразование.  белый налет на языке потливость ладоней болевые ощущения при надавливании на живот  '"
            ]
          },
          "metadata": {
            "tags": []
          },
          "execution_count": 180
        }
      ]
    },
    {
      "cell_type": "code",
      "metadata": {
        "id": "Q0mFLrc8yXI-",
        "colab_type": "code",
        "outputId": "01d9fad7-c006-4b1b-94b0-16a51d8cee99",
        "colab": {
          "base_uri": "https://localhost:8080/",
          "height": 111
        }
      },
      "source": [
        "# # сформируем датафрейм\n",
        "\n",
        "df = pd.DataFrame(data={'diseas': list(data.keys()), 'text': list(data.values())})\n",
        "df.head(2)"
      ],
      "execution_count": 189,
      "outputs": [
        {
          "output_type": "execute_result",
          "data": {
            "text/html": [
              "<div>\n",
              "<style scoped>\n",
              "    .dataframe tbody tr th:only-of-type {\n",
              "        vertical-align: middle;\n",
              "    }\n",
              "\n",
              "    .dataframe tbody tr th {\n",
              "        vertical-align: top;\n",
              "    }\n",
              "\n",
              "    .dataframe thead th {\n",
              "        text-align: right;\n",
              "    }\n",
              "</style>\n",
              "<table border=\"1\" class=\"dataframe\">\n",
              "  <thead>\n",
              "    <tr style=\"text-align: right;\">\n",
              "      <th></th>\n",
              "      <th>diseas</th>\n",
              "      <th>text</th>\n",
              "    </tr>\n",
              "  </thead>\n",
              "  <tbody>\n",
              "    <tr>\n",
              "      <th>0</th>\n",
              "      <td>Аппендицит</td>\n",
              "      <td>Резкая боль в животе Повышение температуры Нап...</td>\n",
              "    </tr>\n",
              "    <tr>\n",
              "      <th>1</th>\n",
              "      <td>Гастрит</td>\n",
              "      <td>ГАСТРИТ СИМПТОМЫ  диспепсии (тяжесть и чувство...</td>\n",
              "    </tr>\n",
              "  </tbody>\n",
              "</table>\n",
              "</div>"
            ],
            "text/plain": [
              "       diseas                                               text\n",
              "0  Аппендицит  Резкая боль в животе Повышение температуры Нап...\n",
              "1     Гастрит  ГАСТРИТ СИМПТОМЫ  диспепсии (тяжесть и чувство..."
            ]
          },
          "metadata": {
            "tags": []
          },
          "execution_count": 189
        }
      ]
    },
    {
      "cell_type": "code",
      "metadata": {
        "id": "_w9va_h-9wbw",
        "colab_type": "code",
        "outputId": "7f58b6e0-0316-448b-c156-533c41901140",
        "colab": {
          "base_uri": "https://localhost:8080/",
          "height": 221
        }
      },
      "source": [
        "# пронумеруем категории \n",
        "df['target'] = df['diseas'].astype('category').cat.codes\n",
        "# удалим примеры, для которых отсутствует метка класса\n",
        "print(df.shape)\n",
        "df['target'].value_counts()"
      ],
      "execution_count": 190,
      "outputs": [
        {
          "output_type": "stream",
          "text": [
            "(10, 3)\n"
          ],
          "name": "stdout"
        },
        {
          "output_type": "execute_result",
          "data": {
            "text/plain": [
              "9    1\n",
              "8    1\n",
              "7    1\n",
              "6    1\n",
              "5    1\n",
              "4    1\n",
              "3    1\n",
              "2    1\n",
              "1    1\n",
              "0    1\n",
              "Name: target, dtype: int64"
            ]
          },
          "metadata": {
            "tags": []
          },
          "execution_count": 190
        }
      ]
    },
    {
      "cell_type": "code",
      "metadata": {
        "id": "Mb1GsQ18xy4S",
        "colab_type": "code",
        "outputId": "21d66ebb-9f4e-4334-e4ec-951798e10b70",
        "colab": {
          "base_uri": "https://localhost:8080/",
          "height": 68
        }
      },
      "source": [
        "%%time\n",
        "# обучим токенизатор\n",
        "MAX_WORD_COUNT = 2000\n",
        "\n",
        "tokenizer = Tokenizer(num_words=MAX_WORD_COUNT, filters='!\"#$%&()*+,-./:;<=>?@[\\\\]^_`{|}~\\t\\n', lower=True, split=' ', oov_token='UNK', char_level=False)\n",
        "tokenizer.fit_on_texts(df['text'].tolist())\n",
        "items = list(tokenizer.word_index.items())\n",
        "print(len(items))"
      ],
      "execution_count": 191,
      "outputs": [
        {
          "output_type": "stream",
          "text": [
            "1999\n",
            "CPU times: user 11.8 ms, sys: 938 µs, total: 12.8 ms\n",
            "Wall time: 12.7 ms\n"
          ],
          "name": "stdout"
        }
      ]
    },
    {
      "cell_type": "code",
      "metadata": {
        "id": "KZ-psKY1K1NN",
        "colab_type": "code",
        "colab": {
          "base_uri": "https://localhost:8080/",
          "height": 34
        },
        "outputId": "8a11e625-ff96-48f2-ac63-60de48ef957a"
      },
      "source": [
        "tokenizer.word_index['37']"
      ],
      "execution_count": 192,
      "outputs": [
        {
          "output_type": "execute_result",
          "data": {
            "text/plain": [
              "260"
            ]
          },
          "metadata": {
            "tags": []
          },
          "execution_count": 192
        }
      ]
    },
    {
      "cell_type": "code",
      "metadata": {
        "id": "8fRXng7czZyT",
        "colab_type": "code",
        "outputId": "a6725cd9-182d-4f54-a890-f8f39f19284c",
        "colab": {
          "base_uri": "https://localhost:8080/",
          "height": 34
        }
      },
      "source": [
        "# преобразуем тексты в id (все слова, индексы которых будут больше MAX_WORD_COUNT, будут иметь индекс слова UNK)\n",
        "X = tokenizer.texts_to_sequences(df['text'].tolist())\n",
        "X[0][:20]"
      ],
      "execution_count": 195,
      "outputs": [
        {
          "output_type": "execute_result",
          "data": {
            "text/plain": [
              "[99, 4, 2, 11, 25, 26, 879, 211, 5, 100, 4, 2, 11, 2, 407, 557, 3, 10, 558, 25]"
            ]
          },
          "metadata": {
            "tags": []
          },
          "execution_count": 195
        }
      ]
    },
    {
      "cell_type": "code",
      "metadata": {
        "id": "lKgryDP54eu7",
        "colab_type": "code",
        "outputId": "050567e3-e742-4eaa-8bad-2af61a44c197",
        "colab": {
          "base_uri": "https://localhost:8080/",
          "height": 102
        }
      },
      "source": [
        "# запишем в y индексы классов и преобразуем в one_hot вектор нулей длиной по количеству классов, имеющий 1 на пересечении индекса с нужным классом\n",
        "from collections import Counter\n",
        "y = df['target'].tolist()\n",
        "CLASSES = len(set(y))\n",
        "print('количество классов:', CLASSES)\n",
        "y_cat = utils.to_categorical(y)\n",
        "print('после преобразования:\\n', y_cat[:2])\n",
        "y_cat.shape"
      ],
      "execution_count": 196,
      "outputs": [
        {
          "output_type": "stream",
          "text": [
            "количество классов: 10\n",
            "после преобразования:\n",
            " [[1. 0. 0. 0. 0. 0. 0. 0. 0. 0.]\n",
            " [0. 1. 0. 0. 0. 0. 0. 0. 0. 0.]]\n"
          ],
          "name": "stdout"
        },
        {
          "output_type": "execute_result",
          "data": {
            "text/plain": [
              "(10, 10)"
            ]
          },
          "metadata": {
            "tags": []
          },
          "execution_count": 196
        }
      ]
    },
    {
      "cell_type": "code",
      "metadata": {
        "id": "kgYs9KMlykGM",
        "colab_type": "code",
        "outputId": "92fa3f0f-f07e-4ef5-ed33-c47ac5ecb0af",
        "colab": {
          "base_uri": "https://localhost:8080/",
          "height": 221
        }
      },
      "source": [
        "# посмотрим на среднюю длину сообщений, чтобы выбрать размер среза\n",
        "from keras.preprocessing.text import text_to_word_sequence\n",
        "df['length'] = df['text'].apply(lambda x: len(text_to_word_sequence(x, filters='!\"#$%&()*+,-./:;<=>?@[\\\\]^_`{|}~\\t\\n', lower=True, split=' ')))\n",
        "df.groupby(['diseas'])['length'].mean()"
      ],
      "execution_count": 197,
      "outputs": [
        {
          "output_type": "execute_result",
          "data": {
            "text/plain": [
              "diseas\n",
              "Аппендицит     577\n",
              "Гастрит        844\n",
              "Гепатит        691\n",
              "Дуоденит       489\n",
              "Колит         1208\n",
              "Панкреатит    1486\n",
              "Холицестит     842\n",
              "Эзофагит       794\n",
              "Энтерит        829\n",
              "Язва           470\n",
              "Name: length, dtype: int64"
            ]
          },
          "metadata": {
            "tags": []
          },
          "execution_count": 197
        }
      ]
    },
    {
      "cell_type": "code",
      "metadata": {
        "id": "8sCDVMtTz1BI",
        "colab_type": "code",
        "colab": {}
      },
      "source": [
        "# функция будет делать срезы некоторой длины slice_len с шагом step в последовательности sequence, которая будет ей подана на вход\n",
        "def get_slices(sequence, slice_len, step):\n",
        "  slices = []\n",
        "  max_len = len(sequence)\n",
        "\n",
        "  start = 0\n",
        "  while (start+step<=max_len):\n",
        "    slices.append(sequence[start:start+slice_len])\n",
        "    start+=step\n",
        "  \n",
        "  return slices"
      ],
      "execution_count": 0,
      "outputs": []
    },
    {
      "cell_type": "code",
      "metadata": {
        "id": "rackdjCH23EM",
        "colab_type": "code",
        "colab": {}
      },
      "source": [
        "# функция добавляет к входящей последовательности индексов текстов значения в целевую переменную\n",
        "def create_dataset(sequences, target, slice_len, step):\n",
        "  classes = target.shape[1]\n",
        "  seq_slices = [] \n",
        "  target_to_slice = []#[[] for _ in range(target.shape[0])]\n",
        "  # запишем срезы индексов длиной slice_len для каждого текста\n",
        "  for i in trange(len(sequences)):\n",
        "    seq_slices_tmp = get_slices(sequences[i], slice_len, step)\n",
        "    seq_slices+=seq_slices_tmp\n",
        "    for j in seq_slices_tmp:\n",
        "      target_to_slice.append(target[i])\n",
        "\n",
        "  seq_slices = np.asarray(seq_slices)\n",
        "  target_to_slice = np.asarray(target_to_slice)\n",
        "\n",
        "  return (seq_slices, target_to_slice)"
      ],
      "execution_count": 0,
      "outputs": []
    },
    {
      "cell_type": "code",
      "metadata": {
        "id": "l9OgbzLB3nvo",
        "colab_type": "code",
        "outputId": "4a5d12ae-2ca3-4913-c329-2b9885d6cc6e",
        "colab": {
          "base_uri": "https://localhost:8080/",
          "height": 105
        }
      },
      "source": [
        "slice_len = 100\n",
        "step = 20\n",
        "\n",
        "x_new, y_new = create_dataset(X, y_cat, slice_len, step)\n",
        "print(x_new.shape, y_new.shape)\n",
        "print(x_new[0])\n",
        "print(y_new[0])"
      ],
      "execution_count": 200,
      "outputs": [
        {
          "output_type": "stream",
          "text": [
            "100%|██████████| 10/10 [00:00<00:00, 2077.21it/s]"
          ],
          "name": "stderr"
        },
        {
          "output_type": "stream",
          "text": [
            "(407,) (407, 10)\n",
            "[99, 4, 2, 11, 25, 26, 879, 211, 5, 100, 4, 2, 11, 2, 407, 557, 3, 10, 558, 25, 26, 5, 7, 153, 4, 880, 90, 6, 37, 38, 9, 56, 121, 255, 881, 2, 408, 256, 559, 9, 91, 257, 560, 409, 42, 17, 5, 3, 6, 7, 410, 12, 411, 92, 882, 4, 2, 11, 883, 258, 142, 25, 26, 884, 6, 100, 4, 2, 37, 6, 143, 38, 9, 412, 6, 561, 318, 319, 3, 6, 320, 562, 7, 259, 563, 57, 6, 29, 4, 2, 11, 564, 2, 45, 13, 6, 565, 13, 321, 181]\n",
            "[1. 0. 0. 0. 0. 0. 0. 0. 0. 0.]\n"
          ],
          "name": "stdout"
        },
        {
          "output_type": "stream",
          "text": [
            "\n"
          ],
          "name": "stderr"
        }
      ]
    },
    {
      "cell_type": "code",
      "metadata": {
        "id": "zW2NYVJ2G2xI",
        "colab_type": "code",
        "colab": {}
      },
      "source": [
        "from sklearn.model_selection import train_test_split\n",
        "x_train, x_test, y_train, y_test = train_test_split(x_new, y_new, test_size=0.2, random_state=777)"
      ],
      "execution_count": 0,
      "outputs": []
    },
    {
      "cell_type": "code",
      "metadata": {
        "id": "hntgMqnYDuYi",
        "colab_type": "code",
        "outputId": "060b8dc1-9630-49ce-a6b4-50d83514e7b7",
        "colab": {
          "base_uri": "https://localhost:8080/",
          "height": 34
        }
      },
      "source": [
        "# приведем к формату bag of words по длине словаря MAX_WORD_COUNT\n",
        "x_train_bow = tokenizer.sequences_to_matrix(x_train.tolist())\n",
        "x_test_bow = tokenizer.sequences_to_matrix(x_test.tolist())\n",
        "x_train_bow.shape"
      ],
      "execution_count": 202,
      "outputs": [
        {
          "output_type": "execute_result",
          "data": {
            "text/plain": [
              "(325, 2000)"
            ]
          },
          "metadata": {
            "tags": []
          },
          "execution_count": 202
        }
      ]
    },
    {
      "cell_type": "markdown",
      "metadata": {
        "id": "mFaVZIlFdKhL",
        "colab_type": "text"
      },
      "source": [
        "**WITHOUT EMBEDDING**"
      ]
    },
    {
      "cell_type": "code",
      "metadata": {
        "id": "yKK0E6rZNNF3",
        "colab_type": "code",
        "outputId": "b16ae3a3-d0e6-4a7a-f293-9397be524d8d",
        "colab": {
          "base_uri": "https://localhost:8080/",
          "height": 221
        }
      },
      "source": [
        "# создадим граф вычислений нейросети 1\n",
        "from keras.models import Sequential\n",
        "from keras.layers import Dense, Dropout, BatchNormalization, LeakyReLU\n",
        "from keras.optimizers import Adam\n",
        "from keras.regularizers import l1\n",
        "\n",
        "model = Sequential()\n",
        "model.add(Dense(100, activation='relu', input_dim=MAX_WORD_COUNT, name='input'))\n",
        "model.add(Dense(CLASSES, activation='softmax', name='output'))\n",
        "model.compile(loss='categorical_crossentropy',\n",
        "              metrics=['accuracy'],\n",
        "              optimizer=Adam(learning_rate=1e-3))\n",
        "\n",
        "model.fit(x_train_bow,\n",
        "          y_train,\n",
        "          validation_data=(x_test_bow, y_test),\n",
        "          epochs=5,\n",
        "          batch_size=128,\n",
        "          verbose=1)"
      ],
      "execution_count": 204,
      "outputs": [
        {
          "output_type": "stream",
          "text": [
            "Train on 325 samples, validate on 82 samples\n",
            "Epoch 1/5\n",
            "325/325 [==============================] - 0s 268us/step - loss: 2.1545 - accuracy: 0.3292 - val_loss: 1.8080 - val_accuracy: 0.7317\n",
            "Epoch 2/5\n",
            "325/325 [==============================] - 0s 59us/step - loss: 1.5894 - accuracy: 0.8769 - val_loss: 1.3598 - val_accuracy: 0.9634\n",
            "Epoch 3/5\n",
            "325/325 [==============================] - 0s 47us/step - loss: 1.1083 - accuracy: 0.9785 - val_loss: 0.9390 - val_accuracy: 0.9878\n",
            "Epoch 4/5\n",
            "325/325 [==============================] - 0s 44us/step - loss: 0.7143 - accuracy: 0.9938 - val_loss: 0.6011 - val_accuracy: 0.9878\n",
            "Epoch 5/5\n",
            "325/325 [==============================] - 0s 47us/step - loss: 0.4304 - accuracy: 0.9969 - val_loss: 0.3666 - val_accuracy: 1.0000\n"
          ],
          "name": "stdout"
        },
        {
          "output_type": "execute_result",
          "data": {
            "text/plain": [
              "<keras.callbacks.callbacks.History at 0x7f0deea28b38>"
            ]
          },
          "metadata": {
            "tags": []
          },
          "execution_count": 204
        }
      ]
    },
    {
      "cell_type": "code",
      "metadata": {
        "id": "FO0GCJu8IVWC",
        "colab_type": "code",
        "colab": {}
      },
      "source": [
        "def history_plot(r):\n",
        "  fig, ax1 = plt.subplots()\n",
        "\n",
        "  t = np.arange(0, len(r.history['accuracy']), 1)\n",
        "\n",
        "  ln1 = ax1.plot(t, r.history['loss'], color='r', label='loss')\n",
        "  ln2 = ax1.plot(t, r.history['val_loss'], color='r', marker='o', label='val_loss')\n",
        "  ax1.set_xlabel('epochs')\n",
        "  ax1.set_ylabel('loss')\n",
        "  ax2 = ax1.twinx()\n",
        "\n",
        "\n",
        "  ln3 = ax2.plot(t, r.history['accuracy'], color='b', label='accuracy')\n",
        "  ln4 = ax2.plot(t, r.history['val_accuracy'], color='b', marker='o', label='val_accuracy')\n",
        "  ax2.set_ylabel('accuracy')\n",
        "\n",
        "  lns = ln1+ln2+ln3+ln4\n",
        "  labs = [l.get_label() for l in lns]\n",
        "  ax1.legend(lns, labs, loc=0)\n",
        "\n",
        "  fig.tight_layout()\n",
        "  plt.show()"
      ],
      "execution_count": 0,
      "outputs": []
    },
    {
      "cell_type": "code",
      "metadata": {
        "id": "j97bP8ogNUe3",
        "colab_type": "code",
        "outputId": "33dea2da-2164-4376-b7b5-c791f79ac02a",
        "colab": {
          "base_uri": "https://localhost:8080/",
          "height": 297
        }
      },
      "source": [
        "history_plot(model.history)"
      ],
      "execution_count": 206,
      "outputs": [
        {
          "output_type": "display_data",
          "data": {
            "image/png": "[encoded data removed]",
            "text/plain": [
              "<Figure size 432x288 with 2 Axes>"
            ]
          },
          "metadata": {
            "tags": [],
            "needs_background": "light"
          }
        }
      ]
    },
    {
      "cell_type": "markdown",
      "metadata": {
        "id": "en6iFgKAeAJv",
        "colab_type": "text"
      },
      "source": [
        "классифицировать весь документ в данном случае слегка читерство) если в бою придет какой-то один симптом из списка, есть большой шанс промазать, т.к. симптомы схожие часто встречаются между болезней."
      ]
    },
    {
      "cell_type": "markdown",
      "metadata": {
        "id": "troRDf5m5ZCG",
        "colab_type": "text"
      },
      "source": [
        "# теперь классифицирую отдельно по симптомам в каждом документе"
      ]
    },
    {
      "cell_type": "code",
      "metadata": {
        "colab_type": "code",
        "outputId": "598caceb-65c6-4184-fe0e-5e7abc270948",
        "id": "hOUI7EAEdDTR",
        "colab": {
          "base_uri": "https://localhost:8080/",
          "height": 1000
        }
      },
      "source": [
        "def read_text(filename):\n",
        "  f = open(filename, 'r')\n",
        "  text = f.read().lower()\n",
        "  text = re.split(';|\\n|\\.', text)\n",
        "  text = [i.strip() for i in text]\n",
        "  text = [i for i in text if i!='']\n",
        "  return list(set(text))\n",
        "\n",
        "path = 'drive/My Drive/data/diseases'\n",
        "data = {}\n",
        "for file in os.listdir(path):\n",
        "  print(file)\n",
        "  data[file[:-4]] = read_text(os.path.join(path, file))\n",
        "\n",
        "data['Язва']"
      ],
      "execution_count": 207,
      "outputs": [
        {
          "output_type": "stream",
          "text": [
            "Аппендицит.txt\n",
            "Гастрит.txt\n",
            "Гепатит.txt\n",
            "Дуоденит.txt\n",
            "Колит.txt\n",
            "Панкреатит.txt\n",
            "Холицестит.txt\n",
            "Эзофагит.txt\n",
            "Энтерит.txt\n",
            "Язва.txt\n"
          ],
          "name": "stdout"
        },
        {
          "output_type": "execute_result",
          "data": {
            "text/plain": [
              "['иногда рвота',\n",
              " 'кровавый или темный стул',\n",
              " '«кислая» отрыжка',\n",
              " 'боль описывается как жгучая или грызущая, иногда как чувство голода',\n",
              " 'появление тошноты',\n",
              " 'кровавая или темная дефекация',\n",
              " 'изменяется цвет лица',\n",
              " 'тяжесть после приема пищи',\n",
              " 'неприятная отрыжка',\n",
              " 'повышенная потливость',\n",
              " 'неприятный запах из ротовой полости',\n",
              " 'боль или дискомфорт в эпигастрии,появляющаяся 1–3 ч после еды,проходящая после приема пищи или антацидов',\n",
              " 'язвенный больной интенсивно худеет',\n",
              " 'тяжесть в эпигастрии',\n",
              " 'отрыжка воздухом, кислым или горьким привкусом',\n",
              " 'ночные и «голодные» боли',\n",
              " 'отрыжка кислым',\n",
              " 'запоры',\n",
              " 'снижение массы тела',\n",
              " 'склонность к запорам',\n",
              " 'изжога и отрыжка кислотой',\n",
              " 'боль возникает в середине живота («под ложечкой»), никуда, как правило, не отдает',\n",
              " 'непереносимость жирной пищи',\n",
              " 'усталость',\n",
              " 'боль',\n",
              " 'болевые ощущения при надавливании на живот',\n",
              " 'рвота,возникающая внезапно,иногда во время еды',\n",
              " 'белый налет на языке',\n",
              " 'массы тела',\n",
              " 'боль в животе',\n",
              " 'боль после еды и в зависимости от пораженного отдела может появиться сразу или спустя 1–2 часа',\n",
              " 'заброс содержимого желудка в ротовую полость,после чего во рту остается неприятный кисловатый или горьковатый привкус',\n",
              " 'гематемезис (рвота кровью)',\n",
              " 'снижение аппетита',\n",
              " 'тошнота, иногда сопровождающаяся рвотой',\n",
              " 'изжога',\n",
              " 'тошнота',\n",
              " 'рвота на высоте болей,приносящая облегчение',\n",
              " 'налет на языке',\n",
              " 'кислая отрыжка',\n",
              " 'отсутствие аппетита',\n",
              " 'боль,которая возникает через час после еды и длится два часа',\n",
              " 'отрыжка',\n",
              " 'потеря веса',\n",
              " 'постоянная изжога, особенно в ночные и утренние часы, отрыжка кислым',\n",
              " 'потливость ладоней',\n",
              " 'вздутие живота',\n",
              " 'сильная изжога',\n",
              " 'чувство дискомфорта,усиливающееся после трапезы',\n",
              " 'рвота',\n",
              " '«голодная» боль',\n",
              " 'метеоризм',\n",
              " 'колющая,давящая боль или рези в области желудка,которые почти всегда по времени возникновения связаны с приемом пищи',\n",
              " 'ощущение тяжести в животе',\n",
              " 'отрыжка воздухом',\n",
              " 'чувство тяжести в животе',\n",
              " 'боль в верхней половине живота',\n",
              " 'рвота кислым содержимым желудка',\n",
              " 'жжениеи  боль в верхней части живота выше пупка',\n",
              " 'ноющие или схваткообразные боли, слабоинтенсивные в эпигастральной области, чаще возникают натощак или непосредственно после еды',\n",
              " 'отрыжка,имеет острый привкус кислоты',\n",
              " 'боли в животе',\n",
              " 'возникает в верхней части живота, носит непостоянный характер',\n",
              " 'кровотечение',\n",
              " 'рвота и тошнота после еды',\n",
              " 'слабость',\n",
              " 'жгучая боль в животе, которая проходит от пупка до груди',\n",
              " 'при кровотечении из язв появляется рвота “кофейной гущи”, темный стул (мелена)',\n",
              " 'боль во сне',\n",
              " 'уменьшение веса',\n",
              " 'при перфорации язв - сильная, кинжальная боль в эпигастральной области, тошнота, рвота, болезненное напряжение мышц живота',\n",
              " 'снижение веса',\n",
              " 'жжения в надчревной области',\n",
              " 'чередование поноса ,запора и нормального стула',\n",
              " 'повышенное газообразование',\n",
              " 'раннее появление чувства сытости',\n",
              " 'болевой синдром',\n",
              " 'снижается аппетит или полностью пропадает',\n",
              " 'появление отрыжки после приема пищи',\n",
              " 'тяжесть в эпигастральной области после приема пищи, чувство быстрого наполнения желудка',\n",
              " 'ощущение раздутости',\n",
              " 'диспепсия',\n",
              " 'в рвотных массах больного обнаруживаются примеси крови',\n",
              " 'боль, часто локализованная в эпигастрии и уменьшающаяся после еды или антацидов',\n",
              " 'отсутствие аппетита или потеря веса',\n",
              " 'боль в эпигастральной области',\n",
              " 'чувство переполнения желудка',\n",
              " 'потеря аппетита']"
            ]
          },
          "metadata": {
            "tags": []
          },
          "execution_count": 207
        }
      ]
    },
    {
      "cell_type": "code",
      "metadata": {
        "colab_type": "code",
        "outputId": "960d0e12-3133-448b-f4e6-aa798953c2cc",
        "id": "qJmbV_XMdDTk",
        "colab": {
          "base_uri": "https://localhost:8080/",
          "height": 97
        }
      },
      "source": [
        "# сформируем датафрейм\n",
        "df = pd.DataFrame(columns=['diseas', 'text'])\n",
        "i=0\n",
        "for k,v in data.items():\n",
        "  for elem in v:\n",
        "    df.loc[i, 'diseas'] = k\n",
        "    df.loc[i, 'text'] = elem\n",
        "    i+=1\n",
        "print(df.shape)\n",
        "df.head(1)"
      ],
      "execution_count": 208,
      "outputs": [
        {
          "output_type": "stream",
          "text": [
            "(1365, 2)\n"
          ],
          "name": "stdout"
        },
        {
          "output_type": "execute_result",
          "data": {
            "text/html": [
              "<div>\n",
              "<style scoped>\n",
              "    .dataframe tbody tr th:only-of-type {\n",
              "        vertical-align: middle;\n",
              "    }\n",
              "\n",
              "    .dataframe tbody tr th {\n",
              "        vertical-align: top;\n",
              "    }\n",
              "\n",
              "    .dataframe thead th {\n",
              "        text-align: right;\n",
              "    }\n",
              "</style>\n",
              "<table border=\"1\" class=\"dataframe\">\n",
              "  <thead>\n",
              "    <tr style=\"text-align: right;\">\n",
              "      <th></th>\n",
              "      <th>diseas</th>\n",
              "      <th>text</th>\n",
              "    </tr>\n",
              "  </thead>\n",
              "  <tbody>\n",
              "    <tr>\n",
              "      <th>0</th>\n",
              "      <td>Аппендицит</td>\n",
              "      <td>стул и газы часто задерживаются</td>\n",
              "    </tr>\n",
              "  </tbody>\n",
              "</table>\n",
              "</div>"
            ],
            "text/plain": [
              "       diseas                             text\n",
              "0  Аппендицит  стул и газы часто задерживаются"
            ]
          },
          "metadata": {
            "tags": []
          },
          "execution_count": 208
        }
      ]
    },
    {
      "cell_type": "code",
      "metadata": {
        "colab_type": "code",
        "outputId": "68d0d34f-0f4a-4190-b791-204489958bb6",
        "id": "XnT3On74dDTs",
        "colab": {
          "base_uri": "https://localhost:8080/",
          "height": 221
        }
      },
      "source": [
        "# пронумеруем категории \n",
        "df['target'] = df['diseas'].astype('category').cat.codes\n",
        "# удалим примеры, для которых отсутствует метка класса\n",
        "print(df.shape)\n",
        "df['target'].value_counts()"
      ],
      "execution_count": 209,
      "outputs": [
        {
          "output_type": "stream",
          "text": [
            "(1365, 3)\n"
          ],
          "name": "stdout"
        },
        {
          "output_type": "execute_result",
          "data": {
            "text/plain": [
              "4    209\n",
              "5    194\n",
              "2    170\n",
              "7    134\n",
              "1    127\n",
              "8    123\n",
              "6    118\n",
              "3    110\n",
              "0     92\n",
              "9     88\n",
              "Name: target, dtype: int64"
            ]
          },
          "metadata": {
            "tags": []
          },
          "execution_count": 209
        }
      ]
    },
    {
      "cell_type": "code",
      "metadata": {
        "colab_type": "code",
        "outputId": "41f6e3b7-07c2-4209-e846-687cce831948",
        "id": "1HVkSNH_dDT0",
        "colab": {
          "base_uri": "https://localhost:8080/",
          "height": 68
        }
      },
      "source": [
        "%%time\n",
        "# обучим токенизатор\n",
        "MAX_WORD_COUNT = 2000\n",
        "\n",
        "tokenizer = Tokenizer(num_words=MAX_WORD_COUNT, filters='!\"#$%&()*+,-./:;<=>?@[\\\\]^_`{|}~\\t\\n', lower=True, split=' ', oov_token='UNK', char_level=False)\n",
        "tokenizer.fit_on_texts(df['text'].tolist())\n",
        "items = list(tokenizer.word_index.items())\n",
        "print(len(items))"
      ],
      "execution_count": 210,
      "outputs": [
        {
          "output_type": "stream",
          "text": [
            "1999\n",
            "CPU times: user 23.1 ms, sys: 766 µs, total: 23.9 ms\n",
            "Wall time: 23.9 ms\n"
          ],
          "name": "stdout"
        }
      ]
    },
    {
      "cell_type": "code",
      "metadata": {
        "colab_type": "code",
        "outputId": "64d25e12-e259-4a0e-e25f-2f4b1015fa8a",
        "id": "QfyAPtZPdDT9",
        "colab": {
          "base_uri": "https://localhost:8080/",
          "height": 34
        }
      },
      "source": [
        "tokenizer.word_index['37']"
      ],
      "execution_count": 211,
      "outputs": [
        {
          "output_type": "execute_result",
          "data": {
            "text/plain": [
              "245"
            ]
          },
          "metadata": {
            "tags": []
          },
          "execution_count": 211
        }
      ]
    },
    {
      "cell_type": "code",
      "metadata": {
        "colab_type": "code",
        "outputId": "1eb57867-8cd8-4071-d20c-3b01ec12e773",
        "id": "9szWt-sqdDUD",
        "colab": {
          "base_uri": "https://localhost:8080/",
          "height": 34
        }
      },
      "source": [
        "# преобразуем тексты в id (все слова, индексы которых будут больше MAX_WORD_COUNT, будут иметь индекс слова UNK)\n",
        "X = tokenizer.texts_to_sequences(df['text'].tolist())\n",
        "X[0][:20]"
      ],
      "execution_count": 212,
      "outputs": [
        {
          "output_type": "execute_result",
          "data": {
            "text/plain": [
              "[39, 3, 540, 67, 872]"
            ]
          },
          "metadata": {
            "tags": []
          },
          "execution_count": 212
        }
      ]
    },
    {
      "cell_type": "code",
      "metadata": {
        "colab_type": "code",
        "outputId": "6149ccb7-fece-4f1b-9d2c-fa54c05a5332",
        "id": "X_hkUNcpdDUH",
        "colab": {
          "base_uri": "https://localhost:8080/",
          "height": 102
        }
      },
      "source": [
        "# запишем в y индексы классов и преобразуем в one_hot вектор нулей длиной по количеству классов, имеющий 1 на пересечении индекса с нужным классом\n",
        "from collections import Counter\n",
        "y = df['target'].tolist()\n",
        "CLASSES = len(set(y))\n",
        "print('количество классов:', CLASSES)\n",
        "y_cat = utils.to_categorical(y)\n",
        "print('после преобразования:\\n', y_cat[:2])\n",
        "y_cat.shape"
      ],
      "execution_count": 213,
      "outputs": [
        {
          "output_type": "stream",
          "text": [
            "количество классов: 10\n",
            "после преобразования:\n",
            " [[1. 0. 0. 0. 0. 0. 0. 0. 0. 0.]\n",
            " [1. 0. 0. 0. 0. 0. 0. 0. 0. 0.]]\n"
          ],
          "name": "stdout"
        },
        {
          "output_type": "execute_result",
          "data": {
            "text/plain": [
              "(1365, 10)"
            ]
          },
          "metadata": {
            "tags": []
          },
          "execution_count": 213
        }
      ]
    },
    {
      "cell_type": "code",
      "metadata": {
        "colab_type": "code",
        "outputId": "77a437a3-865e-4830-c814-6e609c9f22fa",
        "id": "kWGWpUjAdDUN",
        "colab": {
          "base_uri": "https://localhost:8080/",
          "height": 221
        }
      },
      "source": [
        "# посмотрим на среднюю длину сообщений, чтобы выбрать размер среза\n",
        "from keras.preprocessing.text import text_to_word_sequence\n",
        "df['length'] = df['text'].apply(lambda x: len(text_to_word_sequence(x, filters='!\"#$%&()*+,-./:;<=>?@[\\\\]^_`{|}~\\t\\n', lower=True, split=' ')))\n",
        "df.groupby(['diseas'])['length'].mean()"
      ],
      "execution_count": 214,
      "outputs": [
        {
          "output_type": "execute_result",
          "data": {
            "text/plain": [
              "diseas\n",
              "Аппендицит    5.673913\n",
              "Гастрит       5.921260\n",
              "Гепатит       3.611765\n",
              "Дуоденит      3.745455\n",
              "Колит         5.267943\n",
              "Панкреатит    7.634021\n",
              "Холицестит    6.932203\n",
              "Эзофагит      5.283582\n",
              "Энтерит       6.040650\n",
              "Язва          4.772727\n",
              "Name: length, dtype: float64"
            ]
          },
          "metadata": {
            "tags": []
          },
          "execution_count": 214
        }
      ]
    },
    {
      "cell_type": "code",
      "metadata": {
        "id": "PeNIgLUoh4mX",
        "colab_type": "code",
        "colab": {
          "base_uri": "https://localhost:8080/",
          "height": 170
        },
        "outputId": "8e970ff1-bc7e-451f-a58a-0b1c2d8b90d5"
      },
      "source": [
        "df['length'].describe()"
      ],
      "execution_count": 272,
      "outputs": [
        {
          "output_type": "execute_result",
          "data": {
            "text/plain": [
              "count    1365.000000\n",
              "mean        5.546520\n",
              "std         4.948732\n",
              "min         0.000000\n",
              "25%         2.000000\n",
              "50%         4.000000\n",
              "75%         7.000000\n",
              "max        45.000000\n",
              "Name: length, dtype: float64"
            ]
          },
          "metadata": {
            "tags": []
          },
          "execution_count": 272
        }
      ]
    },
    {
      "cell_type": "code",
      "metadata": {
        "id": "QZOYjCOMdhK4",
        "colab_type": "code",
        "colab": {
          "base_uri": "https://localhost:8080/",
          "height": 85
        },
        "outputId": "e9a822c3-8900-405b-b706-3fd09b96b7f0"
      },
      "source": [
        "slice_len = 30\n",
        "step = 3\n",
        "\n",
        "x_new, y_new = create_dataset(X, y_cat, slice_len, step)\n",
        "print(x_new.shape, y_new.shape)\n",
        "print(x_new[0])\n",
        "print(y_new[0])"
      ],
      "execution_count": 278,
      "outputs": [
        {
          "output_type": "stream",
          "text": [
            "100%|██████████| 1365/1365 [00:00<00:00, 235450.94it/s]"
          ],
          "name": "stderr"
        },
        {
          "output_type": "stream",
          "text": [
            "(2041,) (2041, 10)\n",
            "[39, 3, 540, 67, 872]\n",
            "[1. 0. 0. 0. 0. 0. 0. 0. 0. 0.]\n"
          ],
          "name": "stdout"
        },
        {
          "output_type": "stream",
          "text": [
            "\n"
          ],
          "name": "stderr"
        }
      ]
    },
    {
      "cell_type": "code",
      "metadata": {
        "id": "201vCaaxed6R",
        "colab_type": "code",
        "colab": {}
      },
      "source": [
        "from sklearn.model_selection import train_test_split\n",
        "x_train, x_test, y_train, y_test = train_test_split(x_new, y_new, test_size=0.2, random_state=777)"
      ],
      "execution_count": 0,
      "outputs": []
    },
    {
      "cell_type": "code",
      "metadata": {
        "colab_type": "code",
        "outputId": "be2d872d-ef22-47a9-f462-68026bb20b0b",
        "id": "Qe58j_Rsdfoh",
        "colab": {
          "base_uri": "https://localhost:8080/",
          "height": 34
        }
      },
      "source": [
        "# приведем к формату bag of words по длине словаря MAX_WORD_COUNT\n",
        "x_train_bow = tokenizer.sequences_to_matrix(x_train.tolist())\n",
        "x_test_bow = tokenizer.sequences_to_matrix(x_test.tolist())\n",
        "x_train_bow.shape"
      ],
      "execution_count": 280,
      "outputs": [
        {
          "output_type": "execute_result",
          "data": {
            "text/plain": [
              "(1632, 2000)"
            ]
          },
          "metadata": {
            "tags": []
          },
          "execution_count": 280
        }
      ]
    },
    {
      "cell_type": "markdown",
      "metadata": {
        "colab_type": "text",
        "id": "pdzHBIcidfop"
      },
      "source": [
        "**WITHOUT EMBEDDING**"
      ]
    },
    {
      "cell_type": "code",
      "metadata": {
        "colab_type": "code",
        "outputId": "806ba092-6ca0-46a4-b5d1-ef8b46e9f78d",
        "id": "V_twOY2Wdfoq",
        "colab": {
          "base_uri": "https://localhost:8080/",
          "height": 731
        }
      },
      "source": [
        "# создадим граф вычислений нейросети 1\n",
        "from keras.models import Sequential\n",
        "from keras.layers import Dense, Dropout, BatchNormalization, LeakyReLU\n",
        "from keras.optimizers import Adam\n",
        "from keras.regularizers import l1\n",
        "\n",
        "model = Sequential()\n",
        "model.add(Dense(100, activation='relu', input_dim=MAX_WORD_COUNT, name='input'))\n",
        "model.add(Dense(CLASSES, activation='softmax', name='output'))\n",
        "model.compile(loss='categorical_crossentropy',\n",
        "              metrics=['accuracy'],\n",
        "              optimizer=Adam(learning_rate=1e-3))\n",
        "\n",
        "model.fit(x_train_bow,\n",
        "          y_train,\n",
        "          validation_data=(x_test_bow, y_test),\n",
        "          epochs=20,\n",
        "          batch_size=128,\n",
        "          verbose=1)"
      ],
      "execution_count": 281,
      "outputs": [
        {
          "output_type": "stream",
          "text": [
            "Train on 1632 samples, validate on 409 samples\n",
            "Epoch 1/20\n",
            "1632/1632 [==============================] - 0s 71us/step - loss: 2.2551 - accuracy: 0.2371 - val_loss: 2.1820 - val_accuracy: 0.4401\n",
            "Epoch 2/20\n",
            "1632/1632 [==============================] - 0s 34us/step - loss: 2.0898 - accuracy: 0.5257 - val_loss: 2.0268 - val_accuracy: 0.5208\n",
            "Epoch 3/20\n",
            "1632/1632 [==============================] - 0s 32us/step - loss: 1.8947 - accuracy: 0.5711 - val_loss: 1.8381 - val_accuracy: 0.5428\n",
            "Epoch 4/20\n",
            "1632/1632 [==============================] - 0s 33us/step - loss: 1.6728 - accuracy: 0.6140 - val_loss: 1.6416 - val_accuracy: 0.5697\n",
            "Epoch 5/20\n",
            "1632/1632 [==============================] - 0s 32us/step - loss: 1.4509 - accuracy: 0.6697 - val_loss: 1.4611 - val_accuracy: 0.6186\n",
            "Epoch 6/20\n",
            "1632/1632 [==============================] - 0s 32us/step - loss: 1.2524 - accuracy: 0.7298 - val_loss: 1.3079 - val_accuracy: 0.6626\n",
            "Epoch 7/20\n",
            "1632/1632 [==============================] - 0s 32us/step - loss: 1.0769 - accuracy: 0.7843 - val_loss: 1.1804 - val_accuracy: 0.7237\n",
            "Epoch 8/20\n",
            "1632/1632 [==============================] - 0s 32us/step - loss: 0.9291 - accuracy: 0.8235 - val_loss: 1.0769 - val_accuracy: 0.7433\n",
            "Epoch 9/20\n",
            "1632/1632 [==============================] - 0s 32us/step - loss: 0.8053 - accuracy: 0.8511 - val_loss: 0.9947 - val_accuracy: 0.7604\n",
            "Epoch 10/20\n",
            "1632/1632 [==============================] - 0s 32us/step - loss: 0.7032 - accuracy: 0.8725 - val_loss: 0.9262 - val_accuracy: 0.7677\n",
            "Epoch 11/20\n",
            "1632/1632 [==============================] - 0s 35us/step - loss: 0.6196 - accuracy: 0.8891 - val_loss: 0.8771 - val_accuracy: 0.7775\n",
            "Epoch 12/20\n",
            "1632/1632 [==============================] - 0s 36us/step - loss: 0.5501 - accuracy: 0.9007 - val_loss: 0.8357 - val_accuracy: 0.7848\n",
            "Epoch 13/20\n",
            "1632/1632 [==============================] - 0s 36us/step - loss: 0.4927 - accuracy: 0.9099 - val_loss: 0.8054 - val_accuracy: 0.7946\n",
            "Epoch 14/20\n",
            "1632/1632 [==============================] - 0s 35us/step - loss: 0.4454 - accuracy: 0.9173 - val_loss: 0.7796 - val_accuracy: 0.7971\n",
            "Epoch 15/20\n",
            "1632/1632 [==============================] - 0s 33us/step - loss: 0.4053 - accuracy: 0.9234 - val_loss: 0.7608 - val_accuracy: 0.7995\n",
            "Epoch 16/20\n",
            "1632/1632 [==============================] - 0s 32us/step - loss: 0.3723 - accuracy: 0.9265 - val_loss: 0.7459 - val_accuracy: 0.8117\n",
            "Epoch 17/20\n",
            "1632/1632 [==============================] - 0s 35us/step - loss: 0.3436 - accuracy: 0.9271 - val_loss: 0.7324 - val_accuracy: 0.8142\n",
            "Epoch 18/20\n",
            "1632/1632 [==============================] - 0s 32us/step - loss: 0.3191 - accuracy: 0.9289 - val_loss: 0.7223 - val_accuracy: 0.8166\n",
            "Epoch 19/20\n",
            "1632/1632 [==============================] - 0s 34us/step - loss: 0.2980 - accuracy: 0.9326 - val_loss: 0.7173 - val_accuracy: 0.8068\n",
            "Epoch 20/20\n",
            "1632/1632 [==============================] - 0s 34us/step - loss: 0.2792 - accuracy: 0.9375 - val_loss: 0.7136 - val_accuracy: 0.8093\n"
          ],
          "name": "stdout"
        },
        {
          "output_type": "execute_result",
          "data": {
            "text/plain": [
              "<keras.callbacks.callbacks.History at 0x7f0dd59eacc0>"
            ]
          },
          "metadata": {
            "tags": []
          },
          "execution_count": 281
        }
      ]
    },
    {
      "cell_type": "code",
      "metadata": {
        "id": "MChc7rCZe2jZ",
        "colab_type": "code",
        "colab": {
          "base_uri": "https://localhost:8080/",
          "height": 297
        },
        "outputId": "314507ea-395c-40a6-8ed1-67786ff88897"
      },
      "source": [
        "history_plot(model.history)"
      ],
      "execution_count": 282,
      "outputs": [
        {
          "output_type": "display_data",
          "data": {
            "image/png": "[encoded data removed]",
            "text/plain": [
              "<Figure size 432x288 with 2 Axes>"
            ]
          },
          "metadata": {
            "tags": [],
            "needs_background": "light"
          }
        }
      ]
    },
    {
      "cell_type": "markdown",
      "metadata": {
        "id": "oaf2Sr5viO93",
        "colab_type": "text"
      },
      "source": [
        "после разбиения на предложения классификация дает меньший результат, но он вполне приемлем, если брать в расчет, что в бою мдель будет применяться для определения болезни именно по одному симптому из списка, а не по всему списку (второе приемлемо, когда у нас куча записей в одном документе и не понятно к какой категории документ принадлежит)"
      ]
    }
  ]
}