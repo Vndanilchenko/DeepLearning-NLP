{
  "nbformat": 4,
  "nbformat_minor": 0,
  "metadata": {
    "colab": {
      "name": "BERT_binary_text_classification.ipynb",
      "provenance": [],
      "collapsed_sections": []
    },
    "kernelspec": {
      "name": "python3",
      "display_name": "Python 3"
    },
    "accelerator": "GPU"
  },
  "cells": [
    {
      "cell_type": "markdown",
      "metadata": {
        "id": "srng7q5HDHJM",
        "colab_type": "text"
      },
      "source": [
        "# BINARY TEXT CLASSIFICATION USING BERT"
      ]
    },
    {
      "cell_type": "markdown",
      "metadata": {
        "id": "RzDCtgRoBJ17",
        "colab_type": "text"
      },
      "source": [
        "Бинарная классификация позитивных и негативных отзывов по IMDb movie review dataset с использованием преодобученного тансформера Bert [BERT](https://arxiv.org/abs/1810.04805). Оберткой над Keras для обучения будем использовать библиотеку ktrain [*ktrain* library](https://github.com/amaiya/ktrain)"
      ]
    },
    {
      "cell_type": "markdown",
      "metadata": {
        "id": "8-h-sM1XDf7K",
        "colab_type": "text"
      },
      "source": [
        "Данильченко Вадим"
      ]
    },
    {
      "cell_type": "code",
      "metadata": {
        "id": "WqsWXv1TA-VZ",
        "colab_type": "code",
        "colab": {}
      },
      "source": [
        "# install ktrain\n",
        "# !pip3 install ktrain"
      ],
      "execution_count": 0,
      "outputs": []
    },
    {
      "cell_type": "code",
      "metadata": {
        "id": "tP1NQGtsQaSW",
        "colab_type": "code",
        "colab": {}
      },
      "source": [
        "import ktrain\n",
        "from ktrain import text"
      ],
      "execution_count": 0,
      "outputs": []
    },
    {
      "cell_type": "code",
      "metadata": {
        "id": "y6ek6R2JQkdt",
        "colab_type": "code",
        "outputId": "c12eef9d-1c6e-4953-80ef-e160bd48c1eb",
        "colab": {
          "base_uri": "https://localhost:8080/",
          "height": 34
        }
      },
      "source": [
        "ktrain.__version__"
      ],
      "execution_count": 0,
      "outputs": [
        {
          "output_type": "execute_result",
          "data": {
            "text/plain": [
              "'0.14.1'"
            ]
          },
          "metadata": {
            "tags": []
          },
          "execution_count": 4
        }
      ]
    },
    {
      "cell_type": "code",
      "metadata": {
        "id": "p5lJ5jXpqtM9",
        "colab_type": "code",
        "outputId": "ffa6f0c9-dede-43db-bfec-f36d3e3fa075",
        "colab": {
          "base_uri": "https://localhost:8080/",
          "height": 51
        }
      },
      "source": [
        "# скачаем датасет \n",
        "import tensorflow as tf\n",
        "dataset = tf.keras.utils.get_file(\n",
        "    fname=\"aclImdb.tar.gz\", \n",
        "    origin=\"http://ai.stanford.edu/~amaas/data/sentiment/aclImdb_v1.tar.gz\", \n",
        "    extract=True,\n",
        ")"
      ],
      "execution_count": 0,
      "outputs": [
        {
          "output_type": "stream",
          "text": [
            "Downloading data from http://ai.stanford.edu/~amaas/data/sentiment/aclImdb_v1.tar.gz\n",
            "84131840/84125825 [==============================] - 8s 0us/step\n"
          ],
          "name": "stdout"
        }
      ]
    },
    {
      "cell_type": "code",
      "metadata": {
        "id": "qsyxR4znrGi6",
        "colab_type": "code",
        "outputId": "415a843b-ec9d-4efd-f2b9-a37663443cd2",
        "colab": {
          "base_uri": "https://localhost:8080/",
          "height": 34
        }
      },
      "source": [
        "# распакуем данные\n",
        "import os.path\n",
        "#dataset = '/root/.keras/datasets/aclImdb'\n",
        "IMDB_DATADIR = os.path.join(os.path.dirname(dataset), 'aclImdb')\n",
        "print(IMDB_DATADIR)"
      ],
      "execution_count": 0,
      "outputs": [
        {
          "output_type": "stream",
          "text": [
            "/root/.keras/datasets/aclImdb\n"
          ],
          "name": "stdout"
        }
      ]
    },
    {
      "cell_type": "markdown",
      "metadata": {
        "id": "1Nm5-uiiMj0I",
        "colab_type": "text"
      },
      "source": [
        "#### загрузка и препроцессинг датасета"
      ]
    },
    {
      "cell_type": "code",
      "metadata": {
        "id": "oFk_JVfisLbm",
        "colab_type": "code",
        "outputId": "b3885e60-bfe7-4840-a2d7-655163330d26",
        "colab": {
          "base_uri": "https://localhost:8080/",
          "height": 272
        }
      },
      "source": [
        "# загрузим скаченные данные и преобразуем в специальный формат, с которым BERT умеет работать\n",
        "# также будет подгружена модель и  словарь\n",
        "(x_train, y_train), (x_test, y_test), preproc = text.texts_from_folder(IMDB_DATADIR, \n",
        "                                                                       maxlen=500, \n",
        "                                                                       preprocess_mode='bert',\n",
        "                                                                       train_test_names=['train', \n",
        "                                                                                         'test'],\n",
        "                                                                       classes=['pos', 'neg'])"
      ],
      "execution_count": 0,
      "outputs": [
        {
          "output_type": "stream",
          "text": [
            "detected encoding: utf-8\n",
            "downloading pretrained BERT model (uncased_L-12_H-768_A-12.zip)...\n",
            "[██████████████████████████████████████████████████]\n",
            "extracting pretrained BERT model...\n",
            "done.\n",
            "\n",
            "cleanup downloaded zip...\n",
            "done.\n",
            "\n",
            "preprocessing train...\n",
            "language: en\n"
          ],
          "name": "stdout"
        },
        {
          "output_type": "display_data",
          "data": {
            "text/html": [
              "done."
            ],
            "text/plain": [
              "<IPython.core.display.HTML object>"
            ]
          },
          "metadata": {
            "tags": []
          }
        },
        {
          "output_type": "stream",
          "text": [
            "preprocessing test...\n",
            "language: en\n"
          ],
          "name": "stdout"
        },
        {
          "output_type": "display_data",
          "data": {
            "text/html": [
              "done."
            ],
            "text/plain": [
              "<IPython.core.display.HTML object>"
            ]
          },
          "metadata": {
            "tags": []
          }
        }
      ]
    },
    {
      "cell_type": "markdown",
      "metadata": {
        "id": "_Eh8CLd0Mpd5",
        "colab_type": "text"
      },
      "source": [
        "#### обернем в объект ktrain.Learner предобученную модель BERT"
      ]
    },
    {
      "cell_type": "code",
      "metadata": {
        "id": "YVCCpjtKwfTs",
        "colab_type": "code",
        "outputId": "9c122174-60fe-4e52-a06b-7d051d191bb8",
        "colab": {
          "base_uri": "https://localhost:8080/",
          "height": 68
        }
      },
      "source": [
        "model = text.text_classifier('bert', (x_train, y_train), preproc=preproc)\n",
        "learner = ktrain.get_learner(model,\n",
        "                             train_data=(x_train, y_train), \n",
        "                             val_data=(x_test, y_test), \n",
        "                             batch_size=6)"
      ],
      "execution_count": 0,
      "outputs": [
        {
          "output_type": "stream",
          "text": [
            "Is Multi-Label? False\n",
            "maxlen is 500\n",
            "done.\n"
          ],
          "name": "stdout"
        }
      ]
    },
    {
      "cell_type": "markdown",
      "metadata": {
        "id": "-g9dwBJqNgvR",
        "colab_type": "text"
      },
      "source": [
        "#### подберем лучший learning rate и обучим модель"
      ]
    },
    {
      "cell_type": "code",
      "metadata": {
        "id": "CfctTTCJFKtD",
        "colab_type": "code",
        "colab": {}
      },
      "source": [
        "# найдем оптимальный learning rate\n",
        "learner.lr_find()\n",
        "learner.lr_plot()"
      ],
      "execution_count": 0,
      "outputs": []
    },
    {
      "cell_type": "code",
      "metadata": {
        "id": "IhHGCuPhv5Ew",
        "colab_type": "code",
        "outputId": "9e081d35-1a6a-4d13-d45e-1439f2f63454",
        "colab": {
          "base_uri": "https://localhost:8080/",
          "height": 119
        }
      },
      "source": [
        "learner.fit_onecycle(2e-5, 1)"
      ],
      "execution_count": 0,
      "outputs": [
        {
          "output_type": "stream",
          "text": [
            "\n",
            "\n",
            "begin training using onecycle policy with max lr of 2e-05...\n",
            "Train on 25000 samples, validate on 25000 samples\n",
            "25000/25000 [==============================] - 3411s 136ms/sample - loss: 0.2615 - accuracy: 0.8910 - val_loss: 0.1644 - val_accuracy: 0.9371\n"
          ],
          "name": "stdout"
        },
        {
          "output_type": "execute_result",
          "data": {
            "text/plain": [
              "<tensorflow.python.keras.callbacks.History at 0x7f84cc0689b0>"
            ]
          },
          "metadata": {
            "tags": []
          },
          "execution_count": 9
        }
      ]
    },
    {
      "cell_type": "markdown",
      "metadata": {
        "id": "WBE749i3QaMu",
        "colab_type": "text"
      },
      "source": [
        "#### предскажем класс для нескольких сгенерированных фраз"
      ]
    },
    {
      "cell_type": "code",
      "metadata": {
        "id": "kCt_S31R6j8m",
        "colab_type": "code",
        "colab": {}
      },
      "source": [
        "predictor = ktrain.get_predictor(learner.model, preproc)"
      ],
      "execution_count": 0,
      "outputs": []
    },
    {
      "cell_type": "code",
      "metadata": {
        "id": "CVNeB54U63SX",
        "colab_type": "code",
        "outputId": "ba02ad3d-80fe-45ad-96c7-d5c8021f19f4",
        "colab": {
          "base_uri": "https://localhost:8080/",
          "height": 34
        }
      },
      "source": [
        "predictor.get_classes()"
      ],
      "execution_count": 0,
      "outputs": [
        {
          "output_type": "execute_result",
          "data": {
            "text/plain": [
              "['neg', 'pos']"
            ]
          },
          "metadata": {
            "tags": []
          },
          "execution_count": 12
        }
      ]
    },
    {
      "cell_type": "code",
      "metadata": {
        "id": "lBevcSwf6x61",
        "colab_type": "code",
        "colab": {}
      },
      "source": [
        "data = [\"i don't like this\", \n",
        "        \"it was terrible\",\n",
        "        \"what an idiot made it\",\n",
        "        \"i've never seen something better\",\n",
        "        \"what a beautifull movie\",\n",
        "        \"yes i like it\"]"
      ],
      "execution_count": 0,
      "outputs": []
    },
    {
      "cell_type": "code",
      "metadata": {
        "id": "xu8jEKvY66Xj",
        "colab_type": "code",
        "outputId": "d844429d-ae6c-4fae-88e3-800e62f608f8",
        "colab": {
          "base_uri": "https://localhost:8080/",
          "height": 119
        }
      },
      "source": [
        "predictor.predict(data, return_proba=True)"
      ],
      "execution_count": 0,
      "outputs": [
        {
          "output_type": "display_data",
          "data": {
            "text/html": [
              ""
            ],
            "text/plain": [
              "<IPython.core.display.HTML object>"
            ]
          },
          "metadata": {
            "tags": []
          }
        },
        {
          "output_type": "execute_result",
          "data": {
            "text/plain": [
              "array([[0.83540404, 0.16459592],\n",
              "       [0.96164936, 0.03835063],\n",
              "       [0.93933153, 0.06066843],\n",
              "       [0.06051107, 0.9394889 ],\n",
              "       [0.02821554, 0.9717845 ],\n",
              "       [0.05389027, 0.9461097 ]], dtype=float32)"
            ]
          },
          "metadata": {
            "tags": []
          },
          "execution_count": 19
        }
      ]
    },
    {
      "cell_type": "code",
      "metadata": {
        "id": "nqeBYTZQ6-gL",
        "colab_type": "code",
        "colab": {}
      },
      "source": [
        "predictor.save('data/IMDb_predictor')"
      ],
      "execution_count": 0,
      "outputs": []
    },
    {
      "cell_type": "code",
      "metadata": {
        "id": "Slho0O7vGTde",
        "colab_type": "code",
        "colab": {}
      },
      "source": [
        "# predictor = ktrain.load_predictor('/tmp/my_moviereview_predictor')\n",
        "# predictor.predict(['this is my favorite movie'])"
      ],
      "execution_count": 0,
      "outputs": []
    }
  ]
}