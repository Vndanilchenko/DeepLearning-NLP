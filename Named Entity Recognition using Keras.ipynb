{
 "cells": [
  {
   "cell_type": "markdown",
   "metadata": {},
   "source": [
    "# NAMED ENTITY RECOGNITION"
   ]
  },
  {
   "cell_type": "markdown",
   "metadata": {},
   "source": [
    "Данильченко Вадим"
   ]
  },
  {
   "cell_type": "code",
   "execution_count": 72,
   "metadata": {},
   "outputs": [],
   "source": [
    "import pandas as pd\n",
    "import numpy as np\n",
    "from keras.preprocessing.sequence import pad_sequences\n",
    "from keras.utils import to_categorical\n",
    "from keras.models import Sequential\n",
    "from keras.layers import LSTM, Dense, TimeDistributed, Bidirectional, Embedding, Dropout, Flatten\n",
    "from sklearn.model_selection import train_test_split\n",
    "from sklearn_crfsuite.metrics import flat_classification_report"
   ]
  },
  {
   "cell_type": "code",
   "execution_count": 5,
   "metadata": {},
   "outputs": [
    {
     "data": {
      "text/html": [
       "<div>\n",
       "<style scoped>\n",
       "    .dataframe tbody tr th:only-of-type {\n",
       "        vertical-align: middle;\n",
       "    }\n",
       "\n",
       "    .dataframe tbody tr th {\n",
       "        vertical-align: top;\n",
       "    }\n",
       "\n",
       "    .dataframe thead th {\n",
       "        text-align: right;\n",
       "    }\n",
       "</style>\n",
       "<table border=\"1\" class=\"dataframe\">\n",
       "  <thead>\n",
       "    <tr style=\"text-align: right;\">\n",
       "      <th></th>\n",
       "      <th>Sentence #</th>\n",
       "      <th>Word</th>\n",
       "      <th>POS</th>\n",
       "      <th>Tag</th>\n",
       "    </tr>\n",
       "  </thead>\n",
       "  <tbody>\n",
       "    <tr>\n",
       "      <td>0</td>\n",
       "      <td>Sentence: 1</td>\n",
       "      <td>Thousands</td>\n",
       "      <td>NNS</td>\n",
       "      <td>O</td>\n",
       "    </tr>\n",
       "    <tr>\n",
       "      <td>1</td>\n",
       "      <td>Sentence: 1</td>\n",
       "      <td>of</td>\n",
       "      <td>IN</td>\n",
       "      <td>O</td>\n",
       "    </tr>\n",
       "    <tr>\n",
       "      <td>2</td>\n",
       "      <td>Sentence: 1</td>\n",
       "      <td>demonstrators</td>\n",
       "      <td>NNS</td>\n",
       "      <td>O</td>\n",
       "    </tr>\n",
       "    <tr>\n",
       "      <td>3</td>\n",
       "      <td>Sentence: 1</td>\n",
       "      <td>have</td>\n",
       "      <td>VBP</td>\n",
       "      <td>O</td>\n",
       "    </tr>\n",
       "    <tr>\n",
       "      <td>4</td>\n",
       "      <td>Sentence: 1</td>\n",
       "      <td>marched</td>\n",
       "      <td>VBN</td>\n",
       "      <td>O</td>\n",
       "    </tr>\n",
       "  </tbody>\n",
       "</table>\n",
       "</div>"
      ],
      "text/plain": [
       "    Sentence #           Word  POS Tag\n",
       "0  Sentence: 1      Thousands  NNS   O\n",
       "1  Sentence: 1             of   IN   O\n",
       "2  Sentence: 1  demonstrators  NNS   O\n",
       "3  Sentence: 1           have  VBP   O\n",
       "4  Sentence: 1        marched  VBN   O"
      ]
     },
     "execution_count": 5,
     "metadata": {},
     "output_type": "execute_result"
    }
   ],
   "source": [
    "data = pd.read_csv(\"data/ner_dataset.csv\", encoding=\"latin1\")\n",
    "data = data.fillna(method=\"ffill\")\n",
    "data.head()"
   ]
  },
  {
   "cell_type": "code",
   "execution_count": 10,
   "metadata": {
    "slideshow": {
     "slide_type": "-"
    }
   },
   "outputs": [],
   "source": [
    "# объявим длину последовательности\n",
    "max_len = 50\n",
    "\n",
    "# создадим уникальные словари частей речи и тэгов\n",
    "words = list(set(data[\"Word\"].values))\n",
    "tags = list(set(data[\"Tag\"].values))\n",
    "\n",
    "# присвоим кадлому слову индекс\n",
    "word2idx = {w: i + 2 for i, w in enumerate(words)}\n",
    "# неизветные нам слова будут иметь индекс слова \"UNK\"\n",
    "word2idx[\"UNK\"] = 1\n",
    "# отступы слов до достижения заданной длины последовательности \n",
    "word2idx[\"PAD\"] = 0\n",
    "idx2word = {i: w for w, i in word2idx.items()}\n",
    "tag2idx = {t: i + 1 for i, t in enumerate(tags)}\n",
    "tag2idx[\"PAD\"] = 0\n",
    "idx2tag = {i: w for w, i in tag2idx.items()}\n",
    "\n",
    "# количество тэгов - размерность выходного слоя\n",
    "n_tags = len(tag2idx)"
   ]
  },
  {
   "cell_type": "code",
   "execution_count": 11,
   "metadata": {},
   "outputs": [],
   "source": [
    "# создадим класс для объединения датасета в кортеж (слово, часть речи, тэг)\n",
    "class SentenceGetter(object):\n",
    "    \n",
    "    def __init__(self, data):\n",
    "        self.n_sent = 1\n",
    "        self.data = data\n",
    "        self.empty = False\n",
    "        agg_func = lambda s: [(w, p, t) for w, p, t in zip(s[\"Word\"].values.tolist(),\n",
    "                                                           s[\"POS\"].values.tolist(),\n",
    "                                                           s[\"Tag\"].values.tolist())]\n",
    "        self.grouped = self.data.groupby(\"Sentence #\").apply(agg_func)\n",
    "        self.sentences = [s for s in self.grouped]\n",
    "        \n",
    "    def get_next(self):\n",
    "        try:\n",
    "            s = self.data[self.data[\"Sentence #\"] == \"Sentence: {}\".format(self.n_sent)]\n",
    "            self.n_sent += 1\n",
    "            return s[\"Word\"].values.tolist(), s[\"POS\"].values.tolist(), s[\"Tag\"].values.tolist()    \n",
    "        except:\n",
    "            self.empty = True\n",
    "            return None, None, None"
   ]
  },
  {
   "cell_type": "code",
   "execution_count": 12,
   "metadata": {},
   "outputs": [
    {
     "data": {
      "text/plain": [
       "[[('Thousands', 'NNS', 'O'),\n",
       "  ('of', 'IN', 'O'),\n",
       "  ('demonstrators', 'NNS', 'O'),\n",
       "  ('have', 'VBP', 'O'),\n",
       "  ('marched', 'VBN', 'O'),\n",
       "  ('through', 'IN', 'O'),\n",
       "  ('London', 'NNP', 'B-geo'),\n",
       "  ('to', 'TO', 'O'),\n",
       "  ('protest', 'VB', 'O'),\n",
       "  ('the', 'DT', 'O'),\n",
       "  ('war', 'NN', 'O'),\n",
       "  ('in', 'IN', 'O'),\n",
       "  ('Iraq', 'NNP', 'B-geo'),\n",
       "  ('and', 'CC', 'O'),\n",
       "  ('demand', 'VB', 'O'),\n",
       "  ('the', 'DT', 'O'),\n",
       "  ('withdrawal', 'NN', 'O'),\n",
       "  ('of', 'IN', 'O'),\n",
       "  ('British', 'JJ', 'B-gpe'),\n",
       "  ('troops', 'NNS', 'O'),\n",
       "  ('from', 'IN', 'O'),\n",
       "  ('that', 'DT', 'O'),\n",
       "  ('country', 'NN', 'O'),\n",
       "  ('.', '.', 'O')],\n",
       " [('Iranian', 'JJ', 'B-gpe'),\n",
       "  ('officials', 'NNS', 'O'),\n",
       "  ('say', 'VBP', 'O'),\n",
       "  ('they', 'PRP', 'O'),\n",
       "  ('expect', 'VBP', 'O'),\n",
       "  ('to', 'TO', 'O'),\n",
       "  ('get', 'VB', 'O'),\n",
       "  ('access', 'NN', 'O'),\n",
       "  ('to', 'TO', 'O'),\n",
       "  ('sealed', 'JJ', 'O'),\n",
       "  ('sensitive', 'JJ', 'O'),\n",
       "  ('parts', 'NNS', 'O'),\n",
       "  ('of', 'IN', 'O'),\n",
       "  ('the', 'DT', 'O'),\n",
       "  ('plant', 'NN', 'O'),\n",
       "  ('Wednesday', 'NNP', 'B-tim'),\n",
       "  (',', ',', 'O'),\n",
       "  ('after', 'IN', 'O'),\n",
       "  ('an', 'DT', 'O'),\n",
       "  ('IAEA', 'NNP', 'B-org'),\n",
       "  ('surveillance', 'NN', 'O'),\n",
       "  ('system', 'NN', 'O'),\n",
       "  ('begins', 'VBZ', 'O'),\n",
       "  ('functioning', 'VBG', 'O'),\n",
       "  ('.', '.', 'O')]]"
      ]
     },
     "execution_count": 12,
     "metadata": {},
     "output_type": "execute_result"
    }
   ],
   "source": [
    "# запишем результат в переменную\n",
    "getter = SentenceGetter(data)\n",
    "sentences = getter.sentences\n",
    "sentences[:2]"
   ]
  },
  {
   "cell_type": "code",
   "execution_count": 14,
   "metadata": {
    "slideshow": {
     "slide_type": "subslide"
    }
   },
   "outputs": [
    {
     "name": "stdout",
     "output_type": "stream",
     "text": [
      "[17897, 9596, 3207, 30072, 19309, 1327, 28291, 34883, 5637, 6676, 15083, 19302, 17689, 31141, 32695, 6676, 32689, 9596, 1487, 8156, 18776, 11271, 19282, 30394]\n"
     ]
    }
   ],
   "source": [
    "# преобразуем предложения в последовательность индексов слов\n",
    "X = [[word2idx[w[0]] for w in s] for s in sentences]\n",
    "print(X[0])"
   ]
  },
  {
   "cell_type": "code",
   "execution_count": 24,
   "metadata": {
    "slideshow": {
     "slide_type": "subslide"
    }
   },
   "outputs": [
    {
     "name": "stdout",
     "output_type": "stream",
     "text": [
      "[17897  9596  3207 30072 19309  1327 28291 34883  5637  6676 15083 19302\n",
      " 17689 31141 32695  6676 32689  9596  1487  8156 18776 11271 19282 30394\n",
      "     0     0     0     0     0     0     0     0     0     0     0     0\n",
      "     0     0     0     0     0     0     0     0     0     0     0     0\n",
      "     0     0]\n"
     ]
    }
   ],
   "source": [
    "# добавим нули до максимального размера последовательности\n",
    "X = pad_sequences(maxlen=max_len, sequences=X, padding=\"post\", value= 0)\n",
    "print(X[0])"
   ]
  },
  {
   "cell_type": "code",
   "execution_count": 25,
   "metadata": {
    "slideshow": {
     "slide_type": "subslide"
    }
   },
   "outputs": [
    {
     "name": "stdout",
     "output_type": "stream",
     "text": [
      "[ 6  6  6  6  6  6  4  6  6  6  6  6  4  6  6  6  6  6 15  6  6  6  6  6\n",
      "  6  6  6  6  6  6  6  6  6  6  6  6  6  6  6  6  6  6  6  6  6  6  6  6\n",
      "  6  6]\n"
     ]
    }
   ],
   "source": [
    "# запишем в целевую переменную для каждого преддложения индексы его тэгов\n",
    "y = [[tag2idx[w[2]] for w in s] for s in sentences]\n",
    "y = pad_sequences(maxlen=max_len, sequences=y, padding=\"post\", value=tag2idx[\"O\"])\n",
    "print(y[0])"
   ]
  },
  {
   "cell_type": "code",
   "execution_count": 27,
   "metadata": {
    "slideshow": {
     "slide_type": "subslide"
    }
   },
   "outputs": [],
   "source": [
    "# разделим данные на тренировочную и валидационную выборки\n",
    "x_train, x_test, y_train, y_test = train_test_split(X, y, test_size=0.1)\n",
    "y_train = [to_categorical(i, num_classes=n_tags) for i in y_train]"
   ]
  },
  {
   "cell_type": "code",
   "execution_count": 34,
   "metadata": {
    "slideshow": {
     "slide_type": "subslide"
    }
   },
   "outputs": [],
   "source": [
    "# составим модель\n",
    "model = Sequential()\n",
    "model.add(Embedding(input_dim=len(word2idx) + 1 , output_dim=50, input_length=max_len))\n",
    "model.add(Bidirectional(LSTM(100, return_sequences = True, recurrent_dropout=0.1)))\n",
    "model.add(Dropout(0.1))\n",
    "model.add(TimeDistributed(Dense(n_tags, activation = 'softmax')))\n",
    "model.compile(optimizer=\"rmsprop\", loss=\"categorical_crossentropy\", metrics=[\"accuracy\"])"
   ]
  },
  {
   "cell_type": "code",
   "execution_count": 36,
   "metadata": {
    "slideshow": {
     "slide_type": "subslide"
    }
   },
   "outputs": [
    {
     "name": "stderr",
     "output_type": "stream",
     "text": [
      "C:\\Users\\vndan\\Anaconda3\\lib\\site-packages\\tensorflow_core\\python\\framework\\indexed_slices.py:424: UserWarning: Converting sparse IndexedSlices to a dense Tensor of unknown shape. This may consume a large amount of memory.\n",
      "  \"Converting sparse IndexedSlices to a dense Tensor of unknown shape. \"\n"
     ]
    },
    {
     "name": "stdout",
     "output_type": "stream",
     "text": [
      "Train on 38846 samples, validate on 4317 samples\n",
      "Epoch 1/10\n",
      "38846/38846 [==============================] - 92s 2ms/step - loss: 0.1372 - accuracy: 0.9649 - val_loss: 0.0640 - val_accuracy: 0.9815\n",
      "Epoch 2/10\n",
      "38846/38846 [==============================] - 91s 2ms/step - loss: 0.0537 - accuracy: 0.9844 - val_loss: 0.0516 - val_accuracy: 0.9849\n",
      "Epoch 3/10\n",
      "38846/38846 [==============================] - 91s 2ms/step - loss: 0.0449 - accuracy: 0.9869 - val_loss: 0.0479 - val_accuracy: 0.9858\n",
      "Epoch 4/10\n",
      "38846/38846 [==============================] - 91s 2ms/step - loss: 0.0405 - accuracy: 0.9881 - val_loss: 0.0467 - val_accuracy: 0.9863\n",
      "Epoch 5/10\n",
      "38846/38846 [==============================] - 95s 2ms/step - loss: 0.0374 - accuracy: 0.9889 - val_loss: 0.0467 - val_accuracy: 0.9861\n",
      "Epoch 6/10\n",
      "38846/38846 [==============================] - 93s 2ms/step - loss: 0.0353 - accuracy: 0.9895 - val_loss: 0.0448 - val_accuracy: 0.9866\n",
      "Epoch 7/10\n",
      "38846/38846 [==============================] - 92s 2ms/step - loss: 0.0333 - accuracy: 0.9901 - val_loss: 0.0456 - val_accuracy: 0.9864\n",
      "Epoch 8/10\n",
      "38846/38846 [==============================] - 92s 2ms/step - loss: 0.0314 - accuracy: 0.9907 - val_loss: 0.0449 - val_accuracy: 0.9868\n",
      "Epoch 9/10\n",
      "38846/38846 [==============================] - 92s 2ms/step - loss: 0.0298 - accuracy: 0.9911 - val_loss: 0.0452 - val_accuracy: 0.9867\n",
      "Epoch 10/10\n",
      "38846/38846 [==============================] - 92s 2ms/step - loss: 0.0281 - accuracy: 0.9916 - val_loss: 0.0455 - val_accuracy: 0.9865\n"
     ]
    }
   ],
   "source": [
    "# обучим модель\n",
    "history = model.fit(x_train, \n",
    "                    np.array(y_train), \n",
    "                    batch_size=32, \n",
    "                    epochs=10, \n",
    "                    validation_split=0.1, \n",
    "                    verbose=1)"
   ]
  },
  {
   "cell_type": "code",
   "execution_count": 57,
   "metadata": {},
   "outputs": [
    {
     "data": {
      "image/png": "[encoded data removed]",
      "text/plain": [
       "<Figure size 432x288 with 2 Axes>"
      ]
     },
     "metadata": {
      "needs_background": "light"
     },
     "output_type": "display_data"
    }
   ],
   "source": [
    "import matplotlib.pyplot as plt\n",
    "# посмотрим на историю обучения\n",
    "\n",
    "fig, ax1 = plt.subplots()\n",
    "\n",
    "t = np.arange(0, len(history.history['accuracy']), 1)\n",
    "\n",
    "ln1 = ax1.plot(t, history.history['loss'], color='r', label='loss')\n",
    "ln2 = ax1.plot(t, history.history['val_loss'], color='r', marker='o', label='val_loss')\n",
    "ax1.set_xlabel('epochs')\n",
    "ax1.set_ylabel('loss')\n",
    "# ax1.legend(loc=0)\n",
    "ax2 = ax1.twinx()  # instantiate a second axes that shares the same x-axis\n",
    "\n",
    "\n",
    "ln3 = ax2.plot(t, history.history['accuracy'], color='b', label='accuracy')\n",
    "ln4 = ax2.plot(t, history.history['val_accuracy'], color='b', marker='o', label='val_accuracy')\n",
    "ax2.set_ylabel('accuracy')  # we already handled the x-label with ax1\n",
    "# ax2.legend(loc=0)\n",
    "\n",
    "lns = ln1+ln2+ln3+ln4\n",
    "labs = [l.get_label() for l in lns]\n",
    "ax1.legend(lns, labs, loc=0)\n",
    "\n",
    "fig.tight_layout()  # otherwise the right y-label is slightly clipped\n",
    "# plt.legend(loc='lower right')\n",
    "plt.show()"
   ]
  },
  {
   "cell_type": "code",
   "execution_count": 74,
   "metadata": {
    "scrolled": false,
    "slideshow": {
     "slide_type": "subslide"
    }
   },
   "outputs": [
    {
     "name": "stderr",
     "output_type": "stream",
     "text": [
      "C:\\Users\\vndan\\Anaconda3\\lib\\site-packages\\sklearn\\metrics\\classification.py:1437: UndefinedMetricWarning: Precision and F-score are ill-defined and being set to 0.0 in labels with no predicted samples.\n",
      "  'precision', 'predicted', average, warn_for)\n"
     ]
    },
    {
     "name": "stdout",
     "output_type": "stream",
     "text": [
      "              precision    recall  f1-score   support\n",
      "\n",
      "       B-eve       0.83      0.38      0.53        26\n",
      "       I-gpe       0.92      0.55      0.69        20\n",
      "       B-nat       0.71      0.38      0.50        13\n",
      "       B-geo       0.88      0.89      0.88      3810\n",
      "       B-per       0.85      0.82      0.84      1657\n",
      "           O       1.00      1.00      1.00    223780\n",
      "       I-art       0.25      0.13      0.17        23\n",
      "       I-per       0.86      0.88      0.87      1683\n",
      "       B-org       0.75      0.75      0.75      2093\n",
      "       B-art       0.31      0.13      0.18        39\n",
      "       I-tim       0.81      0.75      0.78       616\n",
      "       I-nat       0.00      0.00      0.00         2\n",
      "       I-eve       0.17      0.08      0.11        13\n",
      "       B-tim       0.93      0.87      0.89      1989\n",
      "       B-gpe       0.97      0.96      0.96      1562\n",
      "       I-org       0.78      0.81      0.79      1733\n",
      "       I-geo       0.83      0.79      0.81       741\n",
      "\n",
      "    accuracy                           0.99    239800\n",
      "   macro avg       0.70      0.60      0.63    239800\n",
      "weighted avg       0.99      0.99      0.99    239800\n",
      "\n"
     ]
    }
   ],
   "source": [
    "# посмотрим на результаты классификации в разрезе каждой именованной сущности\n",
    "pred = model.predict(x_test)\n",
    "pred_classes = pred.argmax(axis=-1)\n",
    "report = flat_classification_report(y_pred=pred_classes, y_true=y_test, target_names=tags)\n",
    "print(report)"
   ]
  }
 ],
 "metadata": {
  "kernelspec": {
   "display_name": "Python 3",
   "language": "python",
   "name": "python3"
  },
  "language_info": {
   "codemirror_mode": {
    "name": "ipython",
    "version": 3
   },
   "file_extension": ".py",
   "mimetype": "text/x-python",
   "name": "python",
   "nbconvert_exporter": "python",
   "pygments_lexer": "ipython3",
   "version": "3.7.4"
  }
 },
 "nbformat": 4,
 "nbformat_minor": 1
}
