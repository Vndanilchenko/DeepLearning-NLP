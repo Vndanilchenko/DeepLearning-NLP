{
 "cells": [
  {
   "cell_type": "markdown",
   "metadata": {
    "colab_type": "text",
    "id": "J0Qjg6vuaHNt"
   },
   "source": [
    "# Neural machine translation with attention"
   ]
  },
  {
   "cell_type": "markdown",
   "metadata": {},
   "source": [
    "Данильченко Вадим"
   ]
  },
  {
   "attachments": {},
   "cell_type": "markdown",
   "metadata": {},
   "source": [
    "на основе ноутбука для машинного перевода с одного языка на другой сделаю классификацию тематик обращений клиентов к чат-боту.\n",
    "\n",
    "class\tintent\n",
    "- 0\tузнать возраст бота\n",
    "- 1\tузнать какую музыку слушает бот\n",
    "- 2\tузнать любит ли бот путешествовать\n",
    "- 3\tузнать где работает бот\n",
    "- 4\tузнать информацию про семью бота\n",
    "- 5\tузнать как относится бот к спорту\n",
    "- 6\tузнать где учится бот\n",
    "- 7\tузнать что читает бот\n",
    "- 8\tузнать есть ли у бота животные\n",
    "- 9\tузнать есть ли у бота машина\n",
    "- 10\tузнать как выглядит бот\n",
    "- 11\tузнать как зовут бота\n",
    "- 12\tузнать какие парни/девушки нравятся\n",
    "- 13\tузнать какой пол у бота\n",
    "- 14\tузнать кто такой бот\n",
    "- 15\tузнать кулинарные пристрастия бота\n",
    "- 16\tузнать о чем мечтает бот\n",
    "- 17\tпоблагодарить бота\n",
    "- 18\tпоприветствовать бота\n",
    "- 19\tпопрощаться с ботом\n",
    "- 20\tразослать информацию студентам на email\n",
    "- 21\tузнать как дела\n",
    "- 22\tузнать метеопрогноз на сегодня\n",
    "- 23\tузнать об увлечениях\n",
    "- 24\tузнать откуда бот\n",
    "- 25\tузнать расписание занятий\n",
    "- 26\tузнать чем занимается бот\n",
    "- 27\tуслышать анекдот\n",
    "- 28\tузнать о преподавателе\n",
    "- 29\tсделать уведомление студентам канала\n",
    "- 30\tузнать что умеет бот"
   ]
  },
  {
   "cell_type": "code",
   "execution_count": 1,
   "metadata": {
    "colab": {},
    "colab_type": "code",
    "id": "tnxXKDjq3jEL"
   },
   "outputs": [],
   "source": [
    "from __future__ import absolute_import, division, print_function, unicode_literals\n",
    "\n",
    "try:\n",
    "  # %tensorflow_version only exists in Colab.\n",
    "  %tensorflow_version 2.x\n",
    "except Exception:\n",
    "  pass\n",
    "import tensorflow as tf\n",
    "\n",
    "import matplotlib.pyplot as plt\n",
    "import matplotlib.ticker as ticker\n",
    "from sklearn.model_selection import train_test_split\n",
    "\n",
    "import unicodedata\n",
    "import re\n",
    "import numpy as np\n",
    "import os\n",
    "import io\n",
    "import time"
   ]
  },
  {
   "cell_type": "markdown",
   "metadata": {
    "colab_type": "text",
    "id": "wfodePkj3jEa"
   },
   "source": [
    "## prepare the dataset\n",
    "\n",
    "here are the steps we'll take to prepare the data:\n",
    "\n",
    "1. Add a *start* and *end* token to each sentence.\n",
    "2. Clean the sentences by removing special characters.\n",
    "3. Create a word index and reverse word index (dictionaries mapping from word → id and id → word).\n",
    "4. Pad each sentence to a maximum length."
   ]
  },
  {
   "cell_type": "code",
   "execution_count": 2,
   "metadata": {
    "colab": {},
    "colab_type": "code",
    "id": "rd0jw-eC3jEh"
   },
   "outputs": [],
   "source": [
    "# Converts the unicode file to ascii\n",
    "def unicode_to_ascii(s):\n",
    "    return ''.join(c for c in unicodedata.normalize('NFD', s)\n",
    "        if unicodedata.category(c) != 'Mn')\n",
    "\n",
    "\n",
    "def preprocess_sentence(w):\n",
    "    w = unicode_to_ascii(w.lower().strip())\n",
    "\n",
    "    # creating a space between a word and the punctuation following it\n",
    "    # eg: \"he is a boy.\" => \"he is a boy .\"\n",
    "    # Reference:- https://stackoverflow.com/questions/3645931/python-padding-punctuation-with-white-spaces-keeping-punctuation\n",
    "    w = re.sub(r\"([?.!,¿])\", r\" \\1 \", w)\n",
    "    w = re.sub(r'[\" \"]+', \" \", w)\n",
    "\n",
    "    # replacing everything with space except (a-z, A-Z, \".\", \"?\", \"!\", \",\")\n",
    "    w = re.sub(r\"[^a-zA-Zа-яА-Я?.!,¿]+\", \" \", w)\n",
    "\n",
    "    w = w.rstrip().strip()\n",
    "\n",
    "    # adding a start and an end token to the sentence\n",
    "    # so that the model know when to start and stop predicting.\n",
    "    w = '<start> ' + w + ' <end>'\n",
    "    return w"
   ]
  },
  {
   "cell_type": "code",
   "execution_count": 3,
   "metadata": {
    "colab": {},
    "colab_type": "code",
    "id": "OHn4Dct23jEm"
   },
   "outputs": [],
   "source": [
    "# 1. Remove the accents\n",
    "# 2. Clean the sentences\n",
    "# 3. Return word pairs in the format: [ENGLISH, SPANISH]\n",
    "def create_dataset(lang):\n",
    "#     lines = io.open(path, encoding='UTF-8').read().strip().split('\\n')\n",
    "\n",
    "    word_pairs = [preprocess_sentence(w) for w in lang]\n",
    "\n",
    "    return word_pairs"
   ]
  },
  {
   "cell_type": "code",
   "execution_count": 4,
   "metadata": {},
   "outputs": [
    {
     "data": {
      "text/plain": [
       "['<start> привет <end>', '<start> как дела ? <end>']"
      ]
     },
     "execution_count": 4,
     "metadata": {},
     "output_type": "execute_result"
    }
   ],
   "source": [
    "create_dataset(['привет','как дела?'])"
   ]
  },
  {
   "cell_type": "code",
   "execution_count": 5,
   "metadata": {
    "colab": {},
    "colab_type": "code",
    "id": "OmMZQpdO60dt"
   },
   "outputs": [],
   "source": [
    "def max_length(tensor):\n",
    "    return max(len(t) for t in tensor)"
   ]
  },
  {
   "cell_type": "code",
   "execution_count": 6,
   "metadata": {
    "colab": {},
    "colab_type": "code",
    "id": "bIOn8RCNDJXG"
   },
   "outputs": [],
   "source": [
    "def tokenize(lang):\n",
    "  lang_tokenizer = tf.keras.preprocessing.text.Tokenizer(\n",
    "      filters='')\n",
    "  lang_tokenizer.fit_on_texts(lang)\n",
    "\n",
    "  tensor = lang_tokenizer.texts_to_sequences(lang)\n",
    "\n",
    "  tensor = tf.keras.preprocessing.sequence.pad_sequences(tensor,\n",
    "                                                         padding='post')\n",
    "\n",
    "  return tensor, lang_tokenizer"
   ]
  },
  {
   "cell_type": "code",
   "execution_count": 7,
   "metadata": {
    "colab": {},
    "colab_type": "code",
    "id": "eAY9k49G3jE_"
   },
   "outputs": [],
   "source": [
    "def load_dataset(inp_lang, targ_lang):\n",
    "    # creating cleaned input, output pairs\n",
    "#     targ_lang, inp_lang = create_dataset(path, num_examples)\n",
    "\n",
    "    input_tensor, inp_lang_tokenizer = tokenize(inp_lang)\n",
    "    target_tensor, targ_lang_tokenizer = tokenize(targ_lang)\n",
    "\n",
    "    return input_tensor, target_tensor, inp_lang_tokenizer, targ_lang_tokenizer"
   ]
  },
  {
   "cell_type": "markdown",
   "metadata": {
    "colab_type": "text",
    "id": "GOi42V79Ydlr"
   },
   "source": [
    "### Limit the size of the dataset to experiment faster (optional)\n",
    "\n",
    "Training on the complete dataset of >100,000 sentences will take a long time. To train faster, we can limit the size of the dataset to 30,000 sentences (of course, translation quality degrades with less data):"
   ]
  },
  {
   "cell_type": "markdown",
   "metadata": {},
   "source": [
    "загрузим пары фраза(inp_lang)-тематика(targ_lang)"
   ]
  },
  {
   "cell_type": "code",
   "execution_count": 50,
   "metadata": {},
   "outputs": [
    {
     "name": "stdout",
     "output_type": "stream",
     "text": [
      "размер: 747\n"
     ]
    },
    {
     "data": {
      "text/plain": [
       "['напиши что нибудь смешное\\n',\n",
       " 'пошути как нибудь\\n',\n",
       " 'расскажи анекдот\\n',\n",
       " 'расскажи прикол\\n',\n",
       " 'смешное что-нибудь напиши\\n',\n",
       " 'услышать анекдот\\n',\n",
       " 'шутить умеешь\\n',\n",
       " 'шутки знаешь\\n',\n",
       " 'информация о преподавателе\\n',\n",
       " 'кто наш лектор\\n',\n",
       " 'кто такой Данильченко\\n',\n",
       " 'получить информацию о преподавателе\\n',\n",
       " 'препод инфо\\n',\n",
       " 'преподаватель\\n',\n",
       " 'преподаватель инфо\\n',\n",
       " 'преподаватель информация\\n',\n",
       " 'узнать о лекторе\\n',\n",
       " 'узнать о преподавателе\\n',\n",
       " 'выслать в слак всем\\n',\n",
       " 'инфо студентам в слак послать\\n',\n",
       " 'отправить в группу\\n',\n",
       " 'отправить в слак\\n',\n",
       " 'отправить инфо в канал\\n',\n",
       " 'отправить с slack\\n',\n",
       " 'послать в slack\\n']"
      ]
     },
     "execution_count": 50,
     "metadata": {},
     "output_type": "execute_result"
    }
   ],
   "source": [
    "inp_lang = []\n",
    "with open('F:/ОБУЧЕНИЕ/CHAT-BOTs/тексты/dialogues/_phrases3.txt', encoding='utf-8') as f:\n",
    "    inp_lang.append(f.readlines())\n",
    "inp_lang = inp_lang[0]\n",
    "print('размер:', len(inp_lang))\n",
    "inp_lang[700:725]"
   ]
  },
  {
   "cell_type": "code",
   "execution_count": 52,
   "metadata": {},
   "outputs": [
    {
     "name": "stdout",
     "output_type": "stream",
     "text": [
      "размер: 747\n"
     ]
    },
    {
     "data": {
      "text/plain": [
       "['услышать анекдот\\n',\n",
       " 'услышать анекдот\\n',\n",
       " 'услышать анекдот\\n',\n",
       " 'услышать анекдот\\n',\n",
       " 'услышать анекдот\\n',\n",
       " 'услышать анекдот\\n',\n",
       " 'услышать анекдот\\n',\n",
       " 'услышать анекдот\\n',\n",
       " 'узнать о преподавателе\\n',\n",
       " 'узнать о преподавателе\\n',\n",
       " 'узнать о преподавателе\\n',\n",
       " 'узнать о преподавателе\\n',\n",
       " 'узнать о преподавателе\\n',\n",
       " 'узнать о преподавателе\\n',\n",
       " 'узнать о преподавателе\\n',\n",
       " 'узнать о преподавателе\\n',\n",
       " 'узнать о преподавателе\\n',\n",
       " 'узнать о преподавателе\\n',\n",
       " 'сделать уведомление студентам канала\\n',\n",
       " 'сделать уведомление студентам канала\\n',\n",
       " 'сделать уведомление студентам канала\\n',\n",
       " 'сделать уведомление студентам канала\\n',\n",
       " 'сделать уведомление студентам канала\\n',\n",
       " 'сделать уведомление студентам канала\\n',\n",
       " 'сделать уведомление студентам канала\\n']"
      ]
     },
     "execution_count": 52,
     "metadata": {},
     "output_type": "execute_result"
    }
   ],
   "source": [
    "targ_lang = []\n",
    "with open('F:/ОБУЧЕНИЕ/CHAT-BOTs/тексты/dialogues/_intents3.txt', encoding='utf-8') as f:\n",
    "    targ_lang.append(f.readlines())\n",
    "targ_lang = targ_lang[0]\n",
    "print('размер:', len(targ_lang))\n",
    "targ_lang[700:725]"
   ]
  },
  {
   "cell_type": "code",
   "execution_count": 53,
   "metadata": {
    "colab": {},
    "colab_type": "code",
    "id": "cnxC7q-j3jFD"
   },
   "outputs": [
    {
     "name": "stdout",
     "output_type": "stream",
     "text": [
      "Wall time: 73.8 ms\n"
     ]
    }
   ],
   "source": [
    "%%time\n",
    "# Try experimenting with the size of that dataset\n",
    "# num_examples = 30000\n",
    "# import joblib\n",
    "# inp_lang = joblib.load('F:/ОБУЧЕНИЕ/CHAT-BOTs/тексты/dialogues/_intents.txt')\n",
    "# targ_lang = joblib.load('F:/ОБУЧЕНИЕ/CHAT-BOTs/тексты/dialogues/answers_short.pkl')\n",
    "\n",
    "inp_lang = create_dataset(inp_lang)\n",
    "targ_lang = create_dataset(targ_lang)\n",
    "\n",
    "input_tensor, target_tensor, inp_lang, targ_lang = load_dataset(inp_lang, targ_lang)\n",
    "\n",
    "# Calculate max_length of the target tensors\n",
    "max_length_targ, max_length_inp = max_length(target_tensor), max_length(input_tensor)"
   ]
  },
  {
   "cell_type": "code",
   "execution_count": 54,
   "metadata": {
    "colab": {},
    "colab_type": "code",
    "id": "4QILQkOs3jFG"
   },
   "outputs": [
    {
     "name": "stdout",
     "output_type": "stream",
     "text": [
      "597 597 150 150\n"
     ]
    }
   ],
   "source": [
    "# Creating training and validation sets using an 80-20 split\n",
    "input_tensor_train, input_tensor_val, target_tensor_train, target_tensor_val = train_test_split(input_tensor, target_tensor, test_size=0.2)\n",
    "\n",
    "# Show length\n",
    "print(len(input_tensor_train), len(target_tensor_train), len(input_tensor_val), len(target_tensor_val))"
   ]
  },
  {
   "cell_type": "code",
   "execution_count": 55,
   "metadata": {
    "colab": {},
    "colab_type": "code",
    "id": "lJPmLZGMeD5q"
   },
   "outputs": [],
   "source": [
    "def convert(lang, tensor):\n",
    "  for t in tensor:\n",
    "    if t!=0:\n",
    "      print (\"%d ----> %s\" % (t, lang.index_word[t]))"
   ]
  },
  {
   "cell_type": "code",
   "execution_count": 56,
   "metadata": {
    "colab": {},
    "colab_type": "code",
    "id": "VXukARTDd7MT"
   },
   "outputs": [
    {
     "name": "stdout",
     "output_type": "stream",
     "text": [
      "Input Language; index to word mapping\n",
      "1 ----> <start>\n",
      "4 ----> а\n",
      "39 ----> какую\n",
      "45 ----> музыку\n",
      "3 ----> ты\n",
      "63 ----> слушаешь\n",
      "2 ----> <end>\n",
      "\n",
      "Target Language; index to word mapping\n",
      "1 ----> <start>\n",
      "3 ----> узнать\n",
      "37 ----> какую\n",
      "38 ----> музыку\n",
      "39 ----> слушает\n",
      "4 ----> бот\n",
      "2 ----> <end>\n"
     ]
    }
   ],
   "source": [
    "print (\"Input Language; index to word mapping\")\n",
    "convert(inp_lang, input_tensor_train[0])\n",
    "print ()\n",
    "print (\"Target Language; index to word mapping\")\n",
    "convert(targ_lang, target_tensor_train[0])"
   ]
  },
  {
   "cell_type": "markdown",
   "metadata": {
    "colab_type": "text",
    "id": "rgCLkfv5uO3d"
   },
   "source": [
    "### Create a tf.data dataset"
   ]
  },
  {
   "cell_type": "code",
   "execution_count": 57,
   "metadata": {
    "colab": {},
    "colab_type": "code",
    "id": "TqHsArVZ3jFS"
   },
   "outputs": [
    {
     "name": "stdout",
     "output_type": "stream",
     "text": [
      "Wall time: 1.97 ms\n"
     ]
    }
   ],
   "source": [
    "%%time\n",
    "BUFFER_SIZE = len(input_tensor_train)\n",
    "BATCH_SIZE = 64\n",
    "steps_per_epoch = len(input_tensor_train)//BATCH_SIZE\n",
    "embedding_dim = 256\n",
    "units = 1024\n",
    "vocab_inp_size = len(inp_lang.word_index)+1\n",
    "vocab_tar_size = len(targ_lang.word_index)+1\n",
    "\n",
    "dataset = tf.data.Dataset.from_tensor_slices((input_tensor_train, target_tensor_train)).shuffle(BUFFER_SIZE)\n",
    "# dataset = dataset.batch(BATCH_SIZE, drop_remainder=True)\n",
    "dataset = dataset.batch(BATCH_SIZE)"
   ]
  },
  {
   "cell_type": "code",
   "execution_count": 58,
   "metadata": {
    "colab": {},
    "colab_type": "code",
    "id": "qc6-NK1GtWQt",
    "scrolled": true
   },
   "outputs": [
    {
     "data": {
      "text/plain": [
       "(TensorShape([64, 10]), TensorShape([64, 8]))"
      ]
     },
     "execution_count": 58,
     "metadata": {},
     "output_type": "execute_result"
    }
   ],
   "source": [
    "example_input_batch, example_target_batch = next(iter(dataset))\n",
    "example_input_batch.shape, example_target_batch.shape"
   ]
  },
  {
   "cell_type": "markdown",
   "metadata": {
    "colab_type": "text",
    "id": "TNfHIF71ulLu"
   },
   "source": [
    "## Write the encoder and decoder model\n",
    "\n",
    "Implement an encoder-decoder model with attention which you can read about in the TensorFlow [Neural Machine Translation (seq2seq) tutorial](https://github.com/tensorflow/nmt). This example uses a more recent set of APIs. This notebook implements the [attention equations](https://github.com/tensorflow/nmt#background-on-the-attention-mechanism) from the seq2seq tutorial. The following diagram shows that each input words is assigned a weight by the attention mechanism which is then used by the decoder to predict the next word in the sentence. The below picture and formulas are an example of attention mechanism from [Luong's paper](https://arxiv.org/abs/1508.04025v5). \n",
    "\n",
    "<img src=\"https://www.tensorflow.org/images/seq2seq/attention_mechanism.jpg\" width=\"500\" alt=\"attention mechanism\">\n",
    "\n",
    "The input is put through an encoder model which gives us the encoder output of shape *(batch_size, max_length, hidden_size)* and the encoder hidden state of shape *(batch_size, hidden_size)*.\n",
    "\n",
    "Here are the equations that are implemented:\n",
    "\n",
    "<img src=\"https://www.tensorflow.org/images/seq2seq/attention_equation_0.jpg\" alt=\"attention equation 0\" width=\"800\">\n",
    "<img src=\"https://www.tensorflow.org/images/seq2seq/attention_equation_1.jpg\" alt=\"attention equation 1\" width=\"800\">\n",
    "\n",
    "This tutorial uses [Bahdanau attention](https://arxiv.org/pdf/1409.0473.pdf) for the encoder. Let's decide on notation before writing the simplified form:\n",
    "\n",
    "* FC = Fully connected (dense) layer\n",
    "* EO = Encoder output\n",
    "* H = hidden state\n",
    "* X = input to the decoder\n",
    "\n",
    "And the pseudo-code:\n",
    "\n",
    "* `score = FC(tanh(FC(EO) + FC(H)))`\n",
    "* `attention weights = softmax(score, axis = 1)`. Softmax by default is applied on the last axis but here we want to apply it on the *1st axis*, since the shape of score is *(batch_size, max_length, hidden_size)*. `Max_length` is the length of our input. Since we are trying to assign a weight to each input, softmax should be applied on that axis.\n",
    "* `context vector = sum(attention weights * EO, axis = 1)`. Same reason as above for choosing axis as 1.\n",
    "* `embedding output` = The input to the decoder X is passed through an embedding layer.\n",
    "* `merged vector = concat(embedding output, context vector)`\n",
    "* This merged vector is then given to the GRU\n",
    "\n",
    "The shapes of all the vectors at each step have been specified in the comments in the code:"
   ]
  },
  {
   "cell_type": "code",
   "execution_count": 59,
   "metadata": {
    "colab": {},
    "colab_type": "code",
    "id": "nZ2rI24i3jFg"
   },
   "outputs": [],
   "source": [
    "# создадим класс, возвращающий выходные данные и состояние GRU-слоя\n",
    "class Encoder(tf.keras.Model):\n",
    "  def __init__(self, vocab_size, embedding_dim, enc_units, batch_sz):\n",
    "    super(Encoder, self).__init__()\n",
    "    self.batch_sz = batch_sz\n",
    "    self.enc_units = enc_units\n",
    "    self.embedding = tf.keras.layers.Embedding(vocab_size, embedding_dim)\n",
    "    self.gru = tf.keras.layers.GRU(self.enc_units,\n",
    "                                   return_sequences=True,\n",
    "                                   return_state=True,\n",
    "                                   recurrent_initializer='glorot_uniform')\n",
    "\n",
    "  def call(self, x, hidden):\n",
    "    x = self.embedding(x)\n",
    "    output, state = self.gru(x, initial_state = hidden)\n",
    "    return output, state\n",
    "\n",
    "  def initialize_hidden_state(self):\n",
    "    return tf.zeros((self.batch_sz, self.enc_units))"
   ]
  },
  {
   "cell_type": "code",
   "execution_count": 62,
   "metadata": {
    "colab": {},
    "colab_type": "code",
    "id": "60gSVh05Jl6l"
   },
   "outputs": [
    {
     "name": "stdout",
     "output_type": "stream",
     "text": [
      "Encoder output shape: (batch size, sequence length, units) (64, 10, 1024)\n",
      "Encoder Hidden state shape: (batch size, units) (64, 1024)\n"
     ]
    }
   ],
   "source": [
    "# инициализируем модель\n",
    "encoder = Encoder(vocab_inp_size, embedding_dim, units, BATCH_SIZE)\n",
    "\n",
    "# sample input\n",
    "sample_hidden = encoder.initialize_hidden_state()\n",
    "sample_output, sample_hidden = encoder(example_input_batch, sample_hidden)\n",
    "print ('Encoder output shape: (batch size, sequence length, units) {}'.format(sample_output.shape))\n",
    "print ('Encoder Hidden state shape: (batch size, units) {}'.format(sample_hidden.shape))"
   ]
  },
  {
   "cell_type": "code",
   "execution_count": 63,
   "metadata": {
    "colab": {},
    "colab_type": "code",
    "id": "umohpBN2OM94"
   },
   "outputs": [],
   "source": [
    "# реализуем механизм attention\n",
    "class BahdanauAttention(tf.keras.layers.Layer):\n",
    "  def __init__(self, units):\n",
    "    super(BahdanauAttention, self).__init__()\n",
    "    self.W1 = tf.keras.layers.Dense(units)\n",
    "    self.W2 = tf.keras.layers.Dense(units)\n",
    "    self.V = tf.keras.layers.Dense(1)\n",
    "\n",
    "  def call(self, query, values):\n",
    "    # hidden shape == (batch_size, hidden size)\n",
    "    # hidden_with_time_axis shape == (batch_size, 1, hidden size)\n",
    "    # we are doing this to perform addition to calculate the score\n",
    "    hidden_with_time_axis = tf.expand_dims(query, 1)\n",
    "\n",
    "    # score shape == (batch_size, max_length, 1)\n",
    "    # we get 1 at the last axis because we are applying score to self.V\n",
    "    # the shape of the tensor before applying self.V is (batch_size, max_length, units)\n",
    "    score = self.V(tf.nn.tanh(\n",
    "        self.W1(values) + self.W2(hidden_with_time_axis)))\n",
    "\n",
    "    # attention_weights shape == (batch_size, max_length, 1)\n",
    "    attention_weights = tf.nn.softmax(score, axis=1)\n",
    "\n",
    "    # context_vector shape after sum == (batch_size, hidden_size)\n",
    "    context_vector = attention_weights * values\n",
    "    context_vector = tf.reduce_sum(context_vector, axis=1)\n",
    "\n",
    "    return context_vector, attention_weights"
   ]
  },
  {
   "cell_type": "code",
   "execution_count": 64,
   "metadata": {
    "colab": {},
    "colab_type": "code",
    "id": "k534zTHiDjQU"
   },
   "outputs": [
    {
     "name": "stdout",
     "output_type": "stream",
     "text": [
      "Attention result shape: (batch size, units) (64, 1024)\n",
      "Attention weights shape: (batch_size, sequence_length, 1) (64, 10, 1)\n"
     ]
    }
   ],
   "source": [
    "attention_layer = BahdanauAttention(10)\n",
    "attention_result, attention_weights = attention_layer(sample_hidden, sample_output)\n",
    "\n",
    "print(\"Attention result shape: (batch size, units) {}\".format(attention_result.shape))\n",
    "print(\"Attention weights shape: (batch_size, sequence_length, 1) {}\".format(attention_weights.shape))"
   ]
  },
  {
   "cell_type": "code",
   "execution_count": 65,
   "metadata": {
    "colab": {},
    "colab_type": "code",
    "id": "yJ_B3mhW3jFk"
   },
   "outputs": [],
   "source": [
    "# создадим из GRU и Dense слоев декодер, принимающий на вход выходные состояния энкодера\n",
    "class Decoder(tf.keras.Model):\n",
    "  def __init__(self, vocab_size, embedding_dim, dec_units, batch_sz):\n",
    "    super(Decoder, self).__init__()\n",
    "    self.batch_sz = batch_sz\n",
    "    self.dec_units = dec_units\n",
    "    self.embedding = tf.keras.layers.Embedding(vocab_size, embedding_dim)\n",
    "    self.gru = tf.keras.layers.GRU(self.dec_units,\n",
    "                                   return_sequences=True,\n",
    "                                   return_state=True,\n",
    "                                   recurrent_initializer='glorot_uniform')\n",
    "    self.fc = tf.keras.layers.Dense(vocab_size)\n",
    "\n",
    "    # used for attention\n",
    "    self.attention = BahdanauAttention(self.dec_units)\n",
    "\n",
    "  def call(self, x, hidden, enc_output):\n",
    "    # enc_output shape == (batch_size, max_length, hidden_size)\n",
    "    context_vector, attention_weights = self.attention(hidden, enc_output)\n",
    "\n",
    "    # x shape after passing through embedding == (batch_size, 1, embedding_dim)\n",
    "    x = self.embedding(x)\n",
    "\n",
    "    # x shape after concatenation == (batch_size, 1, embedding_dim + hidden_size)\n",
    "    x = tf.concat([tf.expand_dims(context_vector, 1), x], axis=-1)\n",
    "\n",
    "    # passing the concatenated vector to the GRU\n",
    "    output, state = self.gru(x)\n",
    "\n",
    "    # output shape == (batch_size * 1, hidden_size)\n",
    "    output = tf.reshape(output, (-1, output.shape[2]))\n",
    "\n",
    "    # output shape == (batch_size, vocab)\n",
    "    x = self.fc(output)\n",
    "\n",
    "    return x, state, attention_weights"
   ]
  },
  {
   "cell_type": "code",
   "execution_count": 66,
   "metadata": {
    "colab": {},
    "colab_type": "code",
    "id": "P5UY8wko3jFp"
   },
   "outputs": [
    {
     "name": "stdout",
     "output_type": "stream",
     "text": [
      "Decoder output shape: (batch_size, vocab size) (64, 69)\n"
     ]
    }
   ],
   "source": [
    "# инициализируем декодер\n",
    "decoder = Decoder(vocab_tar_size, embedding_dim, units, BATCH_SIZE)\n",
    "\n",
    "sample_decoder_output, _, _ = decoder(tf.random.uniform((64, 1)), \n",
    "                                      sample_hidden, sample_output)\n",
    "\n",
    "print ('Decoder output shape: (batch_size, vocab size) {}'.format(sample_decoder_output.shape))"
   ]
  },
  {
   "cell_type": "markdown",
   "metadata": {
    "colab_type": "text",
    "id": "_ch_71VbIRfK"
   },
   "source": [
    "## Define the optimizer and the loss function"
   ]
  },
  {
   "cell_type": "code",
   "execution_count": 67,
   "metadata": {
    "colab": {},
    "colab_type": "code",
    "id": "WmTHr5iV3jFr"
   },
   "outputs": [],
   "source": [
    "optimizer = tf.keras.optimizers.Adam()\n",
    "loss_object = tf.keras.losses.SparseCategoricalCrossentropy(\n",
    "    from_logits=True, reduction='none')\n",
    "\n",
    "def loss_function(real, pred):\n",
    "  mask = tf.math.logical_not(tf.math.equal(real, 0))\n",
    "  loss_ = loss_object(real, pred)\n",
    "\n",
    "  mask = tf.cast(mask, dtype=loss_.dtype)\n",
    "  loss_ *= mask\n",
    "\n",
    "  return tf.reduce_mean(loss_)"
   ]
  },
  {
   "cell_type": "markdown",
   "metadata": {
    "colab_type": "text",
    "id": "DMVWzzsfNl4e"
   },
   "source": [
    "## Checkpoints (Object-based saving)"
   ]
  },
  {
   "cell_type": "code",
   "execution_count": 68,
   "metadata": {
    "colab": {},
    "colab_type": "code",
    "id": "Zj8bXQTgNwrF"
   },
   "outputs": [],
   "source": [
    "checkpoint_dir = './training_checkpoints'\n",
    "checkpoint_prefix = os.path.join(checkpoint_dir, \"ckpt\")\n",
    "checkpoint = tf.train.Checkpoint(optimizer=optimizer,\n",
    "                                 encoder=encoder,\n",
    "                                 decoder=decoder)"
   ]
  },
  {
   "cell_type": "markdown",
   "metadata": {
    "colab_type": "text",
    "id": "hpObfY22IddU"
   },
   "source": [
    "## Training\n",
    "\n",
    "1. Pass the *input* through the *encoder* which return *encoder output* and the *encoder hidden state*.\n",
    "2. The encoder output, encoder hidden state and the decoder input (which is the *start token*) is passed to the decoder.\n",
    "3. The decoder returns the *predictions* and the *decoder hidden state*.\n",
    "4. The decoder hidden state is then passed back into the model and the predictions are used to calculate the loss.\n",
    "5. Use *teacher forcing* to decide the next input to the decoder.\n",
    "6. *Teacher forcing* is the technique where the *target word* is passed as the *next input* to the decoder.\n",
    "7. The final step is to calculate the gradients and apply it to the optimizer and backpropagate."
   ]
  },
  {
   "cell_type": "code",
   "execution_count": 69,
   "metadata": {
    "colab": {},
    "colab_type": "code",
    "id": "sC9ArXSsVfqn"
   },
   "outputs": [],
   "source": [
    "@tf.function\n",
    "def train_step(inp, targ, enc_hidden):\n",
    "  loss = 0\n",
    "\n",
    "  with tf.GradientTape() as tape:\n",
    "    enc_output, enc_hidden = encoder(inp, enc_hidden)\n",
    "\n",
    "    dec_hidden = enc_hidden\n",
    "\n",
    "    dec_input = tf.expand_dims([targ_lang.word_index['<start>']] * BATCH_SIZE, 1)\n",
    "\n",
    "    # Teacher forcing - feeding the target as the next input\n",
    "    for t in range(1, targ.shape[1]):\n",
    "        # passing enc_output to the decoder\n",
    "        predictions, dec_hidden, _ = decoder(dec_input, dec_hidden, enc_output)\n",
    "\n",
    "        loss += loss_function(targ[:, t], predictions)\n",
    "\n",
    "        # using teacher forcing\n",
    "        dec_input = tf.expand_dims(targ[:, t], 1)\n",
    "\n",
    "    batch_loss = (loss / int(targ.shape[1]))\n",
    "\n",
    "    variables = encoder.trainable_variables + decoder.trainable_variables\n",
    "\n",
    "    gradients = tape.gradient(loss, variables)\n",
    "\n",
    "    optimizer.apply_gradients(zip(gradients, variables))\n",
    "\n",
    "    return batch_loss"
   ]
  },
  {
   "cell_type": "code",
   "execution_count": 70,
   "metadata": {
    "colab": {},
    "colab_type": "code",
    "id": "ddefjBMa3jF0",
    "scrolled": false
   },
   "outputs": [
    {
     "name": "stdout",
     "output_type": "stream",
     "text": [
      "Epoch 1 Batch 0 Loss 2.3483\n",
      "Epoch 1 Loss 2.2436\n",
      "Time taken for 1 epoch 17.892643213272095 sec\n",
      "\n",
      "Epoch 2 Batch 0 Loss 2.0456\n",
      "Epoch 2 Loss 1.8259\n",
      "Time taken for 1 epoch 8.058640956878662 sec\n",
      "\n",
      "Epoch 3 Batch 0 Loss 1.6051\n",
      "Epoch 3 Loss 1.5463\n",
      "Time taken for 1 epoch 5.73465371131897 sec\n",
      "\n",
      "Epoch 4 Batch 0 Loss 1.4746\n",
      "Epoch 4 Loss 1.3157\n",
      "Time taken for 1 epoch 7.7157392501831055 sec\n",
      "\n",
      "Epoch 5 Batch 0 Loss 1.1278\n",
      "Epoch 5 Loss 1.0796\n",
      "Time taken for 1 epoch 5.735671520233154 sec\n",
      "\n",
      "Epoch 6 Batch 0 Loss 0.9261\n",
      "Epoch 6 Loss 0.8531\n",
      "Time taken for 1 epoch 8.11500859260559 sec\n",
      "\n",
      "Epoch 7 Batch 0 Loss 0.6725\n",
      "Epoch 7 Loss 0.6349\n",
      "Time taken for 1 epoch 5.7336649894714355 sec\n",
      "\n",
      "Epoch 8 Batch 0 Loss 0.5831\n",
      "Epoch 8 Loss 0.5142\n",
      "Time taken for 1 epoch 7.891811847686768 sec\n",
      "\n",
      "Epoch 9 Batch 0 Loss 0.4481\n",
      "Epoch 9 Loss 0.4287\n",
      "Time taken for 1 epoch 5.813929557800293 sec\n",
      "\n",
      "Epoch 10 Batch 0 Loss 0.3741\n",
      "Epoch 10 Loss 0.3713\n",
      "Time taken for 1 epoch 7.977571487426758 sec\n",
      "\n",
      "Epoch 11 Batch 0 Loss 0.3553\n",
      "Epoch 11 Loss 0.3268\n",
      "Time taken for 1 epoch 5.715468883514404 sec\n",
      "\n",
      "Epoch 12 Batch 0 Loss 0.2859\n",
      "Epoch 12 Loss 0.2809\n",
      "Time taken for 1 epoch 7.717180967330933 sec\n",
      "\n",
      "Epoch 13 Batch 0 Loss 0.2152\n",
      "Epoch 13 Loss 0.2422\n",
      "Time taken for 1 epoch 5.808435440063477 sec\n",
      "\n",
      "Epoch 14 Batch 0 Loss 0.1980\n",
      "Epoch 14 Loss 0.2195\n",
      "Time taken for 1 epoch 8.775731563568115 sec\n",
      "\n",
      "Epoch 15 Batch 0 Loss 0.1891\n",
      "Epoch 15 Loss 0.2088\n",
      "Time taken for 1 epoch 5.832968473434448 sec\n",
      "\n",
      "Epoch 16 Batch 0 Loss 0.1428\n",
      "Epoch 16 Loss 0.1834\n",
      "Time taken for 1 epoch 7.8387064933776855 sec\n",
      "\n",
      "Epoch 17 Batch 0 Loss 0.1212\n",
      "Epoch 17 Loss 0.1755\n",
      "Time taken for 1 epoch 5.8470847606658936 sec\n",
      "\n",
      "Epoch 18 Batch 0 Loss 0.1639\n",
      "Epoch 18 Loss 0.1530\n",
      "Time taken for 1 epoch 8.304567337036133 sec\n",
      "\n",
      "Epoch 19 Batch 0 Loss 0.1763\n",
      "Epoch 19 Loss 0.1308\n",
      "Time taken for 1 epoch 5.969045400619507 sec\n",
      "\n",
      "Epoch 20 Batch 0 Loss 0.1093\n",
      "Epoch 20 Loss 0.1150\n",
      "Time taken for 1 epoch 8.331586122512817 sec\n",
      "\n",
      "Epoch 21 Batch 0 Loss 0.0976\n",
      "Epoch 21 Loss 0.1094\n",
      "Time taken for 1 epoch 6.016878843307495 sec\n",
      "\n",
      "Epoch 22 Batch 0 Loss 0.0877\n",
      "Epoch 22 Loss 0.0983\n",
      "Time taken for 1 epoch 8.206176280975342 sec\n",
      "\n",
      "Epoch 23 Batch 0 Loss 0.0737\n",
      "Epoch 23 Loss 0.1038\n",
      "Time taken for 1 epoch 5.665849685668945 sec\n",
      "\n",
      "Epoch 24 Batch 0 Loss 0.0997\n",
      "Epoch 24 Loss 0.0814\n",
      "Time taken for 1 epoch 7.767479181289673 sec\n",
      "\n",
      "Epoch 25 Batch 0 Loss 0.0758\n",
      "Epoch 25 Loss 0.0755\n",
      "Time taken for 1 epoch 5.763596296310425 sec\n",
      "\n",
      "Epoch 26 Batch 0 Loss 0.0494\n",
      "Epoch 26 Loss 0.0589\n",
      "Time taken for 1 epoch 8.061510801315308 sec\n",
      "\n",
      "Epoch 27 Batch 0 Loss 0.0534\n",
      "Epoch 27 Loss 0.0511\n",
      "Time taken for 1 epoch 5.889261960983276 sec\n",
      "\n",
      "Epoch 28 Batch 0 Loss 0.0506\n",
      "Epoch 28 Loss 0.0429\n",
      "Time taken for 1 epoch 8.652859449386597 sec\n",
      "\n",
      "Epoch 29 Batch 0 Loss 0.0317\n",
      "Epoch 29 Loss 0.0412\n",
      "Time taken for 1 epoch 5.741625785827637 sec\n",
      "\n",
      "Epoch 30 Batch 0 Loss 0.0320\n",
      "Epoch 30 Loss 0.0447\n",
      "Time taken for 1 epoch 7.910160541534424 sec\n",
      "\n",
      "Epoch 31 Batch 0 Loss 0.0349\n",
      "Epoch 31 Loss 0.0409\n",
      "Time taken for 1 epoch 5.702500581741333 sec\n",
      "\n",
      "Epoch 32 Batch 0 Loss 0.0240\n",
      "Epoch 32 Loss 0.0336\n",
      "Time taken for 1 epoch 7.772816896438599 sec\n",
      "\n",
      "Epoch 33 Batch 0 Loss 0.0407\n",
      "Epoch 33 Loss 0.0302\n",
      "Time taken for 1 epoch 5.752381801605225 sec\n",
      "\n",
      "Epoch 34 Batch 0 Loss 0.0256\n",
      "Epoch 34 Loss 0.0290\n",
      "Time taken for 1 epoch 7.936023950576782 sec\n",
      "\n",
      "Epoch 35 Batch 0 Loss 0.0382\n",
      "Epoch 35 Loss 0.0284\n",
      "Time taken for 1 epoch 5.894249677658081 sec\n",
      "\n",
      "Epoch 36 Batch 0 Loss 0.0213\n",
      "Epoch 36 Loss 0.0216\n",
      "Time taken for 1 epoch 7.98064661026001 sec\n",
      "\n",
      "Epoch 37 Batch 0 Loss 0.0207\n",
      "Epoch 37 Loss 0.0184\n",
      "Time taken for 1 epoch 5.791490316390991 sec\n",
      "\n",
      "Epoch 38 Batch 0 Loss 0.0259\n",
      "Epoch 38 Loss 0.0175\n",
      "Time taken for 1 epoch 8.024226665496826 sec\n",
      "\n",
      "Epoch 39 Batch 0 Loss 0.0151\n",
      "Epoch 39 Loss 0.0147\n",
      "Time taken for 1 epoch 5.729925870895386 sec\n",
      "\n",
      "Epoch 40 Batch 0 Loss 0.0086\n",
      "Epoch 40 Loss 0.0138\n",
      "Time taken for 1 epoch 7.886558532714844 sec\n",
      "\n",
      "Epoch 41 Batch 0 Loss 0.0127\n",
      "Epoch 41 Loss 0.0126\n",
      "Time taken for 1 epoch 5.809359550476074 sec\n",
      "\n",
      "Epoch 42 Batch 0 Loss 0.0098\n",
      "Epoch 42 Loss 0.0128\n",
      "Time taken for 1 epoch 8.12437915802002 sec\n",
      "\n",
      "Epoch 43 Batch 0 Loss 0.0117\n",
      "Epoch 43 Loss 0.0119\n",
      "Time taken for 1 epoch 5.742650270462036 sec\n",
      "\n",
      "Epoch 44 Batch 0 Loss 0.0093\n",
      "Epoch 44 Loss 0.0128\n",
      "Time taken for 1 epoch 8.430540084838867 sec\n",
      "\n",
      "Epoch 45 Batch 0 Loss 0.0077\n",
      "Epoch 45 Loss 0.0110\n",
      "Time taken for 1 epoch 6.3031229972839355 sec\n",
      "\n",
      "Epoch 46 Batch 0 Loss 0.0034\n",
      "Epoch 46 Loss 0.0123\n",
      "Time taken for 1 epoch 8.215047121047974 sec\n",
      "\n",
      "Epoch 47 Batch 0 Loss 0.0048\n",
      "Epoch 47 Loss 0.0091\n",
      "Time taken for 1 epoch 8.1123206615448 sec\n",
      "\n",
      "Epoch 48 Batch 0 Loss 0.0170\n",
      "Epoch 48 Loss 0.0115\n",
      "Time taken for 1 epoch 9.053714036941528 sec\n",
      "\n",
      "Epoch 49 Batch 0 Loss 0.0158\n",
      "Epoch 49 Loss 0.0120\n",
      "Time taken for 1 epoch 7.338390588760376 sec\n",
      "\n",
      "Epoch 50 Batch 0 Loss 0.0102\n",
      "Epoch 50 Loss 0.0118\n",
      "Time taken for 1 epoch 9.103541374206543 sec\n",
      "\n",
      "Epoch 51 Batch 0 Loss 0.0164\n",
      "Epoch 51 Loss 0.0124\n",
      "Time taken for 1 epoch 6.640254735946655 sec\n",
      "\n",
      "Epoch 52 Batch 0 Loss 0.0057\n",
      "Epoch 52 Loss 0.0100\n",
      "Time taken for 1 epoch 9.859033584594727 sec\n",
      "\n",
      "Epoch 53 Batch 0 Loss 0.0062\n",
      "Epoch 53 Loss 0.0121\n",
      "Time taken for 1 epoch 6.327089548110962 sec\n",
      "\n",
      "Epoch 54 Batch 0 Loss 0.0125\n",
      "Epoch 54 Loss 0.0147\n",
      "Time taken for 1 epoch 8.88291049003601 sec\n",
      "\n",
      "Epoch 55 Batch 0 Loss 0.0111\n",
      "Epoch 55 Loss 0.0123\n",
      "Time taken for 1 epoch 7.627608299255371 sec\n",
      "\n",
      "Epoch 56 Batch 0 Loss 0.0077\n",
      "Epoch 56 Loss 0.0100\n",
      "Time taken for 1 epoch 9.730648756027222 sec\n",
      "\n",
      "Epoch 57 Batch 0 Loss 0.0082\n",
      "Epoch 57 Loss 0.0101\n",
      "Time taken for 1 epoch 6.66318941116333 sec\n",
      "\n",
      "Epoch 58 Batch 0 Loss 0.0062\n",
      "Epoch 58 Loss 0.0106\n",
      "Time taken for 1 epoch 8.702198028564453 sec\n",
      "\n",
      "Epoch 59 Batch 0 Loss 0.0102\n",
      "Epoch 59 Loss 0.0144\n",
      "Time taken for 1 epoch 5.885238409042358 sec\n",
      "\n",
      "Epoch 60 Batch 0 Loss 0.0111\n",
      "Epoch 60 Loss 0.0120\n",
      "Time taken for 1 epoch 7.749788045883179 sec\n",
      "\n",
      "Epoch 61 Batch 0 Loss 0.0141\n",
      "Epoch 61 Loss 0.0164\n",
      "Time taken for 1 epoch 5.808441877365112 sec\n",
      "\n",
      "Epoch 62 Batch 0 Loss 0.0081\n",
      "Epoch 62 Loss 0.0169\n",
      "Time taken for 1 epoch 8.891629219055176 sec\n",
      "\n",
      "Epoch 63 Batch 0 Loss 0.0231\n",
      "Epoch 63 Loss 0.0166\n",
      "Time taken for 1 epoch 5.721923351287842 sec\n",
      "\n",
      "Epoch 64 Batch 0 Loss 0.0080\n",
      "Epoch 64 Loss 0.0121\n",
      "Time taken for 1 epoch 7.85266637802124 sec\n",
      "\n",
      "Epoch 65 Batch 0 Loss 0.0078\n",
      "Epoch 65 Loss 0.0192\n",
      "Time taken for 1 epoch 5.725533485412598 sec\n",
      "\n",
      "Epoch 66 Batch 0 Loss 0.0069\n",
      "Epoch 66 Loss 0.0184\n",
      "Time taken for 1 epoch 7.891361474990845 sec\n",
      "\n",
      "Epoch 67 Batch 0 Loss 0.0106\n",
      "Epoch 67 Loss 0.0185\n",
      "Time taken for 1 epoch 5.769540548324585 sec\n",
      "\n",
      "Epoch 68 Batch 0 Loss 0.0250\n",
      "Epoch 68 Loss 0.0233\n",
      "Time taken for 1 epoch 7.853313207626343 sec\n",
      "\n",
      "Epoch 69 Batch 0 Loss 0.0127\n",
      "Epoch 69 Loss 0.0184\n",
      "Time taken for 1 epoch 6.016924142837524 sec\n",
      "\n",
      "Epoch 70 Batch 0 Loss 0.0233\n",
      "Epoch 70 Loss 0.0154\n",
      "Time taken for 1 epoch 8.06729769706726 sec\n",
      "\n",
      "Epoch 71 Batch 0 Loss 0.0139\n",
      "Epoch 71 Loss 0.0141\n",
      "Time taken for 1 epoch 6.065754175186157 sec\n",
      "\n",
      "Epoch 72 Batch 0 Loss 0.0050\n",
      "Epoch 72 Loss 0.0144\n",
      "Time taken for 1 epoch 8.501172304153442 sec\n",
      "\n",
      "Epoch 73 Batch 0 Loss 0.0227\n",
      "Epoch 73 Loss 0.0271\n",
      "Time taken for 1 epoch 5.725694417953491 sec\n",
      "\n",
      "Epoch 74 Batch 0 Loss 0.0170\n",
      "Epoch 74 Loss 0.0378\n",
      "Time taken for 1 epoch 8.007449626922607 sec\n",
      "\n",
      "Epoch 75 Batch 0 Loss 0.0893\n",
      "Epoch 75 Loss 0.0483\n",
      "Time taken for 1 epoch 5.696904420852661 sec\n",
      "\n",
      "Epoch 76 Batch 0 Loss 0.0183\n",
      "Epoch 76 Loss 0.0252\n",
      "Time taken for 1 epoch 7.808941602706909 sec\n",
      "\n",
      "Epoch 77 Batch 0 Loss 0.0161\n",
      "Epoch 77 Loss 0.0154\n",
      "Time taken for 1 epoch 5.705715894699097 sec\n",
      "\n",
      "Epoch 78 Batch 0 Loss 0.0104\n",
      "Epoch 78 Loss 0.0142\n",
      "Time taken for 1 epoch 7.719482421875 sec\n",
      "\n",
      "Epoch 79 Batch 0 Loss 0.0100\n",
      "Epoch 79 Loss 0.0100\n",
      "Time taken for 1 epoch 5.715924024581909 sec\n",
      "\n",
      "Epoch 80 Batch 0 Loss 0.0153\n",
      "Epoch 80 Loss 0.0110\n",
      "Time taken for 1 epoch 7.659107208251953 sec\n",
      "\n",
      "Epoch 81 Batch 0 Loss 0.0174\n",
      "Epoch 81 Loss 0.0108\n",
      "Time taken for 1 epoch 5.744797706604004 sec\n",
      "\n",
      "Epoch 82 Batch 0 Loss 0.0197\n",
      "Epoch 82 Loss 0.0092\n",
      "Time taken for 1 epoch 8.338900566101074 sec\n",
      "\n",
      "Epoch 83 Batch 0 Loss 0.0175\n",
      "Epoch 83 Loss 0.0111\n",
      "Time taken for 1 epoch 5.97299337387085 sec\n",
      "\n",
      "Epoch 84 Batch 0 Loss 0.0104\n",
      "Epoch 84 Loss 0.0090\n",
      "Time taken for 1 epoch 8.50887417793274 sec\n",
      "\n",
      "Epoch 85 Batch 0 Loss 0.0017\n",
      "Epoch 85 Loss 0.0081\n",
      "Time taken for 1 epoch 5.665829658508301 sec\n",
      "\n",
      "Epoch 86 Batch 0 Loss 0.0022\n",
      "Epoch 86 Loss 0.0097\n",
      "Time taken for 1 epoch 7.809818267822266 sec\n",
      "\n",
      "Epoch 87 Batch 0 Loss 0.0143\n",
      "Epoch 87 Loss 0.0086\n",
      "Time taken for 1 epoch 5.679697275161743 sec\n",
      "\n",
      "Epoch 88 Batch 0 Loss 0.0054\n",
      "Epoch 88 Loss 0.0092\n",
      "Time taken for 1 epoch 7.74456787109375 sec\n",
      "\n",
      "Epoch 89 Batch 0 Loss 0.0112\n",
      "Epoch 89 Loss 0.0092\n",
      "Time taken for 1 epoch 5.689066171646118 sec\n",
      "\n",
      "Epoch 90 Batch 0 Loss 0.0081\n",
      "Epoch 90 Loss 0.0065\n",
      "Time taken for 1 epoch 7.978858470916748 sec\n",
      "\n",
      "Epoch 91 Batch 0 Loss 0.0024\n",
      "Epoch 91 Loss 0.0083\n",
      "Time taken for 1 epoch 5.725677967071533 sec\n",
      "\n",
      "Epoch 92 Batch 0 Loss 0.0034\n",
      "Epoch 92 Loss 0.0069\n",
      "Time taken for 1 epoch 8.355902910232544 sec\n",
      "\n",
      "Epoch 93 Batch 0 Loss 0.0021\n",
      "Epoch 93 Loss 0.0065\n",
      "Time taken for 1 epoch 5.786494493484497 sec\n",
      "\n",
      "Epoch 94 Batch 0 Loss 0.0056\n",
      "Epoch 94 Loss 0.0076\n",
      "Time taken for 1 epoch 8.079977989196777 sec\n",
      "\n",
      "Epoch 95 Batch 0 Loss 0.0035\n",
      "Epoch 95 Loss 0.0063\n",
      "Time taken for 1 epoch 5.672180652618408 sec\n",
      "\n",
      "Epoch 96 Batch 0 Loss 0.0066\n",
      "Epoch 96 Loss 0.0062\n",
      "Time taken for 1 epoch 7.754148483276367 sec\n",
      "\n",
      "Epoch 97 Batch 0 Loss 0.0055\n",
      "Epoch 97 Loss 0.0067\n",
      "Time taken for 1 epoch 5.695736646652222 sec\n",
      "\n",
      "Epoch 98 Batch 0 Loss 0.0029\n",
      "Epoch 98 Loss 0.0063\n",
      "Time taken for 1 epoch 7.911308765411377 sec\n",
      "\n",
      "Epoch 99 Batch 0 Loss 0.0005\n",
      "Epoch 99 Loss 0.0071\n",
      "Time taken for 1 epoch 5.6813037395477295 sec\n",
      "\n",
      "Epoch 100 Batch 0 Loss 0.0047\n",
      "Epoch 100 Loss 0.0066\n",
      "Time taken for 1 epoch 7.860746383666992 sec\n",
      "\n"
     ]
    }
   ],
   "source": [
    "EPOCHS = 100\n",
    "\n",
    "for epoch in range(EPOCHS):\n",
    "  start = time.time()\n",
    "\n",
    "  enc_hidden = encoder.initialize_hidden_state()\n",
    "  total_loss = 0\n",
    "\n",
    "  for (batch, (inp, targ)) in enumerate(dataset.take(steps_per_epoch)):\n",
    "    batch_loss = train_step(inp, targ, enc_hidden)\n",
    "    total_loss += batch_loss\n",
    "\n",
    "    if batch % 100 == 0:\n",
    "        print('Epoch {} Batch {} Loss {:.4f}'.format(epoch + 1,\n",
    "                                                     batch,\n",
    "                                                     batch_loss.numpy()))\n",
    "  # saving (checkpoint) the model every 2 epochs\n",
    "  if (epoch + 1) % 2 == 0:\n",
    "    checkpoint.save(file_prefix = checkpoint_prefix)\n",
    "    \n",
    "  print('Epoch {} Loss {:.4f}'.format(epoch + 1,\n",
    "                                      total_loss / steps_per_epoch))\n",
    "  print('Time taken for 1 epoch {} sec\\n'.format(time.time() - start))"
   ]
  },
  {
   "cell_type": "markdown",
   "metadata": {
    "colab_type": "text",
    "id": "mU3Ce8M6I3rz"
   },
   "source": [
    "## Translate\n",
    "\n",
    "* The evaluate function is similar to the training loop, except we don't use *teacher forcing* here. The input to the decoder at each time step is its previous predictions along with the hidden state and the encoder output.\n",
    "* Stop predicting when the model predicts the *end token*.\n",
    "* And store the *attention weights for every time step*.\n",
    "\n",
    "Note: The encoder output is calculated only once for one input."
   ]
  },
  {
   "cell_type": "code",
   "execution_count": 71,
   "metadata": {
    "colab": {},
    "colab_type": "code",
    "id": "EbQpyYs13jF_"
   },
   "outputs": [],
   "source": [
    "def evaluate(sentence):\n",
    "    attention_plot = np.zeros((max_length_targ, max_length_inp))\n",
    "\n",
    "    sentence = preprocess_sentence(sentence)\n",
    "\n",
    "    inputs = [inp_lang.word_index[i] for i in sentence.split(' ')]\n",
    "    inputs = tf.keras.preprocessing.sequence.pad_sequences([inputs],\n",
    "                                                           maxlen=max_length_inp,\n",
    "                                                           padding='post')\n",
    "    inputs = tf.convert_to_tensor(inputs)\n",
    "\n",
    "    result = ''\n",
    "\n",
    "    hidden = [tf.zeros((1, units))]\n",
    "    enc_out, enc_hidden = encoder(inputs, hidden)\n",
    "\n",
    "    dec_hidden = enc_hidden\n",
    "    dec_input = tf.expand_dims([targ_lang.word_index['<start>']], 0)\n",
    "\n",
    "    for t in range(max_length_targ):\n",
    "        predictions, dec_hidden, attention_weights = decoder(dec_input,\n",
    "                                                             dec_hidden,\n",
    "                                                             enc_out)\n",
    "\n",
    "        # storing the attention weights to plot later on\n",
    "        attention_weights = tf.reshape(attention_weights, (-1, ))\n",
    "        attention_plot[t] = attention_weights.numpy()\n",
    "\n",
    "        predicted_id = tf.argmax(predictions[0]).numpy()\n",
    "\n",
    "        result += targ_lang.index_word[predicted_id] + ' '\n",
    "\n",
    "        if targ_lang.index_word[predicted_id] == '<end>':\n",
    "            return result, sentence, attention_plot\n",
    "\n",
    "        # the predicted ID is fed back into the model\n",
    "        dec_input = tf.expand_dims([predicted_id], 0)\n",
    "\n",
    "    return result, sentence, attention_plot"
   ]
  },
  {
   "cell_type": "code",
   "execution_count": 72,
   "metadata": {
    "colab": {},
    "colab_type": "code",
    "id": "s5hQWlbN3jGF"
   },
   "outputs": [],
   "source": [
    "# function for plotting the attention weights\n",
    "def plot_attention(attention, sentence, predicted_sentence):\n",
    "    fig = plt.figure(figsize=(10,10))\n",
    "    ax = fig.add_subplot(1, 1, 1)\n",
    "    ax.matshow(attention, cmap='viridis')\n",
    "\n",
    "    fontdict = {'fontsize': 14}\n",
    "\n",
    "    ax.set_xticklabels([''] + sentence, fontdict=fontdict, rotation=90)\n",
    "    ax.set_yticklabels([''] + predicted_sentence, fontdict=fontdict)\n",
    "\n",
    "    ax.xaxis.set_major_locator(ticker.MultipleLocator(1))\n",
    "    ax.yaxis.set_major_locator(ticker.MultipleLocator(1))\n",
    "\n",
    "    plt.show()"
   ]
  },
  {
   "cell_type": "code",
   "execution_count": 73,
   "metadata": {
    "colab": {},
    "colab_type": "code",
    "id": "sl9zUHzg3jGI"
   },
   "outputs": [],
   "source": [
    "def translate(sentence):\n",
    "    result, sentence, attention_plot = evaluate(sentence)\n",
    "\n",
    "    print('Input: %s' % (sentence))\n",
    "    print('Predicted translation: {}'.format(result))\n",
    "\n",
    "    attention_plot = attention_plot[:len(result.split(' ')), :len(sentence.split(' '))]\n",
    "    plot_attention(attention_plot, sentence.split(' '), result.split(' '))"
   ]
  },
  {
   "cell_type": "code",
   "execution_count": 74,
   "metadata": {},
   "outputs": [],
   "source": [
    "def translate_short(sentence):\n",
    "    result, sentence, attention_plot = evaluate(sentence)\n",
    "    return result"
   ]
  },
  {
   "cell_type": "markdown",
   "metadata": {
    "colab_type": "text",
    "id": "n250XbnjOaqP"
   },
   "source": [
    "## Restore the latest checkpoint and test"
   ]
  },
  {
   "cell_type": "code",
   "execution_count": 75,
   "metadata": {
    "colab": {},
    "colab_type": "code",
    "id": "UJpT9D5_OgP6"
   },
   "outputs": [
    {
     "data": {
      "text/plain": [
       "<tensorflow.python.training.tracking.util.CheckpointLoadStatus at 0x1d54266b5c8>"
      ]
     },
     "execution_count": 75,
     "metadata": {},
     "output_type": "execute_result"
    }
   ],
   "source": [
    "# restoring the latest checkpoint in checkpoint_dir\n",
    "checkpoint.restore(tf.train.latest_checkpoint(checkpoint_dir))"
   ]
  },
  {
   "cell_type": "code",
   "execution_count": 78,
   "metadata": {
    "colab": {},
    "colab_type": "code",
    "id": "WrAM0FDomq3E"
   },
   "outputs": [
    {
     "name": "stdout",
     "output_type": "stream",
     "text": [
      "Input: <start> как твои дела <end>\n",
      "Predicted translation: узнать как дела <end> \n"
     ]
    },
    {
     "data": {
      "image/png": "[encoded data removed]",
      "text/plain": [
       "<Figure size 720x720 with 1 Axes>"
      ]
     },
     "metadata": {
      "needs_background": "light"
     },
     "output_type": "display_data"
    }
   ],
   "source": [
    "# This shows which parts of the input sentence has the model's attention while translating:\n",
    "translate('как твои дела')"
   ]
  },
  {
   "cell_type": "code",
   "execution_count": 77,
   "metadata": {
    "colab": {},
    "colab_type": "code",
    "id": "A3LLCx3ZE0Ls"
   },
   "outputs": [
    {
     "name": "stdout",
     "output_type": "stream",
     "text": [
      "Input: <start> какая погода <end>\n",
      "Predicted translation: узнать метеопрогноз на сегодня <end> \n"
     ]
    },
    {
     "data": {
      "image/png": "[encoded data removed]",
      "text/plain": [
       "<Figure size 720x720 with 1 Axes>"
      ]
     },
     "metadata": {
      "needs_background": "light"
     },
     "output_type": "display_data"
    }
   ],
   "source": [
    "translate('какая погода')"
   ]
  },
  {
   "cell_type": "code",
   "execution_count": 81,
   "metadata": {
    "colab": {},
    "colab_type": "code",
    "id": "DUQVLVqUE1YW"
   },
   "outputs": [
    {
     "name": "stdout",
     "output_type": "stream",
     "text": [
      "Input: <start> когда будет следующии урок <end>\n",
      "Predicted translation: узнать расписание занятии <end> \n"
     ]
    },
    {
     "data": {
      "image/png": "[encoded data removed]",
      "text/plain": [
       "<Figure size 720x720 with 1 Axes>"
      ]
     },
     "metadata": {
      "needs_background": "light"
     },
     "output_type": "display_data"
    }
   ],
   "source": [
    "translate('когда будет следующий урок')"
   ]
  },
  {
   "cell_type": "code",
   "execution_count": 82,
   "metadata": {},
   "outputs": [
    {
     "name": "stdout",
     "output_type": "stream",
     "text": [
      "Input: <start> разослать информацию в слаке <end>\n",
      "Predicted translation: сделать уведомление студентам канала <end> \n"
     ]
    },
    {
     "data": {
      "image/png": "[encoded data removed]",
      "text/plain": [
       "<Figure size 720x720 with 1 Axes>"
      ]
     },
     "metadata": {
      "needs_background": "light"
     },
     "output_type": "display_data"
    }
   ],
   "source": [
    "translate('разослать информацию в слаке')"
   ]
  },
  {
   "cell_type": "code",
   "execution_count": 128,
   "metadata": {},
   "outputs": [],
   "source": [
    "# проверим качество, пропустив все предложения через скрипт\n",
    "text = []\n",
    "with open('F:/ОБУЧЕНИЕ/CHAT-BOTs/тексты/dialogues/_phrases3.txt', encoding='utf-8') as f:\n",
    "    text.append(f.readlines())\n",
    "correct_replies = []\n",
    "with open('F:/ОБУЧЕНИЕ/CHAT-BOTs/тексты/dialogues/_intents3.txt', encoding='utf-8') as f:\n",
    "    correct_replies.append(f.readlines())    \n",
    "\n",
    "responses = []    \n",
    "for i in range(len(text[0])):\n",
    "    responses.append(\n",
    "        re.sub('<end>', '', translate_short(text[0][i])).strip(' ')==correct_replies[0][i].replace('\\n', '')\n",
    "    )"
   ]
  },
  {
   "cell_type": "code",
   "execution_count": 129,
   "metadata": {
    "scrolled": true
   },
   "outputs": [
    {
     "data": {
      "text/plain": [
       "0.8487282463186078"
      ]
     },
     "execution_count": 129,
     "metadata": {},
     "output_type": "execute_result"
    }
   ],
   "source": [
    "np.sum(responses)/len(responses)"
   ]
  }
 ],
 "metadata": {
  "accelerator": "GPU",
  "colab": {
   "collapsed_sections": [],
   "name": "nmt_with_attention.ipynb",
   "private_outputs": true,
   "provenance": [],
   "toc_visible": true
  },
  "kernelspec": {
   "display_name": "seq2seq",
   "language": "python",
   "name": "seq2seq"
  },
  "language_info": {
   "codemirror_mode": {
    "name": "ipython",
    "version": 3
   },
   "file_extension": ".py",
   "mimetype": "text/x-python",
   "name": "python",
   "nbconvert_exporter": "python",
   "pygments_lexer": "ipython3",
   "version": "3.7.4"
  }
 },
 "nbformat": 4,
 "nbformat_minor": 1
}
