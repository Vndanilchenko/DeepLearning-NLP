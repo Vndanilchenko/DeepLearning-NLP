{
  "nbformat": 4,
  "nbformat_minor": 0,
  "metadata": {
    "colab": {
      "name": "classification of categories of appeal to authorities",
      "provenance": [],
      "collapsed_sections": []
    },
    "kernelspec": {
      "name": "python3",
      "display_name": "Python 3"
    },
    "accelerator": "GPU"
  },
  "cells": [
    {
      "cell_type": "markdown",
      "metadata": {
        "id": "VZIRwbjgt27D",
        "colab_type": "text"
      },
      "source": [
        "Данильченко Вадим"
      ]
    },
    {
      "cell_type": "markdown",
      "metadata": {
        "id": "afTCQM2wt3C0",
        "colab_type": "text"
      },
      "source": [
        "Классификация категорий обращений граждан в органы власти"
      ]
    },
    {
      "cell_type": "code",
      "metadata": {
        "id": "P8nrgM8nt9P6",
        "colab_type": "code",
        "outputId": "389984fa-2236-4b1a-83f9-a9cd9654b19f",
        "colab": {
          "base_uri": "https://localhost:8080/",
          "height": 34
        }
      },
      "source": [
        "from google.colab import files\n",
        "import numpy as np\n",
        "import pandas as pd\n",
        "import matplotlib.pyplot as plt\n",
        "import os\n",
        "%matplotlib inline\n",
        "\n",
        "from google.colab import drive\n",
        "from tqdm import trange\n",
        "\n",
        "from keras.preprocessing.text import Tokenizer\n",
        "from keras import utils"
      ],
      "execution_count": 1,
      "outputs": [
        {
          "output_type": "stream",
          "text": [
            "Using TensorFlow backend.\n"
          ],
          "name": "stderr"
        }
      ]
    },
    {
      "cell_type": "code",
      "metadata": {
        "id": "4XM0rPPjuiP6",
        "colab_type": "code",
        "outputId": "cc9b39a3-81c2-41fd-d5af-f37b85c3ffbb",
        "colab": {
          "base_uri": "https://localhost:8080/",
          "height": 34
        }
      },
      "source": [
        "drive.mount('/content/drive')"
      ],
      "execution_count": 2,
      "outputs": [
        {
          "output_type": "stream",
          "text": [
            "Drive already mounted at /content/drive; to attempt to forcibly remount, call drive.mount(\"/content/drive\", force_remount=True).\n"
          ],
          "name": "stdout"
        }
      ]
    },
    {
      "cell_type": "code",
      "metadata": {
        "id": "yTojhYzLx36G",
        "colab_type": "code",
        "outputId": "7df233b0-8126-425a-c021-20d2d7849d52",
        "colab": {
          "base_uri": "https://localhost:8080/",
          "height": 119
        }
      },
      "source": [
        "! ls drive/'My Drive'/data/"
      ],
      "execution_count": 3,
      "outputs": [
        {
          "output_type": "stream",
          "text": [
            " appeal_to_authorities.csv   Аппендицит.txt  'Тексты писателей.zip'\n",
            " digits.zip\t\t     Гастрит.txt      Холицестит.txt\n",
            " geo_comment.xlsx\t     Гепатит.txt      Эзофагит.txt\n",
            " geo.xlsx\t\t     Дуоденит.txt     Энтерит.txt\n",
            " Images.zip\t\t     Колит.txt\t      Язва.txt\n",
            " middle_fmr.zip\t\t     Панкреатит.txt\n"
          ],
          "name": "stdout"
        }
      ]
    },
    {
      "cell_type": "code",
      "metadata": {
        "id": "Q0mFLrc8yXI-",
        "colab_type": "code",
        "colab": {
          "base_uri": "https://localhost:8080/",
          "height": 221
        },
        "outputId": "2e596ad1-2dd3-4940-fc73-6f8a2c40df5e"
      },
      "source": [
        "data = pd.read_csv(r\"drive/My Drive/data/appeal_to_authorities.csv\")\n",
        "print(data.shape)\n",
        "data.head()"
      ],
      "execution_count": 4,
      "outputs": [
        {
          "output_type": "stream",
          "text": [
            "(10059, 3)\n"
          ],
          "name": "stdout"
        },
        {
          "output_type": "execute_result",
          "data": {
            "text/html": [
              "<div>\n",
              "<style scoped>\n",
              "    .dataframe tbody tr th:only-of-type {\n",
              "        vertical-align: middle;\n",
              "    }\n",
              "\n",
              "    .dataframe tbody tr th {\n",
              "        vertical-align: top;\n",
              "    }\n",
              "\n",
              "    .dataframe thead th {\n",
              "        text-align: right;\n",
              "    }\n",
              "</style>\n",
              "<table border=\"1\" class=\"dataframe\">\n",
              "  <thead>\n",
              "    <tr style=\"text-align: right;\">\n",
              "      <th></th>\n",
              "      <th>text</th>\n",
              "      <th>category</th>\n",
              "      <th>theme</th>\n",
              "    </tr>\n",
              "  </thead>\n",
              "  <tbody>\n",
              "    <tr>\n",
              "      <th>0</th>\n",
              "      <td>Здравствуйте. Подскажите пожалуйста можно ли с...</td>\n",
              "      <td>Дороги и транспорт</td>\n",
              "      <td>Запрос на льготы / субсидии</td>\n",
              "    </tr>\n",
              "    <tr>\n",
              "      <th>1</th>\n",
              "      <td>Подскажите пожалуйста имеют ли право не платит...</td>\n",
              "      <td>ЖКХ</td>\n",
              "      <td>Запрос юридической консультации</td>\n",
              "    </tr>\n",
              "    <tr>\n",
              "      <th>2</th>\n",
              "      <td>\" Спасибо Вам огромное за возобновление строит...</td>\n",
              "      <td>Строительство</td>\n",
              "      <td>Запрос юридической консультации</td>\n",
              "    </tr>\n",
              "    <tr>\n",
              "      <th>3</th>\n",
              "      <td>Проблема одна и общая стала в городе. Спорт. у...</td>\n",
              "      <td>Спорт</td>\n",
              "      <td>Недовольство общее</td>\n",
              "    </tr>\n",
              "    <tr>\n",
              "      <th>4</th>\n",
              "      <td>Некоторое время назад для школьников и студент...</td>\n",
              "      <td>Дороги и транспорт</td>\n",
              "      <td>Запрос на льготы / субсидии</td>\n",
              "    </tr>\n",
              "  </tbody>\n",
              "</table>\n",
              "</div>"
            ],
            "text/plain": [
              "                                                text  ...                            theme\n",
              "0  Здравствуйте. Подскажите пожалуйста можно ли с...  ...      Запрос на льготы / субсидии\n",
              "1  Подскажите пожалуйста имеют ли право не платит...  ...  Запрос юридической консультации\n",
              "2  \" Спасибо Вам огромное за возобновление строит...  ...  Запрос юридической консультации\n",
              "3  Проблема одна и общая стала в городе. Спорт. у...  ...               Недовольство общее\n",
              "4  Некоторое время назад для школьников и студент...  ...      Запрос на льготы / субсидии\n",
              "\n",
              "[5 rows x 3 columns]"
            ]
          },
          "metadata": {
            "tags": []
          },
          "execution_count": 4
        }
      ]
    },
    {
      "cell_type": "code",
      "metadata": {
        "id": "_w9va_h-9wbw",
        "colab_type": "code",
        "colab": {
          "base_uri": "https://localhost:8080/",
          "height": 408
        },
        "outputId": "a8ab546f-39e5-4bbd-984d-00de8cf11f29"
      },
      "source": [
        "# пронумеруем категории \n",
        "data['target'] = data['category'].astype('category').cat.codes\n",
        "# удалим примеры, для которых отсутствует метка класса\n",
        "data = data[data['target']!=-1]\n",
        "# data.dropna(subset='category', axis=1, inplace=True)\n",
        "print(data.shape)\n",
        "data['target'].value_counts()"
      ],
      "execution_count": 5,
      "outputs": [
        {
          "output_type": "stream",
          "text": [
            "(8262, 4)\n"
          ],
          "name": "stdout"
        },
        {
          "output_type": "execute_result",
          "data": {
            "text/plain": [
              "6     2063\n",
              "1     1686\n",
              "4     1411\n",
              "15     370\n",
              "7      368\n",
              "17     349\n",
              "10     290\n",
              "16     246\n",
              "11     244\n",
              "5      208\n",
              "0      187\n",
              "20     180\n",
              "12     172\n",
              "18     151\n",
              "9      100\n",
              "8       80\n",
              "2       59\n",
              "14      50\n",
              "3       20\n",
              "19      15\n",
              "13      13\n",
              "Name: target, dtype: int64"
            ]
          },
          "metadata": {
            "tags": []
          },
          "execution_count": 5
        }
      ]
    },
    {
      "cell_type": "code",
      "metadata": {
        "id": "Mb1GsQ18xy4S",
        "colab_type": "code",
        "outputId": "4f3ef1b4-9fb4-43b4-b6be-d978ab2a3e3e",
        "colab": {
          "base_uri": "https://localhost:8080/",
          "height": 68
        }
      },
      "source": [
        "%%time\n",
        "# обучим токенизатор\n",
        "MAX_WORD_COUNT = 20000\n",
        "\n",
        "tokenizer = Tokenizer(num_words=MAX_WORD_COUNT, filters='!\"#$%&()*+,-./:;<=>?@[\\\\]^_`{|}~\\t\\n', lower=True, split=' ', oov_token='UNK', char_level=False)\n",
        "tokenizer.fit_on_texts(data['text'].tolist())\n",
        "items = list(tokenizer.word_index.items())\n",
        "print(len(items))"
      ],
      "execution_count": 6,
      "outputs": [
        {
          "output_type": "stream",
          "text": [
            "72541\n",
            "CPU times: user 1.37 s, sys: 17.1 ms, total: 1.39 s\n",
            "Wall time: 1.39 s\n"
          ],
          "name": "stdout"
        }
      ]
    },
    {
      "cell_type": "code",
      "metadata": {
        "id": "8fRXng7czZyT",
        "colab_type": "code",
        "colab": {
          "base_uri": "https://localhost:8080/",
          "height": 527
        },
        "outputId": "058840fd-a565-428e-ce8b-324e01bc75e7"
      },
      "source": [
        "# преобразуем тексты в id (все слова, индексы которых будут больше MAX_WORD_COUNT, будут иметь индекс слова UNK)\n",
        "X = tokenizer.texts_to_sequences(data['text'].tolist())\n",
        "X[:2]"
      ],
      "execution_count": 7,
      "outputs": [
        {
          "output_type": "execute_result",
          "data": {
            "text/plain": [
              "[[51,\n",
              "  1661,\n",
              "  114,\n",
              "  78,\n",
              "  183,\n",
              "  157,\n",
              "  486,\n",
              "  15,\n",
              "  1722,\n",
              "  7,\n",
              "  7563,\n",
              "  4887,\n",
              "  15,\n",
              "  165,\n",
              "  4888,\n",
              "  2,\n",
              "  5953,\n",
              "  278,\n",
              "  6,\n",
              "  264,\n",
              "  4,\n",
              "  486,\n",
              "  2299,\n",
              "  18307,\n",
              "  301,\n",
              "  309,\n",
              "  4,\n",
              "  839,\n",
              "  1061],\n",
              " [1661, 114, 786, 183, 654, 5, 552, 1, 116]]"
            ]
          },
          "metadata": {
            "tags": []
          },
          "execution_count": 7
        }
      ]
    },
    {
      "cell_type": "code",
      "metadata": {
        "id": "lKgryDP54eu7",
        "colab_type": "code",
        "colab": {
          "base_uri": "https://localhost:8080/",
          "height": 102
        },
        "outputId": "d87b0f60-d1ee-488f-a27c-6f5044985325"
      },
      "source": [
        "# запишем в y индексы классов и преобразуем в one_hot вектор нулей длиной по количеству классов, имеющий 1 на пересечении индекса с нужным классом\n",
        "from collections import Counter\n",
        "y = data['target'].tolist()\n",
        "CLASSES = len(set(y))\n",
        "print('количество классов:', CLASSES)\n",
        "y_cat = utils.to_categorical(y)\n",
        "print('после преобразования:\\n', y_cat[:2])\n",
        "y_cat.shape"
      ],
      "execution_count": 18,
      "outputs": [
        {
          "output_type": "stream",
          "text": [
            "количество классов: 21\n",
            "после преобразования:\n",
            " [[0. 0. 0. 0. 1. 0. 0. 0. 0. 0. 0. 0. 0. 0. 0. 0. 0. 0. 0. 0. 0.]\n",
            " [0. 0. 0. 0. 0. 0. 1. 0. 0. 0. 0. 0. 0. 0. 0. 0. 0. 0. 0. 0. 0.]]\n"
          ],
          "name": "stdout"
        },
        {
          "output_type": "execute_result",
          "data": {
            "text/plain": [
              "(8262, 21)"
            ]
          },
          "metadata": {
            "tags": []
          },
          "execution_count": 18
        }
      ]
    },
    {
      "cell_type": "code",
      "metadata": {
        "id": "kgYs9KMlykGM",
        "colab_type": "code",
        "colab": {
          "base_uri": "https://localhost:8080/",
          "height": 408
        },
        "outputId": "fb762a99-df94-49f9-a548-7555b30f310a"
      },
      "source": [
        "# посмотрим на среднюю длину сообщений, чтобы выбрать размер среза\n",
        "from keras.preprocessing.text import text_to_word_sequence\n",
        "data['length'] = data['text'].apply(lambda x: len(text_to_word_sequence(x, filters='!\"#$%&()*+,-./:;<=>?@[\\\\]^_`{|}~\\t\\n', lower=True, split=' ')))\n",
        "data.groupby(['category'])['length'].mean()#.agg('mean')\n",
        "# data['length'].loc[:3]"
      ],
      "execution_count": 9,
      "outputs": [
        {
          "output_type": "execute_result",
          "data": {
            "text/plain": [
              "category\n",
              "Бизнес                        160.176471\n",
              "Благо­­устрой­­ство           103.998814\n",
              "Борьба с коррупцией           211.305085\n",
              "Демография                    159.300000\n",
              "Дороги и транспорт            106.430191\n",
              "Другое                        144.610577\n",
              "ЖКХ                           136.521571\n",
              "Здравоохранение               149.608696\n",
              "Земельные отношения           185.912500\n",
              "Культура                      183.640000\n",
              "Образование и наука           159.651724\n",
              "Органы власти                 192.864754\n",
              "Правопорядок                  177.901163\n",
              "Промышленность                183.615385\n",
              "Сельское хозяйство            189.020000\n",
              "Социальная сфера              152.208108\n",
              "Спорт                         149.703252\n",
              "Строительство                 147.690544\n",
              "Труд и занятость населения    176.324503\n",
              "Туризм                        199.866667\n",
              "Экология                      124.927778\n",
              "Name: length, dtype: float64"
            ]
          },
          "metadata": {
            "tags": []
          },
          "execution_count": 9
        }
      ]
    },
    {
      "cell_type": "code",
      "metadata": {
        "id": "8sCDVMtTz1BI",
        "colab_type": "code",
        "colab": {}
      },
      "source": [
        "# функция будет делать срезы некоторой длины slice_len с шагом step в последовательности sequence, которая будет ей подана на вход\n",
        "def get_slices(sequence, slice_len, step):\n",
        "  slices = []\n",
        "  max_len = len(sequence)\n",
        "\n",
        "  start = 0\n",
        "  while (start+step<=max_len):\n",
        "    slices.append(sequence[start:start+slice_len])\n",
        "    start+=step\n",
        "  \n",
        "  return slices"
      ],
      "execution_count": 0,
      "outputs": []
    },
    {
      "cell_type": "code",
      "metadata": {
        "id": "rackdjCH23EM",
        "colab_type": "code",
        "colab": {}
      },
      "source": [
        "# функция добавляет к входящей последовательности индексов текстов значения в целевую переменную\n",
        "def create_dataset(sequences, target, slice_len, step):\n",
        "  classes = target.shape[1]\n",
        "  seq_slices = [] \n",
        "  target_to_slice = []#[[] for _ in range(target.shape[0])]\n",
        "  # запишем срезы индексов длиной slice_len для каждого текста\n",
        "  for i in trange(len(sequences)):\n",
        "    seq_slices_tmp = get_slices(sequences[i], slice_len, step)\n",
        "    seq_slices+=seq_slices_tmp\n",
        "    for j in seq_slices_tmp:\n",
        "      target_to_slice.append(target[i])\n",
        "\n",
        "  seq_slices = np.asarray(seq_slices)\n",
        "  target_to_slice = np.asarray(target_to_slice)\n",
        "\n",
        "  return (seq_slices, target_to_slice)"
      ],
      "execution_count": 0,
      "outputs": []
    },
    {
      "cell_type": "code",
      "metadata": {
        "id": "l9OgbzLB3nvo",
        "colab_type": "code",
        "outputId": "855297f9-a1f2-414e-e1be-a1fc587d1448",
        "colab": {
          "base_uri": "https://localhost:8080/",
          "height": 105
        }
      },
      "source": [
        "slice_len = 100\n",
        "step = 50\n",
        "\n",
        "x_new, y_new = create_dataset(X, y_cat, slice_len, step)\n",
        "print(x_new.shape, y_new.shape)\n",
        "print(x_new[0])\n",
        "print(y_new[0])"
      ],
      "execution_count": 12,
      "outputs": [
        {
          "output_type": "stream",
          "text": [
            "100%|██████████| 8262/8262 [00:00<00:00, 52792.46it/s]\n"
          ],
          "name": "stderr"
        },
        {
          "output_type": "stream",
          "text": [
            "(18065,) (18065, 21)\n",
            "[92, 537, 3, 3445, 1094, 2, 170, 1178, 17, 29, 80, 1, 1968, 96, 11451, 100, 2, 15819, 212, 15820, 15821, 1, 2, 1, 6824, 15822, 14, 1, 1968, 1639, 11, 1744, 2224, 80, 18308, 15823, 1968, 121, 12520, 1, 11451, 4, 803, 12521, 997, 5, 2224, 2051, 96, 15821, 7, 1203, 1427, 88, 2, 1, 13984, 140, 13, 88, 75, 19, 5, 504, 1, 7565, 1443, 14, 12522, 3, 1, 1, 3, 2613, 2, 6220, 55, 9, 170, 11452, 21, 24, 1, 4889, 93, 9043, 3590, 736, 8489, 32, 74, 70, 5076, 2, 1, 3, 487, 49, 109, 2]\n",
            "[0. 0. 0. 0. 0. 0. 0. 0. 0. 0. 0. 0. 0. 0. 0. 0. 1. 0. 0. 0. 0.]\n"
          ],
          "name": "stdout"
        }
      ]
    },
    {
      "cell_type": "code",
      "metadata": {
        "id": "zW2NYVJ2G2xI",
        "colab_type": "code",
        "colab": {}
      },
      "source": [
        "from sklearn.model_selection import train_test_split\n",
        "x_train, x_test, y_train, y_test = train_test_split(x_new, y_new, test_size=0.2, random_state=777)"
      ],
      "execution_count": 0,
      "outputs": []
    },
    {
      "cell_type": "code",
      "metadata": {
        "id": "hntgMqnYDuYi",
        "colab_type": "code",
        "outputId": "55a4c48e-bfcb-4494-f94d-272f455da4ff",
        "colab": {
          "base_uri": "https://localhost:8080/",
          "height": 34
        }
      },
      "source": [
        "# приведем к формату bag of words по длине словаря MAX_WORD_COUNT\n",
        "x_train_bow = tokenizer.sequences_to_matrix(x_train.tolist())\n",
        "x_test_bow = tokenizer.sequences_to_matrix(x_test.tolist())\n",
        "x_train_bow.shape"
      ],
      "execution_count": 14,
      "outputs": [
        {
          "output_type": "execute_result",
          "data": {
            "text/plain": [
              "(14452, 20000)"
            ]
          },
          "metadata": {
            "tags": []
          },
          "execution_count": 14
        }
      ]
    },
    {
      "cell_type": "markdown",
      "metadata": {
        "id": "mFaVZIlFdKhL",
        "colab_type": "text"
      },
      "source": [
        "**WITHOUT EMBEDDING**"
      ]
    },
    {
      "cell_type": "code",
      "metadata": {
        "id": "yKK0E6rZNNF3",
        "colab_type": "code",
        "colab": {
          "base_uri": "https://localhost:8080/",
          "height": 731
        },
        "outputId": "281f270e-f903-4027-cf91-f8558d560968"
      },
      "source": [
        "# создадим граф вычислений нейросети 1\n",
        "from keras.models import Sequential\n",
        "from keras.layers import Dense, Dropout, BatchNormalization, LeakyReLU\n",
        "from keras.optimizers import Adam\n",
        "from keras.regularizers import l1\n",
        "\n",
        "model = Sequential()\n",
        "model.add(Dense(100, activation='relu', input_dim=MAX_WORD_COUNT, name='input'))\n",
        "model.add(Dense(CLASSES, activation='softmax', name='output'))\n",
        "model.compile(loss='categorical_crossentropy',\n",
        "              metrics=['accuracy'],\n",
        "              optimizer=Adam(learning_rate=1e-4))\n",
        "\n",
        "model.fit(x_train_bow,\n",
        "          y_train,\n",
        "          validation_data=(x_test_bow, y_test),\n",
        "          epochs=20,\n",
        "          batch_size=256,\n",
        "          verbose=1)"
      ],
      "execution_count": 49,
      "outputs": [
        {
          "output_type": "stream",
          "text": [
            "Train on 14452 samples, validate on 3613 samples\n",
            "Epoch 1/20\n",
            "14452/14452 [==============================] - 2s 119us/step - loss: 2.8316 - accuracy: 0.2743 - val_loss: 2.6018 - val_accuracy: 0.3496\n",
            "Epoch 2/20\n",
            "14452/14452 [==============================] - 2s 112us/step - loss: 2.3821 - accuracy: 0.3671 - val_loss: 2.2347 - val_accuracy: 0.3869\n",
            "Epoch 3/20\n",
            "14452/14452 [==============================] - 2s 112us/step - loss: 2.0333 - accuracy: 0.4417 - val_loss: 1.9680 - val_accuracy: 0.4661\n",
            "Epoch 4/20\n",
            "14452/14452 [==============================] - 2s 112us/step - loss: 1.7574 - accuracy: 0.5393 - val_loss: 1.7593 - val_accuracy: 0.5411\n",
            "Epoch 5/20\n",
            "14452/14452 [==============================] - 2s 111us/step - loss: 1.5332 - accuracy: 0.6262 - val_loss: 1.5967 - val_accuracy: 0.6014\n",
            "Epoch 6/20\n",
            "14452/14452 [==============================] - 2s 112us/step - loss: 1.3506 - accuracy: 0.6997 - val_loss: 1.4662 - val_accuracy: 0.6396\n",
            "Epoch 7/20\n",
            "14452/14452 [==============================] - 2s 113us/step - loss: 1.1983 - accuracy: 0.7503 - val_loss: 1.3581 - val_accuracy: 0.6728\n",
            "Epoch 8/20\n",
            "14452/14452 [==============================] - 2s 112us/step - loss: 1.0685 - accuracy: 0.7883 - val_loss: 1.2668 - val_accuracy: 0.6958\n",
            "Epoch 9/20\n",
            "14452/14452 [==============================] - 2s 112us/step - loss: 0.9562 - accuracy: 0.8206 - val_loss: 1.1877 - val_accuracy: 0.7207\n",
            "Epoch 10/20\n",
            "14452/14452 [==============================] - 2s 111us/step - loss: 0.8577 - accuracy: 0.8451 - val_loss: 1.1192 - val_accuracy: 0.7360\n",
            "Epoch 11/20\n",
            "14452/14452 [==============================] - 2s 112us/step - loss: 0.7711 - accuracy: 0.8714 - val_loss: 1.0584 - val_accuracy: 0.7531\n",
            "Epoch 12/20\n",
            "14452/14452 [==============================] - 2s 112us/step - loss: 0.6940 - accuracy: 0.8888 - val_loss: 1.0043 - val_accuracy: 0.7645\n",
            "Epoch 13/20\n",
            "14452/14452 [==============================] - 2s 110us/step - loss: 0.6256 - accuracy: 0.9030 - val_loss: 0.9562 - val_accuracy: 0.7775\n",
            "Epoch 14/20\n",
            "14452/14452 [==============================] - 2s 113us/step - loss: 0.5646 - accuracy: 0.9170 - val_loss: 0.9135 - val_accuracy: 0.7916\n",
            "Epoch 15/20\n",
            "14452/14452 [==============================] - 2s 111us/step - loss: 0.5103 - accuracy: 0.9273 - val_loss: 0.8747 - val_accuracy: 0.7971\n",
            "Epoch 16/20\n",
            "14452/14452 [==============================] - 2s 111us/step - loss: 0.4617 - accuracy: 0.9382 - val_loss: 0.8396 - val_accuracy: 0.8040\n",
            "Epoch 17/20\n",
            "14452/14452 [==============================] - 2s 112us/step - loss: 0.4183 - accuracy: 0.9453 - val_loss: 0.8086 - val_accuracy: 0.8123\n",
            "Epoch 18/20\n",
            "14452/14452 [==============================] - 2s 111us/step - loss: 0.3795 - accuracy: 0.9532 - val_loss: 0.7803 - val_accuracy: 0.8190\n",
            "Epoch 19/20\n",
            "14452/14452 [==============================] - 2s 111us/step - loss: 0.3448 - accuracy: 0.9601 - val_loss: 0.7539 - val_accuracy: 0.8237\n",
            "Epoch 20/20\n",
            "14452/14452 [==============================] - 2s 111us/step - loss: 0.3138 - accuracy: 0.9664 - val_loss: 0.7302 - val_accuracy: 0.8265\n"
          ],
          "name": "stdout"
        },
        {
          "output_type": "execute_result",
          "data": {
            "text/plain": [
              "<keras.callbacks.callbacks.History at 0x7f7557e02e48>"
            ]
          },
          "metadata": {
            "tags": []
          },
          "execution_count": 49
        }
      ]
    },
    {
      "cell_type": "code",
      "metadata": {
        "id": "FO0GCJu8IVWC",
        "colab_type": "code",
        "colab": {}
      },
      "source": [
        "def history_plot(r):\n",
        "  fig, ax1 = plt.subplots()\n",
        "\n",
        "  t = np.arange(0, len(r.history['accuracy']), 1)\n",
        "\n",
        "  ln1 = ax1.plot(t, r.history['loss'], color='r', label='loss')\n",
        "  ln2 = ax1.plot(t, r.history['val_loss'], color='r', marker='o', label='val_loss')\n",
        "  ax1.set_xlabel('epochs')\n",
        "  ax1.set_ylabel('loss')\n",
        "  ax2 = ax1.twinx()\n",
        "\n",
        "\n",
        "  ln3 = ax2.plot(t, r.history['accuracy'], color='b', label='accuracy')\n",
        "  ln4 = ax2.plot(t, r.history['val_accuracy'], color='b', marker='o', label='val_accuracy')\n",
        "  ax2.set_ylabel('accuracy')\n",
        "\n",
        "  lns = ln1+ln2+ln3+ln4\n",
        "  labs = [l.get_label() for l in lns]\n",
        "  ax1.legend(lns, labs, loc=0)\n",
        "\n",
        "  fig.tight_layout()\n",
        "  plt.show()"
      ],
      "execution_count": 0,
      "outputs": []
    },
    {
      "cell_type": "code",
      "metadata": {
        "id": "j97bP8ogNUe3",
        "colab_type": "code",
        "colab": {
          "base_uri": "https://localhost:8080/",
          "height": 297
        },
        "outputId": "ecddafe8-182a-4300-ec9a-2c7ed1421ef6"
      },
      "source": [
        "history_plot(model.history)"
      ],
      "execution_count": 50,
      "outputs": [
        {
          "output_type": "display_data",
          "data": {
            "image/png": "[encoded data removed]",
            "text/plain": [
              "<Figure size 432x288 with 2 Axes>"
            ]
          },
          "metadata": {
            "tags": [],
            "needs_background": "light"
          }
        }
      ]
    },
    {
      "cell_type": "code",
      "metadata": {
        "id": "gg30IEy8OKVv",
        "colab_type": "code",
        "colab": {
          "base_uri": "https://localhost:8080/",
          "height": 731
        },
        "outputId": "65651834-e2f3-4fd8-8d49-7bc77cbc186f"
      },
      "source": [
        "# создадим граф вычислений нейросети 2\n",
        "\n",
        "model = Sequential()\n",
        "model.add(Dense(100, activation='relu', input_dim=MAX_WORD_COUNT, name='input'))\n",
        "model.add(Dense(100, activation='relu', name='dense_1'))\n",
        "model.add(Dropout(0.2))\n",
        "model.add(Dense(CLASSES, activation='softmax', name='output'))\n",
        "model.compile(loss='categorical_crossentropy',\n",
        "              metrics=['accuracy'],\n",
        "              optimizer=Adam(learning_rate=1e-4))\n",
        "\n",
        "model.fit(x_train_bow,\n",
        "          y_train,\n",
        "          validation_data=(x_test_bow, y_test),\n",
        "          epochs=20,\n",
        "          batch_size=256,\n",
        "          verbose=1)"
      ],
      "execution_count": 51,
      "outputs": [
        {
          "output_type": "stream",
          "text": [
            "Train on 14452 samples, validate on 3613 samples\n",
            "Epoch 1/20\n",
            "14452/14452 [==============================] - 2s 124us/step - loss: 2.9273 - accuracy: 0.2214 - val_loss: 2.7298 - val_accuracy: 0.2845\n",
            "Epoch 2/20\n",
            "14452/14452 [==============================] - 2s 116us/step - loss: 2.4916 - accuracy: 0.3205 - val_loss: 2.3001 - val_accuracy: 0.3476\n",
            "Epoch 3/20\n",
            "14452/14452 [==============================] - 2s 115us/step - loss: 2.1304 - accuracy: 0.4157 - val_loss: 1.9974 - val_accuracy: 0.4608\n",
            "Epoch 4/20\n",
            "14452/14452 [==============================] - 2s 114us/step - loss: 1.7966 - accuracy: 0.5212 - val_loss: 1.7274 - val_accuracy: 0.5408\n",
            "Epoch 5/20\n",
            "14452/14452 [==============================] - 2s 115us/step - loss: 1.5117 - accuracy: 0.6226 - val_loss: 1.5211 - val_accuracy: 0.6075\n",
            "Epoch 6/20\n",
            "14452/14452 [==============================] - 2s 115us/step - loss: 1.2854 - accuracy: 0.7007 - val_loss: 1.3604 - val_accuracy: 0.6618\n",
            "Epoch 7/20\n",
            "14452/14452 [==============================] - 2s 116us/step - loss: 1.0912 - accuracy: 0.7626 - val_loss: 1.2303 - val_accuracy: 0.6980\n",
            "Epoch 8/20\n",
            "14452/14452 [==============================] - 2s 115us/step - loss: 0.9352 - accuracy: 0.8022 - val_loss: 1.1230 - val_accuracy: 0.7337\n",
            "Epoch 9/20\n",
            "14452/14452 [==============================] - 2s 115us/step - loss: 0.8004 - accuracy: 0.8406 - val_loss: 1.0335 - val_accuracy: 0.7564\n",
            "Epoch 10/20\n",
            "14452/14452 [==============================] - 2s 115us/step - loss: 0.6823 - accuracy: 0.8728 - val_loss: 0.9555 - val_accuracy: 0.7758\n",
            "Epoch 11/20\n",
            "14452/14452 [==============================] - 2s 116us/step - loss: 0.5844 - accuracy: 0.8977 - val_loss: 0.8902 - val_accuracy: 0.7910\n",
            "Epoch 12/20\n",
            "14452/14452 [==============================] - 2s 115us/step - loss: 0.5010 - accuracy: 0.9148 - val_loss: 0.8349 - val_accuracy: 0.8043\n",
            "Epoch 13/20\n",
            "14452/14452 [==============================] - 2s 115us/step - loss: 0.4269 - accuracy: 0.9312 - val_loss: 0.7870 - val_accuracy: 0.8137\n",
            "Epoch 14/20\n",
            "14452/14452 [==============================] - 2s 114us/step - loss: 0.3697 - accuracy: 0.9460 - val_loss: 0.7492 - val_accuracy: 0.8204\n",
            "Epoch 15/20\n",
            "14452/14452 [==============================] - 2s 115us/step - loss: 0.3185 - accuracy: 0.9539 - val_loss: 0.7146 - val_accuracy: 0.8267\n",
            "Epoch 16/20\n",
            "14452/14452 [==============================] - 2s 115us/step - loss: 0.2736 - accuracy: 0.9633 - val_loss: 0.6847 - val_accuracy: 0.8353\n",
            "Epoch 17/20\n",
            "14452/14452 [==============================] - 2s 115us/step - loss: 0.2377 - accuracy: 0.9707 - val_loss: 0.6612 - val_accuracy: 0.8386\n",
            "Epoch 18/20\n",
            "14452/14452 [==============================] - 2s 116us/step - loss: 0.2089 - accuracy: 0.9747 - val_loss: 0.6390 - val_accuracy: 0.8406\n",
            "Epoch 19/20\n",
            "14452/14452 [==============================] - 2s 114us/step - loss: 0.1814 - accuracy: 0.9792 - val_loss: 0.6215 - val_accuracy: 0.8442\n",
            "Epoch 20/20\n",
            "14452/14452 [==============================] - 2s 115us/step - loss: 0.1596 - accuracy: 0.9831 - val_loss: 0.6084 - val_accuracy: 0.8467\n"
          ],
          "name": "stdout"
        },
        {
          "output_type": "execute_result",
          "data": {
            "text/plain": [
              "<keras.callbacks.callbacks.History at 0x7f7557ce6160>"
            ]
          },
          "metadata": {
            "tags": []
          },
          "execution_count": 51
        }
      ]
    },
    {
      "cell_type": "code",
      "metadata": {
        "id": "z-OBBI_pOKDg",
        "colab_type": "code",
        "colab": {
          "base_uri": "https://localhost:8080/",
          "height": 297
        },
        "outputId": "8c06ae13-e65b-45e9-f449-faf459544671"
      },
      "source": [
        "history_plot(model.history)"
      ],
      "execution_count": 44,
      "outputs": [
        {
          "output_type": "display_data",
          "data": {
            "image/png": "[encoded data removed]",
            "text/plain": [
              "<Figure size 432x288 with 2 Axes>"
            ]
          },
          "metadata": {
            "tags": [],
            "needs_background": "light"
          }
        }
      ]
    },
    {
      "cell_type": "code",
      "metadata": {
        "id": "bQ-Gpxqk3dz3",
        "colab_type": "code",
        "outputId": "6cf5572f-22b6-4bb0-fe83-d592b876e7b8",
        "colab": {
          "base_uri": "https://localhost:8080/",
          "height": 731
        }
      },
      "source": [
        "# создадим граф вычислений нейросети 3\n",
        "\n",
        "model = Sequential()\n",
        "model.add(Dense(100, activation='linear', input_dim=MAX_WORD_COUNT, name='input'))\n",
        "model.add(Dropout(0.2, name='dropout_1'))\n",
        "model.add(Dense(50, name='dense_2'))\n",
        "model.add(LeakyReLU(alpha=0.2))\n",
        "model.add(BatchNormalization(name='batch_norm'))\n",
        "model.add(Dropout(0.2, name='dropout_2'))\n",
        "model.add(Dense(CLASSES, activation='softmax', name='output'))\n",
        "model.compile(loss='categorical_crossentropy',\n",
        "              metrics=['accuracy'],\n",
        "              optimizer=Adam(learning_rate=1e-4))\n",
        "\n",
        "model.fit(x_train_bow,\n",
        "          y_train,\n",
        "          validation_data=(x_test_bow, y_test),\n",
        "          epochs=20,\n",
        "          batch_size=256,\n",
        "          verbose=1)"
      ],
      "execution_count": 32,
      "outputs": [
        {
          "output_type": "stream",
          "text": [
            "Train on 14452 samples, validate on 3613 samples\n",
            "Epoch 1/20\n",
            "14452/14452 [==============================] - 2s 137us/step - loss: 2.9802 - accuracy: 0.1707 - val_loss: 2.8822 - val_accuracy: 0.4434\n",
            "Epoch 2/20\n",
            "14452/14452 [==============================] - 2s 118us/step - loss: 1.8793 - accuracy: 0.4918 - val_loss: 2.6652 - val_accuracy: 0.5954\n",
            "Epoch 3/20\n",
            "14452/14452 [==============================] - 2s 118us/step - loss: 1.3752 - accuracy: 0.6689 - val_loss: 2.4209 - val_accuracy: 0.6762\n",
            "Epoch 4/20\n",
            "14452/14452 [==============================] - 2s 119us/step - loss: 1.0436 - accuracy: 0.7792 - val_loss: 2.1515 - val_accuracy: 0.7274\n",
            "Epoch 5/20\n",
            "14452/14452 [==============================] - 2s 117us/step - loss: 0.8172 - accuracy: 0.8495 - val_loss: 1.8516 - val_accuracy: 0.7614\n",
            "Epoch 6/20\n",
            "14452/14452 [==============================] - 2s 116us/step - loss: 0.6411 - accuracy: 0.8968 - val_loss: 1.5513 - val_accuracy: 0.7894\n",
            "Epoch 7/20\n",
            "14452/14452 [==============================] - 2s 115us/step - loss: 0.5140 - accuracy: 0.9303 - val_loss: 1.2805 - val_accuracy: 0.8060\n",
            "Epoch 8/20\n",
            "14452/14452 [==============================] - 2s 115us/step - loss: 0.4136 - accuracy: 0.9536 - val_loss: 1.0717 - val_accuracy: 0.8212\n",
            "Epoch 9/20\n",
            "14452/14452 [==============================] - 2s 115us/step - loss: 0.3422 - accuracy: 0.9666 - val_loss: 0.9290 - val_accuracy: 0.8251\n",
            "Epoch 10/20\n",
            "14452/14452 [==============================] - 2s 114us/step - loss: 0.2863 - accuracy: 0.9767 - val_loss: 0.8347 - val_accuracy: 0.8339\n",
            "Epoch 11/20\n",
            "14452/14452 [==============================] - 2s 116us/step - loss: 0.2397 - accuracy: 0.9813 - val_loss: 0.7723 - val_accuracy: 0.8370\n",
            "Epoch 12/20\n",
            "14452/14452 [==============================] - 2s 116us/step - loss: 0.2014 - accuracy: 0.9868 - val_loss: 0.7404 - val_accuracy: 0.8406\n",
            "Epoch 13/20\n",
            "14452/14452 [==============================] - 2s 117us/step - loss: 0.1726 - accuracy: 0.9906 - val_loss: 0.7145 - val_accuracy: 0.8445\n",
            "Epoch 14/20\n",
            "14452/14452 [==============================] - 2s 116us/step - loss: 0.1560 - accuracy: 0.9905 - val_loss: 0.6926 - val_accuracy: 0.8453\n",
            "Epoch 15/20\n",
            "14452/14452 [==============================] - 2s 116us/step - loss: 0.1352 - accuracy: 0.9926 - val_loss: 0.6765 - val_accuracy: 0.8497\n",
            "Epoch 16/20\n",
            "14452/14452 [==============================] - 2s 116us/step - loss: 0.1180 - accuracy: 0.9934 - val_loss: 0.6676 - val_accuracy: 0.8492\n",
            "Epoch 17/20\n",
            "14452/14452 [==============================] - 2s 117us/step - loss: 0.1070 - accuracy: 0.9937 - val_loss: 0.6545 - val_accuracy: 0.8530\n",
            "Epoch 18/20\n",
            "14452/14452 [==============================] - 2s 116us/step - loss: 0.0949 - accuracy: 0.9943 - val_loss: 0.6499 - val_accuracy: 0.8528\n",
            "Epoch 19/20\n",
            "14452/14452 [==============================] - 2s 114us/step - loss: 0.0867 - accuracy: 0.9940 - val_loss: 0.6445 - val_accuracy: 0.8539\n",
            "Epoch 20/20\n",
            "14452/14452 [==============================] - 2s 117us/step - loss: 0.0802 - accuracy: 0.9946 - val_loss: 0.6386 - val_accuracy: 0.8547\n"
          ],
          "name": "stdout"
        },
        {
          "output_type": "execute_result",
          "data": {
            "text/plain": [
              "<keras.callbacks.callbacks.History at 0x7f757ac18978>"
            ]
          },
          "metadata": {
            "tags": []
          },
          "execution_count": 32
        }
      ]
    },
    {
      "cell_type": "code",
      "metadata": {
        "id": "iqo4IRKVLcXH",
        "colab_type": "code",
        "colab": {
          "base_uri": "https://localhost:8080/",
          "height": 297
        },
        "outputId": "05c796a7-e78c-44fe-b165-b061aa3eabfe"
      },
      "source": [
        "history_plot(model.history)"
      ],
      "execution_count": 35,
      "outputs": [
        {
          "output_type": "display_data",
          "data": {
            "image/png": "[encoded data removed]",
            "text/plain": [
              "<Figure size 432x288 with 2 Axes>"
            ]
          },
          "metadata": {
            "tags": [],
            "needs_background": "light"
          }
        }
      ]
    },
    {
      "cell_type": "code",
      "metadata": {
        "id": "NsMpeSPwNKSV",
        "colab_type": "code",
        "colab": {
          "base_uri": "https://localhost:8080/",
          "height": 731
        },
        "outputId": "8edb9b26-fc84-4627-c724-f90a4eb830c2"
      },
      "source": [
        "# создадим граф вычислений нейросети 4\n",
        "\n",
        "model = Sequential()\n",
        "model.add(Dense(200, activation='relu', input_dim=MAX_WORD_COUNT, name='input'))\n",
        "model.add(Dropout(0.2, name='dropout_1'))\n",
        "model.add(Dense(150, activation='relu',  name='dense_2'))\n",
        "model.add(BatchNormalization(name='batch_norm'))\n",
        "model.add(Dropout(0.2, name='dropout_2'))\n",
        "model.add(Dense(150, activation='relu', name='dense_3'))\n",
        "model.add(Dropout(0.2, name='dropout_3'))\n",
        "model.add(Dense(100, activation='relu', name='dense_4'))\n",
        "model.add(Dropout(0.1, name='dropout_4'))\n",
        "model.add(Dense(CLASSES, activation='softmax', name='output'))\n",
        "model.compile(loss='categorical_crossentropy',\n",
        "              metrics=['accuracy'],\n",
        "              optimizer=Adam(learning_rate=1e-4))\n",
        "\n",
        "model.fit(x_train_bow,\n",
        "          y_train,\n",
        "          validation_data=(x_test_bow, y_test),\n",
        "          epochs=20,\n",
        "          batch_size=256,\n",
        "          verbose=1)"
      ],
      "execution_count": 53,
      "outputs": [
        {
          "output_type": "stream",
          "text": [
            "Train on 14452 samples, validate on 3613 samples\n",
            "Epoch 1/20\n",
            "14452/14452 [==============================] - 2s 145us/step - loss: 2.9966 - accuracy: 0.1098 - val_loss: 2.9950 - val_accuracy: 0.3523\n",
            "Epoch 2/20\n",
            "14452/14452 [==============================] - 2s 123us/step - loss: 2.3383 - accuracy: 0.3551 - val_loss: 2.8610 - val_accuracy: 0.4130\n",
            "Epoch 3/20\n",
            "14452/14452 [==============================] - 2s 124us/step - loss: 1.8904 - accuracy: 0.4532 - val_loss: 2.6898 - val_accuracy: 0.4498\n",
            "Epoch 4/20\n",
            "14452/14452 [==============================] - 2s 121us/step - loss: 1.6075 - accuracy: 0.5311 - val_loss: 2.4858 - val_accuracy: 0.5162\n",
            "Epoch 5/20\n",
            "14452/14452 [==============================] - 2s 122us/step - loss: 1.3464 - accuracy: 0.6135 - val_loss: 2.2255 - val_accuracy: 0.5945\n",
            "Epoch 6/20\n",
            "14452/14452 [==============================] - 2s 124us/step - loss: 1.0970 - accuracy: 0.6915 - val_loss: 1.8931 - val_accuracy: 0.6438\n",
            "Epoch 7/20\n",
            "14452/14452 [==============================] - 2s 123us/step - loss: 0.8626 - accuracy: 0.7611 - val_loss: 1.5760 - val_accuracy: 0.6900\n",
            "Epoch 8/20\n",
            "14452/14452 [==============================] - 2s 123us/step - loss: 0.6610 - accuracy: 0.8284 - val_loss: 1.2839 - val_accuracy: 0.7290\n",
            "Epoch 9/20\n",
            "14452/14452 [==============================] - 2s 123us/step - loss: 0.4948 - accuracy: 0.8793 - val_loss: 1.0564 - val_accuracy: 0.7617\n",
            "Epoch 10/20\n",
            "14452/14452 [==============================] - 2s 124us/step - loss: 0.3613 - accuracy: 0.9170 - val_loss: 0.9105 - val_accuracy: 0.7800\n",
            "Epoch 11/20\n",
            "14452/14452 [==============================] - 2s 123us/step - loss: 0.2627 - accuracy: 0.9415 - val_loss: 0.8251 - val_accuracy: 0.7944\n",
            "Epoch 12/20\n",
            "14452/14452 [==============================] - 2s 123us/step - loss: 0.2155 - accuracy: 0.9514 - val_loss: 0.7821 - val_accuracy: 0.8010\n",
            "Epoch 13/20\n",
            "14452/14452 [==============================] - 2s 122us/step - loss: 0.1574 - accuracy: 0.9667 - val_loss: 0.7587 - val_accuracy: 0.8104\n",
            "Epoch 14/20\n",
            "14452/14452 [==============================] - 2s 124us/step - loss: 0.1255 - accuracy: 0.9736 - val_loss: 0.7425 - val_accuracy: 0.8173\n",
            "Epoch 15/20\n",
            "14452/14452 [==============================] - 2s 124us/step - loss: 0.1088 - accuracy: 0.9774 - val_loss: 0.7330 - val_accuracy: 0.8226\n",
            "Epoch 16/20\n",
            "14452/14452 [==============================] - 2s 125us/step - loss: 0.0876 - accuracy: 0.9821 - val_loss: 0.7275 - val_accuracy: 0.8240\n",
            "Epoch 17/20\n",
            "14452/14452 [==============================] - 2s 124us/step - loss: 0.0767 - accuracy: 0.9831 - val_loss: 0.7314 - val_accuracy: 0.8309\n",
            "Epoch 18/20\n",
            "14452/14452 [==============================] - 2s 123us/step - loss: 0.0654 - accuracy: 0.9873 - val_loss: 0.7313 - val_accuracy: 0.8342\n",
            "Epoch 19/20\n",
            "14452/14452 [==============================] - 2s 124us/step - loss: 0.0590 - accuracy: 0.9880 - val_loss: 0.7317 - val_accuracy: 0.8350\n",
            "Epoch 20/20\n",
            "14452/14452 [==============================] - 2s 123us/step - loss: 0.0522 - accuracy: 0.9892 - val_loss: 0.7339 - val_accuracy: 0.8381\n"
          ],
          "name": "stdout"
        },
        {
          "output_type": "execute_result",
          "data": {
            "text/plain": [
              "<keras.callbacks.callbacks.History at 0x7f755771b438>"
            ]
          },
          "metadata": {
            "tags": []
          },
          "execution_count": 53
        }
      ]
    },
    {
      "cell_type": "code",
      "metadata": {
        "id": "HWiK6gp0OA9_",
        "colab_type": "code",
        "colab": {
          "base_uri": "https://localhost:8080/",
          "height": 297
        },
        "outputId": "7434aa48-b31c-42d4-c311-726828269fa2"
      },
      "source": [
        "history_plot(model.history)"
      ],
      "execution_count": 40,
      "outputs": [
        {
          "output_type": "display_data",
          "data": {
            "image/png": "[encoded data removed]",
            "text/plain": [
              "<Figure size 432x288 with 2 Axes>"
            ]
          },
          "metadata": {
            "tags": [],
            "needs_background": "light"
          }
        }
      ]
    },
    {
      "cell_type": "code",
      "metadata": {
        "id": "9RoqHZWoSHiW",
        "colab_type": "code",
        "colab": {
          "base_uri": "https://localhost:8080/",
          "height": 34
        },
        "outputId": "471bcc4d-ccbe-4535-a023-55ce315f6324"
      },
      "source": [
        "from keras.preprocessing.sequence import pad_sequences\n",
        "x_train_pad = pad_sequences(x_train, maxlen=slice_len)\n",
        "x_test_pad = pad_sequences(x_test, maxlen=slice_len)\n",
        "x_train_pad.shape"
      ],
      "execution_count": 73,
      "outputs": [
        {
          "output_type": "execute_result",
          "data": {
            "text/plain": [
              "(14452, 100)"
            ]
          },
          "metadata": {
            "tags": []
          },
          "execution_count": 73
        }
      ]
    },
    {
      "cell_type": "markdown",
      "metadata": {
        "id": "RcDahORCdGdd",
        "colab_type": "text"
      },
      "source": [
        "**EMBEDDING**"
      ]
    },
    {
      "cell_type": "code",
      "metadata": {
        "id": "1K7InQygODdN",
        "colab_type": "code",
        "colab": {
          "base_uri": "https://localhost:8080/",
          "height": 1000
        },
        "outputId": "dacdbf8c-14a8-42be-8795-2e743a27106d"
      },
      "source": [
        "# создадим граф вычислений нейросети 5 - с эмбеддингом\n",
        "from keras.layers import Embedding, Flatten, SpatialDropout1D\n",
        "\n",
        "model = Sequential()\n",
        "model.add(Embedding(MAX_WORD_COUNT, 300, input_length=slice_len, name='embedding'))\n",
        "model.add(SpatialDropout1D(0.4))\n",
        "model.add(Dense(300, activation='linear', name='dense_0'))\n",
        "model.add(Dropout(0.4))\n",
        "model.add(Dense(200, name='dense_1'))# , activation='relu'\n",
        "model.add(LeakyReLU(alpha=0.2))\n",
        "model.add(BatchNormalization())\n",
        "model.add(Dropout(0.4))\n",
        "model.add(Flatten())\n",
        "model.add(Dense(150, activation='relu', name='dense_2'))\n",
        "model.add(BatchNormalization())\n",
        "model.add(Dropout(0.4))\n",
        "model.add(Dense(100, activation='relu', name='dense_3'))\n",
        "model.add(BatchNormalization())\n",
        "model.add(Dropout(0.4))\n",
        "model.add(Dense(CLASSES, activation='softmax', name='output'))\n",
        "model.compile(loss='categorical_crossentropy',\n",
        "              metrics=['accuracy'],\n",
        "              optimizer=Adam(learning_rate=1e-4))\n",
        "\n",
        "model.fit(x_train_pad,\n",
        "          y_train,\n",
        "          validation_data=(x_test_pad, y_test),\n",
        "          epochs=100,\n",
        "          batch_size=256,\n",
        "          verbose=1)"
      ],
      "execution_count": 89,
      "outputs": [
        {
          "output_type": "stream",
          "text": [
            "/usr/local/lib/python3.6/dist-packages/tensorflow/python/framework/indexed_slices.py:434: UserWarning: Converting sparse IndexedSlices to a dense Tensor of unknown shape. This may consume a large amount of memory.\n",
            "  \"Converting sparse IndexedSlices to a dense Tensor of unknown shape. \"\n"
          ],
          "name": "stderr"
        },
        {
          "output_type": "stream",
          "text": [
            "Train on 14452 samples, validate on 3613 samples\n",
            "Epoch 1/100\n",
            "14452/14452 [==============================] - 2s 119us/step - loss: 4.1855 - accuracy: 0.0517 - val_loss: 3.0816 - val_accuracy: 0.0166\n",
            "Epoch 2/100\n",
            "14452/14452 [==============================] - 1s 75us/step - loss: 3.9971 - accuracy: 0.0583 - val_loss: 3.1268 - val_accuracy: 0.0271\n",
            "Epoch 3/100\n",
            "14452/14452 [==============================] - 1s 75us/step - loss: 3.8469 - accuracy: 0.0698 - val_loss: 3.1403 - val_accuracy: 0.0296\n",
            "Epoch 4/100\n",
            "14452/14452 [==============================] - 1s 75us/step - loss: 3.6606 - accuracy: 0.0795 - val_loss: 3.1168 - val_accuracy: 0.0329\n",
            "Epoch 5/100\n",
            "14452/14452 [==============================] - 1s 74us/step - loss: 3.5266 - accuracy: 0.0991 - val_loss: 3.0809 - val_accuracy: 0.0324\n",
            "Epoch 6/100\n",
            "14452/14452 [==============================] - 1s 74us/step - loss: 3.3726 - accuracy: 0.1254 - val_loss: 3.0179 - val_accuracy: 0.0501\n",
            "Epoch 7/100\n",
            "14452/14452 [==============================] - 1s 74us/step - loss: 3.2608 - accuracy: 0.1445 - val_loss: 2.9438 - val_accuracy: 0.1248\n",
            "Epoch 8/100\n",
            "14452/14452 [==============================] - 1s 74us/step - loss: 3.1118 - accuracy: 0.1779 - val_loss: 2.8380 - val_accuracy: 0.1985\n",
            "Epoch 9/100\n",
            "14452/14452 [==============================] - 1s 74us/step - loss: 2.9525 - accuracy: 0.2113 - val_loss: 2.7182 - val_accuracy: 0.2444\n",
            "Epoch 10/100\n",
            "14452/14452 [==============================] - 1s 74us/step - loss: 2.8254 - accuracy: 0.2449 - val_loss: 2.5962 - val_accuracy: 0.2737\n",
            "Epoch 11/100\n",
            "14452/14452 [==============================] - 1s 74us/step - loss: 2.6867 - accuracy: 0.2744 - val_loss: 2.4680 - val_accuracy: 0.3086\n",
            "Epoch 12/100\n",
            "14452/14452 [==============================] - 1s 74us/step - loss: 2.5606 - accuracy: 0.3045 - val_loss: 2.3900 - val_accuracy: 0.3202\n",
            "Epoch 13/100\n",
            "14452/14452 [==============================] - 1s 75us/step - loss: 2.4654 - accuracy: 0.3252 - val_loss: 2.3559 - val_accuracy: 0.3252\n",
            "Epoch 14/100\n",
            "14452/14452 [==============================] - 1s 77us/step - loss: 2.3684 - accuracy: 0.3475 - val_loss: 2.3033 - val_accuracy: 0.3355\n",
            "Epoch 15/100\n",
            "14452/14452 [==============================] - 1s 77us/step - loss: 2.2638 - accuracy: 0.3671 - val_loss: 2.2581 - val_accuracy: 0.3427\n",
            "Epoch 16/100\n",
            "14452/14452 [==============================] - 1s 75us/step - loss: 2.1830 - accuracy: 0.3871 - val_loss: 2.2176 - val_accuracy: 0.3485\n",
            "Epoch 17/100\n",
            "14452/14452 [==============================] - 1s 75us/step - loss: 2.1176 - accuracy: 0.4047 - val_loss: 2.1762 - val_accuracy: 0.3576\n",
            "Epoch 18/100\n",
            "14452/14452 [==============================] - 1s 75us/step - loss: 2.0504 - accuracy: 0.4134 - val_loss: 2.1629 - val_accuracy: 0.3651\n",
            "Epoch 19/100\n",
            "14452/14452 [==============================] - 1s 75us/step - loss: 1.9848 - accuracy: 0.4304 - val_loss: 2.0978 - val_accuracy: 0.3817\n",
            "Epoch 20/100\n",
            "14452/14452 [==============================] - 1s 75us/step - loss: 1.9238 - accuracy: 0.4440 - val_loss: 2.0714 - val_accuracy: 0.3897\n",
            "Epoch 21/100\n",
            "14452/14452 [==============================] - 1s 76us/step - loss: 1.8636 - accuracy: 0.4611 - val_loss: 2.0288 - val_accuracy: 0.3980\n",
            "Epoch 22/100\n",
            "14452/14452 [==============================] - 1s 74us/step - loss: 1.8198 - accuracy: 0.4681 - val_loss: 2.0033 - val_accuracy: 0.4055\n",
            "Epoch 23/100\n",
            "14452/14452 [==============================] - 1s 75us/step - loss: 1.7580 - accuracy: 0.4842 - val_loss: 1.9661 - val_accuracy: 0.4243\n",
            "Epoch 24/100\n",
            "14452/14452 [==============================] - 1s 75us/step - loss: 1.7010 - accuracy: 0.5035 - val_loss: 1.9418 - val_accuracy: 0.4262\n",
            "Epoch 25/100\n",
            "14452/14452 [==============================] - 1s 76us/step - loss: 1.6560 - accuracy: 0.5105 - val_loss: 1.8936 - val_accuracy: 0.4428\n",
            "Epoch 26/100\n",
            "14452/14452 [==============================] - 1s 76us/step - loss: 1.5966 - accuracy: 0.5273 - val_loss: 1.8557 - val_accuracy: 0.4542\n",
            "Epoch 27/100\n",
            "14452/14452 [==============================] - 1s 74us/step - loss: 1.5576 - accuracy: 0.5387 - val_loss: 1.8282 - val_accuracy: 0.4628\n",
            "Epoch 28/100\n",
            "14452/14452 [==============================] - 1s 75us/step - loss: 1.4982 - accuracy: 0.5532 - val_loss: 1.8134 - val_accuracy: 0.4719\n",
            "Epoch 29/100\n",
            "14452/14452 [==============================] - 1s 76us/step - loss: 1.4424 - accuracy: 0.5724 - val_loss: 1.7776 - val_accuracy: 0.4827\n",
            "Epoch 30/100\n",
            "14452/14452 [==============================] - 1s 76us/step - loss: 1.3993 - accuracy: 0.5827 - val_loss: 1.7675 - val_accuracy: 0.4882\n",
            "Epoch 31/100\n",
            "14452/14452 [==============================] - 1s 75us/step - loss: 1.3529 - accuracy: 0.5983 - val_loss: 1.7253 - val_accuracy: 0.5026\n",
            "Epoch 32/100\n",
            "14452/14452 [==============================] - 1s 74us/step - loss: 1.3176 - accuracy: 0.6075 - val_loss: 1.6988 - val_accuracy: 0.5109\n",
            "Epoch 33/100\n",
            "14452/14452 [==============================] - 1s 75us/step - loss: 1.2589 - accuracy: 0.6278 - val_loss: 1.6724 - val_accuracy: 0.5250\n",
            "Epoch 34/100\n",
            "14452/14452 [==============================] - 1s 74us/step - loss: 1.2107 - accuracy: 0.6405 - val_loss: 1.6658 - val_accuracy: 0.5239\n",
            "Epoch 35/100\n",
            "14452/14452 [==============================] - 1s 74us/step - loss: 1.1759 - accuracy: 0.6507 - val_loss: 1.6591 - val_accuracy: 0.5278\n",
            "Epoch 36/100\n",
            "14452/14452 [==============================] - 1s 76us/step - loss: 1.1187 - accuracy: 0.6663 - val_loss: 1.6200 - val_accuracy: 0.5397\n",
            "Epoch 37/100\n",
            "14452/14452 [==============================] - 1s 76us/step - loss: 1.0864 - accuracy: 0.6794 - val_loss: 1.5797 - val_accuracy: 0.5486\n",
            "Epoch 38/100\n",
            "14452/14452 [==============================] - 1s 75us/step - loss: 1.0436 - accuracy: 0.6901 - val_loss: 1.5664 - val_accuracy: 0.5533\n",
            "Epoch 39/100\n",
            "14452/14452 [==============================] - 1s 76us/step - loss: 0.9923 - accuracy: 0.7106 - val_loss: 1.5395 - val_accuracy: 0.5666\n",
            "Epoch 40/100\n",
            "14452/14452 [==============================] - 1s 75us/step - loss: 0.9506 - accuracy: 0.7209 - val_loss: 1.5194 - val_accuracy: 0.5710\n",
            "Epoch 41/100\n",
            "14452/14452 [==============================] - 1s 75us/step - loss: 0.9181 - accuracy: 0.7306 - val_loss: 1.5124 - val_accuracy: 0.5721\n",
            "Epoch 42/100\n",
            "14452/14452 [==============================] - 1s 76us/step - loss: 0.8796 - accuracy: 0.7423 - val_loss: 1.4927 - val_accuracy: 0.5754\n",
            "Epoch 43/100\n",
            "14452/14452 [==============================] - 1s 74us/step - loss: 0.8344 - accuracy: 0.7583 - val_loss: 1.4765 - val_accuracy: 0.5807\n",
            "Epoch 44/100\n",
            "14452/14452 [==============================] - 1s 75us/step - loss: 0.8007 - accuracy: 0.7667 - val_loss: 1.4670 - val_accuracy: 0.5851\n",
            "Epoch 45/100\n",
            "14452/14452 [==============================] - 1s 75us/step - loss: 0.7691 - accuracy: 0.7790 - val_loss: 1.4369 - val_accuracy: 0.5906\n",
            "Epoch 46/100\n",
            "14452/14452 [==============================] - 1s 75us/step - loss: 0.7230 - accuracy: 0.7914 - val_loss: 1.4357 - val_accuracy: 0.5940\n",
            "Epoch 47/100\n",
            "14452/14452 [==============================] - 1s 75us/step - loss: 0.7060 - accuracy: 0.7981 - val_loss: 1.4287 - val_accuracy: 0.5973\n",
            "Epoch 48/100\n",
            "14452/14452 [==============================] - 1s 74us/step - loss: 0.6571 - accuracy: 0.8100 - val_loss: 1.4307 - val_accuracy: 0.5981\n",
            "Epoch 49/100\n",
            "14452/14452 [==============================] - 1s 76us/step - loss: 0.6179 - accuracy: 0.8230 - val_loss: 1.4168 - val_accuracy: 0.6006\n",
            "Epoch 50/100\n",
            "14452/14452 [==============================] - 1s 75us/step - loss: 0.5992 - accuracy: 0.8319 - val_loss: 1.3965 - val_accuracy: 0.6084\n",
            "Epoch 51/100\n",
            "14452/14452 [==============================] - 1s 74us/step - loss: 0.5671 - accuracy: 0.8424 - val_loss: 1.3911 - val_accuracy: 0.6128\n",
            "Epoch 52/100\n",
            "14452/14452 [==============================] - 1s 75us/step - loss: 0.5419 - accuracy: 0.8469 - val_loss: 1.3642 - val_accuracy: 0.6164\n",
            "Epoch 53/100\n",
            "14452/14452 [==============================] - 1s 75us/step - loss: 0.5237 - accuracy: 0.8552 - val_loss: 1.3811 - val_accuracy: 0.6150\n",
            "Epoch 54/100\n",
            "14452/14452 [==============================] - 1s 75us/step - loss: 0.4932 - accuracy: 0.8659 - val_loss: 1.3837 - val_accuracy: 0.6133\n",
            "Epoch 55/100\n",
            "14452/14452 [==============================] - 1s 75us/step - loss: 0.4619 - accuracy: 0.8719 - val_loss: 1.3783 - val_accuracy: 0.6230\n",
            "Epoch 56/100\n",
            "14452/14452 [==============================] - 1s 74us/step - loss: 0.4384 - accuracy: 0.8790 - val_loss: 1.3695 - val_accuracy: 0.6288\n",
            "Epoch 57/100\n",
            "14452/14452 [==============================] - 1s 74us/step - loss: 0.4166 - accuracy: 0.8875 - val_loss: 1.3463 - val_accuracy: 0.6349\n",
            "Epoch 58/100\n",
            "14452/14452 [==============================] - 1s 74us/step - loss: 0.3908 - accuracy: 0.8930 - val_loss: 1.3508 - val_accuracy: 0.6377\n",
            "Epoch 59/100\n",
            "14452/14452 [==============================] - 1s 74us/step - loss: 0.3795 - accuracy: 0.8968 - val_loss: 1.3495 - val_accuracy: 0.6396\n",
            "Epoch 60/100\n",
            "14452/14452 [==============================] - 1s 74us/step - loss: 0.3578 - accuracy: 0.9012 - val_loss: 1.3518 - val_accuracy: 0.6380\n",
            "Epoch 61/100\n",
            "14452/14452 [==============================] - 1s 74us/step - loss: 0.3395 - accuracy: 0.9087 - val_loss: 1.3291 - val_accuracy: 0.6435\n",
            "Epoch 62/100\n",
            "14452/14452 [==============================] - 1s 75us/step - loss: 0.3200 - accuracy: 0.9159 - val_loss: 1.3172 - val_accuracy: 0.6443\n",
            "Epoch 63/100\n",
            "14452/14452 [==============================] - 1s 75us/step - loss: 0.3017 - accuracy: 0.9202 - val_loss: 1.3105 - val_accuracy: 0.6471\n",
            "Epoch 64/100\n",
            "14452/14452 [==============================] - 1s 76us/step - loss: 0.2975 - accuracy: 0.9195 - val_loss: 1.3040 - val_accuracy: 0.6513\n",
            "Epoch 65/100\n",
            "14452/14452 [==============================] - 1s 75us/step - loss: 0.2699 - accuracy: 0.9322 - val_loss: 1.3042 - val_accuracy: 0.6526\n",
            "Epoch 66/100\n",
            "14452/14452 [==============================] - 1s 74us/step - loss: 0.2553 - accuracy: 0.9368 - val_loss: 1.3073 - val_accuracy: 0.6532\n",
            "Epoch 67/100\n",
            "14452/14452 [==============================] - 1s 74us/step - loss: 0.2445 - accuracy: 0.9381 - val_loss: 1.2967 - val_accuracy: 0.6576\n",
            "Epoch 68/100\n",
            "14452/14452 [==============================] - 1s 75us/step - loss: 0.2380 - accuracy: 0.9389 - val_loss: 1.3053 - val_accuracy: 0.6590\n",
            "Epoch 69/100\n",
            "14452/14452 [==============================] - 1s 76us/step - loss: 0.2213 - accuracy: 0.9447 - val_loss: 1.3056 - val_accuracy: 0.6601\n",
            "Epoch 70/100\n",
            "14452/14452 [==============================] - 1s 74us/step - loss: 0.2161 - accuracy: 0.9452 - val_loss: 1.3012 - val_accuracy: 0.6587\n",
            "Epoch 71/100\n",
            "14452/14452 [==============================] - 1s 75us/step - loss: 0.2058 - accuracy: 0.9464 - val_loss: 1.3021 - val_accuracy: 0.6648\n",
            "Epoch 72/100\n",
            "14452/14452 [==============================] - 1s 75us/step - loss: 0.1936 - accuracy: 0.9513 - val_loss: 1.2945 - val_accuracy: 0.6657\n",
            "Epoch 73/100\n",
            "14452/14452 [==============================] - 1s 75us/step - loss: 0.1882 - accuracy: 0.9503 - val_loss: 1.2794 - val_accuracy: 0.6676\n",
            "Epoch 74/100\n",
            "14452/14452 [==============================] - 1s 75us/step - loss: 0.1743 - accuracy: 0.9567 - val_loss: 1.2733 - val_accuracy: 0.6712\n",
            "Epoch 75/100\n",
            "14452/14452 [==============================] - 1s 75us/step - loss: 0.1620 - accuracy: 0.9607 - val_loss: 1.2870 - val_accuracy: 0.6679\n",
            "Epoch 76/100\n",
            "14452/14452 [==============================] - 1s 74us/step - loss: 0.1634 - accuracy: 0.9587 - val_loss: 1.2886 - val_accuracy: 0.6681\n",
            "Epoch 77/100\n",
            "14452/14452 [==============================] - 1s 75us/step - loss: 0.1511 - accuracy: 0.9615 - val_loss: 1.3042 - val_accuracy: 0.6679\n",
            "Epoch 78/100\n",
            "14452/14452 [==============================] - 1s 74us/step - loss: 0.1434 - accuracy: 0.9652 - val_loss: 1.2966 - val_accuracy: 0.6709\n",
            "Epoch 79/100\n",
            "14452/14452 [==============================] - 1s 75us/step - loss: 0.1339 - accuracy: 0.9684 - val_loss: 1.3105 - val_accuracy: 0.6717\n",
            "Epoch 80/100\n",
            "14452/14452 [==============================] - 1s 75us/step - loss: 0.1341 - accuracy: 0.9670 - val_loss: 1.2946 - val_accuracy: 0.6728\n",
            "Epoch 81/100\n",
            "14452/14452 [==============================] - 1s 76us/step - loss: 0.1269 - accuracy: 0.9704 - val_loss: 1.2767 - val_accuracy: 0.6728\n",
            "Epoch 82/100\n",
            "14452/14452 [==============================] - 1s 75us/step - loss: 0.1221 - accuracy: 0.9701 - val_loss: 1.2940 - val_accuracy: 0.6778\n",
            "Epoch 83/100\n",
            "14452/14452 [==============================] - 1s 75us/step - loss: 0.1133 - accuracy: 0.9738 - val_loss: 1.2961 - val_accuracy: 0.6798\n",
            "Epoch 84/100\n",
            "14452/14452 [==============================] - 1s 74us/step - loss: 0.1152 - accuracy: 0.9715 - val_loss: 1.3058 - val_accuracy: 0.6792\n",
            "Epoch 85/100\n",
            "14452/14452 [==============================] - 1s 75us/step - loss: 0.1058 - accuracy: 0.9741 - val_loss: 1.2918 - val_accuracy: 0.6823\n",
            "Epoch 86/100\n",
            "14452/14452 [==============================] - 1s 77us/step - loss: 0.1003 - accuracy: 0.9774 - val_loss: 1.2768 - val_accuracy: 0.6850\n",
            "Epoch 87/100\n",
            "14452/14452 [==============================] - 1s 76us/step - loss: 0.0975 - accuracy: 0.9777 - val_loss: 1.2839 - val_accuracy: 0.6856\n",
            "Epoch 88/100\n",
            "14452/14452 [==============================] - 1s 75us/step - loss: 0.0912 - accuracy: 0.9779 - val_loss: 1.2891 - val_accuracy: 0.6847\n",
            "Epoch 89/100\n",
            "14452/14452 [==============================] - 1s 75us/step - loss: 0.0880 - accuracy: 0.9789 - val_loss: 1.2849 - val_accuracy: 0.6881\n",
            "Epoch 90/100\n",
            "14452/14452 [==============================] - 1s 75us/step - loss: 0.0866 - accuracy: 0.9812 - val_loss: 1.2809 - val_accuracy: 0.6881\n",
            "Epoch 91/100\n",
            "14452/14452 [==============================] - 1s 73us/step - loss: 0.0849 - accuracy: 0.9810 - val_loss: 1.2789 - val_accuracy: 0.6892\n",
            "Epoch 92/100\n",
            "14452/14452 [==============================] - 1s 74us/step - loss: 0.0816 - accuracy: 0.9810 - val_loss: 1.2867 - val_accuracy: 0.6878\n",
            "Epoch 93/100\n",
            "14452/14452 [==============================] - 1s 74us/step - loss: 0.0799 - accuracy: 0.9824 - val_loss: 1.2664 - val_accuracy: 0.6936\n",
            "Epoch 94/100\n",
            "14452/14452 [==============================] - 1s 76us/step - loss: 0.0777 - accuracy: 0.9824 - val_loss: 1.2757 - val_accuracy: 0.6950\n",
            "Epoch 95/100\n",
            "14452/14452 [==============================] - 1s 75us/step - loss: 0.0717 - accuracy: 0.9835 - val_loss: 1.2913 - val_accuracy: 0.6953\n",
            "Epoch 96/100\n",
            "14452/14452 [==============================] - 1s 74us/step - loss: 0.0672 - accuracy: 0.9851 - val_loss: 1.2773 - val_accuracy: 0.6978\n",
            "Epoch 97/100\n",
            "14452/14452 [==============================] - 1s 75us/step - loss: 0.0652 - accuracy: 0.9864 - val_loss: 1.2710 - val_accuracy: 0.6983\n",
            "Epoch 98/100\n",
            "14452/14452 [==============================] - 1s 74us/step - loss: 0.0628 - accuracy: 0.9858 - val_loss: 1.2773 - val_accuracy: 0.6961\n",
            "Epoch 99/100\n",
            "14452/14452 [==============================] - 1s 76us/step - loss: 0.0638 - accuracy: 0.9854 - val_loss: 1.2954 - val_accuracy: 0.6958\n",
            "Epoch 100/100\n",
            "14452/14452 [==============================] - 1s 76us/step - loss: 0.0621 - accuracy: 0.9866 - val_loss: 1.2951 - val_accuracy: 0.7002\n"
          ],
          "name": "stdout"
        },
        {
          "output_type": "execute_result",
          "data": {
            "text/plain": [
              "<keras.callbacks.callbacks.History at 0x7f75132a3eb8>"
            ]
          },
          "metadata": {
            "tags": []
          },
          "execution_count": 89
        }
      ]
    },
    {
      "cell_type": "code",
      "metadata": {
        "id": "9KpOtIKcSRSs",
        "colab_type": "code",
        "colab": {
          "base_uri": "https://localhost:8080/",
          "height": 297
        },
        "outputId": "fd52c7a7-f30d-4563-dd6a-e1b1166b2b37"
      },
      "source": [
        "history_plot(model.history)"
      ],
      "execution_count": 90,
      "outputs": [
        {
          "output_type": "display_data",
          "data": {
            "image/png": "[encoded data removed]",
            "text/plain": [
              "<Figure size 432x288 with 2 Axes>"
            ]
          },
          "metadata": {
            "tags": [],
            "needs_background": "light"
          }
        }
      ]
    },
    {
      "cell_type": "markdown",
      "metadata": {
        "id": "rNvShEfkIZoK",
        "colab_type": "text"
      },
      "source": [
        "**EMBEDDING + WORD2VEC**"
      ]
    },
    {
      "cell_type": "code",
      "metadata": {
        "id": "psyLGUsSMIOC",
        "colab_type": "code",
        "outputId": "a6d4391a-6319-4796-e9e8-1ef5627a6ed4",
        "colab": {
          "base_uri": "https://localhost:8080/",
          "height": 85
        }
      },
      "source": [
        "!pip install pymorphy2"
      ],
      "execution_count": 143,
      "outputs": [
        {
          "output_type": "stream",
          "text": [
            "Requirement already satisfied: pymorphy2 in /usr/local/lib/python3.6/dist-packages (0.8)\n",
            "Requirement already satisfied: docopt>=0.6 in /usr/local/lib/python3.6/dist-packages (from pymorphy2) (0.6.2)\n",
            "Requirement already satisfied: dawg-python>=0.7 in /usr/local/lib/python3.6/dist-packages (from pymorphy2) (0.7.2)\n",
            "Requirement already satisfied: pymorphy2-dicts<3.0,>=2.4 in /usr/local/lib/python3.6/dist-packages (from pymorphy2) (2.4.393442.3710985)\n"
          ],
          "name": "stdout"
        }
      ]
    },
    {
      "cell_type": "code",
      "metadata": {
        "id": "jXVL39tCkI9K",
        "colab_type": "code",
        "colab": {
          "base_uri": "https://localhost:8080/",
          "height": 105
        },
        "outputId": "866ca262-87bd-44fa-e85f-80e88229c422"
      },
      "source": [
        "%%time\n",
        "from keras.preprocessing.text import text_to_word_sequence\n",
        "from pymorphy2 import MorphAnalyzer\n",
        "morph = MorphAnalyzer()\n",
        "morph = MorphAnalyzer()\n",
        "messages = data['text'].tolist()\n",
        "data_normalized = [[] for _ in range(len(messages))]\n",
        "\n",
        "for i in range(len(messages)):\n",
        "  tmp_seq = text_to_word_sequence(messages[i], filters='!\"#$%&()*+,-./:;<=>?@[\\\\]^_`{|}~\\t\\n', lower=True, split=' ')\n",
        "  for word in tmp_seq:\n",
        "    data_normalized[i].append(morph.parse(str(word))[0].normal_form)\n",
        "\n",
        "print(len(data_normalized))\n",
        "print(data_normalized[:2])"
      ],
      "execution_count": 154,
      "outputs": [
        {
          "output_type": "stream",
          "text": [
            "8262\n",
            "[['здравствовать', 'подсказать', 'пожалуйста', 'можно', 'ли', 'сделать', 'проезд', 'для', 'школьник', 'по', 'льготный', 'цена', 'для', 'человек', 'работать', 'в', 'бюджетный', 'организация', 'с', 'ребёнок', 'на', 'проезд', 'уходить', 'значительный', 'часть', 'деньга', 'на', 'оплата', 'проезд'], ['подсказать', 'пожалуйста', 'иметь', 'ли', 'право', 'не', 'платить', 'какп', 'ремонт']]\n",
            "CPU times: user 3min 26s, sys: 149 ms, total: 3min 27s\n",
            "Wall time: 3min 27s\n"
          ],
          "name": "stdout"
        }
      ]
    },
    {
      "cell_type": "code",
      "metadata": {
        "id": "oGIqw3qIN8K0",
        "colab_type": "code",
        "outputId": "3ae769de-565b-4c56-e86d-ded1c9683e66",
        "colab": {
          "base_uri": "https://localhost:8080/",
          "height": 34
        }
      },
      "source": [
        "# обучим модель word2vec\n",
        "from gensim.models import Word2Vec\n",
        "wvec = Word2Vec(data_normalized, size=300, window=5, min_count=3, workers=-1)\n",
        "len(wvec.wv.vocab)"
      ],
      "execution_count": 181,
      "outputs": [
        {
          "output_type": "execute_result",
          "data": {
            "text/plain": [
              "13128"
            ]
          },
          "metadata": {
            "tags": []
          },
          "execution_count": 181
        }
      ]
    },
    {
      "cell_type": "code",
      "metadata": {
        "id": "CYyhC7pTLDGH",
        "colab_type": "code",
        "colab": {}
      },
      "source": [
        "# сделаем свой словарь id слов по словарю word2vec\n",
        "id2word = {k+1:v for k,v in enumerate(wvec.wv.vocab)}\n",
        "id2word[0] = 'UNK'\n",
        "word2id = {v:k for k,v in id2word.items()}"
      ],
      "execution_count": 0,
      "outputs": []
    },
    {
      "cell_type": "code",
      "metadata": {
        "id": "meALdm2zMCbP",
        "colab_type": "code",
        "outputId": "285cfb49-eae5-401c-fd60-83a0fdcfeb9e",
        "colab": {
          "base_uri": "https://localhost:8080/",
          "height": 323
        }
      },
      "source": [
        "# превратим текст в последовательность индексов слов по словарю word2vec, остальные слова упадут в UNK\n",
        "data_train_seq = [[] for _ in range(len(data_normalized))]\n",
        "\n",
        "for i in trange(len(data_normalized)):\n",
        "  for word in data_normalized[i]:\n",
        "    if word not in word2id:\n",
        "      word = 'UNK'\n",
        "    data_train_seq[i].append(word2id[word])        \n",
        "\n",
        "print(data_train_seq[:2])"
      ],
      "execution_count": 231,
      "outputs": [
        {
          "output_type": "stream",
          "text": [
            "\n",
            "\n",
            "\n",
            "\n",
            "  0%|          | 0/8262 [00:00<?, ?it/s]\u001b[A\u001b[A\u001b[A\u001b[A\n",
            "\n",
            "\n",
            "\n",
            " 26%|██▌       | 2132/8262 [00:00<00:00, 21315.65it/s]\u001b[A\u001b[A\u001b[A\u001b[A\n",
            "\n",
            "\n",
            "\n",
            " 54%|█████▍    | 4470/8262 [00:00<00:00, 21892.96it/s]\u001b[A\u001b[A\u001b[A\u001b[A\n",
            "\n",
            "\n",
            "\n",
            "100%|██████████| 8262/8262 [00:00<00:00, 24124.80it/s]"
          ],
          "name": "stderr"
        },
        {
          "output_type": "stream",
          "text": [
            "[[1, 2, 3, 4, 5, 6, 7, 8, 9, 10, 11, 12, 8, 13, 14, 15, 16, 17, 18, 19, 20, 7, 21, 22, 23, 24, 20, 25, 7], [2, 3, 26, 5, 27, 28, 29, 0, 30]]\n"
          ],
          "name": "stdout"
        },
        {
          "output_type": "stream",
          "text": [
            "\n"
          ],
          "name": "stderr"
        }
      ]
    },
    {
      "cell_type": "code",
      "metadata": {
        "id": "cVWivCzfOp-g",
        "colab_type": "code",
        "outputId": "7741b85e-60e8-4bda-a16d-30d74da00db4",
        "colab": {
          "base_uri": "https://localhost:8080/",
          "height": 289
        }
      },
      "source": [
        "# преобразуем датасетв последовательность срезов длины slice_len и шагом step, каждому срезу сопоставим свой класс\n",
        "slice_len = 30\n",
        "step = 10\n",
        "x_, y_ = create_dataset(data_train_seq, y_cat, slice_len, step)\n",
        "print('train shapes:', x_.shape, y_.shape)\n",
        "print('x:\\n', x_[:2])\n",
        "print('y:\\n', y_[:2])"
      ],
      "execution_count": 184,
      "outputs": [
        {
          "output_type": "stream",
          "text": [
            "\n",
            "\n",
            "\n",
            "\n",
            "  0%|          | 0/8262 [00:00<?, ?it/s]\u001b[A\u001b[A\u001b[A\u001b[A\n",
            "\n",
            "\n",
            "\n",
            "100%|██████████| 8262/8262 [00:00<00:00, 64090.72it/s]\n"
          ],
          "name": "stderr"
        },
        {
          "output_type": "stream",
          "text": [
            "train shapes: (106626,) (106626, 21)\n",
            "x:\n",
            " [list([1, 2, 3, 4, 5, 6, 7, 8, 9, 10, 11, 12, 8, 13, 14, 15, 16, 17, 18, 19, 20, 7, 21, 22, 23, 24, 20, 25, 7])\n",
            " list([11, 12, 8, 13, 14, 15, 16, 17, 18, 19, 20, 7, 21, 22, 23, 24, 20, 25, 7])]\n",
            "y:\n",
            " [[0. 0. 0. 0. 1. 0. 0. 0. 0. 0. 0. 0. 0. 0. 0. 0. 0. 0. 0. 0. 0.]\n",
            " [0. 0. 0. 0. 1. 0. 0. 0. 0. 0. 0. 0. 0. 0. 0. 0. 0. 0. 0. 0. 0.]]\n"
          ],
          "name": "stdout"
        }
      ]
    },
    {
      "cell_type": "code",
      "metadata": {
        "id": "mq7uc-pkU8aD",
        "colab_type": "code",
        "outputId": "822188d7-c786-460a-9aac-7c7f08dd2363",
        "colab": {
          "base_uri": "https://localhost:8080/",
          "height": 102
        }
      },
      "source": [
        "# сформируем эмбеддинг из вектора word2vec по словарю word2vec\n",
        "embed_matrix = np.zeros((len(id2word), wvec.wv.vector_size))\n",
        "for i in trange(embed_matrix.shape[0]):\n",
        "  word = id2word[i]\n",
        "  if word in wvec.wv:\n",
        "    embed_matrix[i] = wvec.wv.__getitem__(word)"
      ],
      "execution_count": 186,
      "outputs": [
        {
          "output_type": "stream",
          "text": [
            "\n",
            "\n",
            "\n",
            "\n",
            "100%|██████████| 13129/13129 [00:00<00:00, 285753.66it/s]\n"
          ],
          "name": "stderr"
        }
      ]
    },
    {
      "cell_type": "code",
      "metadata": {
        "id": "KkjSMWmfMlIy",
        "colab_type": "code",
        "outputId": "41159144-0c72-4721-9424-2e34cfa2c27f",
        "colab": {
          "base_uri": "https://localhost:8080/",
          "height": 119
        }
      },
      "source": [
        "# дополним последовательность до длины slice_len, заполнив остальные части нулями\n",
        "from keras.preprocessing.sequence import pad_sequences\n",
        "x_pad = pad_sequences(x_, slice_len)\n",
        "print(x_pad.shape)\n",
        "print('x_pad:\\n', x_pad[:2])"
      ],
      "execution_count": 187,
      "outputs": [
        {
          "output_type": "stream",
          "text": [
            "(106626, 30)\n",
            "x_pad:\n",
            " [[ 0  1  2  3  4  5  6  7  8  9 10 11 12  8 13 14 15 16 17 18 19 20  7 21\n",
            "  22 23 24 20 25  7]\n",
            " [ 0  0  0  0  0  0  0  0  0  0  0 11 12  8 13 14 15 16 17 18 19 20  7 21\n",
            "  22 23 24 20 25  7]]\n"
          ],
          "name": "stdout"
        }
      ]
    },
    {
      "cell_type": "code",
      "metadata": {
        "id": "YJQtYTLmW9PU",
        "colab_type": "code",
        "colab": {
          "base_uri": "https://localhost:8080/",
          "height": 187
        },
        "outputId": "ed29cc12-6483-40a0-eb1a-e157e32ddc42"
      },
      "source": [
        "# разобьем на тренировочную и тестовую выборки\n",
        "x_train_, x_test_, y_train_, y_test_ = train_test_split(x_pad, y_, test_size=0.2, random_state=777)\n",
        "print('x_test:\\n', x_test_[:2])\n",
        "print('y_test:\\n', y_test_[:2])"
      ],
      "execution_count": 188,
      "outputs": [
        {
          "output_type": "stream",
          "text": [
            "x_test:\n",
            " [[   23   382   137   464    59  7289  1435  1908     8 10972   402    51\n",
            "   2279     0   708    10  1372  4128  2446  1249  3181  3773  3724   107\n",
            "    399  1916  1811   109  1833   399]\n",
            " [    0     0     0     0     0     0   200  4273     0    15   892   106\n",
            "    311   424   134   154   316  1161  5711   382    18  3727    15  1784\n",
            "   2723   305   184    20  1054   366]]\n",
            "y_test:\n",
            " [[0. 0. 0. 0. 0. 0. 0. 0. 0. 0. 0. 0. 0. 0. 0. 0. 1. 0. 0. 0. 0.]\n",
            " [0. 0. 0. 0. 0. 0. 1. 0. 0. 0. 0. 0. 0. 0. 0. 0. 0. 0. 0. 0. 0.]]\n"
          ],
          "name": "stdout"
        }
      ]
    },
    {
      "cell_type": "code",
      "metadata": {
        "id": "n0H3r0qLHpbf",
        "colab_type": "code",
        "outputId": "823c872e-32bb-4d7b-caef-ec0709db2e78",
        "colab": {
          "base_uri": "https://localhost:8080/",
          "height": 1000
        }
      },
      "source": [
        "# создадим граф вычислений нейросети 6 - с эмбеддингом на word2vec\n",
        "from keras.models import Sequential\n",
        "from keras.layers import Dense, Dropout, BatchNormalization, Embedding, InputLayer, Flatten, LeakyReLU, PReLU, SpatialDropout1D\n",
        "from keras.optimizers import Adam\n",
        "from keras.regularizers import l1\n",
        "\n",
        "model = Sequential()\n",
        "model.add(Embedding(embed_matrix.shape[0], wvec.wv.vector_size, input_length=slice_len, trainable=True, name='embedding', weights=[embed_matrix]))#\n",
        "model.add(SpatialDropout1D(0.1))\n",
        "model.add(Dense(300, activation='linear', name='input_dense'))\n",
        "model.add(Dropout(0.4, name='dropout_1'))\n",
        "model.add(Dense(200, name='dense_2'))\n",
        "model.add(LeakyReLU(alpha=0.2))\n",
        "model.add(BatchNormalization(name='batch_norm'))\n",
        "model.add(Dense(100, name='dense_3'))\n",
        "model.add(PReLU())\n",
        "model.add(Dropout(0.3, name='dropout_2'))\n",
        "model.add(Flatten())\n",
        "model.add(Dense(CLASSES, activation='softmax', name='output'))\n",
        "model.compile(loss='categorical_crossentropy',\n",
        "              metrics=['accuracy'],\n",
        "              optimizer=Adam(learning_rate=1e-4))\n",
        "\n",
        "model.fit(x_train_,\n",
        "          y_train_,\n",
        "          validation_data=(x_test_, y_test_),\n",
        "          epochs=30,\n",
        "          batch_size=128,\n",
        "          verbose=1)"
      ],
      "execution_count": 201,
      "outputs": [
        {
          "output_type": "stream",
          "text": [
            "/usr/local/lib/python3.6/dist-packages/tensorflow/python/framework/indexed_slices.py:434: UserWarning: Converting sparse IndexedSlices to a dense Tensor of unknown shape. This may consume a large amount of memory.\n",
            "  \"Converting sparse IndexedSlices to a dense Tensor of unknown shape. \"\n"
          ],
          "name": "stderr"
        },
        {
          "output_type": "stream",
          "text": [
            "Train on 85300 samples, validate on 21326 samples\n",
            "Epoch 1/30\n",
            "85300/85300 [==============================] - 5s 59us/step - loss: 2.0190 - accuracy: 0.4092 - val_loss: 1.6816 - val_accuracy: 0.5548\n",
            "Epoch 2/30\n",
            "85300/85300 [==============================] - 5s 56us/step - loss: 1.3662 - accuracy: 0.6040 - val_loss: 1.2647 - val_accuracy: 0.6349\n",
            "Epoch 3/30\n",
            "85300/85300 [==============================] - 5s 55us/step - loss: 1.0199 - accuracy: 0.7004 - val_loss: 1.0519 - val_accuracy: 0.6887\n",
            "Epoch 4/30\n",
            "85300/85300 [==============================] - 5s 55us/step - loss: 0.7689 - accuracy: 0.7689 - val_loss: 0.9110 - val_accuracy: 0.7267\n",
            "Epoch 5/30\n",
            "85300/85300 [==============================] - 5s 55us/step - loss: 0.5904 - accuracy: 0.8216 - val_loss: 0.8127 - val_accuracy: 0.7585\n",
            "Epoch 6/30\n",
            "85300/85300 [==============================] - 5s 55us/step - loss: 0.4713 - accuracy: 0.8540 - val_loss: 0.7387 - val_accuracy: 0.7772\n",
            "Epoch 7/30\n",
            "85300/85300 [==============================] - 5s 54us/step - loss: 0.3889 - accuracy: 0.8772 - val_loss: 0.6963 - val_accuracy: 0.7919\n",
            "Epoch 8/30\n",
            "85300/85300 [==============================] - 5s 55us/step - loss: 0.3359 - accuracy: 0.8937 - val_loss: 0.6687 - val_accuracy: 0.8015\n",
            "Epoch 9/30\n",
            "85300/85300 [==============================] - 5s 55us/step - loss: 0.2959 - accuracy: 0.9054 - val_loss: 0.6481 - val_accuracy: 0.8116\n",
            "Epoch 10/30\n",
            "85300/85300 [==============================] - 5s 54us/step - loss: 0.2635 - accuracy: 0.9153 - val_loss: 0.6286 - val_accuracy: 0.8198\n",
            "Epoch 11/30\n",
            "85300/85300 [==============================] - 5s 55us/step - loss: 0.2373 - accuracy: 0.9226 - val_loss: 0.6140 - val_accuracy: 0.8242\n",
            "Epoch 12/30\n",
            "85300/85300 [==============================] - 5s 55us/step - loss: 0.2149 - accuracy: 0.9301 - val_loss: 0.6081 - val_accuracy: 0.8312\n",
            "Epoch 13/30\n",
            "85300/85300 [==============================] - 5s 55us/step - loss: 0.1983 - accuracy: 0.9357 - val_loss: 0.6114 - val_accuracy: 0.8311\n",
            "Epoch 14/30\n",
            "85300/85300 [==============================] - 5s 55us/step - loss: 0.1856 - accuracy: 0.9401 - val_loss: 0.6017 - val_accuracy: 0.8363\n",
            "Epoch 15/30\n",
            "85300/85300 [==============================] - 5s 55us/step - loss: 0.1754 - accuracy: 0.9430 - val_loss: 0.6018 - val_accuracy: 0.8380\n",
            "Epoch 16/30\n",
            "85300/85300 [==============================] - 5s 55us/step - loss: 0.1648 - accuracy: 0.9462 - val_loss: 0.5956 - val_accuracy: 0.8443\n",
            "Epoch 17/30\n",
            "85300/85300 [==============================] - 5s 55us/step - loss: 0.1545 - accuracy: 0.9494 - val_loss: 0.5958 - val_accuracy: 0.8447\n",
            "Epoch 18/30\n",
            "85300/85300 [==============================] - 5s 56us/step - loss: 0.1484 - accuracy: 0.9515 - val_loss: 0.5957 - val_accuracy: 0.8456\n",
            "Epoch 19/30\n",
            "85300/85300 [==============================] - 5s 56us/step - loss: 0.1418 - accuracy: 0.9536 - val_loss: 0.5941 - val_accuracy: 0.8486\n",
            "Epoch 20/30\n",
            "85300/85300 [==============================] - 5s 55us/step - loss: 0.1325 - accuracy: 0.9567 - val_loss: 0.5907 - val_accuracy: 0.8506\n",
            "Epoch 21/30\n",
            "85300/85300 [==============================] - 5s 55us/step - loss: 0.1309 - accuracy: 0.9575 - val_loss: 0.5960 - val_accuracy: 0.8525\n",
            "Epoch 22/30\n",
            "85300/85300 [==============================] - 5s 54us/step - loss: 0.1264 - accuracy: 0.9593 - val_loss: 0.5955 - val_accuracy: 0.8539\n",
            "Epoch 23/30\n",
            "85300/85300 [==============================] - 5s 55us/step - loss: 0.1210 - accuracy: 0.9607 - val_loss: 0.6025 - val_accuracy: 0.8537\n",
            "Epoch 24/30\n",
            "85300/85300 [==============================] - 5s 56us/step - loss: 0.1165 - accuracy: 0.9627 - val_loss: 0.6006 - val_accuracy: 0.8529\n",
            "Epoch 25/30\n",
            "85300/85300 [==============================] - 5s 55us/step - loss: 0.1104 - accuracy: 0.9644 - val_loss: 0.6051 - val_accuracy: 0.8543\n",
            "Epoch 26/30\n",
            "85300/85300 [==============================] - 5s 55us/step - loss: 0.1094 - accuracy: 0.9639 - val_loss: 0.5888 - val_accuracy: 0.8582\n",
            "Epoch 27/30\n",
            "85300/85300 [==============================] - 5s 57us/step - loss: 0.1048 - accuracy: 0.9668 - val_loss: 0.5968 - val_accuracy: 0.8603\n",
            "Epoch 28/30\n",
            "85300/85300 [==============================] - 5s 56us/step - loss: 0.1022 - accuracy: 0.9669 - val_loss: 0.5978 - val_accuracy: 0.8610\n",
            "Epoch 29/30\n",
            "85300/85300 [==============================] - 5s 55us/step - loss: 0.0975 - accuracy: 0.9686 - val_loss: 0.6063 - val_accuracy: 0.8590\n",
            "Epoch 30/30\n",
            "85300/85300 [==============================] - 5s 55us/step - loss: 0.1000 - accuracy: 0.9677 - val_loss: 0.5927 - val_accuracy: 0.8618\n"
          ],
          "name": "stdout"
        },
        {
          "output_type": "execute_result",
          "data": {
            "text/plain": [
              "<keras.callbacks.callbacks.History at 0x7f7479a88da0>"
            ]
          },
          "metadata": {
            "tags": []
          },
          "execution_count": 201
        }
      ]
    },
    {
      "cell_type": "code",
      "metadata": {
        "id": "f8Xp0_tzcN_c",
        "colab_type": "code",
        "colab": {
          "base_uri": "https://localhost:8080/",
          "height": 297
        },
        "outputId": "da096425-8004-42ca-94a8-0dd2c3a0a572"
      },
      "source": [
        "history_plot(model.history)"
      ],
      "execution_count": 202,
      "outputs": [
        {
          "output_type": "display_data",
          "data": {
            "image/png": "[encoded data removed]",
            "text/plain": [
              "<Figure size 432x288 with 2 Axes>"
            ]
          },
          "metadata": {
            "tags": [],
            "needs_background": "light"
          }
        }
      ]
    },
    {
      "cell_type": "code",
      "metadata": {
        "id": "SdutfHkCfl50",
        "colab_type": "code",
        "colab": {
          "base_uri": "https://localhost:8080/",
          "height": 561
        },
        "outputId": "204cb06d-dfe6-4bf4-e639-ba8b7c4c9c92"
      },
      "source": [
        "model.summary()"
      ],
      "execution_count": 198,
      "outputs": [
        {
          "output_type": "stream",
          "text": [
            "Model: \"sequential_64\"\n",
            "_________________________________________________________________\n",
            "Layer (type)                 Output Shape              Param #   \n",
            "=================================================================\n",
            "embedding (Embedding)        (None, 30, 300)           3938700   \n",
            "_________________________________________________________________\n",
            "spatial_dropout1d_32 (Spatia (None, 30, 300)           0         \n",
            "_________________________________________________________________\n",
            "input_dense (Dense)          (None, 30, 400)           120400    \n",
            "_________________________________________________________________\n",
            "dropout_1 (Dropout)          (None, 30, 400)           0         \n",
            "_________________________________________________________________\n",
            "dense_2 (Dense)              (None, 30, 300)           120300    \n",
            "_________________________________________________________________\n",
            "leaky_re_lu_29 (LeakyReLU)   (None, 30, 300)           0         \n",
            "_________________________________________________________________\n",
            "batch_norm (BatchNormalizati (None, 30, 300)           1200      \n",
            "_________________________________________________________________\n",
            "dense_3 (Dense)              (None, 30, 200)           60200     \n",
            "_________________________________________________________________\n",
            "p_re_lu_12 (PReLU)           (None, 30, 200)           6000      \n",
            "_________________________________________________________________\n",
            "dropout_2 (Dropout)          (None, 30, 200)           0         \n",
            "_________________________________________________________________\n",
            "flatten_40 (Flatten)         (None, 6000)              0         \n",
            "_________________________________________________________________\n",
            "output (Dense)               (None, 21)                126021    \n",
            "=================================================================\n",
            "Total params: 4,372,821\n",
            "Trainable params: 4,372,221\n",
            "Non-trainable params: 600\n",
            "_________________________________________________________________\n"
          ],
          "name": "stdout"
        }
      ]
    },
    {
      "cell_type": "markdown",
      "metadata": {
        "id": "j52Me2YfekCG",
        "colab_type": "text"
      },
      "source": [
        "#### лучший результат классификации обращений с помощью эмбеддинга на word2vec. Модель с эмбеддингом без заранее подготовленных векторов не показала хорошего качества и очень быстро переобучалась, а остальные модели, где был применен BOW, показали схожее качество c 6й моделью (accuracy у всех около 0.83), также у 2й и 4й заметно, что есть еще потенциал для роста."
      ]
    },
    {
      "cell_type": "code",
      "metadata": {
        "id": "JtiX2Nyhh54y",
        "colab_type": "code",
        "colab": {
          "base_uri": "https://localhost:8080/",
          "height": 391
        },
        "outputId": "fa539e83-4922-4ecc-dab9-e4eac871b208"
      },
      "source": [
        "# посмотрим на количество примеров по классам в валидационной выборке\n",
        "print('количество элементов по классам в тестовой выборке')\n",
        "Counter([np.argmax(i) for i in y_test_])"
      ],
      "execution_count": 204,
      "outputs": [
        {
          "output_type": "stream",
          "text": [
            "количество элементов по классам в тестовой выборке\n"
          ],
          "name": "stdout"
        },
        {
          "output_type": "execute_result",
          "data": {
            "text/plain": [
              "Counter({0: 537,\n",
              "         1: 3296,\n",
              "         2: 234,\n",
              "         3: 65,\n",
              "         4: 2931,\n",
              "         5: 554,\n",
              "         6: 5507,\n",
              "         7: 1077,\n",
              "         8: 307,\n",
              "         9: 380,\n",
              "         10: 879,\n",
              "         11: 963,\n",
              "         12: 581,\n",
              "         13: 47,\n",
              "         14: 205,\n",
              "         15: 1089,\n",
              "         16: 706,\n",
              "         17: 955,\n",
              "         18: 531,\n",
              "         19: 55,\n",
              "         20: 427})"
            ]
          },
          "metadata": {
            "tags": []
          },
          "execution_count": 204
        }
      ]
    },
    {
      "cell_type": "markdown",
      "metadata": {
        "id": "DlYya3ICxWF4",
        "colab_type": "text"
      },
      "source": [
        "в исходных данных есть классы с малым количеством примеров и раньше был шанс, что какого-то из этих классов не окажется в валиационной выборке и был вариант их исключить, но количество примеров получилось нарастить с помощью нарезки на элементы меньшего размера (длины slice_len) с некоторым шагом step. Есть вариант на основе этих примеров еще больше нарастить классы, принудительно добавив в выборку сгенерированных соседей и окрестности элементов класса. Попробуем на них обучить модель и посмотрим каой будет перфоманс"
      ]
    },
    {
      "cell_type": "markdown",
      "metadata": {
        "id": "RoCkrDDI3uor",
        "colab_type": "text"
      },
      "source": [
        "### борьба с несбалансированной выборкой наращением количества примеров миноритарных классов"
      ]
    },
    {
      "cell_type": "code",
      "metadata": {
        "id": "lqAi0eOixBrg",
        "colab_type": "code",
        "colab": {
          "base_uri": "https://localhost:8080/",
          "height": 119
        },
        "outputId": "b44ff0e9-783f-4843-9718-4a0ebd3e8379"
      },
      "source": [
        "!pip install imblearn"
      ],
      "execution_count": 205,
      "outputs": [
        {
          "output_type": "stream",
          "text": [
            "Requirement already satisfied: imblearn in /usr/local/lib/python3.6/dist-packages (0.0)\n",
            "Requirement already satisfied: imbalanced-learn in /usr/local/lib/python3.6/dist-packages (from imblearn) (0.4.3)\n",
            "Requirement already satisfied: scikit-learn>=0.20 in /usr/local/lib/python3.6/dist-packages (from imbalanced-learn->imblearn) (0.22.2.post1)\n",
            "Requirement already satisfied: numpy>=1.8.2 in /usr/local/lib/python3.6/dist-packages (from imbalanced-learn->imblearn) (1.18.4)\n",
            "Requirement already satisfied: scipy>=0.13.3 in /usr/local/lib/python3.6/dist-packages (from imbalanced-learn->imblearn) (1.4.1)\n",
            "Requirement already satisfied: joblib>=0.11 in /usr/local/lib/python3.6/dist-packages (from scikit-learn>=0.20->imbalanced-learn->imblearn) (0.15.1)\n"
          ],
          "name": "stdout"
        }
      ]
    },
    {
      "cell_type": "code",
      "metadata": {
        "id": "irbBA7SXxtbm",
        "colab_type": "code",
        "colab": {
          "base_uri": "https://localhost:8080/",
          "height": 153
        },
        "outputId": "c4b307d5-9f0c-454a-a6a6-dde090ca2413"
      },
      "source": [
        "# библиотека сгенерирует примеры для миноритарных классов\n",
        "from imblearn.over_sampling import RandomOverSampler\n",
        "ros = RandomOverSampler()\n",
        "x_pad_ros, y_ros = ros.fit_resample(x_pad, y_)\n",
        "\n",
        "print(x_pad_ros.shape)\n",
        "print('x_pad:\\n', x_pad_ros[:2])"
      ],
      "execution_count": 240,
      "outputs": [
        {
          "output_type": "stream",
          "text": [
            "(571956, 30)\n",
            "x_pad:\n",
            " [[ 0  1  2  3  4  5  6  7  8  9 10 11 12  8 13 14 15 16 17 18 19 20  7 21\n",
            "  22 23 24 20 25  7]\n",
            " [ 0  0  0  0  0  0  0  0  0  0  0 11 12  8 13 14 15 16 17 18 19 20  7 21\n",
            "  22 23 24 20 25  7]]\n"
          ],
          "name": "stdout"
        },
        {
          "output_type": "stream",
          "text": [
            "/usr/local/lib/python3.6/dist-packages/sklearn/utils/deprecation.py:87: FutureWarning: Function safe_indexing is deprecated; safe_indexing is deprecated in version 0.22 and will be removed in version 0.24.\n",
            "  warnings.warn(msg, category=FutureWarning)\n"
          ],
          "name": "stderr"
        }
      ]
    },
    {
      "cell_type": "code",
      "metadata": {
        "id": "u-g8IaBuyyXo",
        "colab_type": "code",
        "colab": {
          "base_uri": "https://localhost:8080/",
          "height": 187
        },
        "outputId": "d0e368c5-ba1e-4dce-b993-7b66c448f853"
      },
      "source": [
        "# разобьем на тренировочную и тестовую выборки\n",
        "x_train_ros, x_test_ros, y_train_ros, y_test_ros = train_test_split(np.asarray(x_pad_ros), y_ros, test_size=0.2, random_state=777)\n",
        "print('x_test:\\n', x_test_ros[:2])\n",
        "print('y_test:\\n', y_test_ros[:2])"
      ],
      "execution_count": 243,
      "outputs": [
        {
          "output_type": "stream",
          "text": [
            "x_test:\n",
            " [[   0 1439   28  151 1540 1540   15  459 3847 3389   20   71 2748   62\n",
            "    19  558 2101  104   15  263 2748  106  204   77  171 6234 6530 6233\n",
            "   459   19]\n",
            " [1640   50 9311  290 1598  378 3916  104  298  378   51  258  113  324\n",
            "  5350  459 5349   62  258   51  185  486  194   28 3399   92   28  159\n",
            "    20    0]]\n",
            "y_test:\n",
            " [[0 0 0 0 0 0 0 0 0 0 1 0 0 0 0 0 0 0 0 0 0]\n",
            " [0 0 0 0 0 0 0 0 0 0 0 0 1 0 0 0 0 0 0 0 0]]\n"
          ],
          "name": "stdout"
        }
      ]
    },
    {
      "cell_type": "code",
      "metadata": {
        "id": "RGJkK1X02iM_",
        "colab_type": "code",
        "colab": {
          "base_uri": "https://localhost:8080/",
          "height": 425
        },
        "outputId": "02f36359-3870-4c34-ac7e-a8375a8d44ab"
      },
      "source": [
        "# создадим граф вычислений нейросети 7 - с эмбеддингом на word2vec + наращенным количеством примеров до размеров максимального класса\n",
        "from keras.models import Sequential\n",
        "from keras.layers import Dense, Dropout, BatchNormalization, Embedding, InputLayer, Flatten, LeakyReLU, PReLU, SpatialDropout1D\n",
        "from keras.optimizers import Adam\n",
        "from keras.regularizers import l1\n",
        "\n",
        "model = Sequential()\n",
        "model.add(Embedding(embed_matrix.shape[0], wvec.wv.vector_size, input_length=slice_len, trainable=True, name='embedding', weights=[embed_matrix]))#\n",
        "model.add(SpatialDropout1D(0.1))\n",
        "model.add(Dense(300, activation='linear', name='input_dense'))\n",
        "model.add(Dropout(0.4, name='dropout_1'))\n",
        "model.add(Dense(200, name='dense_2'))\n",
        "model.add(LeakyReLU(alpha=0.2))\n",
        "model.add(BatchNormalization(name='batch_norm'))\n",
        "model.add(Dense(100, name='dense_3'))\n",
        "model.add(PReLU())\n",
        "model.add(Dropout(0.3, name='dropout_2'))\n",
        "model.add(Flatten())\n",
        "model.add(Dense(CLASSES, activation='softmax', name='output'))\n",
        "model.compile(loss='categorical_crossentropy',\n",
        "              metrics=['accuracy'],\n",
        "              optimizer=Adam(learning_rate=1e-4))\n",
        "\n",
        "model.fit(x_train_ros,\n",
        "          y_train_ros,\n",
        "          validation_data=(x_test_ros, y_test_ros),\n",
        "          epochs=10,\n",
        "          batch_size=128,\n",
        "          verbose=1)"
      ],
      "execution_count": 245,
      "outputs": [
        {
          "output_type": "stream",
          "text": [
            "/usr/local/lib/python3.6/dist-packages/tensorflow/python/framework/indexed_slices.py:434: UserWarning: Converting sparse IndexedSlices to a dense Tensor of unknown shape. This may consume a large amount of memory.\n",
            "  \"Converting sparse IndexedSlices to a dense Tensor of unknown shape. \"\n"
          ],
          "name": "stderr"
        },
        {
          "output_type": "stream",
          "text": [
            "Train on 457564 samples, validate on 114392 samples\n",
            "Epoch 1/10\n",
            "457564/457564 [==============================] - 26s 56us/step - loss: 0.8851 - accuracy: 0.7463 - val_loss: 0.2266 - val_accuracy: 0.9361\n",
            "Epoch 2/10\n",
            "457564/457564 [==============================] - 25s 56us/step - loss: 0.2453 - accuracy: 0.9254 - val_loss: 0.1298 - val_accuracy: 0.9630\n",
            "Epoch 3/10\n",
            "457564/457564 [==============================] - 26s 56us/step - loss: 0.1667 - accuracy: 0.9479 - val_loss: 0.0979 - val_accuracy: 0.9719\n",
            "Epoch 4/10\n",
            "457564/457564 [==============================] - 25s 55us/step - loss: 0.1294 - accuracy: 0.9595 - val_loss: 0.0818 - val_accuracy: 0.9765\n",
            "Epoch 5/10\n",
            "457564/457564 [==============================] - 25s 55us/step - loss: 0.1077 - accuracy: 0.9662 - val_loss: 0.0708 - val_accuracy: 0.9794\n",
            "Epoch 6/10\n",
            "457564/457564 [==============================] - 25s 55us/step - loss: 0.0938 - accuracy: 0.9706 - val_loss: 0.0639 - val_accuracy: 0.9812\n",
            "Epoch 7/10\n",
            "457564/457564 [==============================] - 25s 55us/step - loss: 0.0833 - accuracy: 0.9736 - val_loss: 0.0581 - val_accuracy: 0.9828\n",
            "Epoch 8/10\n",
            "457564/457564 [==============================] - 25s 55us/step - loss: 0.0750 - accuracy: 0.9761 - val_loss: 0.0543 - val_accuracy: 0.9839\n",
            "Epoch 9/10\n",
            "457564/457564 [==============================] - 25s 55us/step - loss: 0.0685 - accuracy: 0.9785 - val_loss: 0.0530 - val_accuracy: 0.9842\n",
            "Epoch 10/10\n",
            "457564/457564 [==============================] - 25s 55us/step - loss: 0.0633 - accuracy: 0.9801 - val_loss: 0.0502 - val_accuracy: 0.9852\n"
          ],
          "name": "stdout"
        },
        {
          "output_type": "execute_result",
          "data": {
            "text/plain": [
              "<keras.callbacks.callbacks.History at 0x7f7474f800b8>"
            ]
          },
          "metadata": {
            "tags": []
          },
          "execution_count": 245
        }
      ]
    },
    {
      "cell_type": "code",
      "metadata": {
        "id": "rm8DOHnp5K_g",
        "colab_type": "code",
        "colab": {
          "base_uri": "https://localhost:8080/",
          "height": 297
        },
        "outputId": "1312e7d3-f60d-4ba4-bc0b-f1484038fdbe"
      },
      "source": [
        "history_plot(model.history)"
      ],
      "execution_count": 246,
      "outputs": [
        {
          "output_type": "display_data",
          "data": {
            "image/png": "[encoded data removed]",
            "text/plain": [
              "<Figure size 432x288 with 2 Axes>"
            ]
          },
          "metadata": {
            "tags": [],
            "needs_background": "light"
          }
        }
      ]
    },
    {
      "cell_type": "code",
      "metadata": {
        "id": "MwMVvlMl5UNH",
        "colab_type": "code",
        "colab": {
          "base_uri": "https://localhost:8080/",
          "height": 561
        },
        "outputId": "8950a595-f644-42eb-97ba-63ffc1ae2b18"
      },
      "source": [
        "model.summary()"
      ],
      "execution_count": 247,
      "outputs": [
        {
          "output_type": "stream",
          "text": [
            "Model: \"sequential_70\"\n",
            "_________________________________________________________________\n",
            "Layer (type)                 Output Shape              Param #   \n",
            "=================================================================\n",
            "embedding (Embedding)        (None, 30, 300)           3938700   \n",
            "_________________________________________________________________\n",
            "spatial_dropout1d_38 (Spatia (None, 30, 300)           0         \n",
            "_________________________________________________________________\n",
            "input_dense (Dense)          (None, 30, 300)           90300     \n",
            "_________________________________________________________________\n",
            "dropout_1 (Dropout)          (None, 30, 300)           0         \n",
            "_________________________________________________________________\n",
            "dense_2 (Dense)              (None, 30, 200)           60200     \n",
            "_________________________________________________________________\n",
            "leaky_re_lu_33 (LeakyReLU)   (None, 30, 200)           0         \n",
            "_________________________________________________________________\n",
            "batch_norm (BatchNormalizati (None, 30, 200)           800       \n",
            "_________________________________________________________________\n",
            "dense_3 (Dense)              (None, 30, 100)           20100     \n",
            "_________________________________________________________________\n",
            "p_re_lu_16 (PReLU)           (None, 30, 100)           3000      \n",
            "_________________________________________________________________\n",
            "dropout_2 (Dropout)          (None, 30, 100)           0         \n",
            "_________________________________________________________________\n",
            "flatten_46 (Flatten)         (None, 3000)              0         \n",
            "_________________________________________________________________\n",
            "output (Dense)               (None, 21)                63021     \n",
            "=================================================================\n",
            "Total params: 4,176,121\n",
            "Trainable params: 4,175,721\n",
            "Non-trainable params: 400\n",
            "_________________________________________________________________\n"
          ],
          "name": "stdout"
        }
      ]
    },
    {
      "cell_type": "markdown",
      "metadata": {
        "id": "troRDf5m5ZCG",
        "colab_type": "text"
      },
      "source": [
        "### в результате модель отлично обучилась, точность близка к единице"
      ]
    }
  ]
}