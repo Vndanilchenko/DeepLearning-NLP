{
  "nbformat": 4,
  "nbformat_minor": 0,
  "metadata": {
    "colab": {
      "name": "transformers-NER classification.ipynb",
      "provenance": [],
      "collapsed_sections": []
    },
    "kernelspec": {
      "name": "python3",
      "display_name": "Python 3"
    },
    "language_info": {
      "name": "python"
    }
  },
  "cells": [
    {
      "cell_type": "markdown",
      "source": [
        "# классификация сущностей (NER) с помощью кастомной трансформерной архитектуры \n",
        "Данильченко Вадим"
      ],
      "metadata": {
        "id": "Vd9ySW-hkMfb"
      }
    },
    {
      "cell_type": "markdown",
      "source": [
        "План:\n",
        "1. загрузить данные\n",
        "2. токенизировать входящее сообщение\n",
        "3. препроцессинг (нормализация)\n",
        "4. создать словарь id:токен на токены фразы\n",
        "5. преобразовать в последовательность id\n",
        "6. выровнять до max_len последовательности\n",
        "7. токенизировать разметку сущностей\n",
        "8. создать словарь id:токен для сущностей\n",
        "9. преобразовать в последовательность id\n",
        "10. выровнять до max_len последовательности\n",
        "11. train_test_split\n",
        "12. модель\n",
        "13. валидация"
      ],
      "metadata": {
        "id": "bzHi_xRhi4NK"
      }
    },
    {
      "cell_type": "code",
      "source": [
        "!pip install pymorphy2"
      ],
      "metadata": {
        "colab": {
          "base_uri": "https://localhost:8080/"
        },
        "id": "6BoeBN1xkzOy",
        "outputId": "588918eb-f68e-4802-cb59-20d12acb6264"
      },
      "execution_count": 6,
      "outputs": [
        {
          "output_type": "stream",
          "name": "stdout",
          "text": [
            "Looking in indexes: https://pypi.org/simple, https://us-python.pkg.dev/colab-wheels/public/simple/\n",
            "Requirement already satisfied: pymorphy2 in /usr/local/lib/python3.7/dist-packages (0.9.1)\n",
            "Requirement already satisfied: docopt>=0.6 in /usr/local/lib/python3.7/dist-packages (from pymorphy2) (0.6.2)\n",
            "Requirement already satisfied: pymorphy2-dicts-ru<3.0,>=2.4 in /usr/local/lib/python3.7/dist-packages (from pymorphy2) (2.4.417127.4579844)\n",
            "Requirement already satisfied: dawg-python>=0.7.1 in /usr/local/lib/python3.7/dist-packages (from pymorphy2) (0.7.2)\n"
          ]
        }
      ]
    },
    {
      "cell_type": "code",
      "execution_count": 7,
      "metadata": {
        "id": "b7YiweNYgJyW"
      },
      "outputs": [],
      "source": [
        "import pandas as pd\n",
        "import numpy as np\n",
        "from pymorphy2 import MorphAnalyzer\n",
        "from keras.preprocessing.text import text_to_word_sequence\n",
        "from keras.preprocessing.text import Tokenizer\n",
        "from keras.preprocessing.sequence import pad_sequences\n",
        "from keras.utils.np_utils import to_categorical\n",
        "from sklearn.model_selection import train_test_split\n",
        "import tensorflow as tf\n",
        "from keras.layers import Layer, MultiHeadAttention, Dense, Dropout, LayerNormalization, Embedding, TimeDistributed, Bidirectional, LSTM\n",
        "from keras import Model\n",
        "from sklearn.metrics import classification_report"
      ]
    },
    {
      "cell_type": "markdown",
      "source": [
        "1. загрузим данные"
      ],
      "metadata": {
        "id": "JXnS_oHdkiDa"
      }
    },
    {
      "cell_type": "code",
      "source": [
        "data = pd.read_excel('./ner_result_set.xlsx')\n",
        "print(data.shape)\n",
        "data.head(2)"
      ],
      "metadata": {
        "colab": {
          "base_uri": "https://localhost:8080/",
          "height": 384
        },
        "id": "QyBxS6AeifM0",
        "outputId": "db68e450-fc11-4aba-b587-78ae77854a67"
      },
      "execution_count": 8,
      "outputs": [
        {
          "output_type": "stream",
          "name": "stdout",
          "text": [
            "(2104, 17)\n"
          ]
        },
        {
          "output_type": "execute_result",
          "data": {
            "text/plain": [
              "   Unnamed: 0                                          Сообщение  \\\n",
              "0         0.0                                   По сотовой связи   \n",
              "1         1.0  Добрый день . Оплатила за учебу картой Свобода...   \n",
              "\n",
              "   partner\\nПартнер (&PARTNER)  city\\nГород (&GEOX)   street\\nАдрес (&ADDR)   \\\n",
              "0                          0.0                   0.0                     0.0   \n",
              "1                          0.0                   1.0                     0.0   \n",
              "\n",
              "   Область (&OBL)   product\\nПродукт (&PROD)  category\\nКатегория (&CATEG)  \\\n",
              "0              NaN                       0.0                           1.0   \n",
              "1              NaN                       1.0                           0.0   \n",
              "\n",
              "   summa                                   Сущности от бота  \\\n",
              "0    1.0                                   по сотовой связи   \n",
              "1    2.0  оплатила за учебу картой свобода и сейчас поло...   \n",
              "\n",
              "                                   Сущности разметка Комментарий  \\\n",
              "0                                          по &CATEG         NaN   \n",
              "1  оплатила за учебу картой &PROD и сейчас положи...         NaN   \n",
              "\n",
              "                                            incoming  \\\n",
              "0                                   по сотовой связи   \n",
              "1  оплатила за учебу картой свобода и сейчас поло...   \n",
              "\n",
              "                                            entities  check  \\\n",
              "0                                  O B-CATEG I-CATEG    0.0   \n",
              "1  O O O O B-PROD O O O O O B-NUMI O O O O O O O ...    0.0   \n",
              "\n",
              "                                     target_entities  \\\n",
              "0                                  O B-CATEG I-CATEG   \n",
              "1  O O O O B-PROD O O O O O O O O O O O O O O O O...   \n",
              "\n",
              "                                         readable  \n",
              "0  [('сотовой', 'B-CATEG'), ('связи', 'I-CATEG')]  \n",
              "1                         [('свобода', 'B-PROD')]  "
            ],
            "text/html": [
              "\n",
              "  <div id=\"df-f155bdee-1126-4c85-aacb-14eca5ea6631\">\n",
              "    <div class=\"colab-df-container\">\n",
              "      <div>\n",
              "<style scoped>\n",
              "    .dataframe tbody tr th:only-of-type {\n",
              "        vertical-align: middle;\n",
              "    }\n",
              "\n",
              "    .dataframe tbody tr th {\n",
              "        vertical-align: top;\n",
              "    }\n",
              "\n",
              "    .dataframe thead th {\n",
              "        text-align: right;\n",
              "    }\n",
              "</style>\n",
              "<table border=\"1\" class=\"dataframe\">\n",
              "  <thead>\n",
              "    <tr style=\"text-align: right;\">\n",
              "      <th></th>\n",
              "      <th>Unnamed: 0</th>\n",
              "      <th>Сообщение</th>\n",
              "      <th>partner\\nПартнер (&amp;PARTNER)</th>\n",
              "      <th>city\\nГород (&amp;GEOX)</th>\n",
              "      <th>street\\nАдрес (&amp;ADDR)</th>\n",
              "      <th>Область (&amp;OBL)</th>\n",
              "      <th>product\\nПродукт (&amp;PROD)</th>\n",
              "      <th>category\\nКатегория (&amp;CATEG)</th>\n",
              "      <th>summa</th>\n",
              "      <th>Сущности от бота</th>\n",
              "      <th>Сущности разметка</th>\n",
              "      <th>Комментарий</th>\n",
              "      <th>incoming</th>\n",
              "      <th>entities</th>\n",
              "      <th>check</th>\n",
              "      <th>target_entities</th>\n",
              "      <th>readable</th>\n",
              "    </tr>\n",
              "  </thead>\n",
              "  <tbody>\n",
              "    <tr>\n",
              "      <th>0</th>\n",
              "      <td>0.0</td>\n",
              "      <td>По сотовой связи</td>\n",
              "      <td>0.0</td>\n",
              "      <td>0.0</td>\n",
              "      <td>0.0</td>\n",
              "      <td>NaN</td>\n",
              "      <td>0.0</td>\n",
              "      <td>1.0</td>\n",
              "      <td>1.0</td>\n",
              "      <td>по сотовой связи</td>\n",
              "      <td>по &amp;CATEG</td>\n",
              "      <td>NaN</td>\n",
              "      <td>по сотовой связи</td>\n",
              "      <td>O B-CATEG I-CATEG</td>\n",
              "      <td>0.0</td>\n",
              "      <td>O B-CATEG I-CATEG</td>\n",
              "      <td>[('сотовой', 'B-CATEG'), ('связи', 'I-CATEG')]</td>\n",
              "    </tr>\n",
              "    <tr>\n",
              "      <th>1</th>\n",
              "      <td>1.0</td>\n",
              "      <td>Добрый день . Оплатила за учебу картой Свобода...</td>\n",
              "      <td>0.0</td>\n",
              "      <td>1.0</td>\n",
              "      <td>0.0</td>\n",
              "      <td>NaN</td>\n",
              "      <td>1.0</td>\n",
              "      <td>0.0</td>\n",
              "      <td>2.0</td>\n",
              "      <td>оплатила за учебу картой свобода и сейчас поло...</td>\n",
              "      <td>оплатила за учебу картой &amp;PROD и сейчас положи...</td>\n",
              "      <td>NaN</td>\n",
              "      <td>оплатила за учебу картой свобода и сейчас поло...</td>\n",
              "      <td>O O O O B-PROD O O O O O B-NUMI O O O O O O O ...</td>\n",
              "      <td>0.0</td>\n",
              "      <td>O O O O B-PROD O O O O O O O O O O O O O O O O...</td>\n",
              "      <td>[('свобода', 'B-PROD')]</td>\n",
              "    </tr>\n",
              "  </tbody>\n",
              "</table>\n",
              "</div>\n",
              "      <button class=\"colab-df-convert\" onclick=\"convertToInteractive('df-f155bdee-1126-4c85-aacb-14eca5ea6631')\"\n",
              "              title=\"Convert this dataframe to an interactive table.\"\n",
              "              style=\"display:none;\">\n",
              "        \n",
              "  <svg xmlns=\"http://www.w3.org/2000/svg\" height=\"24px\"viewBox=\"0 0 24 24\"\n",
              "       width=\"24px\">\n",
              "    <path d=\"M0 0h24v24H0V0z\" fill=\"none\"/>\n",
              "    <path d=\"M18.56 5.44l.94 2.06.94-2.06 2.06-.94-2.06-.94-.94-2.06-.94 2.06-2.06.94zm-11 1L8.5 8.5l.94-2.06 2.06-.94-2.06-.94L8.5 2.5l-.94 2.06-2.06.94zm10 10l.94 2.06.94-2.06 2.06-.94-2.06-.94-.94-2.06-.94 2.06-2.06.94z\"/><path d=\"M17.41 7.96l-1.37-1.37c-.4-.4-.92-.59-1.43-.59-.52 0-1.04.2-1.43.59L10.3 9.45l-7.72 7.72c-.78.78-.78 2.05 0 2.83L4 21.41c.39.39.9.59 1.41.59.51 0 1.02-.2 1.41-.59l7.78-7.78 2.81-2.81c.8-.78.8-2.07 0-2.86zM5.41 20L4 18.59l7.72-7.72 1.47 1.35L5.41 20z\"/>\n",
              "  </svg>\n",
              "      </button>\n",
              "      \n",
              "  <style>\n",
              "    .colab-df-container {\n",
              "      display:flex;\n",
              "      flex-wrap:wrap;\n",
              "      gap: 12px;\n",
              "    }\n",
              "\n",
              "    .colab-df-convert {\n",
              "      background-color: #E8F0FE;\n",
              "      border: none;\n",
              "      border-radius: 50%;\n",
              "      cursor: pointer;\n",
              "      display: none;\n",
              "      fill: #1967D2;\n",
              "      height: 32px;\n",
              "      padding: 0 0 0 0;\n",
              "      width: 32px;\n",
              "    }\n",
              "\n",
              "    .colab-df-convert:hover {\n",
              "      background-color: #E2EBFA;\n",
              "      box-shadow: 0px 1px 2px rgba(60, 64, 67, 0.3), 0px 1px 3px 1px rgba(60, 64, 67, 0.15);\n",
              "      fill: #174EA6;\n",
              "    }\n",
              "\n",
              "    [theme=dark] .colab-df-convert {\n",
              "      background-color: #3B4455;\n",
              "      fill: #D2E3FC;\n",
              "    }\n",
              "\n",
              "    [theme=dark] .colab-df-convert:hover {\n",
              "      background-color: #434B5C;\n",
              "      box-shadow: 0px 1px 3px 1px rgba(0, 0, 0, 0.15);\n",
              "      filter: drop-shadow(0px 1px 2px rgba(0, 0, 0, 0.3));\n",
              "      fill: #FFFFFF;\n",
              "    }\n",
              "  </style>\n",
              "\n",
              "      <script>\n",
              "        const buttonEl =\n",
              "          document.querySelector('#df-f155bdee-1126-4c85-aacb-14eca5ea6631 button.colab-df-convert');\n",
              "        buttonEl.style.display =\n",
              "          google.colab.kernel.accessAllowed ? 'block' : 'none';\n",
              "\n",
              "        async function convertToInteractive(key) {\n",
              "          const element = document.querySelector('#df-f155bdee-1126-4c85-aacb-14eca5ea6631');\n",
              "          const dataTable =\n",
              "            await google.colab.kernel.invokeFunction('convertToInteractive',\n",
              "                                                     [key], {});\n",
              "          if (!dataTable) return;\n",
              "\n",
              "          const docLinkHtml = 'Like what you see? Visit the ' +\n",
              "            '<a target=\"_blank\" href=https://colab.research.google.com/notebooks/data_table.ipynb>data table notebook</a>'\n",
              "            + ' to learn more about interactive tables.';\n",
              "          element.innerHTML = '';\n",
              "          dataTable['output_type'] = 'display_data';\n",
              "          await google.colab.output.renderOutput(dataTable, element);\n",
              "          const docLink = document.createElement('div');\n",
              "          docLink.innerHTML = docLinkHtml;\n",
              "          element.appendChild(docLink);\n",
              "        }\n",
              "      </script>\n",
              "    </div>\n",
              "  </div>\n",
              "  "
            ]
          },
          "metadata": {},
          "execution_count": 8
        }
      ]
    },
    {
      "cell_type": "markdown",
      "source": [
        "2. токенизируем входящее сообщение"
      ],
      "metadata": {
        "id": "y48vJBOimvAT"
      }
    },
    {
      "cell_type": "code",
      "source": [
        "texts = data['incoming'].tolist()\n",
        "text = []\n",
        "for i in range(data.shape[0]):\n",
        "  text.append(text_to_word_sequence(str(texts[i]).strip()))\n",
        "\n",
        "print(len(text))\n",
        "text[:2]"
      ],
      "metadata": {
        "colab": {
          "base_uri": "https://localhost:8080/"
        },
        "id": "ipaIAnaTiphx",
        "outputId": "f9e3f08c-7d10-4018-ed3a-3af00db99c93"
      },
      "execution_count": 9,
      "outputs": [
        {
          "output_type": "stream",
          "name": "stdout",
          "text": [
            "2104\n"
          ]
        },
        {
          "output_type": "execute_result",
          "data": {
            "text/plain": [
              "[['по', 'сотовой', 'связи'],\n",
              " ['оплатила',\n",
              "  'за',\n",
              "  'учебу',\n",
              "  'картой',\n",
              "  'свобода',\n",
              "  'и',\n",
              "  'сейчас',\n",
              "  'положила',\n",
              "  'деньги',\n",
              "  'прошло',\n",
              "  '5',\n",
              "  'дней',\n",
              "  'я',\n",
              "  'правильно',\n",
              "  'поняла',\n",
              "  'мне',\n",
              "  'все',\n",
              "  'равно',\n",
              "  'сумму',\n",
              "  'за',\n",
              "  'карту',\n",
              "  '1599',\n",
              "  'нужно',\n",
              "  'оплатить',\n",
              "  'через',\n",
              "  '10',\n",
              "  'дней']]"
            ]
          },
          "metadata": {},
          "execution_count": 9
        }
      ]
    },
    {
      "cell_type": "markdown",
      "source": [
        "3. препроцессинг (нормализация)"
      ],
      "metadata": {
        "id": "iRozC20ymzRD"
      }
    },
    {
      "cell_type": "code",
      "source": [
        "morh = MorphAnalyzer()\n",
        "\n",
        "text_norm = [[] for _ in range(len(text))]\n",
        "\n",
        "for i in range(data.shape[0]):\n",
        "  for j in range(len(text[i])):\n",
        "    tmp_elem = text[i][j]\n",
        "    text_norm[i].append(morh.parse(tmp_elem)[0].normal_form)\n",
        "\n",
        "print(len(text_norm))\n",
        "text_norm[:2]"
      ],
      "metadata": {
        "colab": {
          "base_uri": "https://localhost:8080/"
        },
        "id": "5RphW78smgtz",
        "outputId": "d080381c-00c0-4ae6-efcf-a7944392d34c"
      },
      "execution_count": 10,
      "outputs": [
        {
          "output_type": "stream",
          "name": "stdout",
          "text": [
            "2104\n"
          ]
        },
        {
          "output_type": "execute_result",
          "data": {
            "text/plain": [
              "[['по', 'сотовый', 'связь'],\n",
              " ['оплатить',\n",
              "  'за',\n",
              "  'учёба',\n",
              "  'карта',\n",
              "  'свобода',\n",
              "  'и',\n",
              "  'сейчас',\n",
              "  'положить',\n",
              "  'деньга',\n",
              "  'пройти',\n",
              "  '5',\n",
              "  'день',\n",
              "  'я',\n",
              "  'правильно',\n",
              "  'понять',\n",
              "  'я',\n",
              "  'всё',\n",
              "  'равно',\n",
              "  'сумма',\n",
              "  'за',\n",
              "  'карта',\n",
              "  '1599',\n",
              "  'нужно',\n",
              "  'оплатить',\n",
              "  'через',\n",
              "  '10',\n",
              "  'день']]"
            ]
          },
          "metadata": {},
          "execution_count": 10
        }
      ]
    },
    {
      "cell_type": "markdown",
      "source": [
        "4. создать словарь id:токен на токены фразы"
      ],
      "metadata": {
        "id": "PkRF785Xn_DS"
      }
    },
    {
      "cell_type": "code",
      "source": [
        "tokenizer = Tokenizer()\n",
        "tokenizer.fit_on_texts(text_norm)"
      ],
      "metadata": {
        "id": "zLX7d6J-n-iZ"
      },
      "execution_count": 11,
      "outputs": []
    },
    {
      "cell_type": "code",
      "source": [
        "id2word = tokenizer.index_word\n",
        "id2word[0] = 'pad'\n",
        "len(id2word)"
      ],
      "metadata": {
        "colab": {
          "base_uri": "https://localhost:8080/"
        },
        "id": "uFw8MF3-oddR",
        "outputId": "69c8ffab-25ac-4448-efc7-cb9363cadaa3"
      },
      "execution_count": 12,
      "outputs": [
        {
          "output_type": "execute_result",
          "data": {
            "text/plain": [
              "2887"
            ]
          },
          "metadata": {},
          "execution_count": 12
        }
      ]
    },
    {
      "cell_type": "markdown",
      "source": [
        "5. преобразовать в последовательность id"
      ],
      "metadata": {
        "id": "thNy5gOnpAMJ"
      }
    },
    {
      "cell_type": "code",
      "source": [
        "sequences = tokenizer.texts_to_sequences(text_norm)\n",
        "sequences[:2]"
      ],
      "metadata": {
        "colab": {
          "base_uri": "https://localhost:8080/"
        },
        "id": "olhJqRLho3_h",
        "outputId": "76598dca-d037-4937-8265-35aefe8b0641"
      },
      "execution_count": 13,
      "outputs": [
        {
          "output_type": "execute_result",
          "data": {
            "text/plain": [
              "[[5, 640, 186],\n",
              " [52,\n",
              "  21,\n",
              "  1419,\n",
              "  1,\n",
              "  9,\n",
              "  8,\n",
              "  83,\n",
              "  250,\n",
              "  34,\n",
              "  119,\n",
              "  97,\n",
              "  50,\n",
              "  3,\n",
              "  370,\n",
              "  224,\n",
              "  3,\n",
              "  95,\n",
              "  851,\n",
              "  28,\n",
              "  21,\n",
              "  1,\n",
              "  1420,\n",
              "  78,\n",
              "  52,\n",
              "  48,\n",
              "  32,\n",
              "  50]]"
            ]
          },
          "metadata": {},
          "execution_count": 13
        }
      ]
    },
    {
      "cell_type": "markdown",
      "source": [
        "6. выровнять до max_len последовательности"
      ],
      "metadata": {
        "id": "Siq9yiU3pQmK"
      }
    },
    {
      "cell_type": "code",
      "source": [
        "# посмотрим на max длину\n",
        "max_len = 0\n",
        "for elem in sequences:\n",
        "  if len(elem)>max_len:\n",
        "    max_len = len(elem)\n",
        "# max_len = 12"
      ],
      "metadata": {
        "id": "K2gUZZ6rpa1p"
      },
      "execution_count": 14,
      "outputs": []
    },
    {
      "cell_type": "code",
      "source": [
        "sequences_pad = pad_sequences(sequences, maxlen=max_len, padding='post', value=0)\n",
        "sequences_pad[:2]"
      ],
      "metadata": {
        "colab": {
          "base_uri": "https://localhost:8080/"
        },
        "id": "f9TzLIQjqUON",
        "outputId": "2568e045-8a65-422b-f0a1-697d2e34122f"
      },
      "execution_count": 15,
      "outputs": [
        {
          "output_type": "execute_result",
          "data": {
            "text/plain": [
              "array([[   5,  640,  186,    0,    0,    0,    0,    0,    0,    0,    0,\n",
              "           0,    0,    0,    0,    0,    0,    0,    0,    0,    0,    0,\n",
              "           0,    0,    0,    0,    0,    0,    0,    0,    0,    0,    0,\n",
              "           0,    0,    0,    0,    0,    0,    0,    0,    0,    0,    0,\n",
              "           0,    0,    0,    0,    0,    0,    0,    0,    0,    0,    0,\n",
              "           0,    0,    0,    0,    0,    0,    0,    0,    0,    0,    0,\n",
              "           0,    0,    0,    0,    0,    0,    0,    0,    0,    0,    0,\n",
              "           0,    0,    0,    0,    0,    0,    0,    0,    0,    0,    0,\n",
              "           0,    0,    0,    0,    0,    0,    0,    0,    0,    0,    0,\n",
              "           0,    0,    0,    0,    0,    0,    0,    0,    0,    0,    0,\n",
              "           0,    0,    0,    0,    0,    0,    0,    0,    0,    0,    0,\n",
              "           0,    0,    0,    0,    0,    0,    0,    0,    0,    0,    0,\n",
              "           0,    0,    0,    0,    0,    0,    0,    0,    0,    0,    0,\n",
              "           0,    0,    0,    0,    0,    0,    0,    0,    0,    0,    0,\n",
              "           0,    0,    0,    0,    0,    0,    0],\n",
              "       [  52,   21, 1419,    1,    9,    8,   83,  250,   34,  119,   97,\n",
              "          50,    3,  370,  224,    3,   95,  851,   28,   21,    1, 1420,\n",
              "          78,   52,   48,   32,   50,    0,    0,    0,    0,    0,    0,\n",
              "           0,    0,    0,    0,    0,    0,    0,    0,    0,    0,    0,\n",
              "           0,    0,    0,    0,    0,    0,    0,    0,    0,    0,    0,\n",
              "           0,    0,    0,    0,    0,    0,    0,    0,    0,    0,    0,\n",
              "           0,    0,    0,    0,    0,    0,    0,    0,    0,    0,    0,\n",
              "           0,    0,    0,    0,    0,    0,    0,    0,    0,    0,    0,\n",
              "           0,    0,    0,    0,    0,    0,    0,    0,    0,    0,    0,\n",
              "           0,    0,    0,    0,    0,    0,    0,    0,    0,    0,    0,\n",
              "           0,    0,    0,    0,    0,    0,    0,    0,    0,    0,    0,\n",
              "           0,    0,    0,    0,    0,    0,    0,    0,    0,    0,    0,\n",
              "           0,    0,    0,    0,    0,    0,    0,    0,    0,    0,    0,\n",
              "           0,    0,    0,    0,    0,    0,    0,    0,    0,    0,    0,\n",
              "           0,    0,    0,    0,    0,    0,    0]], dtype=int32)"
            ]
          },
          "metadata": {},
          "execution_count": 15
        }
      ]
    },
    {
      "cell_type": "markdown",
      "source": [
        "7. токенизируем разметку сущностей"
      ],
      "metadata": {
        "id": "hyt12rq24daq"
      }
    },
    {
      "cell_type": "code",
      "source": [
        "data['target_entities'].tail()"
      ],
      "metadata": {
        "colab": {
          "base_uri": "https://localhost:8080/"
        },
        "id": "XmwMRMKF4sUB",
        "outputId": "50eb7c57-2962-496a-fe31-27e0ebf4ddad"
      },
      "execution_count": 16,
      "outputs": [
        {
          "output_type": "execute_result",
          "data": {
            "text/plain": [
              "2099                                 O O PARTNER O O GEOX\n",
              "2100                                    O O PARTNER O O O\n",
              "2101                O O O O O O O CATEG PARTNER PARTNER O\n",
              "2102    O O O O O O O O O O O PARTNER PARTNER O CATEG ...\n",
              "2103                                O O O PROD O O O O O \n",
              "Name: target_entities, dtype: object"
            ]
          },
          "metadata": {},
          "execution_count": 16
        }
      ]
    },
    {
      "cell_type": "code",
      "source": [
        "entities = data['target_entities'].tolist()\n",
        "\n",
        "entities_list = []\n",
        "for i in range(len(entities)):\n",
        "  entities_list.append(str(entities[i]).strip().split(' '))\n",
        "\n",
        "print(len(entities_list))\n",
        "entities_list[:2]"
      ],
      "metadata": {
        "colab": {
          "base_uri": "https://localhost:8080/"
        },
        "id": "wzVikknH4cTa",
        "outputId": "9455bc9d-abc2-48c8-8ed9-51c728b62f61"
      },
      "execution_count": 17,
      "outputs": [
        {
          "output_type": "stream",
          "name": "stdout",
          "text": [
            "2104\n"
          ]
        },
        {
          "output_type": "execute_result",
          "data": {
            "text/plain": [
              "[['O', 'B-CATEG', 'I-CATEG'],\n",
              " ['O',\n",
              "  'O',\n",
              "  'O',\n",
              "  'O',\n",
              "  'B-PROD',\n",
              "  'O',\n",
              "  'O',\n",
              "  'O',\n",
              "  'O',\n",
              "  'O',\n",
              "  'O',\n",
              "  'O',\n",
              "  'O',\n",
              "  'O',\n",
              "  'O',\n",
              "  'O',\n",
              "  'O',\n",
              "  'O',\n",
              "  'O',\n",
              "  'O',\n",
              "  'O',\n",
              "  'O',\n",
              "  'O',\n",
              "  'O',\n",
              "  'O',\n",
              "  'O',\n",
              "  'O',\n",
              "  'O',\n",
              "  'O']]"
            ]
          },
          "metadata": {},
          "execution_count": 17
        }
      ]
    },
    {
      "cell_type": "markdown",
      "source": [
        "8. создать словарь id:токен для сущностей"
      ],
      "metadata": {
        "id": "yPWgVOy-B937"
      }
    },
    {
      "cell_type": "code",
      "source": [
        "tokenizer_ent = Tokenizer()\n",
        "tokenizer_ent.fit_on_texts(entities_list)"
      ],
      "metadata": {
        "id": "OGQ_4hXHBU2s"
      },
      "execution_count": 18,
      "outputs": []
    },
    {
      "cell_type": "code",
      "source": [
        "id2ent = tokenizer_ent.index_word\n",
        "id2ent[0] = 'pad'\n",
        "ent_num = len(id2ent)\n",
        "print(ent_num)"
      ],
      "metadata": {
        "colab": {
          "base_uri": "https://localhost:8080/"
        },
        "id": "EXQJyzcyCbKz",
        "outputId": "8f2295b9-f45c-4e41-e9c1-537df40c3b71"
      },
      "execution_count": 19,
      "outputs": [
        {
          "output_type": "stream",
          "name": "stdout",
          "text": [
            "20\n"
          ]
        }
      ]
    },
    {
      "cell_type": "code",
      "source": [
        "id2ent"
      ],
      "metadata": {
        "colab": {
          "base_uri": "https://localhost:8080/"
        },
        "id": "DUKqquw6Cg-L",
        "outputId": "86a81668-ff97-4ba7-b6fd-30532cadb8c6"
      },
      "execution_count": 20,
      "outputs": [
        {
          "output_type": "execute_result",
          "data": {
            "text/plain": [
              "{0: 'pad',\n",
              " 1: 'o',\n",
              " 2: 'b-prod',\n",
              " 3: 'partner',\n",
              " 4: 'i-prod',\n",
              " 5: 'categ',\n",
              " 6: 'b-partner',\n",
              " 7: 'prod',\n",
              " 8: 'i-categ',\n",
              " 9: 'b-categ',\n",
              " 10: 'i-partner',\n",
              " 11: 'geox',\n",
              " 12: 'b-geox',\n",
              " 13: 'addr',\n",
              " 14: 'i-addr',\n",
              " 15: 'obl',\n",
              " 16: 'b-addr',\n",
              " 17: 'i-geox',\n",
              " 18: 'b-obl',\n",
              " 19: 'i-obl'}"
            ]
          },
          "metadata": {},
          "execution_count": 20
        }
      ]
    },
    {
      "cell_type": "markdown",
      "source": [
        "9. преобразовать в последовательность id"
      ],
      "metadata": {
        "id": "IfO_559WC5HS"
      }
    },
    {
      "cell_type": "code",
      "source": [
        "sequences_ent = tokenizer_ent.texts_to_sequences(entities_list)\n",
        "sequences_ent[:2]"
      ],
      "metadata": {
        "colab": {
          "base_uri": "https://localhost:8080/"
        },
        "id": "w4qQIVW5CefC",
        "outputId": "d05c4ba6-fc41-4cad-f8a8-03181f6317a2"
      },
      "execution_count": 21,
      "outputs": [
        {
          "output_type": "execute_result",
          "data": {
            "text/plain": [
              "[[1, 9, 8],\n",
              " [1,\n",
              "  1,\n",
              "  1,\n",
              "  1,\n",
              "  2,\n",
              "  1,\n",
              "  1,\n",
              "  1,\n",
              "  1,\n",
              "  1,\n",
              "  1,\n",
              "  1,\n",
              "  1,\n",
              "  1,\n",
              "  1,\n",
              "  1,\n",
              "  1,\n",
              "  1,\n",
              "  1,\n",
              "  1,\n",
              "  1,\n",
              "  1,\n",
              "  1,\n",
              "  1,\n",
              "  1,\n",
              "  1,\n",
              "  1,\n",
              "  1,\n",
              "  1]]"
            ]
          },
          "metadata": {},
          "execution_count": 21
        }
      ]
    },
    {
      "cell_type": "markdown",
      "source": [
        "10. выровнять до max_len последовательности"
      ],
      "metadata": {
        "id": "ELLxBKyGDPgb"
      }
    },
    {
      "cell_type": "code",
      "source": [
        "# длина последовательности должна совпадать с входящей последовательностью\n",
        "sequences_ent_pad = pad_sequences(sequences_ent, maxlen=max_len, padding='post', value=0)\n",
        "sequences_ent_pad[:2]"
      ],
      "metadata": {
        "colab": {
          "base_uri": "https://localhost:8080/"
        },
        "id": "MZVfyjraDPHf",
        "outputId": "ceb1a199-699e-49ae-d8c9-c4bd7e62fd8b"
      },
      "execution_count": 22,
      "outputs": [
        {
          "output_type": "execute_result",
          "data": {
            "text/plain": [
              "array([[1, 9, 8, 0, 0, 0, 0, 0, 0, 0, 0, 0, 0, 0, 0, 0, 0, 0, 0, 0, 0, 0,\n",
              "        0, 0, 0, 0, 0, 0, 0, 0, 0, 0, 0, 0, 0, 0, 0, 0, 0, 0, 0, 0, 0, 0,\n",
              "        0, 0, 0, 0, 0, 0, 0, 0, 0, 0, 0, 0, 0, 0, 0, 0, 0, 0, 0, 0, 0, 0,\n",
              "        0, 0, 0, 0, 0, 0, 0, 0, 0, 0, 0, 0, 0, 0, 0, 0, 0, 0, 0, 0, 0, 0,\n",
              "        0, 0, 0, 0, 0, 0, 0, 0, 0, 0, 0, 0, 0, 0, 0, 0, 0, 0, 0, 0, 0, 0,\n",
              "        0, 0, 0, 0, 0, 0, 0, 0, 0, 0, 0, 0, 0, 0, 0, 0, 0, 0, 0, 0, 0, 0,\n",
              "        0, 0, 0, 0, 0, 0, 0, 0, 0, 0, 0, 0, 0, 0, 0, 0, 0, 0, 0, 0, 0, 0,\n",
              "        0, 0, 0, 0, 0, 0, 0],\n",
              "       [1, 1, 1, 1, 2, 1, 1, 1, 1, 1, 1, 1, 1, 1, 1, 1, 1, 1, 1, 1, 1, 1,\n",
              "        1, 1, 1, 1, 1, 1, 1, 0, 0, 0, 0, 0, 0, 0, 0, 0, 0, 0, 0, 0, 0, 0,\n",
              "        0, 0, 0, 0, 0, 0, 0, 0, 0, 0, 0, 0, 0, 0, 0, 0, 0, 0, 0, 0, 0, 0,\n",
              "        0, 0, 0, 0, 0, 0, 0, 0, 0, 0, 0, 0, 0, 0, 0, 0, 0, 0, 0, 0, 0, 0,\n",
              "        0, 0, 0, 0, 0, 0, 0, 0, 0, 0, 0, 0, 0, 0, 0, 0, 0, 0, 0, 0, 0, 0,\n",
              "        0, 0, 0, 0, 0, 0, 0, 0, 0, 0, 0, 0, 0, 0, 0, 0, 0, 0, 0, 0, 0, 0,\n",
              "        0, 0, 0, 0, 0, 0, 0, 0, 0, 0, 0, 0, 0, 0, 0, 0, 0, 0, 0, 0, 0, 0,\n",
              "        0, 0, 0, 0, 0, 0, 0]], dtype=int32)"
            ]
          },
          "metadata": {},
          "execution_count": 22
        }
      ]
    },
    {
      "cell_type": "markdown",
      "source": [
        "11. train_test_split"
      ],
      "metadata": {
        "id": "TNJhu2qnDvHE"
      }
    },
    {
      "cell_type": "code",
      "source": [
        "y_cat = [[to_categorical(i, num_classes=ent_num) for i in tmp_seq] for tmp_seq in sequences_ent_pad]\n",
        "y_cat = np.asarray(y_cat)\n",
        "y_cat[0]"
      ],
      "metadata": {
        "colab": {
          "base_uri": "https://localhost:8080/"
        },
        "id": "smjhpf1AEMW7",
        "outputId": "d8f2edcf-99d4-4771-dd54-024107d47223"
      },
      "execution_count": 23,
      "outputs": [
        {
          "output_type": "execute_result",
          "data": {
            "text/plain": [
              "array([[0., 1., 0., ..., 0., 0., 0.],\n",
              "       [0., 0., 0., ..., 0., 0., 0.],\n",
              "       [0., 0., 0., ..., 0., 0., 0.],\n",
              "       ...,\n",
              "       [1., 0., 0., ..., 0., 0., 0.],\n",
              "       [1., 0., 0., ..., 0., 0., 0.],\n",
              "       [1., 0., 0., ..., 0., 0., 0.]], dtype=float32)"
            ]
          },
          "metadata": {},
          "execution_count": 23
        }
      ]
    },
    {
      "cell_type": "code",
      "source": [
        "# разделим на тренировочную и тестовую выборки\n",
        "\n",
        "x_train, x_test, y_train, y_test = train_test_split(sequences_pad, y_cat, test_size=0.1, random_state=777)#, shuffle=True)\n",
        "print(x_train.shape, y_train.shape, x_test.shape, y_test.shape)"
      ],
      "metadata": {
        "colab": {
          "base_uri": "https://localhost:8080/"
        },
        "id": "9x5kD6fADKAi",
        "outputId": "0f46831c-ba82-48c3-f708-8edf1027f06a"
      },
      "execution_count": 24,
      "outputs": [
        {
          "output_type": "stream",
          "name": "stdout",
          "text": [
            "(1893, 161) (1893, 161, 20) (211, 161) (211, 161, 20)\n"
          ]
        }
      ]
    },
    {
      "cell_type": "markdown",
      "source": [
        "12. модель"
      ],
      "metadata": {
        "id": "l7WIrzxRIhFi"
      }
    },
    {
      "cell_type": "code",
      "source": [
        "# опишем блок трансформера\n",
        "class transformerLayer(Layer):\n",
        "  \n",
        "  def __init__(self, num_heads, embed_dim, fc_dim):\n",
        "    super(transformerLayer, self).__init__()\n",
        "    # self.num_head = num_heads\n",
        "    # self.embed_dim = embed_dim\n",
        "    # self.fc_dim = fc_dim\n",
        "    self.att = MultiHeadAttention(num_heads=num_heads, key_dim=embed_dim)\n",
        "    self.fc1 = Dense(fc_dim, activation='relu')\n",
        "    self.fc2 = Dense(embed_dim)\n",
        "    self.dp1 = Dropout(0.1)\n",
        "    self.dp2 = Dropout(0.1)\n",
        "    self.ln1 = LayerNormalization(epsilon=1e-6)\n",
        "    self.ln2 = LayerNormalization(epsilon=1e-6)\n",
        "\n",
        "\n",
        "  def call(self, inputs):\n",
        "      att = self.att(inputs, inputs)\n",
        "      dp = self.dp1(att)\n",
        "      ln = self.ln1(inputs + dp)\n",
        "      fc = self.fc1(ln)\n",
        "      fc = self.fc2(fc)\n",
        "      dp = self.dp2(fc)\n",
        "      out = self.ln2(ln + dp)\n",
        "      return out"
      ],
      "metadata": {
        "id": "RtTNyXTMe7C1"
      },
      "execution_count": 25,
      "outputs": []
    },
    {
      "cell_type": "code",
      "source": [
        "# опишем класс эмбеддингов для позиционирования токенов\n",
        "class tokenPositionLayer(Layer):\n",
        "  \n",
        "  def __init__(self, maxlen, vocab_size, embed_dim):\n",
        "    super(tokenPositionLayer, self).__init__()\n",
        "    # self.maxlen = maxlen\n",
        "    # self.vocab_size = vocab_size\n",
        "    # self.embed_dim = embed_dim\n",
        "    self.te = Embedding(input_dim=vocab_size, output_dim=embed_dim)\n",
        "    self.pe = Embedding(input_dim=maxlen, output_dim=embed_dim)\n",
        "\n",
        "  def call(self, inputs):\n",
        "    maxlen = tf.shape(inputs)[-1]\n",
        "    positions = tf.range(start=0, limit=maxlen, delta=1)\n",
        "    position_embedding = self.pe(positions)\n",
        "    token_embedding = self.te(inputs)\n",
        "    return position_embedding + token_embedding  "
      ],
      "metadata": {
        "id": "lRJTEbe_Lgfb"
      },
      "execution_count": 26,
      "outputs": []
    },
    {
      "cell_type": "code",
      "source": [
        "class entityModel(Model):\n",
        "\n",
        "  def __init__(self, ent_num, vocab_size, maxlen, embed_dim, num_heads, fc_dim):\n",
        "    super(entityModel, self).__init__()\n",
        "    self.el = tokenPositionLayer(maxlen, vocab_size, embed_dim)\n",
        "    self.tl1 = transformerLayer(num_heads=num_heads, embed_dim=embed_dim, fc_dim=fc_dim)\n",
        "    self.dp1 = Dropout(0.1)\n",
        "    # self.tl2 = transformerLayer(num_heads=num_heads, embed_dim=embed_dim, fc_dim=fc_dim)\n",
        "    # self.dp2 = Dropout(0.1)\n",
        "    # self.bd = Bidirectional(LSTM(100, return_sequences = True, recurrent_dropout=0.1))\n",
        "    self.fc1 = Dense(fc_dim, activation='relu')\n",
        "    self.dp3 = Dropout(0.1)\n",
        "    self.fc2 = Dense(fc_dim, activation='relu')\n",
        "    self.dp4 = Dropout(0.1)\n",
        "    self.fc3 = Dense(ent_num, activation='softmax')\n",
        "\n",
        "  def call(self, inputs):\n",
        "    el = self.el(inputs)\n",
        "    tl1 = self.tl1(el)\n",
        "    dp1 = self.dp1(tl1)\n",
        "    # tl2 = self.tl2(dp1)\n",
        "    # dp2 = self.dp2(tl2)\n",
        "    # bd = self.bd(dp2)\n",
        "    fc1 = self.fc1(dp1)\n",
        "    dp3 = self.dp3(fc1)\n",
        "    fc2 = self.fc2(dp3)\n",
        "    dp4 = self.dp4(fc2)\n",
        "    out = self.fc3(dp4)\n",
        "    return out"
      ],
      "metadata": {
        "id": "MDVAyYmwN3tT"
      },
      "execution_count": 27,
      "outputs": []
    },
    {
      "cell_type": "code",
      "source": [
        "model = entityModel(ent_num=ent_num, \n",
        "                    vocab_size=len(id2word), \n",
        "                    maxlen=max_len, \n",
        "                    embed_dim=128, \n",
        "                    num_heads=4, \n",
        "                    fc_dim=128\n",
        "                    )"
      ],
      "metadata": {
        "id": "E2C0ZNiIP_1b"
      },
      "execution_count": 28,
      "outputs": []
    },
    {
      "cell_type": "code",
      "source": [
        "model.compile(optimizer='adam', \n",
        "              loss='categorical_crossentropy',\n",
        "              metrics=['accuracy']\n",
        "              )"
      ],
      "metadata": {
        "id": "kNaPIbEiRRoF"
      },
      "execution_count": 29,
      "outputs": []
    },
    {
      "cell_type": "code",
      "source": [
        "history = model.fit(x_train, \n",
        "          y_train,\n",
        "          validation_data=(x_test, y_test),\n",
        "          epochs=10,\n",
        "          batch_size=64,\n",
        "          verbose=1\n",
        "              )"
      ],
      "metadata": {
        "colab": {
          "base_uri": "https://localhost:8080/"
        },
        "id": "O0jEIX9jRW5D",
        "outputId": "08b69c6e-bc31-456c-b8fb-008b87dc29aa"
      },
      "execution_count": 30,
      "outputs": [
        {
          "output_type": "stream",
          "name": "stdout",
          "text": [
            "Epoch 1/10\n",
            "30/30 [==============================] - 38s 1s/step - loss: 0.5104 - accuracy: 0.8881 - val_loss: 0.1162 - val_accuracy: 0.9797\n",
            "Epoch 2/10\n",
            "30/30 [==============================] - 34s 1s/step - loss: 0.1286 - accuracy: 0.9774 - val_loss: 0.1007 - val_accuracy: 0.9797\n",
            "Epoch 3/10\n",
            "30/30 [==============================] - 38s 1s/step - loss: 0.1100 - accuracy: 0.9784 - val_loss: 0.0911 - val_accuracy: 0.9810\n",
            "Epoch 4/10\n",
            "30/30 [==============================] - 34s 1s/step - loss: 0.0949 - accuracy: 0.9791 - val_loss: 0.0773 - val_accuracy: 0.9811\n",
            "Epoch 5/10\n",
            "30/30 [==============================] - 33s 1s/step - loss: 0.0800 - accuracy: 0.9792 - val_loss: 0.0691 - val_accuracy: 0.9816\n",
            "Epoch 6/10\n",
            "30/30 [==============================] - 33s 1s/step - loss: 0.0713 - accuracy: 0.9804 - val_loss: 0.0646 - val_accuracy: 0.9823\n",
            "Epoch 7/10\n",
            "30/30 [==============================] - 35s 1s/step - loss: 0.0659 - accuracy: 0.9817 - val_loss: 0.0600 - val_accuracy: 0.9831\n",
            "Epoch 8/10\n",
            "30/30 [==============================] - 32s 1s/step - loss: 0.0558 - accuracy: 0.9843 - val_loss: 0.0586 - val_accuracy: 0.9838\n",
            "Epoch 9/10\n",
            "30/30 [==============================] - 31s 1s/step - loss: 0.0533 - accuracy: 0.9850 - val_loss: 0.0634 - val_accuracy: 0.9833\n",
            "Epoch 10/10\n",
            "30/30 [==============================] - 31s 1s/step - loss: 0.0501 - accuracy: 0.9858 - val_loss: 0.0598 - val_accuracy: 0.9847\n"
          ]
        }
      ]
    },
    {
      "cell_type": "markdown",
      "source": [
        "13. валидация"
      ],
      "metadata": {
        "id": "YGMHp2IQK55w"
      }
    },
    {
      "cell_type": "code",
      "source": [
        "import matplotlib.pyplot as plt\n",
        "# посмотрим на историю обучения\n",
        "\n",
        "fig, ax1 = plt.subplots()\n",
        "\n",
        "t = np.arange(0, len(history.history['accuracy']), 1)\n",
        "\n",
        "ln1 = ax1.plot(t, history.history['loss'], color='r', label='loss')\n",
        "ln2 = ax1.plot(t, history.history['val_loss'], color='r', marker='o', label='val_loss')\n",
        "ax1.set_xlabel('epochs')\n",
        "ax1.set_ylabel('loss')\n",
        "# ax1.legend(loc=0)\n",
        "ax2 = ax1.twinx()  # instantiate a second axes that shares the same x-axis\n",
        "\n",
        "\n",
        "ln3 = ax2.plot(t, history.history['accuracy'], color='b', label='accuracy')\n",
        "ln4 = ax2.plot(t, history.history['val_accuracy'], color='b', marker='o', label='val_accuracy')\n",
        "ax2.set_ylabel('accuracy')  # we already handled the x-label with ax1\n",
        "# ax2.legend(loc=0)\n",
        "\n",
        "lns = ln1+ln2+ln3+ln4\n",
        "labs = [l.get_label() for l in lns]\n",
        "ax1.legend(lns, labs, loc=0)\n",
        "\n",
        "fig.tight_layout()  # otherwise the right y-label is slightly clipped\n",
        "# plt.legend(loc='lower right')\n",
        "plt.show()"
      ],
      "metadata": {
        "colab": {
          "base_uri": "https://localhost:8080/",
          "height": 297
        },
        "id": "vwG_GhXBENZM",
        "outputId": "4854f572-c2b9-46a3-83b5-922ceca1bfb0"
      },
      "execution_count": 31,
      "outputs": [
        {
          "output_type": "display_data",
          "data": {
            "text/plain": [
              "<Figure size 432x288 with 2 Axes>"
            ],
            "image/png": "[encoded data removed]"
          },
          "metadata": {
            "needs_background": "light"
          }
        }
      ]
    },
    {
      "cell_type": "code",
      "source": [
        "id2ent"
      ],
      "metadata": {
        "colab": {
          "base_uri": "https://localhost:8080/"
        },
        "id": "6mAPd08VMkXP",
        "outputId": "d25a75a8-2f7c-4709-f48b-bae8095c6fb8"
      },
      "execution_count": 32,
      "outputs": [
        {
          "output_type": "execute_result",
          "data": {
            "text/plain": [
              "{0: 'pad',\n",
              " 1: 'o',\n",
              " 2: 'b-prod',\n",
              " 3: 'partner',\n",
              " 4: 'i-prod',\n",
              " 5: 'categ',\n",
              " 6: 'b-partner',\n",
              " 7: 'prod',\n",
              " 8: 'i-categ',\n",
              " 9: 'b-categ',\n",
              " 10: 'i-partner',\n",
              " 11: 'geox',\n",
              " 12: 'b-geox',\n",
              " 13: 'addr',\n",
              " 14: 'i-addr',\n",
              " 15: 'obl',\n",
              " 16: 'b-addr',\n",
              " 17: 'i-geox',\n",
              " 18: 'b-obl',\n",
              " 19: 'i-obl'}"
            ]
          },
          "metadata": {},
          "execution_count": 32
        }
      ]
    },
    {
      "cell_type": "code",
      "source": [
        "# посмотрим на результаты классификации в разрезе каждой именованной сущности\n",
        "pred = model.predict(x_test)\n",
        "pred_classes = pred.argmax(axis=-1)\n",
        "report = classification_report(y_pred=np.hstack(pred_classes), y_true=np.hstack(np.argmax(y_test, axis=2)))\n",
        "print(report)"
      ],
      "metadata": {
        "colab": {
          "base_uri": "https://localhost:8080/"
        },
        "id": "vrn7myU9LWLh",
        "outputId": "1db63e65-b454-437b-f231-0c727d75581d"
      },
      "execution_count": 33,
      "outputs": [
        {
          "output_type": "stream",
          "name": "stdout",
          "text": [
            "              precision    recall  f1-score   support\n",
            "\n",
            "           0       0.99      1.00      1.00     30531\n",
            "           1       0.93      0.92      0.92      3093\n",
            "           2       0.62      0.76      0.68        93\n",
            "           3       0.51      0.36      0.42        53\n",
            "           4       0.25      0.02      0.04        41\n",
            "           5       0.67      0.35      0.46        46\n",
            "           6       0.47      0.30      0.37        23\n",
            "           7       1.00      0.12      0.22        16\n",
            "           8       0.50      0.08      0.13        13\n",
            "           9       0.75      0.23      0.35        13\n",
            "          10       0.00      0.00      0.00        12\n",
            "          11       1.00      0.14      0.25         7\n",
            "          12       0.00      0.00      0.00         8\n",
            "          13       0.00      0.00      0.00        16\n",
            "          15       0.00      0.00      0.00         5\n",
            "          16       0.00      0.00      0.00         1\n",
            "\n",
            "    accuracy                           0.98     33971\n",
            "   macro avg       0.48      0.27      0.30     33971\n",
            "weighted avg       0.98      0.98      0.98     33971\n",
            "\n"
          ]
        },
        {
          "output_type": "stream",
          "name": "stderr",
          "text": [
            "/usr/local/lib/python3.7/dist-packages/sklearn/metrics/_classification.py:1318: UndefinedMetricWarning: Precision and F-score are ill-defined and being set to 0.0 in labels with no predicted samples. Use `zero_division` parameter to control this behavior.\n",
            "  _warn_prf(average, modifier, msg_start, len(result))\n",
            "/usr/local/lib/python3.7/dist-packages/sklearn/metrics/_classification.py:1318: UndefinedMetricWarning: Precision and F-score are ill-defined and being set to 0.0 in labels with no predicted samples. Use `zero_division` parameter to control this behavior.\n",
            "  _warn_prf(average, modifier, msg_start, len(result))\n",
            "/usr/local/lib/python3.7/dist-packages/sklearn/metrics/_classification.py:1318: UndefinedMetricWarning: Precision and F-score are ill-defined and being set to 0.0 in labels with no predicted samples. Use `zero_division` parameter to control this behavior.\n",
            "  _warn_prf(average, modifier, msg_start, len(result))\n"
          ]
        }
      ]
    },
    {
      "cell_type": "markdown",
      "source": [
        "ВЫВОДЫ: результат определения сущностей по кастомной трансформерной архитектуре не самый лучший, все же интереснее результаты с двунаправленной рекуррентной нейросетью, но для предварительного теста достаточно, дальше нужно больше поработать над составом слоев"
      ],
      "metadata": {
        "id": "alIniFiIPfRw"
      }
    }
  ]
}